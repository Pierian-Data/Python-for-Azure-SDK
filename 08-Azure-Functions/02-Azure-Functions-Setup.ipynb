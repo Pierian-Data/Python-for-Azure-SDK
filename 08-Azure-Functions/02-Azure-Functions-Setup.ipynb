{
 "cells": [
  {
   "cell_type": "markdown",
   "id": "1c50c8fc",
   "metadata": {},
   "source": [
    "<a href = \"https://www.pieriantraining.com\"><img src=\"../PT Centered Purple.png\"> </a>\n",
    "\n",
    "<em style=\"text-align:center\">Copyrighted by Pierian Training</em>\n",
    "\n",
    "# Azure Functions Setup\n",
    "\n",
    "## Azure Actions Covered\n",
    "\n",
    "* Setting up VS Code for developing serverless functions\n",
    "\n",
    "## VS Code Setup\n",
    "\n",
    "1. First, we need to instal the Azure Functions extension (if not installed)\n",
    "    1. In VS Code, go to the \"Extensions\" tab.\n",
    "    2. Search for \"Azure Functions\"\n",
    "    3. Click \"Install\"\n",
    "    4. Restart VS Code if necessary\n",
    "2. Install Azure Functions Tools for your machine\n",
    "    1. Go to the Azure page here to download [Azure Functions Core Tools](https://learn.microsoft.com/en-us/azure/azure-functions/functions-run-local?tabs=windows%2Cportal%2Cv2%2Cbash&pivots=programming-language-python)\n",
    "    2. Follow the relevant instructions for your OS\n",
    "3. Set up a starter function in VS Code\n",
    "    1. Go to Azure tab in VS Code\n",
    "    2. Click \"Create function\" in Local Workspace\n",
    "    3. Select \"HTTP Trigger\"\n",
    "    4. Create a new directory for the function\n",
    "    5. Choose \"Python (Programming Model V2)\"\n",
    "    6. Select a Python interpreter for the function virtual environment\n",
    "    7. Select the \"HTTP trigger\" function template\n",
    "    8. Enter a name for your function.\n",
    "    9. Accept the \"ANONYMOUS\" authorization level"
   ]
  }
 ],
 "metadata": {
  "kernelspec": {
   "display_name": "Python 3 (ipykernel)",
   "language": "python",
   "name": "python3"
  },
  "language_info": {
   "codemirror_mode": {
    "name": "ipython",
    "version": 3
   },
   "file_extension": ".py",
   "mimetype": "text/x-python",
   "name": "python",
   "nbconvert_exporter": "python",
   "pygments_lexer": "ipython3",
   "version": "3.10.6"
  }
 },
 "nbformat": 4,
 "nbformat_minor": 5
}
