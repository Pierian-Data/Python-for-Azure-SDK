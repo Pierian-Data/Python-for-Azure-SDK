{
 "cells": [
  {
   "cell_type": "markdown",
   "id": "1c50c8fc",
   "metadata": {},
   "source": [
    "<a href = \"https://www.pieriantraining.com\"><img src=\"../PT Centered Purple.png\"> </a>\n",
    "\n",
    "<em style=\"text-align:center\">Copyrighted by Pierian Training</em>\n",
    "\n",
    "# Azure Functions Setup\n",
    "\n",
    "## Azure Actions Covered\n",
    "\n",
    "* Setting up VS Code for developing serverless functions\n",
    "\n",
    "1. Install Azure Functions extension\n",
    "2. Install Azure Functions Tools for your machine\n",
    "3. Go to Azure tab\n",
    "4. New resource - Azure Function\n",
    "5. Python 3.10\n",
    "6. Function name"
   ]
  },
  {
   "cell_type": "code",
   "execution_count": null,
   "id": "c2873178",
   "metadata": {},
   "outputs": [],
   "source": []
  }
 ],
 "metadata": {
  "kernelspec": {
   "display_name": "Python 3 (ipykernel)",
   "language": "python",
   "name": "python3"
  },
  "language_info": {
   "codemirror_mode": {
    "name": "ipython",
    "version": 3
   },
   "file_extension": ".py",
   "mimetype": "text/x-python",
   "name": "python",
   "nbconvert_exporter": "python",
   "pygments_lexer": "ipython3",
   "version": "3.8.10"
  }
 },
 "nbformat": 4,
 "nbformat_minor": 5
}
