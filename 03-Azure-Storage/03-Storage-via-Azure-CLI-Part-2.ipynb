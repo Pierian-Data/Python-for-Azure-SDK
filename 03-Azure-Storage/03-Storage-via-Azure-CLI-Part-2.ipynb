{
 "cells": [
  {
   "cell_type": "markdown",
   "id": "1c50c8fc",
   "metadata": {},
   "source": [
    "<a href = \"https://www.pieriantraining.com\"><img src=\"../PT Centered Purple.png\"> </a>\n",
    "\n",
    "<em style=\"text-align:center\">Copyrighted by Pierian Training</em>\n",
    "\n",
    "\n",
    "# Working with Storage Resources via the Azure CLI\n",
    "\n",
    "## Azure Actions Covered\n",
    "\n",
    "* Uploading, listing, downloading, and deleting blobs\n",
    "* Listing and deleting storage containers under storage accounts\n",
    "\n",
    "In this lecture, we're going to look at how to interact with Storage containers and blobs in Azure via the CLI. First, make sure you're logged in and that you can access the storage container we created in the previous lecture. If you need to remember what the name of the container is, we can use the following command.\n",
    "\n",
    "```\n",
    "$ az storage container list --acount-name benbstorage1\n",
    "```\n",
    "\n",
    "Let's make a quick test file to copy into our new container."
   ]
  },
  {
   "cell_type": "markdown",
   "id": "3820b1f1",
   "metadata": {},
   "source": [
    "```\n",
    "$ echo \"Hello there! I'm a friendly text file\" > test_file.txt\n",
    "```"
   ]
  },
  {
   "cell_type": "markdown",
   "id": "6443d131",
   "metadata": {},
   "source": [
    "We can copy the file over to our Storage container without a connection string or account key, but that will give us a warning (since it's not secure)."
   ]
  },
  {
   "cell_type": "markdown",
   "id": "bae48ad1",
   "metadata": {},
   "source": [
    "```\n",
    "$ az storage copy -s test_file.txt --destination-account-name benbstorage1 --destination-container bens-blob-container\n",
    "```"
   ]
  },
  {
   "cell_type": "markdown",
   "id": "80d89445",
   "metadata": {},
   "source": [
    "Let's add the connection string parameter so that the operation is safe."
   ]
  },
  {
   "cell_type": "markdown",
   "id": "3de72511",
   "metadata": {},
   "source": [
    "```\n",
    "$ az storage copy -s test_file.txt --account-name benbstorage1 --destination-container bens-blob-container --connection-string $CONNECTION_STRING\n",
    "```"
   ]
  },
  {
   "cell_type": "markdown",
   "id": "334b95b1",
   "metadata": {},
   "source": [
    "The operation should have finished successfully. To verify this, use `az storage blob list` to list the contents of the container we've created."
   ]
  },
  {
   "cell_type": "markdown",
   "id": "35cde5c3",
   "metadata": {},
   "source": [
    "```\n",
    "$ az storage blob list --account-name benbstorage1 --container-name bens-blob-container --output table\n",
    "```"
   ]
  },
  {
   "cell_type": "markdown",
   "id": "5a1b77ed",
   "metadata": {},
   "source": [
    "Just like we can upload files to the cloud, we can download files from our Storage containers. Let's download our test file and give it a new name."
   ]
  },
  {
   "cell_type": "markdown",
   "id": "3270fb30",
   "metadata": {},
   "source": [
    "```\n",
    "$ az storage blob download --account-name benbstorage1 --container-name bens-blob-container --name test_file.txt --file new_test_file.txt --connection-string $CONNECTION_STRING\n",
    "```"
   ]
  },
  {
   "cell_type": "markdown",
   "id": "e0db4a76",
   "metadata": {},
   "source": [
    "Deleting files in Storage via the Azure CLI is straightforward as well. Just use the `az storage blob delete` command."
   ]
  },
  {
   "cell_type": "markdown",
   "id": "d594eed3",
   "metadata": {},
   "source": [
    "```\n",
    "$ az storage blob delete --account-name benbstorage1 --container-name bens-blob-container --name test_file.txt --connection-string $CONNECTION_STRING\n",
    "```"
   ]
  },
  {
   "cell_type": "markdown",
   "id": "f571f569",
   "metadata": {},
   "source": [
    "If we list the files in our container, there shouldn't be anything there."
   ]
  },
  {
   "cell_type": "markdown",
   "id": "0f557e48",
   "metadata": {},
   "source": [
    "```\n",
    "$ az storage blob list --account-name benbstorage1 --container-name bens-blob-container\n",
    "```"
   ]
  },
  {
   "cell_type": "markdown",
   "id": "fee8bd41",
   "metadata": {},
   "source": [
    "Finally, let's clean up our resources so that we keep our cloud environment free and we don't rack up unwanted charges. If you've forgotten the name of your resource group, use `az group list` to list your resource groups."
   ]
  },
  {
   "cell_type": "markdown",
   "id": "ea7b0167",
   "metadata": {},
   "source": [
    "```\n",
    "$ az group list\n",
    "```"
   ]
  },
  {
   "cell_type": "markdown",
   "id": "fad25b8f",
   "metadata": {},
   "source": [
    "Like we did in the last section, use `az group delete` to delete the resource group we created for this lecture."
   ]
  },
  {
   "cell_type": "markdown",
   "id": "26036b35",
   "metadata": {},
   "source": [
    "```\n",
    "$ az group delete -n azure-storage-group\n",
    "```"
   ]
  }
 ],
 "metadata": {
  "kernelspec": {
   "display_name": "Python 3 (ipykernel)",
   "language": "python",
   "name": "python3"
  },
  "language_info": {
   "codemirror_mode": {
    "name": "ipython",
    "version": 3
   },
   "file_extension": ".py",
   "mimetype": "text/x-python",
   "name": "python",
   "nbconvert_exporter": "python",
   "pygments_lexer": "ipython3",
   "version": "3.10.6"
  }
 },
 "nbformat": 4,
 "nbformat_minor": 5
}
