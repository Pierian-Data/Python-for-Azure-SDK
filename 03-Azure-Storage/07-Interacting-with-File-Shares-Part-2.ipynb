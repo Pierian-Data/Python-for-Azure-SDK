{
 "cells": [
  {
   "cell_type": "markdown",
   "id": "639f5780",
   "metadata": {},
   "source": [
    "<a href = \"https://www.pieriantraining.com\"><img src=\"../PT Centered Purple.png\"> </a>\n",
    "\n",
    "<em style=\"text-align:center\">Copyrighted by Pierian Training</em>\n",
    "\n",
    "\n",
    "# Interacting with File Shares in Storage\n",
    "\n",
    "## Azure Actions Covered\n",
    "\n",
    "* Creating and deleting a file share\n",
    "* Uploading and downloading files from a file share\n",
    "* Listing contents of a file share directory\n",
    "\n",
    "In this lecture, we're going to take a look at how to interact with file shares in storage containers via the Python SDK.\n",
    "\n",
    "To begin, we import our usual libraries as well as any useful environment variables (e.g. `AZURE_SUBSCRIPTION_ID`). "
   ]
  },
  {
   "cell_type": "code",
   "execution_count": 1,
   "id": "f4cde49b",
   "metadata": {},
   "outputs": [],
   "source": [
    "from azure.identity import AzureCliCredential\n",
    "\n",
    "# New imports for file shares\n",
    "from azure.storage.fileshare import ShareClient, ShareServiceClient\n",
    "\n",
    "from settings import AZURE_SUBSCRIPTION_ID, STORAGE_ACCESS_KEY"
   ]
  },
  {
   "cell_type": "markdown",
   "id": "4d521569",
   "metadata": {},
   "source": [
    "Let's set up our credential for interacting with services."
   ]
  },
  {
   "cell_type": "code",
   "execution_count": 2,
   "id": "e4a7e70f",
   "metadata": {},
   "outputs": [],
   "source": [
    "credentials = AzureCliCredential()"
   ]
  },
  {
   "cell_type": "markdown",
   "id": "72e7bde1",
   "metadata": {},
   "source": [
    "## Creating File Shares\n",
    "\n",
    "To begin interacting with file shares on Azure, we'll need a `ShareServiceClient()`. The important parameters are:\n",
    "\n",
    "* `account_url` - URL path to the file share storage account. Will be of the form `https://<storage-account>.file.core.windows.net/`\n",
    "* `credential` - Credential with which to authenticate. This will **not** be from our Azure CLI. Instead, we're going to use a shared access key imported from our environment variables."
   ]
  },
  {
   "cell_type": "code",
   "execution_count": 2,
   "id": "82993f4d",
   "metadata": {},
   "outputs": [],
   "source": [
    "share_service_client = ShareServiceClient(\n",
    "    account_url=\"https://benbstorage1234.file.core.windows.net/\",\n",
    "    credential=STORAGE_ACCESS_KEY\n",
    ")"
   ]
  },
  {
   "cell_type": "markdown",
   "id": "d270bccd",
   "metadata": {},
   "source": [
    "We can create a new file share under our account."
   ]
  },
  {
   "cell_type": "code",
   "execution_count": 3,
   "id": "7669c4ca",
   "metadata": {},
   "outputs": [],
   "source": [
    "share = share_service_client.create_share(share_name='bens-file-share')"
   ]
  },
  {
   "cell_type": "markdown",
   "id": "00b9540f",
   "metadata": {},
   "source": [
    "Let's check some of the attributes on our newly created file share via the returned share client object."
   ]
  },
  {
   "cell_type": "code",
   "execution_count": 9,
   "id": "d0c0ebc9",
   "metadata": {},
   "outputs": [
    {
     "data": {
      "text/plain": [
       "'benbstorage1234'"
      ]
     },
     "execution_count": 9,
     "metadata": {},
     "output_type": "execute_result"
    }
   ],
   "source": [
    "share.account_name"
   ]
  },
  {
   "cell_type": "code",
   "execution_count": 10,
   "id": "5cb05f01",
   "metadata": {},
   "outputs": [
    {
     "data": {
      "text/plain": [
       "'https://benbstorage1234.file.core.windows.net/bens-file-share'"
      ]
     },
     "execution_count": 10,
     "metadata": {},
     "output_type": "execute_result"
    }
   ],
   "source": [
    "share.url"
   ]
  },
  {
   "cell_type": "markdown",
   "id": "cbf3a1c6",
   "metadata": {},
   "source": [
    "## Interacting with Files\n",
    "\n",
    "To interact with files in our newly created file share, we need a file client (the `ShareFileClient()` class). We can retrieve that client using the `get_file_client()` method from our share object. All we need is a file name, and the file doesn't need to exist. We'll create a file client for a new file to upload."
   ]
  },
  {
   "cell_type": "code",
   "execution_count": 11,
   "id": "16798bef",
   "metadata": {},
   "outputs": [],
   "source": [
    "file_client = share.get_file_client(file_path='python-test-file.txt')"
   ]
  },
  {
   "cell_type": "markdown",
   "id": "bbdbd18f",
   "metadata": {},
   "source": [
    "Next, we'll use Python's context manager to open our source file and upload it via the file client."
   ]
  },
  {
   "cell_type": "code",
   "execution_count": 12,
   "id": "37431170",
   "metadata": {},
   "outputs": [],
   "source": [
    "with open('./python-test-file.txt', 'rb') as source_file:\n",
    "    file_client.upload_file(source_file)"
   ]
  },
  {
   "cell_type": "markdown",
   "id": "fe9132a9",
   "metadata": {},
   "source": [
    "To add structure to our file share, we can create directories via the file share client as well. This will return a `ShareDirectoryClient` object."
   ]
  },
  {
   "cell_type": "code",
   "execution_count": 13,
   "id": "b307049e",
   "metadata": {},
   "outputs": [],
   "source": [
    "directory = share.create_directory(directory_name='newdir')"
   ]
  },
  {
   "cell_type": "markdown",
   "id": "74d2e8c5",
   "metadata": {},
   "source": [
    "We can see some of our directories properties as well."
   ]
  },
  {
   "cell_type": "code",
   "execution_count": 14,
   "id": "41ccc9a6",
   "metadata": {},
   "outputs": [
    {
     "data": {
      "text/plain": [
       "{'name': None, 'last_modified': datetime.datetime(2023, 5, 15, 4, 8, 49, tzinfo=datetime.timezone.utc), 'etag': '\"0x8DB54FA16306BCC\"', 'server_encrypted': True, 'metadata': {}, 'change_time': datetime.datetime(2023, 5, 15, 4, 8, 49, 388641), 'creation_time': datetime.datetime(2023, 5, 15, 4, 8, 49, 388641), 'last_write_time': datetime.datetime(2023, 5, 15, 4, 8, 49, 388641), 'last_access_time': None, 'file_attributes': 'Directory', 'permission_key': '14617446708122078996*11673537244870367389', 'file_id': '11529285414812647424', 'parent_id': '0', 'is_directory': True}"
      ]
     },
     "execution_count": 14,
     "metadata": {},
     "output_type": "execute_result"
    }
   ],
   "source": [
    "directory.get_directory_properties()"
   ]
  },
  {
   "cell_type": "markdown",
   "id": "9e5a2f34",
   "metadata": {},
   "source": [
    "It will also have a distinct URL under our file share account"
   ]
  },
  {
   "cell_type": "code",
   "execution_count": 15,
   "id": "7bec1cf9",
   "metadata": {},
   "outputs": [
    {
     "data": {
      "text/plain": [
       "'https://benbstorage1234.file.core.windows.net/bens-file-share/newdir'"
      ]
     },
     "execution_count": 15,
     "metadata": {},
     "output_type": "execute_result"
    }
   ],
   "source": [
    "directory.url"
   ]
  },
  {
   "cell_type": "markdown",
   "id": "c24cb5ad",
   "metadata": {},
   "source": [
    "If you need to get the directory client for a directory that already exists, you can use `get_directory_client()`."
   ]
  },
  {
   "cell_type": "code",
   "execution_count": 16,
   "id": "c4e4f109",
   "metadata": {},
   "outputs": [],
   "source": [
    "dir_client = share.get_directory_client(directory_path='newdir')"
   ]
  },
  {
   "cell_type": "markdown",
   "id": "b3dfe11c",
   "metadata": {},
   "source": [
    "You can also get a file client from the directory client in order to create or interact with files under that directory. We'll try uploading our previous text file into a new directory."
   ]
  },
  {
   "cell_type": "code",
   "execution_count": 17,
   "id": "5a40c070",
   "metadata": {},
   "outputs": [],
   "source": [
    "file_client = dir_client.get_file_client(file_name='python-test-file.txt')"
   ]
  },
  {
   "cell_type": "code",
   "execution_count": 18,
   "id": "9b0987ab",
   "metadata": {},
   "outputs": [],
   "source": [
    "with open('./python-test-file.txt', 'rb') as source_file:\n",
    "    file_client.upload_file(source_file)"
   ]
  },
  {
   "cell_type": "markdown",
   "id": "db46b792",
   "metadata": {},
   "source": [
    "We can now list the directories and files inside our file share as well, in case we need to understand the structure."
   ]
  },
  {
   "cell_type": "code",
   "execution_count": 20,
   "id": "2edca879",
   "metadata": {},
   "outputs": [
    {
     "name": "stdout",
     "output_type": "stream",
     "text": [
      "{'name': 'python-test-file.txt', 'path': None, 'share': None, 'snapshot': None, 'content_length': None, 'metadata': None, 'file_type': None, 'last_modified': None, 'etag': None, 'size': 38, 'content_range': None, 'server_encrypted': None, 'copy': {'id': None, 'source': None, 'status': None, 'progress': None, 'completion_time': None, 'status_description': None, 'incremental_copy': None, 'destination_snapshot': None}, 'content_settings': {'content_type': None, 'content_encoding': None, 'content_language': None, 'content_md5': None, 'content_disposition': None, 'cache_control': None}, 'lease': {'status': None, 'state': None, 'duration': None}, 'change_time': None, 'creation_time': None, 'last_write_time': None, 'last_access_time': None, 'file_attributes': None, 'permission_key': None, 'file_id': '16140971433240035328', 'parent_id': None, 'is_directory': False}\n"
     ]
    }
   ],
   "source": [
    "for file in share.list_directories_and_files(directory_name='newdir'):\n",
    "    print(file)"
   ]
  },
  {
   "cell_type": "markdown",
   "id": "4d0d471f",
   "metadata": {},
   "source": [
    "Finally, we can get a file client by referencing a specific file in our share and then use that client to download the file."
   ]
  },
  {
   "cell_type": "code",
   "execution_count": 22,
   "id": "c338c80f",
   "metadata": {},
   "outputs": [],
   "source": [
    "file_client = share.get_file_client('python-test-file.txt')"
   ]
  },
  {
   "cell_type": "markdown",
   "id": "c53123ed",
   "metadata": {},
   "source": [
    "We'll need to use a context manager again to download the file."
   ]
  },
  {
   "cell_type": "code",
   "execution_count": 23,
   "id": "c80bd230",
   "metadata": {},
   "outputs": [],
   "source": [
    "with open('downloaded-file.txt', 'wb') as my_file:\n",
    "    data = file_client.download_file()\n",
    "    data.readinto(my_file)"
   ]
  },
  {
   "cell_type": "markdown",
   "id": "b2e5f98e",
   "metadata": {},
   "source": [
    "## Deleting Objects\n",
    "\n",
    "To clean up our file share, we can delete files, directories, and the share. First, let's delete one of our created files with the `delete_file()` method. Because you've already specified the file name to create the client, you don't need that as a parameter."
   ]
  },
  {
   "cell_type": "code",
   "execution_count": 24,
   "id": "289c2a7c",
   "metadata": {},
   "outputs": [],
   "source": [
    "file_client.delete_file()"
   ]
  },
  {
   "cell_type": "markdown",
   "id": "238064e3",
   "metadata": {},
   "source": [
    "You can delete an entire directory in the file share with the `delete_directory()` method. **Note:** you can't delete non-empty directories with this method. First, you'd have to delete all the files in the directory."
   ]
  },
  {
   "cell_type": "code",
   "execution_count": 26,
   "id": "63310c3d",
   "metadata": {},
   "outputs": [],
   "source": [
    "## share.delete_directory(directory_name='newdir')"
   ]
  },
  {
   "cell_type": "markdown",
   "id": "4dc01567",
   "metadata": {},
   "source": [
    "Finally, we can clean up our storage account by deleting the file share we created."
   ]
  },
  {
   "cell_type": "code",
   "execution_count": 27,
   "id": "fdbdbd7a",
   "metadata": {},
   "outputs": [],
   "source": [
    "share.delete_share()"
   ]
  }
 ],
 "metadata": {
  "kernelspec": {
   "display_name": "Python 3 (ipykernel)",
   "language": "python",
   "name": "python3"
  },
  "language_info": {
   "codemirror_mode": {
    "name": "ipython",
    "version": 3
   },
   "file_extension": ".py",
   "mimetype": "text/x-python",
   "name": "python",
   "nbconvert_exporter": "python",
   "pygments_lexer": "ipython3",
   "version": "3.8.10"
  }
 },
 "nbformat": 4,
 "nbformat_minor": 5
}
