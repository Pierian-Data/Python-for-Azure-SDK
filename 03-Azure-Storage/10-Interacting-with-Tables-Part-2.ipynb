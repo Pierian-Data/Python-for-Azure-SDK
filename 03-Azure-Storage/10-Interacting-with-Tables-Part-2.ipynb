{
 "cells": [
  {
   "cell_type": "markdown",
   "id": "639f5780",
   "metadata": {},
   "source": [
    "<a href = \"https://www.pieriantraining.com\"><img src=\"../PT Centered Purple.png\"> </a>\n",
    "\n",
    "<em style=\"text-align:center\">Copyrighted by Pierian Training</em>\n",
    "\n",
    "\n",
    "# Interacting with Tables in Storage - Part 2\n",
    "\n",
    "## Azure Actions Covered\n",
    "\n",
    "* Querying and listing entities in Azure\n",
    "* Deleting entities\n",
    "* Deleting tables\n",
    "\n",
    "In this lecture, we're going to take a look at how to interact with tables in storage via the Python SDK.\n",
    "\n",
    "To begin, we import our usual libraries as well as any useful environment variables (e.g. `AZURE_SUBSCRIPTION_ID`). "
   ]
  },
  {
   "cell_type": "code",
   "execution_count": 1,
   "id": "f4cde49b",
   "metadata": {},
   "outputs": [],
   "source": [
    "from datetime import datetime\n",
    "\n",
    "# New imports for tables\n",
    "from azure.data.tables import TableServiceClient, TableClient\n",
    "\n",
    "from settings import CONNECTION_STRING"
   ]
  },
  {
   "cell_type": "markdown",
   "id": "dd05e979",
   "metadata": {},
   "source": [
    "Let's instantiate the `TableServiceClient` again."
   ]
  },
  {
   "cell_type": "code",
   "execution_count": 2,
   "id": "70f43c67",
   "metadata": {},
   "outputs": [],
   "source": [
    "table_service_client = TableServiceClient.from_connection_string(conn_str=CONNECTION_STRING)"
   ]
  },
  {
   "cell_type": "markdown",
   "id": "df61b797",
   "metadata": {},
   "source": [
    "We can use that service client to get the table we created in the previous lecture."
   ]
  },
  {
   "cell_type": "code",
   "execution_count": 3,
   "id": "2aaaf643",
   "metadata": {},
   "outputs": [],
   "source": [
    "table_client = table_service_client.get_table_client(table_name='bensTable')"
   ]
  },
  {
   "cell_type": "markdown",
   "id": "40ccbd16",
   "metadata": {},
   "source": [
    "Because tables can have many entities, you may want to filter it down to a distinct group of data. We can do this using the `query_entities()` method on our table client. This will take:\n",
    "* `query_filter` - Query to use to filter data from the table\n",
    "* `parameters` - Parameters for the query filter\n",
    "\n",
    "The parameters can easily be stored in a dictionary so that you can reference the key values in the query filter string. The query filter must also refer to keys of entities in the table, and parameters from the dictionary can be referenced with the `@` symbol."
   ]
  },
  {
   "cell_type": "code",
   "execution_count": 4,
   "id": "206ad972",
   "metadata": {},
   "outputs": [
    {
     "name": "stdout",
     "output_type": "stream",
     "text": [
      "{'PartitionKey': 'Doe, John', 'RowKey': '00001', 'AdmissionDate': TablesEntityDatetime(2023, 5, 10, 6, 0, tzinfo=datetime.timezone.utc), 'DischargeDate': TablesEntityDatetime(2023, 5, 15, 6, 0, tzinfo=datetime.timezone.utc), 'Age': 78, 'Diagnosis': 'Flu'}\n"
     ]
    }
   ],
   "source": [
    "parameters = {\n",
    "    'admission_date': datetime(2023, 5, 1)\n",
    "}\n",
    "query_filter = \"AdmissionDate ge @admission_date\"\n",
    "result = table_client.query_entities(\n",
    "    query_filter=query_filter,\n",
    "    parameters=parameters\n",
    ")\n",
    "for item in result:\n",
    "    print(item)"
   ]
  },
  {
   "cell_type": "markdown",
   "id": "9efaaeb2",
   "metadata": {},
   "source": [
    "Let's try filtering on the `PartitionKey` as well."
   ]
  },
  {
   "cell_type": "code",
   "execution_count": 5,
   "id": "26982c2e",
   "metadata": {},
   "outputs": [
    {
     "name": "stdout",
     "output_type": "stream",
     "text": [
      "{'PartitionKey': 'Doe, John', 'RowKey': '00001', 'AdmissionDate': TablesEntityDatetime(2023, 5, 10, 6, 0, tzinfo=datetime.timezone.utc), 'DischargeDate': TablesEntityDatetime(2023, 5, 15, 6, 0, tzinfo=datetime.timezone.utc), 'Age': 78, 'Diagnosis': 'Flu'}\n"
     ]
    }
   ],
   "source": [
    "parameters = {\n",
    "    'pk': 'Doe, John'\n",
    "}\n",
    "query_filter = \"PartitionKey eq @pk\"\n",
    "result = table_client.query_entities(\n",
    "    query_filter=query_filter,\n",
    "    parameters=parameters\n",
    ")\n",
    "for item in result:\n",
    "    print(item)"
   ]
  },
  {
   "cell_type": "markdown",
   "id": "4a7753df",
   "metadata": {},
   "source": [
    "For more information on how to write filters for data from tables, see the [Azure documentation on GitHub.](https://github.com/Azure/azure-sdk-for-python/tree/azure-data-tables_12.4.2/sdk/tables/azure-data-tables/samples#writing-filters).\n",
    "\n",
    "We can delete entities in the table as well by specifying the row and partition keys."
   ]
  },
  {
   "cell_type": "code",
   "execution_count": 6,
   "id": "05e0cc68",
   "metadata": {},
   "outputs": [],
   "source": [
    "table_client.delete_entity(\n",
    "    partition_key='Doe, John',\n",
    "    row_key='00001'\n",
    ")"
   ]
  },
  {
   "cell_type": "markdown",
   "id": "b3b93b8f",
   "metadata": {},
   "source": [
    "Now there's nothing left in our table."
   ]
  },
  {
   "cell_type": "code",
   "execution_count": 7,
   "id": "fd7cf20d",
   "metadata": {},
   "outputs": [],
   "source": [
    "for entity in table_client.list_entities():\n",
    "    print(entity)"
   ]
  },
  {
   "cell_type": "markdown",
   "id": "deae1092",
   "metadata": {},
   "source": [
    "Just like we can list entities, we can list tables in our storage account via the table service client."
   ]
  },
  {
   "cell_type": "code",
   "execution_count": 8,
   "id": "d8631622",
   "metadata": {},
   "outputs": [
    {
     "name": "stdout",
     "output_type": "stream",
     "text": [
      "bensTable\n"
     ]
    }
   ],
   "source": [
    "for table in table_service_client.list_tables():\n",
    "    print(table.name)"
   ]
  },
  {
   "cell_type": "markdown",
   "id": "a27e38f5",
   "metadata": {},
   "source": [
    "Just like we can query the entities in the table, we can query the tables in our storage account using the same combination of query filters and parameters."
   ]
  },
  {
   "cell_type": "code",
   "execution_count": 9,
   "id": "98e10db4",
   "metadata": {},
   "outputs": [
    {
     "name": "stdout",
     "output_type": "stream",
     "text": [
      "bensTable\n"
     ]
    }
   ],
   "source": [
    "parameters = {\n",
    "    'table_name': 'bensTable'\n",
    "}\n",
    "query_filter = 'TableName eq @table_name'\n",
    "result = table_service_client.query_tables(\n",
    "    query_filter=query_filter,\n",
    "    parameters=parameters\n",
    ")\n",
    "for table in result:\n",
    "    print(table.name)"
   ]
  },
  {
   "cell_type": "markdown",
   "id": "c0cea173",
   "metadata": {},
   "source": [
    "Finally, let's clean up our storage account by deleting our table."
   ]
  },
  {
   "cell_type": "code",
   "execution_count": 10,
   "id": "298a681a",
   "metadata": {},
   "outputs": [],
   "source": [
    "table_service_client.delete_table(table_name='bensTable')"
   ]
  }
 ],
 "metadata": {
  "kernelspec": {
   "display_name": "Python 3 (ipykernel)",
   "language": "python",
   "name": "python3"
  },
  "language_info": {
   "codemirror_mode": {
    "name": "ipython",
    "version": 3
   },
   "file_extension": ".py",
   "mimetype": "text/x-python",
   "name": "python",
   "nbconvert_exporter": "python",
   "pygments_lexer": "ipython3",
   "version": "3.8.10"
  }
 },
 "nbformat": 4,
 "nbformat_minor": 5
}
