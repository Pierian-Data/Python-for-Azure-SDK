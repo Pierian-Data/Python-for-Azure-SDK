{
 "cells": [
  {
   "cell_type": "markdown",
   "id": "639f5780",
   "metadata": {},
   "source": [
    "<a href = \"https://www.pieriantraining.com\"><img src=\"../PT Centered Purple.png\"> </a>\n",
    "\n",
    "<em style=\"text-align:center\">Copyrighted by Pierian Training</em>\n",
    "\n",
    "\n",
    "# Deleting Blobs and Storage in Azure\n",
    "\n",
    "## Azure Actions Covered\n",
    "\n",
    "* Deleting containers in storage resources\n",
    "* Deleting storage resources\n",
    "\n",
    "\n",
    "In this lecture, we're going to take a look at how to delete blobs, containers, and storage resources via the Python SDK.\n",
    "\n",
    "To begin, we'll need to import our usual libraries as well as any useful environment variables (e.g. `AZURE_SUBSCRIPTION_ID`). We'll add our new storage import as well."
   ]
  },
  {
   "cell_type": "code",
   "execution_count": 1,
   "id": "f4cde49b",
   "metadata": {},
   "outputs": [],
   "source": [
    "from azure.identity import AzureCliCredential\n",
    "from azure.mgmt.storage import StorageManagementClient\n",
    "from azure.storage.blob import BlobServiceClient\n",
    "\n",
    "from settings import AZURE_SUBSCRIPTION_ID, DEFAULT_RESOURCE_GROUP"
   ]
  },
  {
   "cell_type": "markdown",
   "id": "58993a8f",
   "metadata": {},
   "source": [
    "Let's instantiate our credential and then set up our blob service client"
   ]
  },
  {
   "cell_type": "code",
   "execution_count": 3,
   "id": "90aece9a",
   "metadata": {},
   "outputs": [],
   "source": [
    "credential = AzureCliCredential()\n",
    "blob_service_client = BlobServiceClient(\n",
    "    account_url='https://benbstorage1234.blob.core.windows.net/',\n",
    "    credential=credential\n",
    ")"
   ]
  },
  {
   "cell_type": "markdown",
   "id": "5edd4fed",
   "metadata": {},
   "source": [
    "Then we can get our container client via the blob service client as well in order to interact with it."
   ]
  },
  {
   "cell_type": "code",
   "execution_count": 7,
   "id": "35cfd1ca",
   "metadata": {},
   "outputs": [],
   "source": [
    "container_client = blob_service_client.get_container_client(\n",
    "    container='bens-blob-container'\n",
    ")"
   ]
  },
  {
   "cell_type": "markdown",
   "id": "cc3c59b8",
   "metadata": {},
   "source": [
    "To delete the container, we can just call `delete_container()`"
   ]
  },
  {
   "cell_type": "code",
   "execution_count": 8,
   "id": "6440dbc2",
   "metadata": {},
   "outputs": [],
   "source": [
    "container_client.delete_container()"
   ]
  },
  {
   "cell_type": "markdown",
   "id": "a986b21d",
   "metadata": {},
   "source": [
    "In order to delete our storage account, we need to instantiate a `StorageManagementClient`."
   ]
  },
  {
   "cell_type": "code",
   "execution_count": 4,
   "id": "c04cf089",
   "metadata": {},
   "outputs": [],
   "source": [
    "storage_client = StorageManagementClient(credential, AZURE_SUBSCRIPTION_ID)"
   ]
  },
  {
   "cell_type": "markdown",
   "id": "0f4bbb8f",
   "metadata": {},
   "source": [
    "Finally, let's delete our storage account to clean up our resources in Azure."
   ]
  },
  {
   "cell_type": "code",
   "execution_count": 10,
   "id": "d58f0ee7",
   "metadata": {},
   "outputs": [],
   "source": [
    "storage_client.storage_accounts.delete(\n",
    "    resource_group_name=DEFAULT_RESOURCE_GROUP,\n",
    "    account_name='benbstorage1234'\n",
    ")"
   ]
  }
 ],
 "metadata": {
  "kernelspec": {
   "display_name": "Python 3 (ipykernel)",
   "language": "python",
   "name": "python3"
  },
  "language_info": {
   "codemirror_mode": {
    "name": "ipython",
    "version": 3
   },
   "file_extension": ".py",
   "mimetype": "text/x-python",
   "name": "python",
   "nbconvert_exporter": "python",
   "pygments_lexer": "ipython3",
   "version": "3.8.10"
  }
 },
 "nbformat": 4,
 "nbformat_minor": 5
}
