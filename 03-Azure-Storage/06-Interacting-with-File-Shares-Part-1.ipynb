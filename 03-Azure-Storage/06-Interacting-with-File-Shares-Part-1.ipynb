{
 "cells": [
  {
   "cell_type": "markdown",
   "id": "639f5780",
   "metadata": {},
   "source": [
    "<a href = \"https://www.pieriantraining.com\"><img src=\"../PT Centered Purple.png\"> </a>\n",
    "\n",
    "<em style=\"text-align:center\">Copyrighted by Pierian Training</em>\n",
    "\n",
    "\n",
    "# Interacting with File Shares in Storage\n",
    "\n",
    "## Azure Actions Covered\n",
    "\n",
    "* Creating and deleting a file share\n",
    "\n",
    "In this lecture, we're going to take a look at how to interact with file shares in storage containers via the Python SDK.\n",
    "\n",
    "To begin, we import our usual libraries as well as any useful environment variables (e.g. `AZURE_SUBSCRIPTION_ID`). "
   ]
  },
  {
   "cell_type": "code",
   "execution_count": 1,
   "id": "f4cde49b",
   "metadata": {},
   "outputs": [],
   "source": [
    "from azure.identity import AzureCliCredential\n",
    "from azure.mgmt.storage import StorageManagementClient\n",
    "# New imports for file shares\n",
    "from azure.storage.fileshare import ShareClient, ShareServiceClient\n",
    "\n",
    "from settings import AZURE_SUBSCRIPTION_ID, STORAGE_ACCESS_KEY"
   ]
  },
  {
   "cell_type": "markdown",
   "id": "4d521569",
   "metadata": {},
   "source": [
    "Let's set up our credential for interacting with services."
   ]
  },
  {
   "cell_type": "code",
   "execution_count": 2,
   "id": "e4a7e70f",
   "metadata": {},
   "outputs": [],
   "source": [
    "credentials = AzureCliCredential()"
   ]
  },
  {
   "cell_type": "markdown",
   "id": "6ed79540",
   "metadata": {},
   "source": [
    "We'll first instantiate a storage client to list out our account URLs."
   ]
  },
  {
   "cell_type": "code",
   "execution_count": null,
   "id": "504681b1",
   "metadata": {},
   "outputs": [],
   "source": [
    "storage_client = StorageManagementClient(credentials, AZURE_SUBSCRIPTION_ID)"
   ]
  },
  {
   "cell_type": "markdown",
   "id": "df5d0eaf",
   "metadata": {},
   "source": [
    "Let's list out all of our file share endpoints to see which one we want to use for our account URL."
   ]
  },
  {
   "cell_type": "code",
   "execution_count": 4,
   "id": "d2fd8986",
   "metadata": {},
   "outputs": [
    {
     "name": "stdout",
     "output_type": "stream",
     "text": [
      "https://benbstorage102.file.core.windows.net/\n",
      "https://benbstorage1234.file.core.windows.net/\n",
      "https://bendatalake1234.file.core.windows.net/\n",
      "https://benshttpfunction7e489b.file.core.windows.net/\n"
     ]
    }
   ],
   "source": [
    "for account in storage_client.storage_accounts.list():\n",
    "    print(account.primary_endpoints.file)"
   ]
  },
  {
   "cell_type": "markdown",
   "id": "72e7bde1",
   "metadata": {},
   "source": [
    "## Creating File Shares\n",
    "\n",
    "To begin interacting with file shares on Azure, we'll need a `ShareServiceClient()`. The important parameters are:\n",
    "\n",
    "* `account_url` - URL path to the file share storage account. Will be of the form `https://<storage-account>.file.core.windows.net/`\n",
    "* `credential` - Credential with which to authenticate. This will **not** be from our Azure CLI. Instead, we're going to use a shared access key imported from our environment variables."
   ]
  },
  {
   "cell_type": "code",
   "execution_count": 5,
   "id": "685997a8",
   "metadata": {},
   "outputs": [],
   "source": [
    "# This type of authentication will fail\n",
    "# \n",
    "# share_service_client = ShareServiceClient(\n",
    "#     account_url=\"https://benbstorage1234.file.core.windows.net\",\n",
    "#     credentials=credentials,\n",
    "#     token_intent='backup'\n",
    "# )"
   ]
  },
  {
   "cell_type": "code",
   "execution_count": 2,
   "id": "82993f4d",
   "metadata": {},
   "outputs": [],
   "source": [
    "share_service_client = ShareServiceClient(\n",
    "    account_url=\"https://benbstorage1234.file.core.windows.net/\",\n",
    "    credential=STORAGE_ACCESS_KEY\n",
    ")"
   ]
  },
  {
   "cell_type": "markdown",
   "id": "d270bccd",
   "metadata": {},
   "source": [
    "We can create a new file share under our account."
   ]
  },
  {
   "cell_type": "code",
   "execution_count": 3,
   "id": "7669c4ca",
   "metadata": {},
   "outputs": [],
   "source": [
    "share = share_service_client.create_share(share_name='bens-file-share')"
   ]
  },
  {
   "cell_type": "markdown",
   "id": "00b9540f",
   "metadata": {},
   "source": [
    "Let's check some of the attributes on our newly created file share via the returned share client object."
   ]
  },
  {
   "cell_type": "code",
   "execution_count": 9,
   "id": "d0c0ebc9",
   "metadata": {},
   "outputs": [
    {
     "data": {
      "text/plain": [
       "'benbstorage1234'"
      ]
     },
     "execution_count": 9,
     "metadata": {},
     "output_type": "execute_result"
    }
   ],
   "source": [
    "share.account_name"
   ]
  },
  {
   "cell_type": "code",
   "execution_count": 10,
   "id": "5cb05f01",
   "metadata": {},
   "outputs": [
    {
     "data": {
      "text/plain": [
       "'https://benbstorage1234.file.core.windows.net/bens-file-share'"
      ]
     },
     "execution_count": 10,
     "metadata": {},
     "output_type": "execute_result"
    }
   ],
   "source": [
    "share.url"
   ]
  },
  {
   "cell_type": "markdown",
   "id": "cbf3a1c6",
   "metadata": {},
   "source": [
    "In the next lecture, we'll start to interact with files in our file share."
   ]
  }
 ],
 "metadata": {
  "kernelspec": {
   "display_name": "Python 3 (ipykernel)",
   "language": "python",
   "name": "python3"
  },
  "language_info": {
   "codemirror_mode": {
    "name": "ipython",
    "version": 3
   },
   "file_extension": ".py",
   "mimetype": "text/x-python",
   "name": "python",
   "nbconvert_exporter": "python",
   "pygments_lexer": "ipython3",
   "version": "3.8.10"
  }
 },
 "nbformat": 4,
 "nbformat_minor": 5
}
