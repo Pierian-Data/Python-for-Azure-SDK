{
 "cells": [
  {
   "cell_type": "markdown",
   "id": "639f5780",
   "metadata": {},
   "source": [
    "<a href = \"https://www.pieriantraining.com\"><img src=\"../PT Centered Purple.png\"> </a>\n",
    "\n",
    "<em style=\"text-align:center\">Copyrighted by Pierian Training</em>\n",
    "\n",
    "\n",
    "# Interacting with Queues in Storage\n",
    "\n",
    "## Azure Actions Covered\n",
    "\n",
    "* Creating queues in a storage container\n",
    "* Sending and receiving messages from a queue\n",
    "* Deleting queues\n",
    "\n",
    "In this lecture, we're going to take a look at how to interact with queues in storage containers via the Python SDK.\n",
    "\n",
    "To begin, we import our usual libraries as well as any useful environment variables (e.g. `AZURE_SUBSCRIPTION_ID`). "
   ]
  },
  {
   "cell_type": "code",
   "execution_count": 1,
   "id": "f4cde49b",
   "metadata": {},
   "outputs": [],
   "source": [
    "from azure.identity import AzureCliCredential\n",
    "# New imports for queues\n",
    "from azure.storage.queue import QueueClient, QueueServiceClient, QueueMessage\n",
    "\n",
    "from settings import AZURE_SUBSCRIPTION_ID"
   ]
  },
  {
   "cell_type": "markdown",
   "id": "1958dcf2",
   "metadata": {},
   "source": [
    "Make sure to log in to the Azure CLI and then get the relevant credential."
   ]
  },
  {
   "cell_type": "code",
   "execution_count": 2,
   "id": "084b4ec3",
   "metadata": {},
   "outputs": [],
   "source": [
    "credential = AzureCliCredential()"
   ]
  },
  {
   "cell_type": "markdown",
   "id": "5eaa5cdf",
   "metadata": {},
   "source": [
    "We can instantiate our `QueueClient()` to create and interact with our queues. It needs the following parameters:\n",
    "* `account_url` - URL for the queue in the storage account. Will be of the form `https://<storage-account>.queue.core.windows.net`\n",
    "* `queue_name` - Name for the queue to be created or interacted with\n",
    "* `credential` - Azure credential to use for authentication."
   ]
  },
  {
   "cell_type": "code",
   "execution_count": 3,
   "id": "5a02858f",
   "metadata": {},
   "outputs": [],
   "source": [
    "queue_client = QueueClient(\n",
    "    account_url='https://benbstorage1234.queue.core.windows.net',\n",
    "    queue_name='bens-queue-1',\n",
    "    credential=credential\n",
    ")"
   ]
  },
  {
   "cell_type": "markdown",
   "id": "74ceea9e",
   "metadata": {},
   "source": [
    "We can call the `create_queue` method to create our new queue."
   ]
  },
  {
   "cell_type": "code",
   "execution_count": 7,
   "id": "fd58c3ab",
   "metadata": {},
   "outputs": [],
   "source": [
    "queue = queue_client.create_queue()"
   ]
  },
  {
   "cell_type": "markdown",
   "id": "600268c0",
   "metadata": {},
   "source": [
    "Now that a queue has been created, we can use our `QueueClient`to send messages to the queue."
   ]
  },
  {
   "cell_type": "code",
   "execution_count": null,
   "id": "8e8876cf",
   "metadata": {},
   "outputs": [],
   "source": [
    "queue_client.send_message(\"My first message\")"
   ]
  },
  {
   "cell_type": "code",
   "execution_count": 21,
   "id": "f06b3abe",
   "metadata": {},
   "outputs": [
    {
     "data": {
      "text/plain": [
       "{'id': '31ac7778-d5c9-4c89-81c7-fac644a4d20c', 'inserted_on': datetime.datetime(2023, 5, 15, 5, 18, 9, tzinfo=datetime.timezone.utc), 'expires_on': datetime.datetime(2023, 5, 22, 5, 18, 9, tzinfo=datetime.timezone.utc), 'dequeue_count': None, 'content': 'My second message', 'pop_receipt': 'AgAAAAMAAAAAAAAAwOQso+yG2QE=', 'next_visible_on': datetime.datetime(2023, 5, 15, 5, 18, 9, tzinfo=datetime.timezone.utc)}"
      ]
     },
     "execution_count": 21,
     "metadata": {},
     "output_type": "execute_result"
    }
   ],
   "source": [
    "queue_client.send_message(\"My second message\")"
   ]
  },
  {
   "cell_type": "markdown",
   "id": "10a57ba3",
   "metadata": {},
   "source": [
    "You can see some of the messages in the queue using `peek_messages()`."
   ]
  },
  {
   "cell_type": "code",
   "execution_count": 22,
   "id": "853f08b4",
   "metadata": {},
   "outputs": [
    {
     "data": {
      "text/plain": [
       "[{'id': '2f8cbc3a-ae75-406c-acb1-7a084c1fc07a', 'inserted_on': datetime.datetime(2023, 5, 15, 5, 10, 31, tzinfo=datetime.timezone.utc), 'expires_on': datetime.datetime(2023, 5, 22, 5, 10, 31, tzinfo=datetime.timezone.utc), 'dequeue_count': 1, 'content': 'My first message', 'pop_receipt': None, 'next_visible_on': None},\n",
       " {'id': '5b0b3330-8e67-416a-9e5a-5ba9cea9f79b', 'inserted_on': datetime.datetime(2023, 5, 15, 5, 18, 7, tzinfo=datetime.timezone.utc), 'expires_on': datetime.datetime(2023, 5, 22, 5, 18, 7, tzinfo=datetime.timezone.utc), 'dequeue_count': 0, 'content': 'My first message', 'pop_receipt': None, 'next_visible_on': None}]"
      ]
     },
     "execution_count": 22,
     "metadata": {},
     "output_type": "execute_result"
    }
   ],
   "source": [
    "queue_client.peek_messages(max_messages=2)"
   ]
  },
  {
   "cell_type": "markdown",
   "id": "93d21dcd",
   "metadata": {},
   "source": [
    "To retrieve the message at the front of the queue and remove it from the queue (i.e. dequeue it), we can use `receive_message()` and assign the result to a variable in order to interact with the message."
   ]
  },
  {
   "cell_type": "code",
   "execution_count": 23,
   "id": "f9a73d10",
   "metadata": {},
   "outputs": [],
   "source": [
    "first_message = queue_client.receive_message()"
   ]
  },
  {
   "cell_type": "code",
   "execution_count": 24,
   "id": "335b375e",
   "metadata": {},
   "outputs": [
    {
     "data": {
      "text/plain": [
       "{'id': '2f8cbc3a-ae75-406c-acb1-7a084c1fc07a', 'inserted_on': datetime.datetime(2023, 5, 15, 5, 10, 31, tzinfo=datetime.timezone.utc), 'expires_on': datetime.datetime(2023, 5, 22, 5, 10, 31, tzinfo=datetime.timezone.utc), 'dequeue_count': 2, 'content': 'My first message', 'pop_receipt': 'AgAAAAMAAAAAAAAArZwWuOyG2QE=', 'next_visible_on': datetime.datetime(2023, 5, 15, 5, 18, 44, tzinfo=datetime.timezone.utc)}"
      ]
     },
     "execution_count": 24,
     "metadata": {},
     "output_type": "execute_result"
    }
   ],
   "source": [
    "first_message"
   ]
  },
  {
   "cell_type": "markdown",
   "id": "a9dc3fdf",
   "metadata": {},
   "source": [
    "You can update messages in a queue as well using `update_message()`. For this, you do need:\n",
    "* `message` - The message object or ID to identify the message to update.\n",
    "* `pop_receipt` - Pop receipt value from earlier call to the message\n",
    "* `content` - Content to put in updated message."
   ]
  },
  {
   "cell_type": "code",
   "execution_count": 25,
   "id": "bfe0908b",
   "metadata": {},
   "outputs": [
    {
     "data": {
      "text/plain": [
       "{'id': '2f8cbc3a-ae75-406c-acb1-7a084c1fc07a', 'inserted_on': None, 'expires_on': None, 'dequeue_count': None, 'content': 'Was this my first message?', 'pop_receipt': 'AwAAAAMAAAAAAAAAgvLRsOyG2QECAAAA', 'next_visible_on': datetime.datetime(2023, 5, 15, 5, 18, 32, tzinfo=datetime.timezone.utc)}"
      ]
     },
     "execution_count": 25,
     "metadata": {},
     "output_type": "execute_result"
    }
   ],
   "source": [
    "queue_client.update_message(\n",
    "    message=first_message.id,\n",
    "    pop_receipt=first_message.pop_receipt,\n",
    "    content=\"Was this my first message?\"\n",
    ")"
   ]
  },
  {
   "cell_type": "markdown",
   "id": "c3b23f86",
   "metadata": {},
   "source": [
    "To get some of the properties/metadata from our queue, let's use `get_queue_properties()`."
   ]
  },
  {
   "cell_type": "code",
   "execution_count": 26,
   "id": "a806ca6f",
   "metadata": {},
   "outputs": [
    {
     "data": {
      "text/plain": [
       "{'name': 'bens-queue-1', 'metadata': {}, 'approximate_message_count': 4}"
      ]
     },
     "execution_count": 26,
     "metadata": {},
     "output_type": "execute_result"
    }
   ],
   "source": [
    "queue_client.get_queue_properties()"
   ]
  },
  {
   "cell_type": "markdown",
   "id": "6e538582",
   "metadata": {},
   "source": [
    "To retrieve more than one message off the front of the queue, you can use `receive_messages()`."
   ]
  },
  {
   "cell_type": "code",
   "execution_count": 27,
   "id": "d763ff2f",
   "metadata": {},
   "outputs": [],
   "source": [
    "messages = queue_client.receive_messages()"
   ]
  },
  {
   "cell_type": "markdown",
   "id": "f22fc7d5",
   "metadata": {},
   "source": [
    "Let's print out all the messages we have so far."
   ]
  },
  {
   "cell_type": "code",
   "execution_count": 28,
   "id": "56e08c17",
   "metadata": {},
   "outputs": [
    {
     "name": "stdout",
     "output_type": "stream",
     "text": [
      "My first message\n",
      "My second message\n",
      "My second message\n",
      "Was this my first message?\n"
     ]
    }
   ],
   "source": [
    "for msg in messages:\n",
    "    print(msg.content)"
   ]
  },
  {
   "cell_type": "markdown",
   "id": "1b486e8f",
   "metadata": {},
   "source": [
    "Let's now delete all of the messages in our queue. First, we'll retrieve all the messages."
   ]
  },
  {
   "cell_type": "code",
   "execution_count": 32,
   "id": "3c035139",
   "metadata": {},
   "outputs": [],
   "source": [
    "messages = queue_client.receive_messages()"
   ]
  },
  {
   "cell_type": "markdown",
   "id": "da4d852b",
   "metadata": {},
   "source": [
    "To delete the message, you need the message object or ID, so we'll loop through and print them first."
   ]
  },
  {
   "cell_type": "code",
   "execution_count": 33,
   "id": "c0fea7e0",
   "metadata": {},
   "outputs": [
    {
     "name": "stdout",
     "output_type": "stream",
     "text": [
      "5b0b3330-8e67-416a-9e5a-5ba9cea9f79b\n",
      "31ac7778-d5c9-4c89-81c7-fac644a4d20c\n",
      "7f166b84-da9b-4c1c-8256-56969515acb4\n",
      "2f8cbc3a-ae75-406c-acb1-7a084c1fc07a\n"
     ]
    }
   ],
   "source": [
    "for msg in messages:\n",
    "    print(msg.id)\n",
    "    queue_client.delete_message(msg)"
   ]
  },
  {
   "cell_type": "markdown",
   "id": "05cd91b4",
   "metadata": {},
   "source": [
    "Now that our queue is empty, let's delete the queue."
   ]
  },
  {
   "cell_type": "code",
   "execution_count": 34,
   "id": "d9eaa5be",
   "metadata": {},
   "outputs": [],
   "source": [
    "queue_client.delete_queue()"
   ]
  }
 ],
 "metadata": {
  "kernelspec": {
   "display_name": "Python 3 (ipykernel)",
   "language": "python",
   "name": "python3"
  },
  "language_info": {
   "codemirror_mode": {
    "name": "ipython",
    "version": 3
   },
   "file_extension": ".py",
   "mimetype": "text/x-python",
   "name": "python",
   "nbconvert_exporter": "python",
   "pygments_lexer": "ipython3",
   "version": "3.8.10"
  }
 },
 "nbformat": 4,
 "nbformat_minor": 5
}
