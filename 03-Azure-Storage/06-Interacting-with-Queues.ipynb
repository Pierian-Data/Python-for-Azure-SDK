{
 "cells": [
  {
   "cell_type": "markdown",
   "id": "639f5780",
   "metadata": {},
   "source": [
    "<a href = \"https://www.pieriantraining.com\"><img src=\"../PT Centered Purple.png\"> </a>\n",
    "\n",
    "<em style=\"text-align:center\">Copyrighted by Pierian Training</em>\n",
    "\n",
    "\n",
    "# Interacting with Queues in Storage\n",
    "\n",
    "## Azure Actions Covered\n",
    "\n",
    "* \n",
    "\n",
    "In this lecture, we're going to take a look at how to interact with queues in storage containers via the Python SDK.\n",
    "\n",
    "To begin, we import our usual libraries as well as any useful environment variables (e.g. `AZURE_SUBSCRIPTION_ID`). "
   ]
  },
  {
   "cell_type": "code",
   "execution_count": 1,
   "id": "f4cde49b",
   "metadata": {},
   "outputs": [],
   "source": [
    "# For generating storage account name\n",
    "import random\n",
    "\n",
    "from azure.identity import AzureCliCredential, DefaultAzureCredential, InteractiveBrowserCredential\n",
    "from azure.mgmt.resource import ResourceManagementClient\n",
    "# New import\n",
    "from azure.storage.queue import QueueClient, QueueServiceClient, QueueMessage\n",
    "# Queue imports\n",
    "\n",
    "from settings import AZURE_SUBSCRIPTION_ID"
   ]
  },
  {
   "cell_type": "code",
   "execution_count": 2,
   "id": "084b4ec3",
   "metadata": {},
   "outputs": [],
   "source": [
    "credential = AzureCliCredential()"
   ]
  },
  {
   "cell_type": "code",
   "execution_count": 3,
   "id": "5a02858f",
   "metadata": {},
   "outputs": [],
   "source": [
    "queue_client = QueueClient(\n",
    "    account_url='https://benbstorage1234.queue.core.windows.net',\n",
    "    queue_name='bens-queue-1',\n",
    "    credential=credential\n",
    ")"
   ]
  },
  {
   "cell_type": "code",
   "execution_count": 7,
   "id": "fd58c3ab",
   "metadata": {},
   "outputs": [],
   "source": [
    "queue = queue_client.create_queue()"
   ]
  },
  {
   "cell_type": "code",
   "execution_count": 20,
   "id": "7406e4b8",
   "metadata": {},
   "outputs": [
    {
     "data": {
      "text/plain": [
       "{'id': '5b0b3330-8e67-416a-9e5a-5ba9cea9f79b', 'inserted_on': datetime.datetime(2023, 5, 15, 5, 18, 7, tzinfo=datetime.timezone.utc), 'expires_on': datetime.datetime(2023, 5, 22, 5, 18, 7, tzinfo=datetime.timezone.utc), 'dequeue_count': None, 'content': 'My first message', 'pop_receipt': 'AgAAAAMAAAAAAAAA9YBtouyG2QE=', 'next_visible_on': datetime.datetime(2023, 5, 15, 5, 18, 7, tzinfo=datetime.timezone.utc)}"
      ]
     },
     "execution_count": 20,
     "metadata": {},
     "output_type": "execute_result"
    }
   ],
   "source": [
    "queue_client.send_message(\"My first message\")"
   ]
  },
  {
   "cell_type": "code",
   "execution_count": 21,
   "id": "f06b3abe",
   "metadata": {},
   "outputs": [
    {
     "data": {
      "text/plain": [
       "{'id': '31ac7778-d5c9-4c89-81c7-fac644a4d20c', 'inserted_on': datetime.datetime(2023, 5, 15, 5, 18, 9, tzinfo=datetime.timezone.utc), 'expires_on': datetime.datetime(2023, 5, 22, 5, 18, 9, tzinfo=datetime.timezone.utc), 'dequeue_count': None, 'content': 'My second message', 'pop_receipt': 'AgAAAAMAAAAAAAAAwOQso+yG2QE=', 'next_visible_on': datetime.datetime(2023, 5, 15, 5, 18, 9, tzinfo=datetime.timezone.utc)}"
      ]
     },
     "execution_count": 21,
     "metadata": {},
     "output_type": "execute_result"
    }
   ],
   "source": [
    "queue_client.send_message(\"My second message\")"
   ]
  },
  {
   "cell_type": "code",
   "execution_count": 22,
   "id": "853f08b4",
   "metadata": {},
   "outputs": [
    {
     "data": {
      "text/plain": [
       "[{'id': '2f8cbc3a-ae75-406c-acb1-7a084c1fc07a', 'inserted_on': datetime.datetime(2023, 5, 15, 5, 10, 31, tzinfo=datetime.timezone.utc), 'expires_on': datetime.datetime(2023, 5, 22, 5, 10, 31, tzinfo=datetime.timezone.utc), 'dequeue_count': 1, 'content': 'My first message', 'pop_receipt': None, 'next_visible_on': None},\n",
       " {'id': '5b0b3330-8e67-416a-9e5a-5ba9cea9f79b', 'inserted_on': datetime.datetime(2023, 5, 15, 5, 18, 7, tzinfo=datetime.timezone.utc), 'expires_on': datetime.datetime(2023, 5, 22, 5, 18, 7, tzinfo=datetime.timezone.utc), 'dequeue_count': 0, 'content': 'My first message', 'pop_receipt': None, 'next_visible_on': None}]"
      ]
     },
     "execution_count": 22,
     "metadata": {},
     "output_type": "execute_result"
    }
   ],
   "source": [
    "queue_client.peek_messages(max_messages=2)"
   ]
  },
  {
   "cell_type": "code",
   "execution_count": 23,
   "id": "f9a73d10",
   "metadata": {},
   "outputs": [],
   "source": [
    "first_message = queue_client.receive_message()"
   ]
  },
  {
   "cell_type": "code",
   "execution_count": 24,
   "id": "335b375e",
   "metadata": {},
   "outputs": [
    {
     "data": {
      "text/plain": [
       "{'id': '2f8cbc3a-ae75-406c-acb1-7a084c1fc07a', 'inserted_on': datetime.datetime(2023, 5, 15, 5, 10, 31, tzinfo=datetime.timezone.utc), 'expires_on': datetime.datetime(2023, 5, 22, 5, 10, 31, tzinfo=datetime.timezone.utc), 'dequeue_count': 2, 'content': 'My first message', 'pop_receipt': 'AgAAAAMAAAAAAAAArZwWuOyG2QE=', 'next_visible_on': datetime.datetime(2023, 5, 15, 5, 18, 44, tzinfo=datetime.timezone.utc)}"
      ]
     },
     "execution_count": 24,
     "metadata": {},
     "output_type": "execute_result"
    }
   ],
   "source": [
    "first_message"
   ]
  },
  {
   "cell_type": "code",
   "execution_count": 25,
   "id": "bfe0908b",
   "metadata": {},
   "outputs": [
    {
     "data": {
      "text/plain": [
       "{'id': '2f8cbc3a-ae75-406c-acb1-7a084c1fc07a', 'inserted_on': None, 'expires_on': None, 'dequeue_count': None, 'content': 'Was this my first message?', 'pop_receipt': 'AwAAAAMAAAAAAAAAgvLRsOyG2QECAAAA', 'next_visible_on': datetime.datetime(2023, 5, 15, 5, 18, 32, tzinfo=datetime.timezone.utc)}"
      ]
     },
     "execution_count": 25,
     "metadata": {},
     "output_type": "execute_result"
    }
   ],
   "source": [
    "queue_client.update_message(\n",
    "    message=first_message.id,\n",
    "    pop_receipt=first_message.pop_receipt,\n",
    "    content=\"Was this my first message?\"\n",
    ")"
   ]
  },
  {
   "cell_type": "code",
   "execution_count": 26,
   "id": "a806ca6f",
   "metadata": {},
   "outputs": [
    {
     "data": {
      "text/plain": [
       "{'name': 'bens-queue-1', 'metadata': {}, 'approximate_message_count': 4}"
      ]
     },
     "execution_count": 26,
     "metadata": {},
     "output_type": "execute_result"
    }
   ],
   "source": [
    "queue_client.get_queue_properties()"
   ]
  },
  {
   "cell_type": "code",
   "execution_count": 27,
   "id": "d763ff2f",
   "metadata": {},
   "outputs": [],
   "source": [
    "messages = queue_client.receive_messages()"
   ]
  },
  {
   "cell_type": "code",
   "execution_count": 28,
   "id": "56e08c17",
   "metadata": {},
   "outputs": [
    {
     "name": "stdout",
     "output_type": "stream",
     "text": [
      "My first message\n",
      "My second message\n",
      "My second message\n",
      "Was this my first message?\n"
     ]
    }
   ],
   "source": [
    "for msg in messages:\n",
    "    print(msg.content)"
   ]
  },
  {
   "cell_type": "code",
   "execution_count": 32,
   "id": "3c035139",
   "metadata": {},
   "outputs": [],
   "source": [
    "messages = queue_client.receive_messages()"
   ]
  },
  {
   "cell_type": "code",
   "execution_count": 33,
   "id": "c0fea7e0",
   "metadata": {},
   "outputs": [
    {
     "name": "stdout",
     "output_type": "stream",
     "text": [
      "5b0b3330-8e67-416a-9e5a-5ba9cea9f79b\n",
      "31ac7778-d5c9-4c89-81c7-fac644a4d20c\n",
      "7f166b84-da9b-4c1c-8256-56969515acb4\n",
      "2f8cbc3a-ae75-406c-acb1-7a084c1fc07a\n"
     ]
    }
   ],
   "source": [
    "for msg in messages:\n",
    "    print(msg.id)\n",
    "    queue_client.delete_message(msg)"
   ]
  },
  {
   "cell_type": "code",
   "execution_count": 34,
   "id": "d9eaa5be",
   "metadata": {},
   "outputs": [],
   "source": [
    "queue_client.delete_queue()"
   ]
  },
  {
   "cell_type": "code",
   "execution_count": null,
   "id": "6f450d9d",
   "metadata": {},
   "outputs": [],
   "source": []
  }
 ],
 "metadata": {
  "kernelspec": {
   "display_name": "Python 3 (ipykernel)",
   "language": "python",
   "name": "python3"
  },
  "language_info": {
   "codemirror_mode": {
    "name": "ipython",
    "version": 3
   },
   "file_extension": ".py",
   "mimetype": "text/x-python",
   "name": "python",
   "nbconvert_exporter": "python",
   "pygments_lexer": "ipython3",
   "version": "3.8.10"
  }
 },
 "nbformat": 4,
 "nbformat_minor": 5
}
