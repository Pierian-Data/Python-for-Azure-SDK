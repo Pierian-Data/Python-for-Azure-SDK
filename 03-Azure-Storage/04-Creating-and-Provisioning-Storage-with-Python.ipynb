{
 "cells": [
  {
   "cell_type": "markdown",
   "id": "639f5780",
   "metadata": {},
   "source": [
    "<a href = \"https://www.pieriantraining.com\"><img src=\"../PT Centered Purple.png\"> </a>\n",
    "\n",
    "<em style=\"text-align:center\">Copyrighted by Pierian Training</em>\n",
    "\n",
    "\n",
    "# Creating and Provisioning Storage with Python\n",
    "\n",
    "## Azure Actions Covered\n",
    "\n",
    "* Creating storage resources\n",
    "\n",
    "\n",
    "In this lecture, we're going to take a look at how to create storage resources via the Python SDK.\n",
    "\n",
    "To begin, we'll need to import our usual libraries as well as any useful environment variables (e.g. `AZURE_SUBSCRIPTION_ID`). We'll add our new storage import as well."
   ]
  },
  {
   "cell_type": "code",
   "execution_count": 1,
   "id": "f4cde49b",
   "metadata": {},
   "outputs": [],
   "source": [
    "# For generating storage account name\n",
    "import random\n",
    "\n",
    "from azure.identity import AzureCliCredential\n",
    "from azure.mgmt.resource import ResourceManagementClient\n",
    "# New import\n",
    "from azure.mgmt.storage import StorageManagementClient\n",
    "\n",
    "from settings import AZURE_SUBSCRIPTION_ID, DEFAULT_LOCATION, DEFAULT_RESOURCE_GROUP"
   ]
  },
  {
   "cell_type": "markdown",
   "id": "e71d352d",
   "metadata": {},
   "source": [
    "We need to instantiate our Azure credential as well as our `ResourceManagementClient()` object."
   ]
  },
  {
   "cell_type": "code",
   "execution_count": 2,
   "id": "90aece9a",
   "metadata": {},
   "outputs": [],
   "source": [
    "credential = AzureCliCredential()\n",
    "resource_client = ResourceManagementClient(credential, AZURE_SUBSCRIPTION_ID)"
   ]
  },
  {
   "cell_type": "markdown",
   "id": "c653b9bc",
   "metadata": {},
   "source": [
    "We'll need to create our Storage objects under a resource group, so let's create a default Resource Group in a default Azure location if one doesn't exist yet.\n",
    "\n",
    "The `create_or_update()` method takes the following parameters:\n",
    "* `resource_group_name` - Name of the resource group to create or update\n",
    "* `parameters` - Dict of parameters or `ResourceGroup` object. For full list of parameters, see the [ResourceGroup class](https://learn.microsoft.com/en-us/python/api/azure-mgmt-resource/azure.mgmt.resource.resources.v2022_09_01.models.resourcegroup?view=azure-python)"
   ]
  },
  {
   "cell_type": "code",
   "execution_count": 4,
   "id": "487634c0",
   "metadata": {},
   "outputs": [],
   "source": [
    "if not resource_client.resource_groups.get(DEFAULT_RESOURCE_GROUP):\n",
    "    rg_result = resource_client.resource_groups.create_or_update(\n",
    "        resource_group_name=DEFAULT_RESOURCE_GROUP,\n",
    "        parameters={\n",
    "            'location': DEFAULT_LOCATION\n",
    "        }\n",
    "    )"
   ]
  },
  {
   "cell_type": "markdown",
   "id": "c2e6af34",
   "metadata": {},
   "source": [
    "We can instantiate a `StorageManagementClient()` object using the same pattern as with `ResourceManagementClient()`."
   ]
  },
  {
   "cell_type": "code",
   "execution_count": 3,
   "id": "31bd990c",
   "metadata": {},
   "outputs": [],
   "source": [
    "storage_client = StorageManagementClient(credential, AZURE_SUBSCRIPTION_ID)"
   ]
  },
  {
   "cell_type": "markdown",
   "id": "2874004a",
   "metadata": {},
   "source": [
    "As we saw in the previous lecture, storage accounts must have unique names since they're used in our URLs. We'll use a `while` loop to try out variations on a base name for our account until we find one that works.\n",
    "* First, use `storage_client.storage_accounts.check_name_availability()` to check whether the generated name is available.\n",
    "    * `account_name` - This is a `StorageAccountCheckNameAvailabilityParameters` model. For full list of parameters, see the [StorageAccountCheckNameAvailabilityParameters class](https://learn.microsoft.com/en-us/python/api/azure-mgmt-storage/azure.mgmt.storage.v2022_09_01.models.storageaccountchecknameavailabilityparameters?view=azure-python)\n",
    "* If the name isn't available, generate a new one.\n",
    "* If the name is available, use `begin_create()` to create the account. You can specify options like we did in the CLI.\n",
    "    * `location` - Azure location\n",
    "    * `kind` - Indicates the type of storage account, such as `StorageV2`, `FileStorage`, or `BlobStorage`.\n",
    "    * `sku` - Dictionary of SKU options for storage account, such as the name of the SKU, including `Standard_LRS` (locally-redundant storage), `Standard_GRS` (geo-redundant storage), or `Standard_ZRS` (zone-redundant storage).\n",
    "    * `tags` - Dictionary of key-value pairs for the resource.\n",
    "    \n",
    "For full list of parameters, see the [StorageAccountCreateParameters class](https://learn.microsoft.com/en-us/python/api/azure-mgmt-storage/azure.mgmt.storage.v2022_09_01.models.storageaccountcreateparameters?view=azure-python)"
   ]
  },
  {
   "cell_type": "code",
   "execution_count": 15,
   "id": "305b7261",
   "metadata": {},
   "outputs": [
    {
     "name": "stdout",
     "output_type": "stream",
     "text": [
      "Account name benbstorage226 available, creating account\n",
      "benbstorage226 has been provisioned\n"
     ]
    }
   ],
   "source": [
    "STORAGE_ACCOUNT_BASE = 'benbstorage'\n",
    "while True:\n",
    "    account_name = f'{STORAGE_ACCOUNT_BASE}{random.randint(1,1000)}'\n",
    "    if not storage_client.storage_accounts.check_name_availability({'name':account_name}).name_available:\n",
    "        print(f'Account name {account_name} not available, trying again')\n",
    "    else:\n",
    "        print(f'Account name {account_name} available, creating account')\n",
    "        poller =  storage_client.storage_accounts.begin_create(\n",
    "            resource_group_name=DEFAULT_RESOURCE_GROUP,\n",
    "            account_name=account_name,\n",
    "            parameters={\n",
    "                'location': DEFAULT_LOCATION,\n",
    "                'kind': 'StorageV2',\n",
    "                'sku': {\n",
    "                    'name': 'Standard_LRS'\n",
    "                }\n",
    "            }\n",
    "        )\n",
    "        poller_result = poller.result()\n",
    "        print(f'{poller_result.name} has been provisioned')\n",
    "        break"
   ]
  },
  {
   "cell_type": "markdown",
   "id": "f2471a98",
   "metadata": {},
   "source": [
    "In the next lecture, we'll see how to create blob containers and work with blobs in Azure Storage."
   ]
  }
 ],
 "metadata": {
  "kernelspec": {
   "display_name": "Python 3 (ipykernel)",
   "language": "python",
   "name": "python3"
  },
  "language_info": {
   "codemirror_mode": {
    "name": "ipython",
    "version": 3
   },
   "file_extension": ".py",
   "mimetype": "text/x-python",
   "name": "python",
   "nbconvert_exporter": "python",
   "pygments_lexer": "ipython3",
   "version": "3.10.6"
  }
 },
 "nbformat": 4,
 "nbformat_minor": 5
}
