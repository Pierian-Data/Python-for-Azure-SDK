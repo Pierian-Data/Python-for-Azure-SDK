{
 "cells": [
  {
   "cell_type": "markdown",
   "id": "639f5780",
   "metadata": {},
   "source": [
    "<a href = \"https://www.pieriantraining.com\"><img src=\"../PT Centered Purple.png\"> </a>\n",
    "\n",
    "<em style=\"text-align:center\">Copyrighted by Pierian Training</em>\n",
    "\n",
    "\n",
    "# Interacting with Tables in Storage - Part 1\n",
    "\n",
    "## Azure Actions Covered\n",
    "\n",
    "* Creating tables in Azure storage\n",
    "* Interacting with tables and entities in Azure storage\n",
    "\n",
    "In this lecture, we're going to take a look at how to interact with tables in storage containers via the Python SDK.\n",
    "\n",
    "To begin, we import our usual libraries as well as any useful environment variables (e.g. `AZURE_SUBSCRIPTION_ID`). "
   ]
  },
  {
   "cell_type": "code",
   "execution_count": 1,
   "id": "f4cde49b",
   "metadata": {},
   "outputs": [],
   "source": [
    "from datetime import datetime\n",
    "\n",
    "# New imports for tables\n",
    "from azure.data.tables import TableServiceClient, TableClient\n",
    "\n",
    "from settings import CONNECTION_STRING"
   ]
  },
  {
   "cell_type": "markdown",
   "id": "dd05e979",
   "metadata": {},
   "source": [
    "To interact with tables, we'll need to instantiate a `TableServiceClient` from our connection string."
   ]
  },
  {
   "cell_type": "code",
   "execution_count": 3,
   "id": "9c3ef210",
   "metadata": {},
   "outputs": [],
   "source": [
    "table_service_client = TableServiceClient.from_connection_string(conn_str=CONNECTION_STRING)"
   ]
  },
  {
   "cell_type": "markdown",
   "id": "9c0c43fe",
   "metadata": {},
   "source": [
    "Let's look at the URL for our table service."
   ]
  },
  {
   "cell_type": "code",
   "execution_count": 4,
   "id": "2e1a0e34",
   "metadata": {},
   "outputs": [
    {
     "data": {
      "text/plain": [
       "'https://benbstorage1234.table.core.windows.net'"
      ]
     },
     "execution_count": 4,
     "metadata": {},
     "output_type": "execute_result"
    }
   ],
   "source": [
    "table_service_client.url"
   ]
  },
  {
   "cell_type": "markdown",
   "id": "df61b797",
   "metadata": {},
   "source": [
    "We can use that service client to create a new table. This will return a `TableClient` object for interacting with the table."
   ]
  },
  {
   "cell_type": "code",
   "execution_count": 5,
   "id": "2aaaf643",
   "metadata": {},
   "outputs": [],
   "source": [
    "table_client = table_service_client.create_table(table_name='bensTable')"
   ]
  },
  {
   "cell_type": "markdown",
   "id": "76a66906",
   "metadata": {},
   "source": [
    "Let's look at some of the properties of our table client, like the URL."
   ]
  },
  {
   "cell_type": "code",
   "execution_count": 6,
   "id": "da7ed95b",
   "metadata": {},
   "outputs": [
    {
     "data": {
      "text/plain": [
       "'https://benbstorage1234.table.core.windows.net'"
      ]
     },
     "execution_count": 6,
     "metadata": {},
     "output_type": "execute_result"
    }
   ],
   "source": [
    "table_client.url"
   ]
  },
  {
   "cell_type": "markdown",
   "id": "11111015",
   "metadata": {},
   "source": [
    "We can insert entities into our new table via the table client and the `create_entity()` method. Make sure to include a `PartitionKey` and a `RowKey` in addition to any other information. We'll make up some healthcare information as a test."
   ]
  },
  {
   "cell_type": "code",
   "execution_count": 7,
   "id": "5d8699a0",
   "metadata": {},
   "outputs": [],
   "source": [
    "entity = table_client.create_entity(\n",
    "    entity={\n",
    "        'PartitionKey': 'Doe, John',\n",
    "        'RowKey': '00001',\n",
    "        'AdmissionDate': datetime(2023, 5, 10),\n",
    "        'DischargeDate': datetime(2023, 5, 15),\n",
    "        'Age': 78,\n",
    "        'Diagnosis': 'Flu'\n",
    "    }\n",
    ")"
   ]
  },
  {
   "cell_type": "markdown",
   "id": "6f71f202",
   "metadata": {},
   "source": [
    "Now let's list all the entities in our table."
   ]
  },
  {
   "cell_type": "code",
   "execution_count": 8,
   "id": "500d63d5",
   "metadata": {},
   "outputs": [
    {
     "name": "stdout",
     "output_type": "stream",
     "text": [
      "{'PartitionKey': 'Doe, John', 'RowKey': '00001', 'AdmissionDate': TablesEntityDatetime(2023, 5, 10, 6, 0, tzinfo=datetime.timezone.utc), 'DischargeDate': TablesEntityDatetime(2023, 5, 15, 6, 0, tzinfo=datetime.timezone.utc), 'Age': 78, 'Diagnosis': 'Flu'}\n"
     ]
    }
   ],
   "source": [
    "for entity in table_client.list_entities():\n",
    "    print(entity)"
   ]
  },
  {
   "cell_type": "markdown",
   "id": "40ccbd16",
   "metadata": {},
   "source": [
    "In the next lecture, we'll learn how to query and filter our data."
   ]
  }
 ],
 "metadata": {
  "kernelspec": {
   "display_name": "Python 3 (ipykernel)",
   "language": "python",
   "name": "python3"
  },
  "language_info": {
   "codemirror_mode": {
    "name": "ipython",
    "version": 3
   },
   "file_extension": ".py",
   "mimetype": "text/x-python",
   "name": "python",
   "nbconvert_exporter": "python",
   "pygments_lexer": "ipython3",
   "version": "3.8.10"
  }
 },
 "nbformat": 4,
 "nbformat_minor": 5
}
