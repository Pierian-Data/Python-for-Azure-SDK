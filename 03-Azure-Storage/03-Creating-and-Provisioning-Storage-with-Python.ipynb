{
 "cells": [
  {
   "cell_type": "markdown",
   "id": "08389b30",
   "metadata": {},
   "source": [
    "<a href = \"https://www.pieriantraining.com\"><img src=\"../PT Centered Purple.png\"> </a>\n",
    "\n",
    "<em style=\"text-align:center\">Copyrighted by Pierian Training</em>\n",
    "\n",
    "\n",
    "# Creating and Provisioning Storage with Python\n",
    "\n",
    "## Azure Actions Covered\n",
    "\n",
    "* Creating storage resources\n",
    "\n",
    "\n",
    "In this lecture, we're going to take a look at how to create storage resources via the Python SDK.\n",
    "\n",
    "To begin, we'll need to import our usual libraries as well as any useful environment variables (e.g. `AZURE_SUBSCRIPTION_ID`). We'll add our new storage import as well."
   ]
  },
  {
   "cell_type": "code",
   "execution_count": 3,
   "id": "ef90baaf",
   "metadata": {},
   "outputs": [],
   "source": [
    "# For generating storage account name\n",
    "import random\n",
    "\n",
    "from azure.identity import AzureCliCredential\n",
    "from azure.mgmt.resource import ResourceManagementClient\n",
    "# New import\n",
    "from azure.mgmt.storage import StorageManagementClient\n",
    "\n",
    "from settings import AZURE_SUBSCRIPTION_ID, DEFAULT_LOCATION, DEFAULT_RESOURCE_GROUP"
   ]
  },
  {
   "cell_type": "code",
   "execution_count": 2,
   "id": "441d28aa",
   "metadata": {},
   "outputs": [],
   "source": [
    "credential = AzureCliCredential()\n",
    "resource_client = ResourceManagementClient(credential, AZURE_SUBSCRIPTION_ID)"
   ]
  },
  {
   "cell_type": "code",
   "execution_count": 4,
   "id": "163b3f16",
   "metadata": {},
   "outputs": [],
   "source": [
    "if not resource_client.resource_groups.get(DEFAULT_RESOURCE_GROUP):\n",
    "    rg_result = resource_client.resource_groups.create_or_update(\n",
    "        DEFAULT_RESOURCE_GROUP,\n",
    "        {'location': DEFAULT_LOCATION}\n",
    "    )"
   ]
  },
  {
   "cell_type": "code",
   "execution_count": 5,
   "id": "f8017de7",
   "metadata": {},
   "outputs": [],
   "source": [
    "storage_client = StorageManagementClient(credential, AZURE_SUBSCRIPTION_ID)"
   ]
  },
  {
   "cell_type": "markdown",
   "id": "abdc1e5f",
   "metadata": {},
   "source": [
    "testes"
   ]
  },
  {
   "cell_type": "code",
   "execution_count": 15,
   "id": "b980d369",
   "metadata": {},
   "outputs": [
    {
     "name": "stdout",
     "output_type": "stream",
     "text": [
      "Account name benbstorage226 available, creating account\n",
      "benbstorage226 has been provisioned\n"
     ]
    }
   ],
   "source": [
    "STORAGE_ACCOUNT_BASE = 'benbstorage'\n",
    "while True:\n",
    "    account_name = f'{STORAGE_ACCOUNT_BASE}{random.randint(1,1000)}'\n",
    "    if not storage_client.storage_accounts.check_name_availability({'name':account_name}).name_available:\n",
    "        print(f'Account name {account_name} not available, trying again')\n",
    "    else:\n",
    "        print(f'Account name {account_name} available, creating account')\n",
    "        poller =  storage_client.storage_accounts.begin_create(\n",
    "            DEFAULT_RESOURCE_GROUP,\n",
    "            account_name,\n",
    "            {\n",
    "                'location': DEFAULT_LOCATION,\n",
    "                'kind': 'StorageV2',\n",
    "                'sku': {'name': 'Standard_LRS'}\n",
    "            }\n",
    "        )\n",
    "        poller_result = poller.result()\n",
    "        print(f'{poller_result.name} has been provisioned')\n",
    "        break"
   ]
  },
  {
   "cell_type": "code",
   "execution_count": 17,
   "id": "f682d0e4",
   "metadata": {},
   "outputs": [],
   "source": [
    "CONTAINER_NAME = 'bens-blob-container'\n",
    "container = storage_client.blob_containers.create(\n",
    "    DEFAULT_RESOURCE_GROUP,\n",
    "    account_name,\n",
    "    CONTAINER_NAME,\n",
    "    {}\n",
    ")"
   ]
  },
  {
   "cell_type": "code",
   "execution_count": 19,
   "id": "6e63b4d9",
   "metadata": {},
   "outputs": [
    {
     "data": {
      "text/plain": [
       "'bens-blob-container'"
      ]
     },
     "execution_count": 19,
     "metadata": {},
     "output_type": "execute_result"
    }
   ],
   "source": [
    "container.name"
   ]
  }
 ],
 "metadata": {
  "kernelspec": {
   "display_name": "Python 3 (ipykernel)",
   "language": "python",
   "name": "python3"
  },
  "language_info": {
   "codemirror_mode": {
    "name": "ipython",
    "version": 3
   },
   "file_extension": ".py",
   "mimetype": "text/x-python",
   "name": "python",
   "nbconvert_exporter": "python",
   "pygments_lexer": "ipython3",
   "version": "3.8.10"
  }
 },
 "nbformat": 4,
 "nbformat_minor": 5
}
