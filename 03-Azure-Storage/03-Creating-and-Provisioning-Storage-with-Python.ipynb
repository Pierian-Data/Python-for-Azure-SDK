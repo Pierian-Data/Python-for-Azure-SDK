{
 "cells": [
  {
   "cell_type": "markdown",
   "id": "639f5780",
   "metadata": {},
   "source": [
    "<a href = \"https://www.pieriantraining.com\"><img src=\"../PT Centered Purple.png\"> </a>\n",
    "\n",
    "<em style=\"text-align:center\">Copyrighted by Pierian Training</em>\n",
    "\n",
    "\n",
    "# Creating and Provisioning Storage with Python\n",
    "\n",
    "## Azure Actions Covered\n",
    "\n",
    "* Creating storage resources\n",
    "\n",
    "\n",
    "In this lecture, we're going to take a look at how to create storage resources via the Python SDK.\n",
    "\n",
    "To begin, we'll need to import our usual libraries as well as any useful environment variables (e.g. `AZURE_SUBSCRIPTION_ID`). We'll add our new storage import as well."
   ]
  },
  {
   "cell_type": "code",
   "execution_count": 1,
   "id": "f4cde49b",
   "metadata": {},
   "outputs": [],
   "source": [
    "# For generating storage account name\n",
    "import random\n",
    "\n",
    "from azure.identity import AzureCliCredential\n",
    "from azure.mgmt.resource import ResourceManagementClient\n",
    "# New import\n",
    "from azure.mgmt.storage import StorageManagementClient\n",
    "\n",
    "from settings import AZURE_SUBSCRIPTION_ID, DEFAULT_LOCATION, DEFAULT_RESOURCE_GROUP"
   ]
  },
  {
   "cell_type": "markdown",
   "id": "e71d352d",
   "metadata": {},
   "source": [
    "We need to instantiate our Azure credential as well as our `ResourceManagementClient()` object."
   ]
  },
  {
   "cell_type": "code",
   "execution_count": 2,
   "id": "90aece9a",
   "metadata": {},
   "outputs": [],
   "source": [
    "credential = AzureCliCredential()\n",
    "resource_client = ResourceManagementClient(credential, AZURE_SUBSCRIPTION_ID)"
   ]
  },
  {
   "cell_type": "markdown",
   "id": "c653b9bc",
   "metadata": {},
   "source": [
    "We'll need to create our Storage objects under a resource group, so let's create a default Resource Group in a default Azure location if one doesn't exist yet."
   ]
  },
  {
   "cell_type": "code",
   "execution_count": 4,
   "id": "487634c0",
   "metadata": {},
   "outputs": [],
   "source": [
    "if not resource_client.resource_groups.get(DEFAULT_RESOURCE_GROUP):\n",
    "    rg_result = resource_client.resource_groups.create_or_update(\n",
    "        DEFAULT_RESOURCE_GROUP,\n",
    "        {'location': DEFAULT_LOCATION}\n",
    "    )"
   ]
  },
  {
   "cell_type": "markdown",
   "id": "c2e6af34",
   "metadata": {},
   "source": [
    "We can instantiate a `StorageManagementClient()` object using the same pattern as with `ResourceManagementClient()`."
   ]
  },
  {
   "cell_type": "code",
   "execution_count": 3,
   "id": "31bd990c",
   "metadata": {},
   "outputs": [],
   "source": [
    "storage_client = StorageManagementClient(credential, AZURE_SUBSCRIPTION_ID)"
   ]
  },
  {
   "cell_type": "markdown",
   "id": "2874004a",
   "metadata": {},
   "source": [
    "As we saw in the previous lecture, storage accounts must have unique names since they're used in our URLs. We'll use a `while` loop to try out variations on a base name for our account until we find one that works.\n",
    "* First, use `storage_client.storage_accounts.check_name_availability()` to check whether the generated name is available.\n",
    "* If the name isn't available, generate a new one.\n",
    "* If the name is available, use `begin_create()` to create the account. You can specify options like we did in the CLI.\n",
    "    * `location` - Azure location\n",
    "    * `kind` - Indicates the type of storage account, such as `StorageV2`, `FileStorage`, or `BlobStorage`.\n",
    "    * `sku` - Dictionary of SKU options for storage account, such as the name of the SKU, including `Standard_LRS`, `Standard_GRS`, or `Standard_ZRS`.\n",
    "    * `tags` - Dictionary of key-value pairs for the resource."
   ]
  },
  {
   "cell_type": "code",
   "execution_count": 15,
   "id": "305b7261",
   "metadata": {},
   "outputs": [
    {
     "name": "stdout",
     "output_type": "stream",
     "text": [
      "Account name benbstorage226 available, creating account\n",
      "benbstorage226 has been provisioned\n"
     ]
    }
   ],
   "source": [
    "STORAGE_ACCOUNT_BASE = 'benbstorage'\n",
    "while True:\n",
    "    account_name = f'{STORAGE_ACCOUNT_BASE}{random.randint(1,1000)}'\n",
    "    if not storage_client.storage_accounts.check_name_availability({'name':account_name}).name_available:\n",
    "        print(f'Account name {account_name} not available, trying again')\n",
    "    else:\n",
    "        print(f'Account name {account_name} available, creating account')\n",
    "        poller =  storage_client.storage_accounts.begin_create(\n",
    "            DEFAULT_RESOURCE_GROUP,\n",
    "            account_name,\n",
    "            {\n",
    "                'location': DEFAULT_LOCATION,\n",
    "                'kind': 'StorageV2',\n",
    "                'sku': {'name': 'Standard_LRS'}\n",
    "            }\n",
    "        )\n",
    "        poller_result = poller.result()\n",
    "        print(f'{poller_result.name} has been provisioned')\n",
    "        break"
   ]
  },
  {
   "cell_type": "markdown",
   "id": "ebc4db95",
   "metadata": {},
   "source": [
    "We can use our storage client to create a blob container under our storage account using `blob_containers.create()`."
   ]
  },
  {
   "cell_type": "code",
   "execution_count": 17,
   "id": "f5d389f9",
   "metadata": {},
   "outputs": [],
   "source": [
    "container = storage_client.blob_containers.create(\n",
    "    DEFAULT_RESOURCE_GROUP,  # Name of resource group\n",
    "    account_name,  # Name of storage account\n",
    "    'bens-blob-container',  # Name of container\n",
    "    {}  # Properties of the blob container\n",
    ")"
   ]
  },
  {
   "cell_type": "markdown",
   "id": "bb0c6e6e",
   "metadata": {},
   "source": [
    "Let's validate that our container was created."
   ]
  },
  {
   "cell_type": "code",
   "execution_count": 19,
   "id": "efb33dc7",
   "metadata": {},
   "outputs": [
    {
     "data": {
      "text/plain": [
       "'bens-blob-container'"
      ]
     },
     "execution_count": 19,
     "metadata": {},
     "output_type": "execute_result"
    }
   ],
   "source": [
    "container.name"
   ]
  },
  {
   "cell_type": "markdown",
   "id": "f2471a98",
   "metadata": {},
   "source": [
    "To-do:\n",
    "* Create file share\n",
    "* Create queue\n",
    "* Create table"
   ]
  },
  {
   "cell_type": "code",
   "execution_count": null,
   "id": "31aac227",
   "metadata": {},
   "outputs": [],
   "source": []
  }
 ],
 "metadata": {
  "kernelspec": {
   "display_name": "Python 3 (ipykernel)",
   "language": "python",
   "name": "python3"
  },
  "language_info": {
   "codemirror_mode": {
    "name": "ipython",
    "version": 3
   },
   "file_extension": ".py",
   "mimetype": "text/x-python",
   "name": "python",
   "nbconvert_exporter": "python",
   "pygments_lexer": "ipython3",
   "version": "3.8.10"
  }
 },
 "nbformat": 4,
 "nbformat_minor": 5
}
