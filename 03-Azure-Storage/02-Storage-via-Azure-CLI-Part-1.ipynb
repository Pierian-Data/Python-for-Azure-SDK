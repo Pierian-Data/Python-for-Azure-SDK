{
 "cells": [
  {
   "cell_type": "markdown",
   "id": "1c50c8fc",
   "metadata": {},
   "source": [
    "<a href = \"https://www.pieriantraining.com\"><img src=\"../PT Centered Purple.png\"> </a>\n",
    "\n",
    "<em style=\"text-align:center\">Copyrighted by Pierian Training</em>\n",
    "\n",
    "\n",
    "# Working with Storage Resources via the Azure CLI\n",
    "\n",
    "## Azure Actions Covered\n",
    "\n",
    "* Creating and deleting storage accounts\n",
    "* Showing connection strings\n",
    "* Creating storage containers under storage accounts\n",
    "\n",
    "In this lecture, we're going to look at how to interact with Storage accounts and containers in Azure via the CLI. First, make sure you're logged in."
   ]
  },
  {
   "cell_type": "markdown",
   "id": "e5fdd667",
   "metadata": {},
   "source": [
    "```\n",
    "$ az login\n",
    "```"
   ]
  },
  {
   "cell_type": "markdown",
   "id": "77d2779c",
   "metadata": {},
   "source": [
    "Next, let's create a new resource group using the commands we used in the last section."
   ]
  },
  {
   "cell_type": "markdown",
   "id": "660919b3",
   "metadata": {},
   "source": [
    "```\n",
    "$ az group create -n azure-storage-group -l eastus\n",
    "```"
   ]
  },
  {
   "cell_type": "markdown",
   "id": "ac2aa2ff",
   "metadata": {},
   "source": [
    "Now that a dedicated resource group has been created, we can create a storage account under the resource group using `az storage account create`. **Note:** The storage account name **must** be unique, since it is used in associated URLs! You may have to try a couple to get one that is not in use (hint: try using random numbers)."
   ]
  },
  {
   "cell_type": "markdown",
   "id": "839e0a4c",
   "metadata": {},
   "source": [
    "```\n",
    "$ az storage account create -g azure-storage-group -l eastus -n benbstorage1\n",
    "```"
   ]
  },
  {
   "cell_type": "markdown",
   "id": "90ec0547",
   "metadata": {},
   "source": [
    "We'll need a way to authenticate some of Azure operations when we interact with our Storage resources. The following command shows us our connection string, which is one way of authenticating in the CLI."
   ]
  },
  {
   "cell_type": "markdown",
   "id": "5abf3c8e",
   "metadata": {},
   "source": [
    "```\n",
    "$ az storage account show-connection-string -g azure-storage-group -n benbstorage1 --query connectionString\n",
    "```"
   ]
  },
  {
   "cell_type": "markdown",
   "id": "0455324f",
   "metadata": {},
   "source": [
    "For security purposes and so that it can be reused later, it's best to store this as a variable. Connection strings can contain information you want to keep private.\n",
    "\n",
    "**Note:** For Windows users, this may be difficult using **cmd** or **PowerShell**, so you can also copy/paste the connection string."
   ]
  },
  {
   "cell_type": "markdown",
   "id": "42cf9d0d",
   "metadata": {},
   "source": [
    "```\n",
    "$ CONNECTION_STRING=$(az storage account show-connection-string -g azure-storage-group -n benbstorage1 --query connectionString)\n",
    "```"
   ]
  },
  {
   "cell_type": "markdown",
   "id": "33624ec8",
   "metadata": {},
   "source": [
    "Under our Storage account, we have to also create a container, which is where we can store any files, etc. For this, we'll need the connection string we just created."
   ]
  },
  {
   "cell_type": "markdown",
   "id": "1ec0b716",
   "metadata": {},
   "source": [
    "```\n",
    "$ az storage container create --name \"bens-blob-container\" --account-name benbstorage1 --connection-string $CONNECTION_STRING\n",
    "```"
   ]
  },
  {
   "cell_type": "markdown",
   "id": "8424e6f2",
   "metadata": {},
   "source": [
    "Great, our storage container has been created! You can use the Azure platform to check that it's where you expect it to be.\n",
    "\n",
    "In the next lecture, we'll see how to upload and download blobs from our container."
   ]
  }
 ],
 "metadata": {
  "kernelspec": {
   "display_name": "Python 3 (ipykernel)",
   "language": "python",
   "name": "python3"
  },
  "language_info": {
   "codemirror_mode": {
    "name": "ipython",
    "version": 3
   },
   "file_extension": ".py",
   "mimetype": "text/x-python",
   "name": "python",
   "nbconvert_exporter": "python",
   "pygments_lexer": "ipython3",
   "version": "3.10.6"
  }
 },
 "nbformat": 4,
 "nbformat_minor": 5
}
