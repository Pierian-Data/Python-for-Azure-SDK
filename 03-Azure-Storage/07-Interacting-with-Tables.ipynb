{
 "cells": [
  {
   "cell_type": "markdown",
   "id": "639f5780",
   "metadata": {},
   "source": [
    "<a href = \"https://www.pieriantraining.com\"><img src=\"../PT Centered Purple.png\"> </a>\n",
    "\n",
    "<em style=\"text-align:center\">Copyrighted by Pierian Training</em>\n",
    "\n",
    "\n",
    "# Interacting with Tables in Storage\n",
    "\n",
    "## Azure Actions Covered\n",
    "\n",
    "* \n",
    "\n",
    "In this lecture, we're going to take a look at how to interact with tables in storage containers via the Python SDK.\n",
    "\n",
    "To begin, we import our usual libraries as well as any useful environment variables (e.g. `AZURE_SUBSCRIPTION_ID`). "
   ]
  },
  {
   "cell_type": "code",
   "execution_count": 1,
   "id": "f4cde49b",
   "metadata": {},
   "outputs": [],
   "source": [
    "# For generating storage account name\n",
    "import random\n",
    "from datetime import datetime\n",
    "\n",
    "from azure.identity import AzureCliCredential, DefaultAzureCredential, InteractiveBrowserCredential\n",
    "from azure.mgmt.resource import ResourceManagementClient\n",
    "# New import\n",
    "from azure.mgmt.storage import StorageManagementClient\n",
    "# Table imports\n",
    "from azure.data.tables import TableServiceClient, TableClient\n",
    "\n",
    "from settings import AZURE_SUBSCRIPTION_ID"
   ]
  },
  {
   "cell_type": "code",
   "execution_count": 2,
   "id": "e84f68dc",
   "metadata": {},
   "outputs": [],
   "source": [
    "credential = AzureCliCredential()"
   ]
  },
  {
   "cell_type": "code",
   "execution_count": 3,
   "id": "9c3ef210",
   "metadata": {},
   "outputs": [],
   "source": [
    "table_service_client = TableServiceClient(\n",
    "    endpoint='https://benbstorage1234.table.core.windows.net',\n",
    "    credential=credential\n",
    ")"
   ]
  },
  {
   "cell_type": "code",
   "execution_count": 5,
   "id": "2aaaf643",
   "metadata": {},
   "outputs": [],
   "source": [
    "table_client = table_service_client.create_table(table_name='bensTable')"
   ]
  },
  {
   "cell_type": "code",
   "execution_count": 6,
   "id": "da7ed95b",
   "metadata": {},
   "outputs": [
    {
     "data": {
      "text/plain": [
       "'https://benbstorage1234.table.core.windows.net'"
      ]
     },
     "execution_count": 6,
     "metadata": {},
     "output_type": "execute_result"
    }
   ],
   "source": [
    "table_client.url"
   ]
  },
  {
   "cell_type": "code",
   "execution_count": 9,
   "id": "5d8699a0",
   "metadata": {},
   "outputs": [],
   "source": [
    "entity = table_client.create_entity(\n",
    "    entity={\n",
    "        'PartitionKey': 'Doe, John',\n",
    "        'RowKey': '00001',\n",
    "        'AdmissionDate': datetime(2023, 5, 10),\n",
    "        'DischargeDate': datetime(2023, 5, 15),\n",
    "        'Age': 78,\n",
    "        'Diagnosis': 'Flu'\n",
    "    }\n",
    ")"
   ]
  },
  {
   "cell_type": "code",
   "execution_count": 10,
   "id": "500d63d5",
   "metadata": {},
   "outputs": [
    {
     "name": "stdout",
     "output_type": "stream",
     "text": [
      "{'PartitionKey': 'Doe, John', 'RowKey': '00001', 'AdmissionDate': TablesEntityDatetime(2023, 5, 10, 6, 0, tzinfo=datetime.timezone.utc), 'DischargeDate': TablesEntityDatetime(2023, 5, 15, 6, 0, tzinfo=datetime.timezone.utc), 'Age': 78, 'Diagnosis': 'Flu'}\n"
     ]
    }
   ],
   "source": [
    "for entity in table_client.list_entities():\n",
    "    print(entity)"
   ]
  },
  {
   "cell_type": "code",
   "execution_count": 13,
   "id": "58219a1d",
   "metadata": {},
   "outputs": [
    {
     "name": "stdout",
     "output_type": "stream",
     "text": [
      "{'PartitionKey': 'Doe, John', 'RowKey': '00001', 'AdmissionDate': TablesEntityDatetime(2023, 5, 10, 6, 0, tzinfo=datetime.timezone.utc), 'DischargeDate': TablesEntityDatetime(2023, 5, 15, 6, 0, tzinfo=datetime.timezone.utc), 'Age': 78, 'Diagnosis': 'Flu'}\n"
     ]
    }
   ],
   "source": [
    "parameters = {\n",
    "    'admission_date': datetime(2023, 5, 1)\n",
    "}\n",
    "query_filter = \"AdmissionDate ge @admission_date\"\n",
    "result = table_client.query_entities(\n",
    "    query_filter=query_filter,\n",
    "    parameters=parameters\n",
    ")\n",
    "for item in result:\n",
    "    print(item)"
   ]
  },
  {
   "cell_type": "code",
   "execution_count": 14,
   "id": "e4fa8514",
   "metadata": {},
   "outputs": [
    {
     "name": "stdout",
     "output_type": "stream",
     "text": [
      "{'PartitionKey': 'Doe, John', 'RowKey': '00001', 'AdmissionDate': TablesEntityDatetime(2023, 5, 10, 6, 0, tzinfo=datetime.timezone.utc), 'DischargeDate': TablesEntityDatetime(2023, 5, 15, 6, 0, tzinfo=datetime.timezone.utc), 'Age': 78, 'Diagnosis': 'Flu'}\n"
     ]
    }
   ],
   "source": [
    "parameters = {\n",
    "    'pk': 'Doe, John'\n",
    "}\n",
    "query_filter = \"PartitionKey eq @pk\"\n",
    "result = table_client.query_entities(\n",
    "    query_filter=query_filter,\n",
    "    parameters=parameters\n",
    ")\n",
    "for item in result:\n",
    "    print(item)"
   ]
  },
  {
   "cell_type": "code",
   "execution_count": 15,
   "id": "05e0cc68",
   "metadata": {},
   "outputs": [],
   "source": [
    "table_client.delete_entity(\n",
    "    partition_key='Doe, John',\n",
    "    row_key='00001'\n",
    ")"
   ]
  },
  {
   "cell_type": "code",
   "execution_count": 16,
   "id": "fd7cf20d",
   "metadata": {},
   "outputs": [],
   "source": [
    "for entity in table_client.list_entities():\n",
    "    print(entity)"
   ]
  },
  {
   "cell_type": "code",
   "execution_count": 18,
   "id": "d8631622",
   "metadata": {},
   "outputs": [
    {
     "name": "stdout",
     "output_type": "stream",
     "text": [
      "bensTable\n"
     ]
    }
   ],
   "source": [
    "for table in table_service_client.list_tables():\n",
    "    print(table.name)"
   ]
  },
  {
   "cell_type": "code",
   "execution_count": 19,
   "id": "98e10db4",
   "metadata": {},
   "outputs": [
    {
     "name": "stdout",
     "output_type": "stream",
     "text": [
      "bensTable\n"
     ]
    }
   ],
   "source": [
    "parameters = {\n",
    "    'table_name': 'bensTable'\n",
    "}\n",
    "query_filter = 'TableName eq @table_name'\n",
    "result = table_service_client.query_tables(\n",
    "    query_filter=query_filter,\n",
    "    parameters=parameters\n",
    ")\n",
    "for table in result:\n",
    "    print(table.name)"
   ]
  },
  {
   "cell_type": "code",
   "execution_count": 20,
   "id": "298a681a",
   "metadata": {},
   "outputs": [],
   "source": [
    "table_service_client.delete_table(table_name='bensTable')"
   ]
  }
 ],
 "metadata": {
  "kernelspec": {
   "display_name": "Python 3 (ipykernel)",
   "language": "python",
   "name": "python3"
  },
  "language_info": {
   "codemirror_mode": {
    "name": "ipython",
    "version": 3
   },
   "file_extension": ".py",
   "mimetype": "text/x-python",
   "name": "python",
   "nbconvert_exporter": "python",
   "pygments_lexer": "ipython3",
   "version": "3.8.10"
  }
 },
 "nbformat": 4,
 "nbformat_minor": 5
}
