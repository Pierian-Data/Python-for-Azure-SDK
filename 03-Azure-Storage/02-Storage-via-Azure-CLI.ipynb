{
 "cells": [
  {
   "cell_type": "markdown",
   "id": "1c50c8fc",
   "metadata": {},
   "source": [
    "<a href = \"https://www.pieriantraining.com\"><img src=\"../PT Centered Purple.png\"> </a>\n",
    "\n",
    "<em style=\"text-align:center\">Copyrighted by Pierian Training</em>\n",
    "\n",
    "\n",
    "# Working with Storage Resources via the Azure CLI\n",
    "\n",
    "## Azure Actions Covered\n",
    "\n",
    "* Creating and deleting storage accounts\n",
    "* Showing connection strings\n",
    "* Creating and deleting storage containers under storage accounts\n",
    "* Uploading, listing, downloading, and deleting blobs\n",
    "\n",
    "In this lecture, we're going to look at how to interact with Storage accounts and containers in Azure via the CLI. First, make sure you're logged in."
   ]
  },
  {
   "cell_type": "markdown",
   "id": "e5fdd667",
   "metadata": {},
   "source": [
    "```\n",
    "$ az login\n",
    "```"
   ]
  },
  {
   "cell_type": "markdown",
   "id": "77d2779c",
   "metadata": {},
   "source": [
    "Next, let's create a new resource group using the commands we used in the last section."
   ]
  },
  {
   "cell_type": "markdown",
   "id": "660919b3",
   "metadata": {},
   "source": [
    "```\n",
    "$ az group create -n azure-storage-group -l eastus\n",
    "```"
   ]
  },
  {
   "cell_type": "markdown",
   "id": "ac2aa2ff",
   "metadata": {},
   "source": [
    "Now that a dedicated resource group has been created, we can create a storage account under the resource group using `az storage account create`. **Note:** The storage account name **must** be unique, since it is used in associated URLs! You may have to try a couple to get one that is not in use (hint: try using random numbers)."
   ]
  },
  {
   "cell_type": "markdown",
   "id": "839e0a4c",
   "metadata": {},
   "source": [
    "```\n",
    "$ az storage account create -g azure-storage-group -l eastus -n benbstorage1\n",
    "```"
   ]
  },
  {
   "cell_type": "markdown",
   "id": "90ec0547",
   "metadata": {},
   "source": [
    "We'll need a way to authenticate some of Azure operations when we interact with our Storage resources. The following command shows us our connection string, which is one way of authenticating in the CLI."
   ]
  },
  {
   "cell_type": "markdown",
   "id": "5abf3c8e",
   "metadata": {},
   "source": [
    "```\n",
    "$ az storage account show-connection-string -g azure-storage-group -n benbstorage1 --query connectionString\n",
    "```"
   ]
  },
  {
   "cell_type": "markdown",
   "id": "0455324f",
   "metadata": {},
   "source": [
    "For security purposes and so that it can be reused later, it's best to store this as a variable. Connection strings can contain information you want to keep private."
   ]
  },
  {
   "cell_type": "markdown",
   "id": "42cf9d0d",
   "metadata": {},
   "source": [
    "```\n",
    "$ CONNECTION_STRING=$(az storage account show-connection-string -g azure-storage-group -n benbstorage1 --query connectionString)\n",
    "```"
   ]
  },
  {
   "cell_type": "markdown",
   "id": "33624ec8",
   "metadata": {},
   "source": [
    "Under our Storage account, we have to also create a container, which is where we can store any files, etc. For this, we'll need the connection string we just created."
   ]
  },
  {
   "cell_type": "markdown",
   "id": "1ec0b716",
   "metadata": {},
   "source": [
    "```\n",
    "$ az storage container create --name \"bens-blob-container\" --account-name benbstorage1 --connection-string $CONNECTION_STRING\n",
    "```"
   ]
  },
  {
   "cell_type": "markdown",
   "id": "8424e6f2",
   "metadata": {},
   "source": [
    "Great, our storage container has been created! You can use the Azure platform to check that it's where you expect it to be.\n",
    "\n",
    "Let's make a quick test file to copy into our new container."
   ]
  },
  {
   "cell_type": "markdown",
   "id": "3820b1f1",
   "metadata": {},
   "source": [
    "```\n",
    "$ echo \"Hello there! I'm a friendly text file\" > test_file.txt\n",
    "```"
   ]
  },
  {
   "cell_type": "markdown",
   "id": "6443d131",
   "metadata": {},
   "source": [
    "We can copy the file over to our Storage container without a connection string or account key, but that will give us a warning (since it's not secure)."
   ]
  },
  {
   "cell_type": "markdown",
   "id": "bae48ad1",
   "metadata": {},
   "source": [
    "```\n",
    "$ az storage copy -s test_file.txt --destination-account-name benbstorage1 --destination-container bens-blob-container\n",
    "```"
   ]
  },
  {
   "cell_type": "markdown",
   "id": "80d89445",
   "metadata": {},
   "source": [
    "Let's add the connection string parameter so that the operation is safe."
   ]
  },
  {
   "cell_type": "markdown",
   "id": "3de72511",
   "metadata": {},
   "source": [
    "```\n",
    "$ az storage copy -s test_file.txt --account-name benbstorage1 --destination-container bens-blob-container --connection-string $CONNECTION_STRING\n",
    "```"
   ]
  },
  {
   "cell_type": "markdown",
   "id": "334b95b1",
   "metadata": {},
   "source": [
    "The operation should have finished successfully. To verify this, use `az storage blob list` to list the contents of the container we've created."
   ]
  },
  {
   "cell_type": "markdown",
   "id": "35cde5c3",
   "metadata": {},
   "source": [
    "```\n",
    "$ az storage blob list --account-name benbstorage1 --container-name bens-blob-container --output table\n",
    "```"
   ]
  },
  {
   "cell_type": "markdown",
   "id": "5a1b77ed",
   "metadata": {},
   "source": [
    "Just like we can upload files to the cloud, we can download files from our Storage containers. Let's download our test file and give it a new name."
   ]
  },
  {
   "cell_type": "markdown",
   "id": "3270fb30",
   "metadata": {},
   "source": [
    "```\n",
    "$ az storage blob download --account-name benbstorage1 --container-name bens-blob-container --name test_file.txt --file new_test_file.txt --connection-string $CONNECTION_STRING\n",
    "```"
   ]
  },
  {
   "cell_type": "markdown",
   "id": "e0db4a76",
   "metadata": {},
   "source": [
    "Deleting files in Storage via the Azure CLI is straightforward as well. Just use the `az storage blob delete` command."
   ]
  },
  {
   "cell_type": "markdown",
   "id": "d594eed3",
   "metadata": {},
   "source": [
    "```\n",
    "$ az storage blob delete --account-name benbstorage1 --container-name bens-blob-container --name test_file.txt --connection-string $CONNECTION_STRING\n",
    "```"
   ]
  },
  {
   "cell_type": "markdown",
   "id": "f571f569",
   "metadata": {},
   "source": [
    "If we list the files in our container, there shouldn't be anything there."
   ]
  },
  {
   "cell_type": "markdown",
   "id": "0f557e48",
   "metadata": {},
   "source": [
    "```\n",
    "$ az storage blob list --account-name benbstorage1 --container-name bens-blob-container\n",
    "```"
   ]
  },
  {
   "cell_type": "markdown",
   "id": "fee8bd41",
   "metadata": {},
   "source": [
    "Finally, let's clean up our resources so that we keep our cloud environment free and we don't rack up unwanted charges. If you've forgotten the name of your resource group, use `az group list` to list your resource groups."
   ]
  },
  {
   "cell_type": "markdown",
   "id": "ea7b0167",
   "metadata": {},
   "source": [
    "```\n",
    "$ az group list\n",
    "```"
   ]
  },
  {
   "cell_type": "markdown",
   "id": "fad25b8f",
   "metadata": {},
   "source": [
    "Like we did in the last section, use `az group delete` to delete the resource group we created for this lecture."
   ]
  },
  {
   "cell_type": "markdown",
   "id": "26036b35",
   "metadata": {},
   "source": [
    "```\n",
    "$ az group delete -n azure-storage-group\n",
    "```"
   ]
  }
 ],
 "metadata": {
  "kernelspec": {
   "display_name": "Python 3 (ipykernel)",
   "language": "python",
   "name": "python3"
  },
  "language_info": {
   "codemirror_mode": {
    "name": "ipython",
    "version": 3
   },
   "file_extension": ".py",
   "mimetype": "text/x-python",
   "name": "python",
   "nbconvert_exporter": "python",
   "pygments_lexer": "ipython3",
   "version": "3.8.10"
  }
 },
 "nbformat": 4,
 "nbformat_minor": 5
}
