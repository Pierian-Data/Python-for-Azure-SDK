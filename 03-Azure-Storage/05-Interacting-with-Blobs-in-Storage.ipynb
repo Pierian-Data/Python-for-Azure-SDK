{
 "cells": [
  {
   "cell_type": "markdown",
   "id": "639f5780",
   "metadata": {},
   "source": [
    "<a href = \"https://www.pieriantraining.com\"><img src=\"../PT Centered Purple.png\"> </a>\n",
    "\n",
    "<em style=\"text-align:center\">Copyrighted by Pierian Training</em>\n",
    "\n",
    "\n",
    "# Interacting with Blobs in Storage\n",
    "\n",
    "## Azure Actions Covered\n",
    "\n",
    "* Copying files/blobs to blob storage\n",
    "* Listing files/blobs in blob storage\n",
    "* Downloading files/blobs from blob storage\n",
    "* Deleting files/blobs from blob storage\n",
    "\n",
    "In this lecture, we're going to take a look at how to interact with blobs in storage containers via the Python SDK.\n",
    "\n",
    "To begin, we import our usual libraries as well as any useful environment variables (e.g. `AZURE_SUBSCRIPTION_ID`). We also need to import the `BlobClient` and `BlobServiceClient`."
   ]
  },
  {
   "cell_type": "code",
   "execution_count": 1,
   "id": "f4cde49b",
   "metadata": {},
   "outputs": [],
   "source": [
    "# For generating storage account name\n",
    "import random\n",
    "\n",
    "from azure.identity import AzureCliCredential\n",
    "from azure.mgmt.resource import ResourceManagementClient\n",
    "# New import\n",
    "from azure.mgmt.storage import StorageManagementClient\n",
    "from azure.storage.blob import BlobClient, BlobServiceClient\n",
    "\n",
    "from settings import AZURE_SUBSCRIPTION_ID"
   ]
  },
  {
   "cell_type": "markdown",
   "id": "d06fe31a",
   "metadata": {},
   "source": [
    "Instantiate your Azure credential as well as a `StorageManagementClient`."
   ]
  },
  {
   "cell_type": "code",
   "execution_count": 2,
   "id": "90aece9a",
   "metadata": {},
   "outputs": [],
   "source": [
    "credential = AzureCliCredential()\n",
    "storage_client = StorageManagementClient(credential, AZURE_SUBSCRIPTION_ID)"
   ]
  },
  {
   "cell_type": "markdown",
   "id": "067f9b25",
   "metadata": {},
   "source": [
    "Let's list our storage accounts so we know which endpoints to use to upload files/blobs."
   ]
  },
  {
   "cell_type": "code",
   "execution_count": 3,
   "id": "79f82e9c",
   "metadata": {},
   "outputs": [
    {
     "name": "stdout",
     "output_type": "stream",
     "text": [
      "benbstorage1234: https://benbstorage1234.blob.core.windows.net/\n"
     ]
    }
   ],
   "source": [
    "for account in storage_client.storage_accounts.list():\n",
    "    print(f'{account.name}: {account.primary_endpoints.blob}')"
   ]
  },
  {
   "cell_type": "markdown",
   "id": "e4bd64d1",
   "metadata": {},
   "source": [
    "We can use our storage client to create a blob container under our storage account using `blob_containers.create()`. This will take the following parameters:\n",
    "* `resource_group_name` - Name of resource group where blob container will be created\n",
    "* `account_name` - Name of the storage account where blob container will be created\n",
    "* `container_name` - Name for the new blob container\n",
    "* `blob_container` - Parameters for blob container creation. For full list of parameters, see the [BlobContainer class](https://learn.microsoft.com/en-us/python/api/azure-mgmt-storage/azure.mgmt.storage.v2022_09_01.models.blobcontainer?view=azure-python)"
   ]
  },
  {
   "cell_type": "code",
   "execution_count": null,
   "id": "7bd933da",
   "metadata": {},
   "outputs": [],
   "source": [
    "container = storage_client.blob_containers.create(\n",
    "    resource_group_name=DEFAULT_RESOURCE_GROUP,\n",
    "    account_name='benbstorage1234',\n",
    "    container_name='bens-blob-container',\n",
    "    blob_container={}\n",
    ")"
   ]
  },
  {
   "cell_type": "markdown",
   "id": "5685ab4b",
   "metadata": {},
   "source": [
    "Let's validate that our container was created."
   ]
  },
  {
   "cell_type": "code",
   "execution_count": null,
   "id": "8ada165e",
   "metadata": {},
   "outputs": [],
   "source": [
    "container.name"
   ]
  },
  {
   "cell_type": "markdown",
   "id": "cd3eb1ee",
   "metadata": {},
   "source": [
    "To interact with individual blobs in storage, we need to instantiate a `BlobClient`."
   ]
  },
  {
   "cell_type": "code",
   "execution_count": 6,
   "id": "15201134",
   "metadata": {},
   "outputs": [],
   "source": [
    "blob_client = BlobClient(\n",
    "    account_url='https://benbstorage1234.blob.core.windows.net/',\n",
    "    container_name='bens-blob-container',\n",
    "    blob_name='sample-blob-1.txt',\n",
    "    credential=credential\n",
    ")"
   ]
  },
  {
   "cell_type": "markdown",
   "id": "48612e7c",
   "metadata": {},
   "source": [
    "Let's use the context manager to upload the test file we created via the command line."
   ]
  },
  {
   "cell_type": "code",
   "execution_count": 7,
   "id": "f87c1018",
   "metadata": {},
   "outputs": [],
   "source": [
    "with open('./test_file.txt', 'rb') as data:\n",
    "    blob_client.upload_blob(data)"
   ]
  },
  {
   "cell_type": "markdown",
   "id": "96d574cb",
   "metadata": {},
   "source": [
    "Although you can create individual `BlobClient` objects, you can also `BlobServiceClient` to interact with and configure account properties as well as interact with storage containers. You can also use it to get the appropriate client objects for blob entities"
   ]
  },
  {
   "cell_type": "code",
   "execution_count": 8,
   "id": "66881a60",
   "metadata": {},
   "outputs": [],
   "source": [
    "blob_service_client = BlobServiceClient(\n",
    "    account_url='https://benbstorage1234.blob.core.windows.net/',\n",
    "    credential=credential\n",
    ")"
   ]
  },
  {
   "cell_type": "markdown",
   "id": "d9223136",
   "metadata": {},
   "source": [
    "For example, we can pull by container name to get the storage container client."
   ]
  },
  {
   "cell_type": "code",
   "execution_count": 9,
   "id": "11a6b7d7",
   "metadata": {},
   "outputs": [],
   "source": [
    "container_client = blob_service_client.get_container_client(container='bens-blob-container')"
   ]
  },
  {
   "cell_type": "markdown",
   "id": "e3412e9f",
   "metadata": {},
   "source": [
    "Now that we have the container client, we can list the blobs in the container."
   ]
  },
  {
   "cell_type": "code",
   "execution_count": 10,
   "id": "3888a620",
   "metadata": {},
   "outputs": [
    {
     "name": "stdout",
     "output_type": "stream",
     "text": [
      "sample-blob-1.txt\n"
     ]
    }
   ],
   "source": [
    "for blob in container_client.list_blob_names():\n",
    "    print(blob)"
   ]
  },
  {
   "cell_type": "markdown",
   "id": "534375ad",
   "metadata": {},
   "source": [
    "Similarly, we can get a `BlobClient` object via the `BlobServiceClient`."
   ]
  },
  {
   "cell_type": "code",
   "execution_count": 11,
   "id": "cf7629f9",
   "metadata": {},
   "outputs": [],
   "source": [
    "download_blob_client = blob_service_client.get_blob_client(\n",
    "    container='bens-blob-container',\n",
    "    blob='sample-blob-1.txt'\n",
    ")"
   ]
  },
  {
   "cell_type": "markdown",
   "id": "7fdde993",
   "metadata": {},
   "source": [
    "Now let's use the `BlobClient` to download the text blob we uploaded and give it a new name."
   ]
  },
  {
   "cell_type": "code",
   "execution_count": 12,
   "id": "76fb80cf",
   "metadata": {},
   "outputs": [],
   "source": [
    "with open('python-test-file.txt', 'wb') as data:\n",
    "    download_stream = download_blob_client.download_blob()\n",
    "    data.write(download_stream.readall())"
   ]
  },
  {
   "cell_type": "markdown",
   "id": "e36298af",
   "metadata": {},
   "source": [
    "Once we've downloaded the blob, we can delete it from our storage container as well."
   ]
  },
  {
   "cell_type": "code",
   "execution_count": 13,
   "id": "44d589f9",
   "metadata": {},
   "outputs": [],
   "source": [
    "blob_client.delete_blob()"
   ]
  }
 ],
 "metadata": {
  "kernelspec": {
   "display_name": "Python 3 (ipykernel)",
   "language": "python",
   "name": "python3"
  },
  "language_info": {
   "codemirror_mode": {
    "name": "ipython",
    "version": 3
   },
   "file_extension": ".py",
   "mimetype": "text/x-python",
   "name": "python",
   "nbconvert_exporter": "python",
   "pygments_lexer": "ipython3",
   "version": "3.10.6"
  }
 },
 "nbformat": 4,
 "nbformat_minor": 5
}
