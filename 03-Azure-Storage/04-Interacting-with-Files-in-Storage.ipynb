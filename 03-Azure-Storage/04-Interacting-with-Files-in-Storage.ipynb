{
 "cells": [
  {
   "cell_type": "markdown",
   "id": "639f5780",
   "metadata": {},
   "source": [
    "<a href = \"https://www.pieriantraining.com\"><img src=\"../PT Centered Purple.png\"> </a>\n",
    "\n",
    "<em style=\"text-align:center\">Copyrighted by Pierian Training</em>\n",
    "\n",
    "\n",
    "# Interacting with Files in Storage\n",
    "\n",
    "## Azure Actions Covered\n",
    "\n",
    "* Copying files to storage\n",
    "* Listing files in storage\n",
    "* Downloading files from storage\n",
    "* Deleting files from storage\n",
    "\n",
    "\n",
    "In this lecture, we're going to take a look at how to interact with files in Storage resources via the Python SDK.\n",
    "\n",
    "To begin, we'll need to import our usual libraries as well as any useful environment variables (e.g. `AZURE_SUBSCRIPTION_ID`). We'll add our new storage import as well."
   ]
  },
  {
   "cell_type": "code",
   "execution_count": 10,
   "id": "f4cde49b",
   "metadata": {},
   "outputs": [],
   "source": [
    "# For generating storage account name\n",
    "import random\n",
    "\n",
    "from azure.identity import AzureCliCredential, DefaultAzureCredential, InteractiveBrowserCredential\n",
    "from azure.mgmt.resource import ResourceManagementClient\n",
    "# New import\n",
    "from azure.mgmt.storage import StorageManagementClient\n",
    "from azure.storage.blob import BlobClient, BlobServiceClient\n",
    "\n",
    "from settings import (AZURE_SUBSCRIPTION_ID, AZURE_CLIENT_ID, AZURE_CLIENT_SECRET,\n",
    "                      AZURE_TENANT_ID, DEFAULT_LOCATION, DEFAULT_RESOURCE_GROUP)"
   ]
  },
  {
   "cell_type": "code",
   "execution_count": 5,
   "id": "90aece9a",
   "metadata": {},
   "outputs": [],
   "source": [
    "credential = AzureCliCredential()"
   ]
  },
  {
   "cell_type": "code",
   "execution_count": 6,
   "id": "cda74cd7",
   "metadata": {},
   "outputs": [],
   "source": [
    "storage_client = StorageManagementClient(credential, AZURE_SUBSCRIPTION_ID)"
   ]
  },
  {
   "cell_type": "code",
   "execution_count": 7,
   "id": "79f82e9c",
   "metadata": {},
   "outputs": [
    {
     "name": "stdout",
     "output_type": "stream",
     "text": [
      "benbstorage226: https://benbstorage226.blob.core.windows.net/\n"
     ]
    }
   ],
   "source": [
    "for account in storage_client.storage_accounts.list():\n",
    "    print(f'{account.name}: {account.primary_endpoints.blob}')"
   ]
  },
  {
   "cell_type": "code",
   "execution_count": 8,
   "id": "15201134",
   "metadata": {},
   "outputs": [],
   "source": [
    "blob_client = BlobClient(\n",
    "    'https://benbstorage226.blob.core.windows.net/',\n",
    "    container_name='bens-blob-container',\n",
    "    blob_name='sample-blob-1.txt',\n",
    "    credential=credential\n",
    ")"
   ]
  },
  {
   "cell_type": "code",
   "execution_count": 9,
   "id": "f87c1018",
   "metadata": {},
   "outputs": [],
   "source": [
    "with open('./test_file.txt', 'rb') as data:\n",
    "    blob_client.upload_blob(data)"
   ]
  },
  {
   "cell_type": "code",
   "execution_count": 11,
   "id": "66881a60",
   "metadata": {},
   "outputs": [],
   "source": [
    "blob_service_client = BlobServiceClient(\n",
    "    'https://benbstorage226.blob.core.windows.net/',\n",
    "    credential=credential\n",
    ")"
   ]
  },
  {
   "cell_type": "code",
   "execution_count": 12,
   "id": "11a6b7d7",
   "metadata": {},
   "outputs": [],
   "source": [
    "container_client = blob_service_client.get_container_client(container='bens-blob-container')"
   ]
  },
  {
   "cell_type": "code",
   "execution_count": 15,
   "id": "3888a620",
   "metadata": {},
   "outputs": [
    {
     "name": "stdout",
     "output_type": "stream",
     "text": [
      "sample-blob-1.txt\n"
     ]
    }
   ],
   "source": [
    "for blob in container_client.list_blob_names():\n",
    "    print(blob)"
   ]
  },
  {
   "cell_type": "code",
   "execution_count": 16,
   "id": "cf7629f9",
   "metadata": {},
   "outputs": [],
   "source": [
    "download_blob_client = blob_service_client.get_blob_client(\n",
    "    container='bens-blob-container',\n",
    "    blob='sample-blob-1.txt'\n",
    ")"
   ]
  },
  {
   "cell_type": "code",
   "execution_count": 18,
   "id": "76fb80cf",
   "metadata": {},
   "outputs": [],
   "source": [
    "with open('python-test-file.txt', 'wb') as data:\n",
    "    download_stream = download_blob_client.download_blob()\n",
    "    data.write(download_stream.readall())"
   ]
  }
 ],
 "metadata": {
  "kernelspec": {
   "display_name": "Python 3 (ipykernel)",
   "language": "python",
   "name": "python3"
  },
  "language_info": {
   "codemirror_mode": {
    "name": "ipython",
    "version": 3
   },
   "file_extension": ".py",
   "mimetype": "text/x-python",
   "name": "python",
   "nbconvert_exporter": "python",
   "pygments_lexer": "ipython3",
   "version": "3.8.10"
  }
 },
 "nbformat": 4,
 "nbformat_minor": 5
}
