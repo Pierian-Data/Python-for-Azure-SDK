{
 "cells": [
  {
   "cell_type": "markdown",
   "id": "1c50c8fc",
   "metadata": {},
   "source": [
    "<a href = \"https://www.pieriantraining.com\"><img src=\"../PT Centered Purple.png\"> </a>\n",
    "\n",
    "<em style=\"text-align:center\">Copyrighted by Pierian Training</em>\n",
    "\n",
    "# Billing Management for Azure with Python\n",
    "\n",
    "## Azure Actions Covered\n",
    "\n",
    "* Listing billing accounts\n",
    "* Listing billing profiles\n",
    "* Listing and getting information on invoices\n",
    "* Listing customers\n",
    "* Listing available credit balances\n",
    "* Listing account agreements with Microsoft\n",
    "\n",
    "In this lecture, we'll learn how to use the Azure billing management library with Python.\n",
    "\n",
    "To begin, we'll need to import our usual libraries as well as any useful environment variables (e.g. AZURE_SUBSCRIPTION_ID). We'll add some new imports as well."
   ]
  },
  {
   "cell_type": "code",
   "execution_count": 1,
   "id": "c2873178",
   "metadata": {},
   "outputs": [],
   "source": [
    "from azure.identity import AzureCliCredential\n",
    "from azure.mgmt.billing import BillingManagementClient\n",
    "\n",
    "from settings import AZURE_SUBSCRIPTION_ID"
   ]
  },
  {
   "cell_type": "markdown",
   "id": "8fc5a0c2",
   "metadata": {},
   "source": [
    "Let's instantiate our Azure credentials and the `BillingManagementClient()` object."
   ]
  },
  {
   "cell_type": "code",
   "execution_count": 2,
   "id": "768157d5",
   "metadata": {},
   "outputs": [],
   "source": [
    "credential = AzureCliCredential()\n",
    "billing_client = BillingManagementClient(credential, AZURE_SUBSCRIPTION_ID)"
   ]
  },
  {
   "cell_type": "markdown",
   "id": "f1c37d60",
   "metadata": {},
   "source": [
    "We can use the billing client to get information on the billing accounts in our subscription, such as the account status, account type, and agreement type."
   ]
  },
  {
   "cell_type": "code",
   "execution_count": 5,
   "id": "0de2fe59",
   "metadata": {},
   "outputs": [
    {
     "name": "stdout",
     "output_type": "stream",
     "text": [
      "Display Name - Account Status - Account Type - Agreement Type\n",
      "-------------------------------------------------------------\n",
      "Benjamin Bigelow - Active - Individual - MicrosoftCustomerAgreement\n"
     ]
    }
   ],
   "source": [
    "print('Display Name - Account Status - Account Type - Agreement Type')\n",
    "print('-------------------------------------------------------------')\n",
    "for acct in billing_client.billing_accounts.list():\n",
    "    print(f'{acct.display_name} - {acct.account_status} - {acct.account_type} - {acct.agreement_type}')"
   ]
  },
  {
   "cell_type": "markdown",
   "id": "81500522",
   "metadata": {},
   "source": [
    "There are some additional properties we can get, such as billing profiles, off the billing account objects. This will probably be empty if you're using an individual account for the course."
   ]
  },
  {
   "cell_type": "code",
   "execution_count": 4,
   "id": "73614d13",
   "metadata": {},
   "outputs": [
    {
     "name": "stdout",
     "output_type": "stream",
     "text": [
      "{'additional_properties': {}, 'has_more_results': False, 'value': None}\n"
     ]
    }
   ],
   "source": [
    "for acct in billing_client.billing_accounts.list():\n",
    "    print(acct.billing_profiles)"
   ]
  },
  {
   "cell_type": "markdown",
   "id": "344ac2aa",
   "metadata": {},
   "source": [
    "Let's pick up the billing account name so that we can use it with other parts of the management client."
   ]
  },
  {
   "cell_type": "code",
   "execution_count": 6,
   "id": "6cd77167",
   "metadata": {},
   "outputs": [],
   "source": [
    "for acct in billing_client.billing_accounts.list():\n",
    "    acct_name = acct.name"
   ]
  },
  {
   "cell_type": "markdown",
   "id": "1e02d9f4",
   "metadata": {},
   "source": [
    "For any billing account, you can list the customers on the account and interact with them in certain ways. Since we don't have any customers, this will probably be an empty list."
   ]
  },
  {
   "cell_type": "code",
   "execution_count": 27,
   "id": "507fb876",
   "metadata": {},
   "outputs": [],
   "source": [
    "for customer in billing_client.customers.list_by_billing_account(acct_name):\n",
    "    print(customer)"
   ]
  },
  {
   "cell_type": "markdown",
   "id": "36ab7ce7",
   "metadata": {},
   "source": [
    "We can also list out the invoices on our account. If you've recently started using Azure, an invoice may not have been generated yet."
   ]
  },
  {
   "cell_type": "code",
   "execution_count": 8,
   "id": "8719085d",
   "metadata": {},
   "outputs": [
    {
     "name": "stdout",
     "output_type": "stream",
     "text": [
      "Invoice # - Invoice Datetime - Profile Name - Amount Due\n",
      "--------------------------------------------------------\n",
      "G022901950 2023-05-09 05:14:36.264510+00:00 - Benjamin Bigelow 0.0 USD\n"
     ]
    }
   ],
   "source": [
    "print('Invoice # - Invoice Datetime - Profile Name - Amount Due')\n",
    "print('--------------------------------------------------------')\n",
    "for a in billing_client.invoices.list_by_billing_account(acct_name, '2023-01-01', '2023-06-01'):\n",
    "    print(f'{a.name} - {a.invoice_date} - {a.billing_profile_display_name} - {a.amount_due.value} {a.amount_due.currency}')"
   ]
  },
  {
   "cell_type": "markdown",
   "id": "bd397c1b",
   "metadata": {},
   "source": [
    "If you know the ID/name for a particular invoice, you can get information on it via the invoices API."
   ]
  },
  {
   "cell_type": "code",
   "execution_count": 9,
   "id": "5d34b608",
   "metadata": {},
   "outputs": [],
   "source": [
    "invoice = billing_client.invoices.get(acct_name, 'G022901950')"
   ]
  },
  {
   "cell_type": "markdown",
   "id": "641d0866",
   "metadata": {},
   "source": [
    "Let's take a look at the billed and credited amount. Because this invoice was generated during a trial period on Azure, the billed and credited amounts will be the same."
   ]
  },
  {
   "cell_type": "code",
   "execution_count": 12,
   "id": "0e98ae74",
   "metadata": {},
   "outputs": [
    {
     "name": "stdout",
     "output_type": "stream",
     "text": [
      "Billed amount: {'additional_properties': {}, 'currency': 'USD', 'value': 28.13} Credited amount: {'additional_properties': {}, 'currency': 'USD', 'value': -28.13}\n"
     ]
    }
   ],
   "source": [
    "print(f'Billed amount: {invoice.billed_amount} Credited amount: {invoice.credit_amount}')"
   ]
  },
  {
   "cell_type": "markdown",
   "id": "e681dc65",
   "metadata": {},
   "source": [
    "Let's take a look at the billing profiles available to us as well."
   ]
  },
  {
   "cell_type": "code",
   "execution_count": 11,
   "id": "a657d5c8",
   "metadata": {},
   "outputs": [
    {
     "name": "stdout",
     "output_type": "stream",
     "text": [
      "Billing Profile Name - Account Status\n",
      "------------------------------\n",
      "IIZN-6VR3-BG7-PGB - Active\n",
      "Benjamin Bigelow - MT\n"
     ]
    }
   ],
   "source": [
    "print('Billing Profile Name - Account Status')\n",
    "print('------------------------------')\n",
    "for profile in billing_client.billing_profiles.list_by_billing_account(acct_name):\n",
    "    print(f'{profile.name} - {profile.status}')\n",
    "    print(f'{profile.bill_to.first_name} {profile.bill_to.last_name} - {profile.bill_to.region.upper()}')"
   ]
  },
  {
   "cell_type": "markdown",
   "id": "3f48e830",
   "metadata": {},
   "source": [
    "If there are available credit balances to use, we can get them for a particular billing profile. Our credit balance will probably be returned as a `NoneType` object, since we don't have credits."
   ]
  },
  {
   "cell_type": "code",
   "execution_count": 15,
   "id": "efeabd2a",
   "metadata": {},
   "outputs": [],
   "source": [
    "available_balance = billing_client.available_balances.get(acct_name, 'IIZN-6VR3-BG7-PGB')"
   ]
  },
  {
   "cell_type": "code",
   "execution_count": 21,
   "id": "c4a5fb7e",
   "metadata": {},
   "outputs": [],
   "source": [
    "available_balance.amount"
   ]
  },
  {
   "cell_type": "markdown",
   "id": "f6cb0bd3",
   "metadata": {},
   "source": [
    "Finally, you can see information about the billing accounts and their agreements with Microsoft."
   ]
  },
  {
   "cell_type": "code",
   "execution_count": 23,
   "id": "e7fa31b9",
   "metadata": {},
   "outputs": [
    {
     "name": "stdout",
     "output_type": "stream",
     "text": [
      "MicrosoftCustomerAgreement - 2023-03-28 17:32:09.770242+00:00 - 9999-12-31 00:00:00+00:00\n"
     ]
    }
   ],
   "source": [
    "for agreement in billing_client.agreements.list_by_billing_account(acct_name):\n",
    "    print(f'{agreement.category} - {agreement.effective_date} - {agreement.expiration_date}')"
   ]
  }
 ],
 "metadata": {
  "kernelspec": {
   "display_name": "Python 3 (ipykernel)",
   "language": "python",
   "name": "python3"
  },
  "language_info": {
   "codemirror_mode": {
    "name": "ipython",
    "version": 3
   },
   "file_extension": ".py",
   "mimetype": "text/x-python",
   "name": "python",
   "nbconvert_exporter": "python",
   "pygments_lexer": "ipython3",
   "version": "3.8.10"
  }
 },
 "nbformat": 4,
 "nbformat_minor": 5
}
