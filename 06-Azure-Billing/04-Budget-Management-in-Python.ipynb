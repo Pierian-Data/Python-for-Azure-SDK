{
 "cells": [
  {
   "cell_type": "markdown",
   "id": "1c50c8fc",
   "metadata": {},
   "source": [
    "<a href = \"https://www.pieriantraining.com\"><img src=\"../PT Centered Purple.png\"> </a>\n",
    "\n",
    "<em style=\"text-align:center\">Copyrighted by Pierian Training</em>\n",
    "\n",
    "# Budget Management for Azure with Python\n",
    "\n",
    "## Azure Actions Covered\n",
    "\n",
    "* List and get budgets\n",
    "* Create and delete budgets\n",
    "* List usage details\n",
    "* List charges\n",
    "\n",
    "In this lecture, we'll learn how to use the Azure budget management library with Python.\n",
    "\n",
    "To begin, we'll need to import our usual libraries as well as any useful environment variables (e.g. AZURE_SUBSCRIPTION_ID). We'll add some new imports as well."
   ]
  },
  {
   "cell_type": "code",
   "execution_count": 1,
   "id": "c2873178",
   "metadata": {},
   "outputs": [],
   "source": [
    "import datetime\n",
    "\n",
    "from azure.identity import AzureCliCredential\n",
    "# New imports for budget management\n",
    "from azure.mgmt.consumption import ConsumptionManagementClient\n",
    "from azure.mgmt.consumption.models import Budget, BudgetTimePeriod, Notification\n",
    "\n",
    "from settings import AZURE_SUBSCRIPTION_ID, DEFAULT_RESOURCE_GROUP, DEFAULT_LOCATION"
   ]
  },
  {
   "cell_type": "markdown",
   "id": "37e07ce2",
   "metadata": {},
   "source": [
    "Let's instantiate our credential and then use it to instantiate the `ConsumptionManagementClient`."
   ]
  },
  {
   "cell_type": "code",
   "execution_count": 2,
   "id": "9cf8888e",
   "metadata": {},
   "outputs": [],
   "source": [
    "credential = AzureCliCredential()\n",
    "cm_client = ConsumptionManagementClient(credential, AZURE_SUBSCRIPTION_ID)"
   ]
  },
  {
   "cell_type": "markdown",
   "id": "3b61132f",
   "metadata": {},
   "source": [
    "We can use the `ConsumptionManagementClient` to list any budgets that we've already created in our Azure portal (or via the Azure CLI). The returned objects are `Budget` objects, which have some useful parameters that we'll print out. For a full list of parameters, see the [Budget class](https://learn.microsoft.com/en-us/python/api/azure-mgmt-consumption/azure.mgmt.consumption.models.budget?view=azure-python)."
   ]
  },
  {
   "cell_type": "code",
   "execution_count": 3,
   "id": "1a1345a4",
   "metadata": {},
   "outputs": [
    {
     "name": "stdout",
     "output_type": "stream",
     "text": [
      "Budget Name - Category - Time Grain - Amount\n",
      "--------------------------------------------\n",
      "bens-budget - Cost - Monthly - 15.0\n",
      "bens-budget-2 - Cost - Quarterly - 25.0\n"
     ]
    }
   ],
   "source": [
    "print('Budget Name - Category - Time Grain - Amount')\n",
    "print('--------------------------------------------')\n",
    "for budget in cm_client.budgets.list(f'/subscriptions/{AZURE_SUBSCRIPTION_ID}/'):\n",
    "    print(f'{budget.name} - {budget.category} - {budget.time_grain} - {budget.amount}')"
   ]
  },
  {
   "cell_type": "markdown",
   "id": "d7209b68",
   "metadata": {},
   "source": [
    "Once we know what some of our budget names are, we can use the `get()` method to retrieve the `Budget` object so that we can interact with some of its properties and parameters."
   ]
  },
  {
   "cell_type": "code",
   "execution_count": 8,
   "id": "87050acc",
   "metadata": {},
   "outputs": [],
   "source": [
    "my_budget = cm_client.budgets.get(\n",
    "    scope=f'/subscriptions/{AZURE_SUBSCRIPTION_ID}', \n",
    "    budget_name='bens-budget'\n",
    ")"
   ]
  },
  {
   "cell_type": "markdown",
   "id": "1018d18a",
   "metadata": {},
   "source": [
    "For example, we can look at our current spend under our budget."
   ]
  },
  {
   "cell_type": "code",
   "execution_count": 10,
   "id": "57ee5cdb",
   "metadata": {},
   "outputs": [
    {
     "data": {
      "text/plain": [
       "{'amount': 0.0, 'unit': 'USD'}"
      ]
     },
     "execution_count": 10,
     "metadata": {},
     "output_type": "execute_result"
    }
   ],
   "source": [
    "my_budget.current_spend.as_dict()"
   ]
  },
  {
   "cell_type": "markdown",
   "id": "d322292c",
   "metadata": {},
   "source": [
    "We can also get the budget amount/limit."
   ]
  },
  {
   "cell_type": "code",
   "execution_count": 11,
   "id": "fae4aa78",
   "metadata": {},
   "outputs": [
    {
     "data": {
      "text/plain": [
       "15.0"
      ]
     },
     "execution_count": 11,
     "metadata": {},
     "output_type": "execute_result"
    }
   ],
   "source": [
    "my_budget.amount"
   ]
  },
  {
   "cell_type": "markdown",
   "id": "897b660e",
   "metadata": {},
   "source": [
    "We can also look at the notifications that have been set up for a particular budget."
   ]
  },
  {
   "cell_type": "code",
   "execution_count": 12,
   "id": "28e7fc32",
   "metadata": {},
   "outputs": [
    {
     "data": {
      "text/plain": [
       "{'actual_GreaterThan_50_Percent': <azure.mgmt.consumption.models._models_py3.Notification at 0x7f9674daf700>,\n",
       " 'forecasted_GreaterThan_75_Percent': <azure.mgmt.consumption.models._models_py3.Notification at 0x7f9674daf970>}"
      ]
     },
     "execution_count": 12,
     "metadata": {},
     "output_type": "execute_result"
    }
   ],
   "source": [
    "my_budget.notifications"
   ]
  },
  {
   "cell_type": "markdown",
   "id": "837f8cbb",
   "metadata": {},
   "source": [
    "Now let's create a new budget with the `create_or_update()` method. We'll need to fill in the following parameters:\n",
    "\n",
    "* `scope` - Scope of the budget. For example: subscription, resource group, billing account, etc.\n",
    "* `budget_name` - Name for the new budget\n",
    "* `parameters` - Budget parameters, which can be a `Budget` object. These include:\n",
    "    * `category` - Category of budget; right now, this can only be \"cost\"\n",
    "    * `amount` - Total amount of cost to track (e.g. in USD)\n",
    "    * `time_grain` - Time granularity for the budget. For example: \"Monthly\", \"Quarterly\", etc.\n",
    "    * `time_period` - Start and end date of the budget \n",
    "    * `notifications` - Dictionary of notifications for the budget. Dict is of type `{str: Notification}`\n",
    "    \n",
    "Again, for the full list of `Budget` parameters, see the [Budget class](https://learn.microsoft.com/en-us/python/api/azure-mgmt-consumption/azure.mgmt.consumption.models.budget?view=azure-python).\n",
    "\n",
    "For a full list of `Notification` parameters, see the [Notification class](https://learn.microsoft.com/en-us/python/api/azure-mgmt-consumption/azure.mgmt.consumption.models.notification?view=azure-python)."
   ]
  },
  {
   "cell_type": "code",
   "execution_count": 4,
   "id": "07d1b048",
   "metadata": {},
   "outputs": [
    {
     "name": "stderr",
     "output_type": "stream",
     "text": [
      "Datetime with no tzinfo will be considered UTC.\n",
      "Datetime with no tzinfo will be considered UTC.\n"
     ]
    }
   ],
   "source": [
    "new_budget = cm_client.budgets.create_or_update(\n",
    "    scope=f'/subscriptions/{AZURE_SUBSCRIPTION_ID}/',\n",
    "    budget_name='bens-budget-2',\n",
    "    parameters=Budget(\n",
    "        category=\"cost\",\n",
    "        amount=25.0,\n",
    "        time_grain=\"Quarterly\",\n",
    "        time_period=BudgetTimePeriod(\n",
    "            start_date=datetime.datetime(2023, 6, 1),\n",
    "            end_date=datetime.datetime(2023, 12, 31)\n",
    "        ),\n",
    "        notifications={\n",
    "            'my_notification': Notification(\n",
    "                enabled=True,\n",
    "                operator='GreaterThan',\n",
    "                threshold=50.0,\n",
    "                contact_emails=['first.last@mail.com'],\n",
    "                threshold_type='Actual'\n",
    "            )\n",
    "        }\n",
    "    )\n",
    ")"
   ]
  },
  {
   "cell_type": "markdown",
   "id": "9b1d23f5",
   "metadata": {},
   "source": [
    "Let's take a look at the returned parameters, which will mirror what we provided to the `Budget` object."
   ]
  },
  {
   "cell_type": "code",
   "execution_count": null,
   "id": "a82219da",
   "metadata": {},
   "outputs": [],
   "source": [
    "new_budget.as_dict()"
   ]
  },
  {
   "cell_type": "markdown",
   "id": "bf80cbf2",
   "metadata": {},
   "source": [
    "We can also delete budgets via Python with the `delete()` method. Let's delete the budget we just created."
   ]
  },
  {
   "cell_type": "code",
   "execution_count": 20,
   "id": "9f6b1829",
   "metadata": {},
   "outputs": [],
   "source": [
    "cm_client.budgets.delete(\n",
    "    scope=f'/subscriptions/{AZURE_SUBSCRIPTION_ID}',\n",
    "    budget_name='bens-budget-2'\n",
    ")"
   ]
  },
  {
   "cell_type": "markdown",
   "id": "6223c27a",
   "metadata": {},
   "source": [
    "The `ConsumptionManagementClient` also provides access to our usage details. We can use the `list()` method to show all of our usage details. There are two types of usage details:\n",
    "\n",
    "* Modern - For full list of parameters, see the [ModernUsageDetail class](https://learn.microsoft.com/en-us/python/api/azure-mgmt-consumption/azure.mgmt.consumption.models.modernusagedetail?view=azure-python)\n",
    "* Legacy - For full list of parameters, see the [LegacyUsageDetail class](https://learn.microsoft.com/en-us/python/api/azure-mgmt-consumption/azure.mgmt.consumption.models.legacyusagedetail?view=azure-python).\n",
    "\n",
    "Some examples of the data provided with usage details:\n",
    "\n",
    "* `name` - Resource name\n",
    "* `product` - Name of the Azure product that has accrued charges\n",
    "* `service_family` - Service family for the product\n",
    "* `quantity` - Quantity of product/service consumed\n",
    "* `cost_in_billing_currency` - Cost of resource in billed currency"
   ]
  },
  {
   "cell_type": "code",
   "execution_count": 6,
   "id": "388118bd",
   "metadata": {},
   "outputs": [
    {
     "name": "stdout",
     "output_type": "stream",
     "text": [
      "Bandwidth Inter-Region - Intra Continent - North America\n",
      "Bandwidth - Networking\n",
      "2.4e-06\n",
      "Tables - LRS\n",
      "Storage - Storage\n",
      "5.4e-06\n",
      "Blob Storage - Hot LRS - US East\n",
      "Storage - Storage\n",
      "2.4e-06\n",
      "Tables - LRS\n",
      "Storage - Storage\n",
      "5.256e-06\n",
      "General Block Blob v2 Hierarchical Namespace - Hot RA-GRS - US East\n",
      "Storage - Storage\n",
      "7.08e-06\n",
      "Tables - RA-GRS\n",
      "Storage - Storage\n",
      "5.7e-06\n",
      "Storage - Bandwidth - Geo-Replication - US East\n",
      "Storage - Storage\n",
      "0.0\n",
      "Tables - GRS\n",
      "Storage - Storage\n",
      "1.0656e-05\n",
      "Blob Storage - Hot LRS - US East\n",
      "Storage - Storage\n",
      "2.4e-06\n",
      "Tables - LRS\n",
      "Storage - Storage\n",
      "5.256e-06\n",
      "General Block Blob v2 Hierarchical Namespace - Hot RA-GRS - US East\n",
      "Storage - Storage\n",
      "7.08e-06\n",
      "Storage - Bandwidth - Geo-Replication - US East\n",
      "Storage - Storage\n",
      "0.0\n",
      "Tables - GRS\n",
      "Storage - Storage\n",
      "1.044e-05\n",
      "Tables - RA-GRS\n",
      "Storage - Storage\n",
      "9.6e-06\n",
      "Azure App Service Free Plan - Linux - F1\n",
      "Azure App Service - Compute\n",
      "0.0\n",
      "General Block Blob v2 Hierarchical Namespace - Hot LRS - US East\n",
      "Storage - Storage\n",
      "7e-06\n",
      "Bandwidth Inter-Region - Intra Continent - North America\n",
      "Bandwidth - Networking\n",
      "2.4e-06\n",
      "Tables - LRS\n",
      "Storage - Storage\n",
      "5.4e-06\n",
      "Bandwidth Inter-Region - Intra Continent - North America\n",
      "Bandwidth - Networking\n",
      "2.4e-06\n",
      "Tables - LRS\n",
      "Storage - Storage\n",
      "5.4e-06\n",
      "Files - LRS\n",
      "Storage - Storage\n",
      "0.0\n",
      "Tables - LRS\n",
      "Storage - Storage\n",
      "3.528e-06\n",
      "Blob Storage - Hot LRS - US East\n",
      "Storage - Storage\n",
      "2e-06\n",
      "Tables - LRS\n",
      "Storage - Storage\n",
      "3.6e-06\n",
      "General Block Blob v2 Hierarchical Namespace - Hot LRS - US East\n",
      "Storage - Storage\n",
      "5e-06\n",
      "Storage - Bandwidth - Geo-Replication - US East\n",
      "Storage - Storage\n",
      "0.0\n",
      "Tables - RA-GRS\n",
      "Storage - Storage\n",
      "8.25e-06\n",
      "General Block Blob v2 Hierarchical Namespace - Hot RA-GRS - US East\n",
      "Storage - Storage\n",
      "5.015e-06\n",
      "Azure App Service Free Plan - Linux - F1\n",
      "Azure App Service - Compute\n",
      "0.0\n",
      "Bandwidth Inter-Region - Intra Continent - North America\n",
      "Bandwidth - Networking\n",
      "1.7e-06\n",
      "Tables - GRS\n",
      "Storage - Storage\n",
      "7.416e-06\n",
      "Tables - GRS\n",
      "Storage - Storage\n",
      "1.044e-05\n",
      "General Block Blob v2 Hierarchical Namespace - Hot RA-GRS - US East\n",
      "Storage - Storage\n",
      "7.08e-06\n",
      "Blob Storage - Hot LRS - US East\n",
      "Storage - Storage\n",
      "7.04e-05\n",
      "General Block Blob v2 Hierarchical Namespace - Hot LRS - US East\n",
      "Storage - Storage\n",
      "7e-06\n",
      "Blob Storage - Hot LRS\n",
      "Storage - Storage\n",
      "0.0\n",
      "Blob Storage - Hot LRS\n",
      "Storage - Storage\n",
      "0.0\n",
      "Files - LRS\n",
      "Storage - Storage\n",
      "0.0\n",
      "Tables - LRS\n",
      "Storage - Storage\n",
      "5.256e-06\n",
      "Blob Storage - Hot LRS\n",
      "Storage - Storage\n",
      "0.0\n",
      "Files - LRS\n",
      "Storage - Storage\n",
      "0.0\n",
      "Tables - RA-GRS\n",
      "Storage - Storage\n",
      "7.65e-06\n",
      "Log Analytics - Pay-as-you-go\n",
      "Log Analytics - Management and Governance\n",
      "0.0\n",
      "Storage - Bandwidth - Geo-Replication - US East\n",
      "Storage - Storage\n",
      "0.0\n",
      "Azure App Service Free Plan - Linux - F1\n",
      "Azure App Service - Compute\n",
      "0.0\n",
      "Tables - LRS\n",
      "Storage - Storage\n",
      "3.6e-08\n",
      "General Block Blob v2 Hierarchical Namespace - Hot LRS - US East\n",
      "Storage - Storage\n",
      "7e-06\n"
     ]
    }
   ],
   "source": [
    "for detail in cm_client.usage_details.list(f'/subscriptions/{AZURE_SUBSCRIPTION_ID}/'):\n",
    "    print(f'{detail.product}')\n",
    "    print(f'{detail.meter_category} - {detail.service_family}')\n",
    "    print(f'{detail.cost_in_billing_currency}')"
   ]
  },
  {
   "cell_type": "markdown",
   "id": "96eabc11",
   "metadata": {},
   "source": [
    "We can also list charges, but these must be associated with a billing account ID."
   ]
  },
  {
   "cell_type": "code",
   "execution_count": 7,
   "id": "108858b3",
   "metadata": {},
   "outputs": [],
   "source": [
    "BILLING_ACCOUNT_ID = '<insert billing account id>'\n",
    "charges = cm_client.charges.list(f'/providers/Microsoft.Billing/billingAccounts/{BILLING_ACCOUNT_ID}/')"
   ]
  },
  {
   "cell_type": "markdown",
   "id": "8480e052",
   "metadata": {},
   "source": [
    "Just like for usage details, our charge summaries have **Legacy** and **Modern** versions.\n",
    "\n",
    "* Legacy - For the full list of parameters, see the [LegacyChargeSummary class](https://learn.microsoft.com/en-us/python/api/azure-mgmt-consumption/azure.mgmt.consumption.models.legacychargesummary?view=azure-python).\n",
    "* Modern - For the full list of parameters, see the [ModernChargeSummary class](https://learn.microsoft.com/en-us/python/api/azure-mgmt-consumption/azure.mgmt.consumption.models.modernchargesummary?view=azure-python).\n",
    "\n",
    "We'll print out some of our charges from the returned list."
   ]
  },
  {
   "cell_type": "code",
   "execution_count": 18,
   "id": "99d24358",
   "metadata": {},
   "outputs": [
    {
     "data": {
      "text/plain": [
       "[<azure.mgmt.consumption.models._models_py3.ModernChargeSummary at 0x7fcd1baaf670>,\n",
       " <azure.mgmt.consumption.models._models_py3.ModernChargeSummary at 0x7fcd1baafd90>]"
      ]
     },
     "execution_count": 18,
     "metadata": {},
     "output_type": "execute_result"
    }
   ],
   "source": [
    "charges.value"
   ]
  },
  {
   "cell_type": "markdown",
   "id": "aece70be",
   "metadata": {},
   "source": [
    "Let's take a look at the `azure_charges`."
   ]
  },
  {
   "cell_type": "code",
   "execution_count": 19,
   "id": "28d0a64f",
   "metadata": {},
   "outputs": [
    {
     "data": {
      "text/plain": [
       "{'currency': 'USD', 'value': 0.342}"
      ]
     },
     "execution_count": 19,
     "metadata": {},
     "output_type": "execute_result"
    }
   ],
   "source": [
    "charges.value[1].azure_charges.as_dict()"
   ]
  }
 ],
 "metadata": {
  "kernelspec": {
   "display_name": "Python 3 (ipykernel)",
   "language": "python",
   "name": "python3"
  },
  "language_info": {
   "codemirror_mode": {
    "name": "ipython",
    "version": 3
   },
   "file_extension": ".py",
   "mimetype": "text/x-python",
   "name": "python",
   "nbconvert_exporter": "python",
   "pygments_lexer": "ipython3",
   "version": "3.8.10"
  }
 },
 "nbformat": 4,
 "nbformat_minor": 5
}
