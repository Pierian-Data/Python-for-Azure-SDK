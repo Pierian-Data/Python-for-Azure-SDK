{
 "cells": [
  {
   "cell_type": "markdown",
   "id": "1c50c8fc",
   "metadata": {},
   "source": [
    "<a href = \"https://www.pieriantraining.com\"><img src=\"../PT Centered Purple.png\"> </a>\n",
    "\n",
    "<em style=\"text-align:center\">Copyrighted by Pierian Training</em>\n",
    "\n",
    "# Cost Management for Azure with Python\n",
    "\n",
    "## Azure Actions Covered\n",
    "\n",
    "* Query actual usage and cost data\n",
    "* Query forecasted usage and cost data\n",
    "* Set up recurring cost export\n",
    "\n",
    "In this lecture, we'll learn how to use Azure cost management library with Python.\n",
    "\n",
    "To begin, we'll need to import our usual libraries as well as any useful environment variables (e.g. AZURE_SUBSCRIPTION_ID). We'll add some new imports as well."
   ]
  },
  {
   "cell_type": "code",
   "execution_count": 11,
   "id": "c2873178",
   "metadata": {},
   "outputs": [],
   "source": [
    "import datetime\n",
    "\n",
    "from azure.identity import AzureCliCredential\n",
    "# New imports for cost management\n",
    "from azure.mgmt.costmanagement import CostManagementClient\n",
    "from azure.mgmt.costmanagement.models import (\n",
    "    QueryDefinition, QueryDataset, QueryAggregation,\n",
    "    QueryTimePeriod, GranularityType, ForecastDefinition,\n",
    "    Export, FormatType, ExportDeliveryInfo, ExportDefinition,\n",
    "    ExportSchedule, ExportRecurrencePeriod, ExportDeliveryDestination\n",
    ")\n",
    "from settings import AZURE_SUBSCRIPTION_ID, DEFAULT_RESOURCE_GROUP, DEFAULT_LOCATION"
   ]
  },
  {
   "cell_type": "markdown",
   "id": "b7da3ecb",
   "metadata": {},
   "source": [
    "Let's instantiate our credential and then use it to instantiate the `CostManagementClient()`."
   ]
  },
  {
   "cell_type": "code",
   "execution_count": 2,
   "id": "6e95be98",
   "metadata": {},
   "outputs": [],
   "source": [
    "credential = AzureCliCredential()\n",
    "cm_client = CostManagementClient(credential)"
   ]
  },
  {
   "cell_type": "markdown",
   "id": "9849ac4e",
   "metadata": {},
   "source": [
    "We can return data on our usage of Azure using `query.usage()`. The scope can be the subscription, resource group, billing account, etc. For our purposes, we'll just focus on the subscription.\n",
    "\n",
    "The parameters for this method are somewhat complicated, so let's walk through them.\n",
    "\n",
    "* The `parameters` must be a `QueryDefinitiion` object. For more information, see [QueryDefinition class](https://learn.microsoft.com/en-us/python/api/azure-mgmt-costmanagement/azure.mgmt.costmanagement.models.querydefinition?view=azure-python).\n",
    "* The `QueryDefinition` object will take:\n",
    "    * `type`- Type of cost data to return. Can be \"Usage\", \"ActualCost\", or \"AmortizedCost\"\n",
    "    * `timeframe` - Time frame for pulling data for the query\n",
    "    * `time_period` - Time period for pulling data if `timeframe` is `Custom`. This is a `QueryTimePeriod` object.\n",
    "    * `dataset` - `QueryDataset` object with definition for data in the query.\n",
    "* For more information on `QueryTimePeriod`, see the [QueryTimePeriod class](https://learn.microsoft.com/en-us/python/api/azure-mgmt-costmanagement/azure.mgmt.costmanagement.models.querytimeperiod?view=azure-python).\n",
    "    * `from_property` - Start date for pulling data\n",
    "    * `to` - End date for pulling data\n",
    "* For more information on `QueryDataset`, see the [QueryDataset class](https://learn.microsoft.com/en-us/python/api/azure-mgmt-costmanagement/azure.mgmt.costmanagement.models.querydataset?view=azure-python). We'll use\n",
    "    * `granularity` - Time period granularity for data to return\n",
    "    * `aggregation` - Dictionary of string (alias for aggregated column) and a `QueryAggregation()` object.\n",
    "* For more information on `QueryAggregation`, see the [QueryAggregation](https://learn.microsoft.com/en-us/python/api/azure-mgmt-costmanagement/azure.mgmt.costmanagement.models.queryaggregation?view=azure-python).\n",
    "    * `name` - Name of column to aggregate. We'll use \"PreTaxCost\".\n",
    "    * `function` - Aggregation function to use (e.g. \"Avg\", \"Min\", \"Max\", \"Sum\"\n",
    "    \n",
    "We'll write a query to return the daily total pre-tax cost for the month of April, 2023."
   ]
  },
  {
   "cell_type": "code",
   "execution_count": 3,
   "id": "223eb6a3",
   "metadata": {},
   "outputs": [
    {
     "name": "stderr",
     "output_type": "stream",
     "text": [
      "Datetime with no tzinfo will be considered UTC.\n",
      "Datetime with no tzinfo will be considered UTC.\n"
     ]
    }
   ],
   "source": [
    "query = cm_client.query.usage(\n",
    "    # Scope will be subscription\n",
    "    scope=f'/subscriptions/{AZURE_SUBSCRIPTION_ID}',\n",
    "    parameters=QueryDefinition(\n",
    "        # We want to get usage data\n",
    "        type=\"Usage\",\n",
    "        # Use a custom time frame\n",
    "        timeframe=\"Custom\",\n",
    "        # April 1, 2023 to April 30, 2023\n",
    "        time_period=QueryTimePeriod(\n",
    "            from_property=datetime.datetime(2023,4,1),\n",
    "            to=datetime.datetime(2023,4,30)\n",
    "        ),\n",
    "        # Data to return\n",
    "        dataset=QueryDataset(\n",
    "            # Data aggregated by day\n",
    "            granularity=\"Daily\",\n",
    "            # Sum of the pre-tax cost, aliased to 'totalCost'\n",
    "            aggregation={\n",
    "                'totalCost': QueryAggregation(name='PreTaxCost', function='Sum')\n",
    "            }\n",
    "        )\n",
    "    )\n",
    ")"
   ]
  },
  {
   "cell_type": "markdown",
   "id": "5ddb6d83",
   "metadata": {},
   "source": [
    "Now let's look at the returned data. It's a list of lists with the values in each index of:\n",
    "* `totalCost` - Based on our query\n",
    "* String representation of date\n",
    "* Unit of measurement for returned data, in our case US Dollars (`USD`)."
   ]
  },
  {
   "cell_type": "code",
   "execution_count": 4,
   "id": "aaf6d38d",
   "metadata": {},
   "outputs": [
    {
     "data": {
      "text/plain": [
       "[[0.5245836667460327, 20230407, 'USD'],\n",
       " [1.9279980235436547, 20230408, 'USD'],\n",
       " [1.927998067446201, 20230409, 'USD'],\n",
       " [1.9279980336019387, 20230410, 'USD'],\n",
       " [1.9279981990048278, 20230411, 'USD'],\n",
       " [1.9279980024212588, 20230412, 'USD'],\n",
       " [1.9279979933688034, 20230413, 'USD'],\n",
       " [1.9279979531356681, 20230414, 'USD'],\n",
       " [1.9279980496951927, 20230415, 'USD'],\n",
       " [1.9279979863280048, 20230416, 'USD'],\n",
       " [1.9516757935772657, 20230417, 'USD'],\n",
       " [1.632e-06, 20230420, 'USD'],\n",
       " [1.3184e-05, 20230421, 'USD'],\n",
       " [0.23043020450235638, 20230422, 'USD'],\n",
       " [2.344589652566969, 20230423, 'USD'],\n",
       " [2.343072923380461, 20230424, 'USD'],\n",
       " [1.9532765839262187, 20230425, 'USD'],\n",
       " [0.13868817204301076, 20230426, 'USD'],\n",
       " [0.832129032258065, 20230427, 'USD'],\n",
       " [0.5200806451612905, 20230428, 'USD']]"
      ]
     },
     "execution_count": 4,
     "metadata": {},
     "output_type": "execute_result"
    }
   ],
   "source": [
    "query.rows"
   ]
  },
  {
   "cell_type": "markdown",
   "id": "efc380d5",
   "metadata": {},
   "source": [
    "We can use the same type of query construction to return forecasts of usage instead of actual usage. The only difference is we need to use the `ForecastDefinition` class instead of the `QueryDefinition`. For more information, see the [ForecastDefinition class](https://learn.microsoft.com/en-us/python/api/azure-mgmt-costmanagement/azure.mgmt.costmanagement.models.forecastdefinition?view=azure-python)."
   ]
  },
  {
   "cell_type": "code",
   "execution_count": 12,
   "id": "67a72771",
   "metadata": {},
   "outputs": [
    {
     "name": "stderr",
     "output_type": "stream",
     "text": [
      "Datetime with no tzinfo will be considered UTC.\n",
      "Datetime with no tzinfo will be considered UTC.\n"
     ]
    }
   ],
   "source": [
    "query = cm_client.forecast.usage(\n",
    "    # Subscription scope\n",
    "    scope=f'/subscriptions/{AZURE_SUBSCRIPTION_ID}',\n",
    "    parameters=ForecastDefinition(\n",
    "        # Get usage data\n",
    "        type='Usage',\n",
    "        # Custom time frame\n",
    "        timeframe='Custom',\n",
    "        # Last days in May 2023\n",
    "        time_period=QueryTimePeriod(\n",
    "            from_property=datetime.datetime(2023, 5, 22),\n",
    "            to=datetime.datetime(2023, 5, 31)\n",
    "        ),\n",
    "        # Data to return\n",
    "        dataset=QueryDataset(\n",
    "            # Daily granularity\n",
    "            granularity='Daily',\n",
    "            # Sum the pre-tax cost and alias to 'totalCost'\n",
    "            aggregation={\n",
    "                'totalCost': QueryAggregation(name='PreTaxCost', function='Sum')\n",
    "            }\n",
    "        )\n",
    "    )\n",
    ")"
   ]
  },
  {
   "cell_type": "markdown",
   "id": "5e2e0f17",
   "metadata": {},
   "source": [
    "Now we can look at the returned data."
   ]
  },
  {
   "cell_type": "code",
   "execution_count": 13,
   "id": "e5e31095",
   "metadata": {},
   "outputs": [
    {
     "data": {
      "text/plain": [
       "[[0.0, 20230522, 'Forecast', 'USD'],\n",
       " [0.0, 20230523, 'Forecast', 'USD'],\n",
       " [0.0, 20230524, 'Forecast', 'USD'],\n",
       " [0.0, 20230525, 'Forecast', 'USD'],\n",
       " [0.0, 20230526, 'Forecast', 'USD'],\n",
       " [0.0, 20230527, 'Forecast', 'USD'],\n",
       " [0.0, 20230528, 'Forecast', 'USD'],\n",
       " [0.0, 20230529, 'Forecast', 'USD'],\n",
       " [0.0, 20230530, 'Forecast', 'USD'],\n",
       " [0.0, 20230531, 'Forecast', 'USD']]"
      ]
     },
     "execution_count": 13,
     "metadata": {},
     "output_type": "execute_result"
    }
   ],
   "source": [
    "query.rows"
   ]
  },
  {
   "cell_type": "markdown",
   "id": "72150632",
   "metadata": {},
   "source": [
    "We can also automate some of our cost management or analysis with exports of our cost data. Let's see the exports we've got set up already. There might not be anything there."
   ]
  },
  {
   "cell_type": "code",
   "execution_count": 5,
   "id": "1986ab9d",
   "metadata": {},
   "outputs": [],
   "source": [
    "exports = cm_client.exports.list(scope=f'/subscriptions/{AZURE_SUBSCRIPTION_ID}/')"
   ]
  },
  {
   "cell_type": "code",
   "execution_count": 8,
   "id": "bb2dcc99",
   "metadata": {},
   "outputs": [
    {
     "data": {
      "text/plain": [
       "{'value': []}"
      ]
     },
     "execution_count": 8,
     "metadata": {},
     "output_type": "execute_result"
    }
   ],
   "source": [
    "exports.as_dict()"
   ]
  },
  {
   "cell_type": "markdown",
   "id": "6ff616d0",
   "metadata": {},
   "source": [
    "Now let's create a new export. The process involves similar types of parameters to what we saw with the usage and forecast queries.\n",
    "\n",
    "* `scope` - Scope for the export. Can be subscription, resource group, billing group, etc.\n",
    "* `export_name` - Name for the cost export to be scheduled\n",
    "* `parameters` - Parameters from an `Export` object.\n",
    "\n",
    "The `Export` object has the following parameters:\n",
    "\n",
    "* `format` - Format for the cost export, 'Csv' is the only option right now\n",
    "* `delivery_info` - An `ExportDeliveryInfo` object. For the full list of parameters, see [ExportDeliveryInfo class](https://learn.microsoft.com/en-us/python/api/azure-mgmt-costmanagement/azure.mgmt.costmanagement.models.exportdeliveryinfo?view=azure-python)\n",
    "    * `destination` - An `ExportDeliveryDestination` object. For the full list of parameters, see [ExportDeliveryDestination class](https://learn.microsoft.com/en-us/python/api/azure-mgmt-costmanagement/azure.mgmt.costmanagement.models.exportdeliverydestination?view=azure-python)\n",
    "* `definition` - An `ExportDefinition` object. For the full list of parameters, see [ExportDefinition class](https://learn.microsoft.com/en-us/python/api/azure-mgmt-costmanagement/azure.mgmt.costmanagement.models.exportdefinition?view=azure-python)\n",
    "* `schedule` - An `ExportSchedule` object. For the full list of parameters, see [ExportSchedule class](https://learn.microsoft.com/en-us/python/api/azure-mgmt-costmanagement/azure.mgmt.costmanagement.models.exportschedule?view=azure-python)\n",
    "\n",
    "For the full list, see the [Export class](https://learn.microsoft.com/en-us/python/api/azure-mgmt-costmanagement/azure.mgmt.costmanagement.models.export?view=azure-python)."
   ]
  },
  {
   "cell_type": "code",
   "execution_count": 12,
   "id": "1f2b587a",
   "metadata": {},
   "outputs": [
    {
     "name": "stderr",
     "output_type": "stream",
     "text": [
      "Datetime with no tzinfo will be considered UTC.\n",
      "Datetime with no tzinfo will be considered UTC.\n"
     ]
    }
   ],
   "source": [
    "new_export = cm_client.exports.create_or_update(\n",
    "    scope=f'/subscriptions/{AZURE_SUBSCRIPTION_ID}/',\n",
    "    export_name='bens-export',\n",
    "    parameters=Export(\n",
    "        format='Csv',\n",
    "        delivery_info=ExportDeliveryInfo(\n",
    "            destination=ExportDeliveryDestination(\n",
    "                resource_id='<insert resource id>',\n",
    "                container='bens-blob-container',\n",
    "                root_folder_path=''\n",
    "            )\n",
    "        ),\n",
    "        definition=ExportDefinition(\n",
    "            type=\"ActualCost\",\n",
    "            timeframe=\"MonthToDate\"\n",
    "        ),\n",
    "        schedule=ExportSchedule(\n",
    "            status=\"Active\",\n",
    "            recurrence=\"Monthly\",\n",
    "            recurrence_period=ExportRecurrencePeriod(\n",
    "                from_property=datetime.datetime(2023, 5, 23),\n",
    "                to=datetime.datetime(2023, 12, 31)\n",
    "            )\n",
    "        )\n",
    "    )\n",
    ")"
   ]
  },
  {
   "cell_type": "code",
   "execution_count": 16,
   "id": "6a332d63",
   "metadata": {},
   "outputs": [
    {
     "data": {
      "text/plain": [
       "{'status': 'Active',\n",
       " 'recurrence': 'Monthly',\n",
       " 'recurrence_period': {'from_property': '2023-05-23T00:00:00.000Z',\n",
       "  'to': '2023-12-31T00:00:00.000Z'}}"
      ]
     },
     "execution_count": 16,
     "metadata": {},
     "output_type": "execute_result"
    }
   ],
   "source": [
    "new_export.schedule.as_dict()"
   ]
  }
 ],
 "metadata": {
  "kernelspec": {
   "display_name": "Python 3 (ipykernel)",
   "language": "python",
   "name": "python3"
  },
  "language_info": {
   "codemirror_mode": {
    "name": "ipython",
    "version": 3
   },
   "file_extension": ".py",
   "mimetype": "text/x-python",
   "name": "python",
   "nbconvert_exporter": "python",
   "pygments_lexer": "ipython3",
   "version": "3.8.10"
  }
 },
 "nbformat": 4,
 "nbformat_minor": 5
}
