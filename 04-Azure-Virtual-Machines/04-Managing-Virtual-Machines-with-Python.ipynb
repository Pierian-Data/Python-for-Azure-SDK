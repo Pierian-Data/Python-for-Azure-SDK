{
 "cells": [
  {
   "cell_type": "markdown",
   "id": "1c50c8fc",
   "metadata": {},
   "source": [
    "<a href = \"https://www.pieriantraining.com\"><img src=\"../PT Centered Purple.png\"> </a>\n",
    "\n",
    "<em style=\"text-align:center\">Copyrighted by Pierian Training</em>\n",
    "\n",
    "\n",
    "# Managing Virtual Machines with Python\n",
    "\n",
    "## Azure Actions Covered\n",
    "\n",
    "* Listing virtual machines, subnets, virtual nets, disks, and public IP addresses\n",
    "* Powering on and powering off virtual machines\n",
    "* Deleting virtual machines, subnets, virtual nets, disks, and public IP addresses\n",
    "\n",
    "In this lecture, we're going to take a look at how to manage virtual machines via the Python SDK.\n",
    "\n",
    "To begin, we'll need to import our usual libraries as well as any useful environment variables (e.g. `AZURE_SUBSCRIPTION_ID`). We'll add some new imports as well."
   ]
  },
  {
   "cell_type": "code",
   "execution_count": 1,
   "id": "c2873178",
   "metadata": {},
   "outputs": [],
   "source": [
    "from azure.identity import AzureCliCredential\n",
    "from azure.mgmt.compute import ComputeManagementClient\n",
    "from azure.mgmt.network import NetworkManagementClient\n",
    "\n",
    "from settings import AZURE_SUBSCRIPTION_ID, DEFAULT_LOCATION, DEFAULT_RESOURCE_GROUP"
   ]
  },
  {
   "cell_type": "markdown",
   "id": "37b321ba",
   "metadata": {},
   "source": [
    "We'll instantiate our credential as well as our network and compute management clients."
   ]
  },
  {
   "cell_type": "code",
   "execution_count": 2,
   "id": "918295d7",
   "metadata": {},
   "outputs": [],
   "source": [
    "credential = AzureCliCredential()\n",
    "compute_client = ComputeManagementClient(credential, AZURE_SUBSCRIPTION_ID)\n",
    "network_client = NetworkManagementClient(credential, AZURE_SUBSCRIPTION_ID)"
   ]
  },
  {
   "cell_type": "markdown",
   "id": "79338e5d",
   "metadata": {},
   "source": [
    "## Virtual Machines\n",
    "\n",
    "Let's list all of our virtual machines, regardless of resource group."
   ]
  },
  {
   "cell_type": "code",
   "execution_count": 4,
   "id": "e0adaace",
   "metadata": {},
   "outputs": [
    {
     "name": "stdout",
     "output_type": "stream",
     "text": [
      "test-vm\n"
     ]
    }
   ],
   "source": [
    "for vm in compute_client.virtual_machines.list_all():\n",
    "    print(vm.name)"
   ]
  },
  {
   "cell_type": "markdown",
   "id": "706e7eae",
   "metadata": {},
   "source": [
    "We can also list virtual machines by specific resource group."
   ]
  },
  {
   "cell_type": "code",
   "execution_count": 5,
   "id": "31d494ab",
   "metadata": {},
   "outputs": [
    {
     "name": "stdout",
     "output_type": "stream",
     "text": [
      "test-vm\n"
     ]
    }
   ],
   "source": [
    "for vm in compute_client.virtual_machines.list(DEFAULT_RESOURCE_GROUP):\n",
    "    print(vm.name)"
   ]
  },
  {
   "cell_type": "markdown",
   "id": "b43eeb27",
   "metadata": {},
   "source": [
    "We can power down virtual machines when they're not in use using `begin_power_off()`."
   ]
  },
  {
   "cell_type": "code",
   "execution_count": 7,
   "id": "63d19fef",
   "metadata": {},
   "outputs": [],
   "source": [
    "poller = compute_client.virtual_machines.begin_power_off(\n",
    "    resource_group=DEFAULT_RESOURCE_GROUP,\n",
    "    vm_name='test-vm'\n",
    ")"
   ]
  },
  {
   "cell_type": "markdown",
   "id": "31f3b5a6",
   "metadata": {},
   "source": [
    "To check the current status of our VM, can use the `instance_view()` method."
   ]
  },
  {
   "cell_type": "code",
   "execution_count": 18,
   "id": "d43cdfc5",
   "metadata": {},
   "outputs": [],
   "source": [
    "vm = compute_client.virtual_machines.instance_view(\n",
    "    resource_group_name=DEFAULT_RESOURCE_GROUP, \n",
    "    vm_name='test-vm'\n",
    ")\n",
    "print([status.display_status for status in vm.statuses])"
   ]
  },
  {
   "cell_type": "markdown",
   "id": "ad212ff1",
   "metadata": {},
   "source": [
    "To start the VM back up, we can use `begin_start()`."
   ]
  },
  {
   "cell_type": "code",
   "execution_count": 23,
   "id": "537535d4",
   "metadata": {},
   "outputs": [],
   "source": [
    "poller = compute_client.virtual_machines.begin_start(\n",
    "    resource_group_name=DEFAULT_RESOURCE_GROUP,\n",
    "    vm_name='test-vm'\n",
    ")"
   ]
  },
  {
   "cell_type": "markdown",
   "id": "8fad99dc",
   "metadata": {},
   "source": [
    "Let's check to make sure the VM is running again."
   ]
  },
  {
   "cell_type": "code",
   "execution_count": 26,
   "id": "5089219b",
   "metadata": {},
   "outputs": [],
   "source": [
    "vm = compute_client.virtual_machines.instance_view(\n",
    "    resource_group_name=DEFAULT_RESOURCE_GROUP,\n",
    "    vm_name='test-vm'\n",
    ")\n",
    "print([status.display_status for status in vm.statuses])"
   ]
  },
  {
   "cell_type": "markdown",
   "id": "360e618f",
   "metadata": {},
   "source": [
    "Instead of stopping and starting the VM, we can also just call the `begin_restart()` method."
   ]
  },
  {
   "cell_type": "code",
   "execution_count": 29,
   "id": "606d8d73",
   "metadata": {},
   "outputs": [],
   "source": [
    "poller = compute_client.virtual_machines.begin_restart(\n",
    "    resource_group_name=DEFAULT_RESOURCE_GROUP,\n",
    "    vm_name='test-vm'\n",
    ")"
   ]
  },
  {
   "cell_type": "markdown",
   "id": "85b57caf",
   "metadata": {},
   "source": [
    "Finally, we can delete our virtual machine."
   ]
  },
  {
   "cell_type": "code",
   "execution_count": 33,
   "id": "5a8496a3",
   "metadata": {},
   "outputs": [],
   "source": [
    "poller = compute_client.virtual_machines.begin_delete(\n",
    "    resource_group_name=DEFAULT_RESOURCE_GROUP,\n",
    "    vm_name='test-vm'\n",
    ")\n",
    "result = poller.result()"
   ]
  },
  {
   "cell_type": "markdown",
   "id": "e9d741d4",
   "metadata": {},
   "source": [
    "## Network Interfaces\n",
    "\n",
    "We can list all network interface clients or list them by resource group, like we did with our virtual machines."
   ]
  },
  {
   "cell_type": "code",
   "execution_count": 35,
   "id": "44b40934",
   "metadata": {},
   "outputs": [
    {
     "name": "stdout",
     "output_type": "stream",
     "text": [
      "test-nic\n"
     ]
    }
   ],
   "source": [
    "for nic in network_client.network_interfaces.list_all():\n",
    "    print(nic.name)"
   ]
  },
  {
   "cell_type": "code",
   "execution_count": 36,
   "id": "4c15aee3",
   "metadata": {},
   "outputs": [
    {
     "name": "stdout",
     "output_type": "stream",
     "text": [
      "test-nic\n"
     ]
    }
   ],
   "source": [
    "for nic in network_client.network_interfaces.list(DEFAULT_RESOURCE_GROUP):\n",
    "    print(nic.name)"
   ]
  },
  {
   "cell_type": "markdown",
   "id": "81d32b14",
   "metadata": {},
   "source": [
    "We can delete our NIC as well, since we no longer have a VM."
   ]
  },
  {
   "cell_type": "code",
   "execution_count": 37,
   "id": "2d8cbe4e",
   "metadata": {},
   "outputs": [],
   "source": [
    "poller = network_client.network_interfaces.begin_delete(\n",
    "    resource_group_name=DEFAULT_RESOURCE_GROUP,\n",
    "    network_interface_name='test-nic'\n",
    ")\n",
    "result = poller.result()"
   ]
  },
  {
   "cell_type": "markdown",
   "id": "fcd262f8",
   "metadata": {},
   "source": [
    "## Public IP Addresses\n",
    "\n",
    "Much of the same functionality is available for public IP addresses that we've created as well."
   ]
  },
  {
   "cell_type": "code",
   "execution_count": 39,
   "id": "d8edc794",
   "metadata": {},
   "outputs": [
    {
     "name": "stdout",
     "output_type": "stream",
     "text": [
      "vm-test-ip\n"
     ]
    }
   ],
   "source": [
    "for ip in network_client.public_ip_addresses.list_all():\n",
    "    print(ip.name)"
   ]
  },
  {
   "cell_type": "code",
   "execution_count": 40,
   "id": "35ce682e",
   "metadata": {},
   "outputs": [],
   "source": [
    "poller = network_client.public_ip_addresses.begin_delete(\n",
    "    DEFAULT_RESOURCE_GROUP,\n",
    "    'vm-test-ip'\n",
    ")"
   ]
  },
  {
   "cell_type": "markdown",
   "id": "65903a12",
   "metadata": {},
   "source": [
    "## Subnets\n",
    "\n",
    "We can list and then delete our subnet on our virtual network."
   ]
  },
  {
   "cell_type": "code",
   "execution_count": 42,
   "id": "edf2261d",
   "metadata": {},
   "outputs": [
    {
     "name": "stdout",
     "output_type": "stream",
     "text": [
      "test-subnet\n"
     ]
    }
   ],
   "source": [
    "for s in network_client.subnets.list(DEFAULT_RESOURCE_GROUP, 'test-vnet'):\n",
    "    print(s.name)"
   ]
  },
  {
   "cell_type": "code",
   "execution_count": 45,
   "id": "bec8cba4",
   "metadata": {},
   "outputs": [],
   "source": [
    "poller = network_client.subnets.begin_delete(\n",
    "    resource_group_name=DEFAULT_RESOURCE_GROUP,\n",
    "    virtual_network_name='test-vnet',\n",
    "    subnet_name='test-subnet'\n",
    ")"
   ]
  },
  {
   "cell_type": "code",
   "execution_count": 46,
   "id": "ad220086",
   "metadata": {},
   "outputs": [],
   "source": [
    "for s in network_client.subnets.list(DEFAULT_RESOURCE_GROUP, 'test-vnet'):\n",
    "    print(s.name)"
   ]
  },
  {
   "cell_type": "markdown",
   "id": "397f8833",
   "metadata": {},
   "source": [
    "## Virtual Networks\n",
    "\n",
    "Finally, we interact with our virtual networks by listing or deleting them as well."
   ]
  },
  {
   "cell_type": "code",
   "execution_count": 43,
   "id": "7d146eed",
   "metadata": {},
   "outputs": [
    {
     "name": "stdout",
     "output_type": "stream",
     "text": [
      "test-vnet\n"
     ]
    }
   ],
   "source": [
    "for network in network_client.virtual_networks.list_all():\n",
    "    print(network.name)"
   ]
  },
  {
   "cell_type": "code",
   "execution_count": 47,
   "id": "49ab8edc",
   "metadata": {},
   "outputs": [],
   "source": [
    "poller = network_client.virtual_networks.begin_delete(\n",
    "    resource_group_name=DEFAULT_RESOURCE_GROUP,\n",
    "    virtual_network_name='test-vnet'\n",
    ")"
   ]
  },
  {
   "cell_type": "markdown",
   "id": "cbb6fd14",
   "metadata": {},
   "source": [
    "## Disks\n",
    "\n",
    "In Azure, disks may be created and attached to your virtual machine when it's created. We can list and delete these to fully clean up our environment."
   ]
  },
  {
   "cell_type": "code",
   "execution_count": 48,
   "id": "c41c29b8",
   "metadata": {},
   "outputs": [
    {
     "name": "stdout",
     "output_type": "stream",
     "text": [
      "test-vm_OsDisk_1_14f4c7da54df4c8195165e95fda8f5c8\n"
     ]
    }
   ],
   "source": [
    "for disk in compute_client.disks.list_by_resource_group(DEFAULT_RESOURCE_GROUP):\n",
    "    print(disk.name)"
   ]
  },
  {
   "cell_type": "code",
   "execution_count": 49,
   "id": "e622d64d",
   "metadata": {},
   "outputs": [],
   "source": [
    "poller = compute_client.disks.begin_delete(\n",
    "    resource_group_name=DEFAULT_RESOURCE_GROUP,\n",
    "    disk_name='test-vm_OsDisk_1_14f4c7da54df4c8195165e95fda8f5c8'\n",
    ")"
   ]
  }
 ],
 "metadata": {
  "kernelspec": {
   "display_name": "Python 3 (ipykernel)",
   "language": "python",
   "name": "python3"
  },
  "language_info": {
   "codemirror_mode": {
    "name": "ipython",
    "version": 3
   },
   "file_extension": ".py",
   "mimetype": "text/x-python",
   "name": "python",
   "nbconvert_exporter": "python",
   "pygments_lexer": "ipython3",
   "version": "3.8.10"
  }
 },
 "nbformat": 4,
 "nbformat_minor": 5
}
