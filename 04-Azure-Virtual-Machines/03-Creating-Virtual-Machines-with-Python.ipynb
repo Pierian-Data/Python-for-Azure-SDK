{
 "cells": [
  {
   "cell_type": "markdown",
   "id": "1c50c8fc",
   "metadata": {},
   "source": [
    "<a href = \"https://www.pieriantraining.com\"><img src=\"../PT Centered Purple.png\"> </a>\n",
    "\n",
    "<em style=\"text-align:center\">Copyrighted by Pierian Training</em>\n",
    "\n",
    "\n",
    "# Creating Virtual Machines with Python\n",
    "\n",
    "## Azure Actions Covered\n",
    "\n",
    "* Creating a virtual network\n",
    "* Creating a subnet\n",
    "* Creating a public IP address\n",
    "* Creating a network interface client (NIC)\n",
    "* Creating a virtual machine\n",
    "\n",
    "In this lecture, we're going to take a look at how to create virtual machines via the Python SDK.\n",
    "\n",
    "To begin, we'll need to import our usual libraries as well as any useful environment variables (e.g. `AZURE_SUBSCRIPTION_ID`). We'll add some new imports as well."
   ]
  },
  {
   "cell_type": "code",
   "execution_count": 1,
   "id": "c2873178",
   "metadata": {},
   "outputs": [],
   "source": [
    "from azure.identity import AzureCliCredential\n",
    "# New imports import the Compute and Network management clients\n",
    "from azure.mgmt.compute import ComputeManagementClient\n",
    "from azure.mgmt.network import NetworkManagementClient\n",
    "\n",
    "from settings import AZURE_SUBSCRIPTION_ID, DEFAULT_LOCATION, DEFAULT_RESOURCE_GROUP"
   ]
  },
  {
   "cell_type": "markdown",
   "id": "8fef268c",
   "metadata": {},
   "source": [
    "We'll instantiate our credential as well as our network client. We'll need the compute client later to create the virtual machine, so we can instantiate it here as well."
   ]
  },
  {
   "cell_type": "code",
   "execution_count": 2,
   "id": "918295d7",
   "metadata": {},
   "outputs": [],
   "source": [
    "credential = AzureCliCredential()\n",
    "compute_client = ComputeManagementClient(credential, AZURE_SUBSCRIPTION_ID)\n",
    "network_client = NetworkManagementClient(credential, AZURE_SUBSCRIPTION_ID)"
   ]
  },
  {
   "cell_type": "markdown",
   "id": "0af34866",
   "metadata": {},
   "source": [
    "We'll store constants that need to be used at various points in setting up the VMs, like we saw in the previous lecture on the Azure CLI. These include:\n",
    "* Virtual net name\n",
    "* Subnet name\n",
    "* Public IP name\n",
    "* Network interface client (NIC) name\n",
    "* Virtual machine name\n",
    "\n",
    "We'll instantiate some of these names when we first use them, so let's just set the virtual net and subnet names."
   ]
  },
  {
   "cell_type": "code",
   "execution_count": 3,
   "id": "31d494ab",
   "metadata": {},
   "outputs": [],
   "source": [
    "VNET_NAME = 'test-vnet'\n",
    "SUBNET_NAME = 'test-subnet'"
   ]
  },
  {
   "cell_type": "markdown",
   "id": "e8adb022",
   "metadata": {},
   "source": [
    "As in the CLI lecture, we have to first create a virtual network using the `begin_create_or_update()` method. For full list of parameters, see [VirtualNetwork class](https://learn.microsoft.com/en-us/python/api/azure-mgmt-network/azure.mgmt.network.v2022_05_01.models.virtualnetwork?view=azure-python)."
   ]
  },
  {
   "cell_type": "code",
   "execution_count": 5,
   "id": "b5cffc70",
   "metadata": {},
   "outputs": [],
   "source": [
    "poller = network_client.virtual_networks.begin_create_or_update(\n",
    "    resource_group_name=DEFAULT_RESOURCE_GROUP,\n",
    "    virtual_network_name=VNET_NAME,\n",
    "    parameters={\n",
    "        'location': DEFAULT_LOCATION,\n",
    "        'address_space': {\n",
    "            'address_prefixes': ['10.0.0.0/16'],\n",
    "        }\n",
    "    }\n",
    ")\n",
    "result = poller.result()"
   ]
  },
  {
   "cell_type": "markdown",
   "id": "f35158ae",
   "metadata": {},
   "source": [
    "Let's check that our virtual network has been created successfullly."
   ]
  },
  {
   "cell_type": "code",
   "execution_count": 13,
   "id": "68d32011",
   "metadata": {},
   "outputs": [
    {
     "data": {
      "text/plain": [
       "'Succeeded'"
      ]
     },
     "execution_count": 13,
     "metadata": {},
     "output_type": "execute_result"
    }
   ],
   "source": [
    "result.provisioning_state"
   ]
  },
  {
   "cell_type": "markdown",
   "id": "dbd9119e",
   "metadata": {},
   "source": [
    "Next, we need to create the subnet using a similar `begin_create_or_update()` method. For the full list of subnet parameters, see [Subnet class](https://learn.microsoft.com/en-us/python/api/azure-mgmt-network/azure.mgmt.network.v2022_05_01.models.subnet?view=azure-python)."
   ]
  },
  {
   "cell_type": "code",
   "execution_count": 14,
   "id": "d10587e9",
   "metadata": {},
   "outputs": [],
   "source": [
    "poller = network_client.subnets.begin_create_or_update(\n",
    "    resource_group_name=DEFAULT_RESOURCE_GROUP,\n",
    "    virtual_network_name=VNET_NAME,\n",
    "    subnet_name=SUBNET_NAME,\n",
    "    subnet_parameters={\n",
    "        'address_prefix': '10.0.0.0/24'\n",
    "    }\n",
    ")\n",
    "subnet_result = poller.result()"
   ]
  },
  {
   "cell_type": "markdown",
   "id": "a8bfa7b3",
   "metadata": {},
   "source": [
    "We can use the `provisioning_state` attribute to check the subnet was created succesfully."
   ]
  },
  {
   "cell_type": "code",
   "execution_count": 15,
   "id": "606d8d73",
   "metadata": {},
   "outputs": [
    {
     "data": {
      "text/plain": [
       "'Succeeded'"
      ]
     },
     "execution_count": 15,
     "metadata": {},
     "output_type": "execute_result"
    }
   ],
   "source": [
    "subnet_result.provisioning_state"
   ]
  },
  {
   "cell_type": "markdown",
   "id": "4529eb7b",
   "metadata": {},
   "source": [
    "Once the virtual network and subnet have been created, we can create the public IP address. Let's store the name in a variable, because we'll need it later. You can specify public IP address parameters such as:\n",
    "* `location` - Azure location for the public IP address\n",
    "* `sku` - SKU name for public IP address\n",
    "* `public_ip_allocation_method` - Can be `Static` or `Dynamic`\n",
    "* `public_ip_address_version` - Can be `IPV4` or `IPV6`\n",
    "\n",
    "For the full list of parameters, see [PublicIPAddress class](https://learn.microsoft.com/en-us/python/api/azure-mgmt-network/azure.mgmt.network.v2022_05_01.models.publicipaddress?view=azure-python)."
   ]
  },
  {
   "cell_type": "code",
   "execution_count": 16,
   "id": "a7b0bb34",
   "metadata": {},
   "outputs": [],
   "source": [
    "IP_NAME = 'vm-test-ip'\n",
    "poller = network_client.public_ip_addresses.begin_create_or_update(\n",
    "    resource_group_name=DEFAULT_RESOURCE_GROUP,\n",
    "    public_ip_address_name=IP_NAME,\n",
    "    parameters={\n",
    "        'location': DEFAULT_LOCATION,\n",
    "        'sku': {'name': 'Standard'},\n",
    "        'public_ip_allocation_method': 'Static',\n",
    "        'public_ip_address_version': 'IPV4'\n",
    "    }\n",
    ")\n",
    "ip_address_result = poller.result()"
   ]
  },
  {
   "cell_type": "markdown",
   "id": "003fc2df",
   "metadata": {},
   "source": [
    "Once the poller returns the result, we can verify the name as well as the public IP address that was created."
   ]
  },
  {
   "cell_type": "code",
   "execution_count": 17,
   "id": "44b40934",
   "metadata": {},
   "outputs": [
    {
     "data": {
      "text/plain": [
       "'vm-test-ip'"
      ]
     },
     "execution_count": 17,
     "metadata": {},
     "output_type": "execute_result"
    }
   ],
   "source": [
    "print(f'Public IP address name: {ip_address_result.name}')\n",
    "print(f'Public IP address: {ip_address_result.ip_address}')"
   ]
  },
  {
   "cell_type": "markdown",
   "id": "fa842aa0",
   "metadata": {},
   "source": [
    "The last thing to do before we can create our VM is create the network interface client (NIC). In the parameters, you can specify:\n",
    "* `location` - Azure location for NIC\n",
    "* `ip_configurations` - Specify configurations for NIC, such as:\n",
    "    * `name` - Name for the IP configuration.\n",
    "    * `subnet` - Information on the relevant subnet, which can be pulled from the returned subnet object.\n",
    "    * `public_ip_address` - Information on the relevant public IP address, which can be pulled from the returned IP address object.\n",
    "    \n",
    "For the full list of parameters, see [NetworkInterface class](https://learn.microsoft.com/en-us/python/api/azure-mgmt-network/azure.mgmt.network.v2022_05_01.models.networkinterface?view=azure-python)."
   ]
  },
  {
   "cell_type": "code",
   "execution_count": 22,
   "id": "b0d4835a",
   "metadata": {},
   "outputs": [],
   "source": [
    "NIC_NAME = 'test-nic'\n",
    "poller = network_client.network_interfaces.begin_create_or_update(\n",
    "    resource_group_name=DEFAULT_RESOURCE_GROUP,\n",
    "    network_interface_name=NIC_NAME,\n",
    "    parameters={\n",
    "        'location': DEFAULT_LOCATION,\n",
    "        'ip_configurations': [\n",
    "            {\n",
    "                'name': 'test-ip-config',\n",
    "                'subnet': {'id': subnet_result.id},\n",
    "                'public_ip_address': {'id': ip_address_result.id}\n",
    "            }\n",
    "        ]\n",
    "    }\n",
    ")\n",
    "nic_result = poller.result()"
   ]
  },
  {
   "cell_type": "markdown",
   "id": "0867cc6c",
   "metadata": {},
   "source": [
    "Again, we can verify the creation of the NIC from the returned object."
   ]
  },
  {
   "cell_type": "code",
   "execution_count": 23,
   "id": "90d50a1d",
   "metadata": {},
   "outputs": [
    {
     "data": {
      "text/plain": [
       "'test-nic'"
      ]
     },
     "execution_count": 23,
     "metadata": {},
     "output_type": "execute_result"
    }
   ],
   "source": [
    "nic_result.name"
   ]
  },
  {
   "cell_type": "markdown",
   "id": "363e531c",
   "metadata": {},
   "source": [
    "Finally, we can use our `ComputeManagementClient` to create the virtual machine. The `parameters` section is where we can specify various parts of our VM, including:\n",
    "* `storage_profile` - Section for specifying storage parameters of the VM. For full list of parameters, see [StorageProfile class](https://learn.microsoft.com/en-us/python/api/azure-mgmt-compute/azure.mgmt.compute.v2022_08_01.models.storageprofile?view=azure-python)\n",
    "    * `image_reference` - Section for specifying VM image parameters. For full list, see [ImageReference class](https://learn.microsoft.com/en-us/python/api/azure-mgmt-compute/azure.mgmt.compute.v2022_08_01.models.imagereference?view=azure-python)\n",
    "* `hardware_profile` - Section for specifying hardware parameters. For full list of parameters, see [HardwareProfile class](https://learn.microsoft.com/en-us/python/api/azure-mgmt-compute/azure.mgmt.compute.v2022_08_01.models.hardwareprofile?view=azure-python)\n",
    "    * `vm_size` - Size of VM to create\n",
    "* `os_profile` - Section for specifying OS options (**note:** these are for administration, `storage_profile` is for setting the name, version, etc. of the OS). For full list of parameters, see [OSProfile class](https://learn.microsoft.com/en-us/python/api/azure-mgmt-compute/azure.mgmt.compute.v2022_08_01.models.osprofile?view=azure-python)\n",
    "    * `computer_name` - Host name for the OS\n",
    "    * `admin_username` - User name of the admin user\n",
    "    * `admin_password` - Password for the admin user\n",
    "* `network_profile` - This is where you can include information on the NIC to create the virtual machine. For a full list of parameters, see [NetworkProfile class](https://learn.microsoft.com/en-us/python/api/azure-mgmt-compute/azure.mgmt.compute.v2022_08_01.models.networkprofile?view=azure-python)\n",
    "\n",
    "For the full list of VM parameters, see the [VirtualMachine class](https://learn.microsoft.com/en-us/python/api/azure-mgmt-compute/azure.mgmt.compute.v2022_08_01.models.virtualmachine?view=azure-python)"
   ]
  },
  {
   "cell_type": "code",
   "execution_count": 29,
   "id": "0ae32d38",
   "metadata": {},
   "outputs": [],
   "source": [
    "VM_NAME = 'test-vm'\n",
    "poller = compute_client.virtual_machines.begin_create_or_update(\n",
    "    resource_group_name=DEFAULT_RESOURCE_GROUP,\n",
    "    vm_name=VM_NAME,\n",
    "    parameters={\n",
    "        'location': DEFAULT_LOCATION,\n",
    "        # Storage profile\n",
    "        'storage_profile': {\n",
    "            'image_reference': {\n",
    "                'publisher': 'Canonical',\n",
    "                'offer': 'UbuntuServer',\n",
    "                'sku': '18.04-LTS',\n",
    "                'version': 'latest'\n",
    "            }\n",
    "        },\n",
    "        # Hardware profile\n",
    "        'hardware_profile': {\n",
    "            'vm_size': 'Standard_A2_v2'\n",
    "        },\n",
    "        # Operating system profile\n",
    "        'os_profile': {\n",
    "            'computer_name': VM_NAME,\n",
    "            'admin_username': 'testuser',\n",
    "            'admin_password': 'testpassword123!'\n",
    "        },\n",
    "        # Network profile\n",
    "        'network_profile': {\n",
    "            'network_interfaces': [\n",
    "                {'id': nic_result.id}\n",
    "            ]\n",
    "        }\n",
    "    }\n",
    ")\n",
    "vm_result = poller.result()"
   ]
  },
  {
   "cell_type": "markdown",
   "id": "24d8bafe",
   "metadata": {},
   "source": [
    "Let's verify the VM was created and see some of its attributes."
   ]
  },
  {
   "cell_type": "code",
   "execution_count": 30,
   "id": "d3a8472a",
   "metadata": {},
   "outputs": [
    {
     "data": {
      "text/plain": [
       "'test-vm'"
      ]
     },
     "execution_count": 30,
     "metadata": {},
     "output_type": "execute_result"
    }
   ],
   "source": [
    "vm_result.name"
   ]
  },
  {
   "cell_type": "markdown",
   "id": "f878bd2b",
   "metadata": {},
   "source": [
    "Finally, we can list all of our virtual machines to verify the creation using a different method."
   ]
  },
  {
   "cell_type": "code",
   "execution_count": 32,
   "id": "8d25f451",
   "metadata": {},
   "outputs": [
    {
     "name": "stdout",
     "output_type": "stream",
     "text": [
      "test-vm\n"
     ]
    }
   ],
   "source": [
    "for vm in compute_client.virtual_machines.list_all():\n",
    "    print(vm.name)"
   ]
  }
 ],
 "metadata": {
  "kernelspec": {
   "display_name": "Python 3 (ipykernel)",
   "language": "python",
   "name": "python3"
  },
  "language_info": {
   "codemirror_mode": {
    "name": "ipython",
    "version": 3
   },
   "file_extension": ".py",
   "mimetype": "text/x-python",
   "name": "python",
   "nbconvert_exporter": "python",
   "pygments_lexer": "ipython3",
   "version": "3.8.10"
  }
 },
 "nbformat": 4,
 "nbformat_minor": 5
}
