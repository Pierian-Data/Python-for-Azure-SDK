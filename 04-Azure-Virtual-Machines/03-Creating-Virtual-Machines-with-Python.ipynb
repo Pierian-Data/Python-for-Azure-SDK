{
 "cells": [
  {
   "cell_type": "markdown",
   "id": "1c50c8fc",
   "metadata": {},
   "source": [
    "<a href = \"https://www.pieriantraining.com\"><img src=\"../PT Centered Purple.png\"> </a>\n",
    "\n",
    "<em style=\"text-align:center\">Copyrighted by Pierian Training</em>\n",
    "\n",
    "\n",
    "# Creating Virtual Machines with Python\n",
    "\n",
    "## Azure Actions Covered\n",
    "\n",
    "* Creating virtual machines\n",
    "\n",
    "\n",
    "In this lecture, we're going to take a look at how to create virtual machines via the Python SDK.\n",
    "\n",
    "To begin, we'll need to import our usual libraries as well as any useful environment variables (e.g. `AZURE_SUBSCRIPTION_ID`). We'll add some new imports as well."
   ]
  },
  {
   "cell_type": "code",
   "execution_count": 1,
   "id": "c2873178",
   "metadata": {},
   "outputs": [],
   "source": [
    "from azure.identity import AzureCliCredential\n",
    "from azure.mgmt.compute import ComputeManagementClient\n",
    "from azure.mgmt.network import NetworkManagementClient\n",
    "from azure.mgmt.resource import ResourceManagementClient\n",
    "\n",
    "from settings import AZURE_SUBSCRIPTION_ID, DEFAULT_LOCATION, DEFAULT_RESOURCE_GROUP"
   ]
  },
  {
   "cell_type": "code",
   "execution_count": 2,
   "id": "918295d7",
   "metadata": {},
   "outputs": [],
   "source": [
    "credential = AzureCliCredential()\n",
    "resource_client = ResourceManagementClient(credential, AZURE_SUBSCRIPTION_ID)"
   ]
  },
  {
   "cell_type": "code",
   "execution_count": 3,
   "id": "31d494ab",
   "metadata": {},
   "outputs": [],
   "source": [
    "VNET_NAME = 'test-vnet'\n",
    "SUBNET_NAME = 'test-subnet'"
   ]
  },
  {
   "cell_type": "code",
   "execution_count": 4,
   "id": "e5191905",
   "metadata": {},
   "outputs": [],
   "source": [
    "network_client = NetworkManagementClient(credential, AZURE_SUBSCRIPTION_ID)"
   ]
  },
  {
   "cell_type": "code",
   "execution_count": 5,
   "id": "b5cffc70",
   "metadata": {},
   "outputs": [],
   "source": [
    "poller = network_client.virtual_networks.begin_create_or_update(\n",
    "    DEFAULT_RESOURCE_GROUP,\n",
    "    VNET_NAME,\n",
    "    {\n",
    "        'location': DEFAULT_LOCATION,\n",
    "        'address_space': {\n",
    "            'address_prefixes': ['10.0.0.0/16'],\n",
    "        }\n",
    "    }\n",
    ")"
   ]
  },
  {
   "cell_type": "code",
   "execution_count": 11,
   "id": "537535d4",
   "metadata": {},
   "outputs": [],
   "source": [
    "result = poller.result()"
   ]
  },
  {
   "cell_type": "code",
   "execution_count": 13,
   "id": "68d32011",
   "metadata": {},
   "outputs": [
    {
     "data": {
      "text/plain": [
       "'Succeeded'"
      ]
     },
     "execution_count": 13,
     "metadata": {},
     "output_type": "execute_result"
    }
   ],
   "source": [
    "result.provisioning_state"
   ]
  },
  {
   "cell_type": "code",
   "execution_count": 14,
   "id": "d10587e9",
   "metadata": {},
   "outputs": [],
   "source": [
    "poller = network_client.subnets.begin_create_or_update(\n",
    "    DEFAULT_RESOURCE_GROUP,\n",
    "    VNET_NAME,\n",
    "    SUBNET_NAME,\n",
    "    {'address_prefix': '10.0.0.0/24'}\n",
    ")\n",
    "subnet_result = poller.result()"
   ]
  },
  {
   "cell_type": "code",
   "execution_count": 15,
   "id": "606d8d73",
   "metadata": {},
   "outputs": [
    {
     "data": {
      "text/plain": [
       "'Succeeded'"
      ]
     },
     "execution_count": 15,
     "metadata": {},
     "output_type": "execute_result"
    }
   ],
   "source": [
    "subnet_result.provisioning_state"
   ]
  },
  {
   "cell_type": "code",
   "execution_count": 16,
   "id": "a7b0bb34",
   "metadata": {},
   "outputs": [],
   "source": [
    "IP_NAME = 'vm-test-ip'\n",
    "poller = network_client.public_ip_addresses.begin_create_or_update(\n",
    "    DEFAULT_RESOURCE_GROUP,\n",
    "    IP_NAME,\n",
    "    {\n",
    "        'location': DEFAULT_LOCATION,\n",
    "        'sku': {'name': 'Standard'},\n",
    "        'public_ip_allocation_method': 'Static',\n",
    "        'public_ip_address_version': 'IPV4'\n",
    "    }\n",
    ")\n",
    "ip_address_result = poller.result()"
   ]
  },
  {
   "cell_type": "code",
   "execution_count": 17,
   "id": "44b40934",
   "metadata": {},
   "outputs": [
    {
     "data": {
      "text/plain": [
       "'vm-test-ip'"
      ]
     },
     "execution_count": 17,
     "metadata": {},
     "output_type": "execute_result"
    }
   ],
   "source": [
    "ip_address_result.name"
   ]
  },
  {
   "cell_type": "code",
   "execution_count": 19,
   "id": "4c15aee3",
   "metadata": {},
   "outputs": [
    {
     "data": {
      "text/plain": [
       "'172.190.56.70'"
      ]
     },
     "execution_count": 19,
     "metadata": {},
     "output_type": "execute_result"
    }
   ],
   "source": [
    "ip_address_result.ip_address"
   ]
  },
  {
   "cell_type": "code",
   "execution_count": 22,
   "id": "b0d4835a",
   "metadata": {},
   "outputs": [],
   "source": [
    "NIC_NAME = 'test-nic'\n",
    "poller = network_client.network_interfaces.begin_create_or_update(\n",
    "    DEFAULT_RESOURCE_GROUP,\n",
    "    NIC_NAME,\n",
    "    {\n",
    "        'location': DEFAULT_LOCATION,\n",
    "        'ip_configurations': [\n",
    "            {\n",
    "                'name': 'test-ip-config',\n",
    "                'subnet': {'id': subnet_result.id},\n",
    "                'public_ip_address': {'id': ip_address_result.id}\n",
    "            }\n",
    "        ]\n",
    "    }\n",
    ")\n",
    "nic_result = poller.result()"
   ]
  },
  {
   "cell_type": "code",
   "execution_count": 23,
   "id": "90d50a1d",
   "metadata": {},
   "outputs": [
    {
     "data": {
      "text/plain": [
       "'test-nic'"
      ]
     },
     "execution_count": 23,
     "metadata": {},
     "output_type": "execute_result"
    }
   ],
   "source": [
    "nic_result.name"
   ]
  },
  {
   "cell_type": "code",
   "execution_count": 26,
   "id": "35dc1f3e",
   "metadata": {},
   "outputs": [],
   "source": [
    "compute_client = ComputeManagementClient(credential, AZURE_SUBSCRIPTION_ID)"
   ]
  },
  {
   "cell_type": "code",
   "execution_count": 29,
   "id": "0ae32d38",
   "metadata": {},
   "outputs": [],
   "source": [
    "poller = compute_client.virtual_machines.begin_create_or_update(\n",
    "    DEFAULT_RESOURCE_GROUP,\n",
    "    'test-vm',\n",
    "    {\n",
    "        'location': DEFAULT_LOCATION,\n",
    "        'storage_profile': {\n",
    "            'image_reference': {\n",
    "                'publisher': 'Canonical',\n",
    "                'offer': 'UbuntuServer',\n",
    "                'sku': '18.04-LTS',\n",
    "                'version': 'latest'\n",
    "            }\n",
    "        },\n",
    "        'hardware_profile': {'vm_size': 'Standard_A2_v2'},\n",
    "        'os_profile': {\n",
    "            'computer_name': 'test-vm',\n",
    "            'admin_username': 'testuser',\n",
    "            'admin_password': 'testpassword123!'\n",
    "        },\n",
    "        'network_profile': {\n",
    "            'network_interfaces': [\n",
    "                {'id': nic_result.id}\n",
    "            ]\n",
    "        }\n",
    "    }\n",
    ")\n",
    "vm_result = poller.result()"
   ]
  },
  {
   "cell_type": "code",
   "execution_count": 30,
   "id": "d3a8472a",
   "metadata": {},
   "outputs": [
    {
     "data": {
      "text/plain": [
       "'test-vm'"
      ]
     },
     "execution_count": 30,
     "metadata": {},
     "output_type": "execute_result"
    }
   ],
   "source": [
    "vm_result.name"
   ]
  },
  {
   "cell_type": "code",
   "execution_count": 32,
   "id": "8d25f451",
   "metadata": {},
   "outputs": [
    {
     "name": "stdout",
     "output_type": "stream",
     "text": [
      "test-vm\n"
     ]
    }
   ],
   "source": [
    "for vm in compute_client.virtual_machines.list_all():\n",
    "    print(vm.name)"
   ]
  },
  {
   "cell_type": "code",
   "execution_count": null,
   "id": "c41c29b8",
   "metadata": {},
   "outputs": [],
   "source": []
  }
 ],
 "metadata": {
  "kernelspec": {
   "display_name": "Python 3 (ipykernel)",
   "language": "python",
   "name": "python3"
  },
  "language_info": {
   "codemirror_mode": {
    "name": "ipython",
    "version": 3
   },
   "file_extension": ".py",
   "mimetype": "text/x-python",
   "name": "python",
   "nbconvert_exporter": "python",
   "pygments_lexer": "ipython3",
   "version": "3.8.10"
  }
 },
 "nbformat": 4,
 "nbformat_minor": 5
}
