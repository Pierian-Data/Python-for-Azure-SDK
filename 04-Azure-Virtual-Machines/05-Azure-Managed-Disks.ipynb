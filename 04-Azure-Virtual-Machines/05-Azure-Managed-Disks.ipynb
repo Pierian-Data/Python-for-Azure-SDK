{
 "cells": [
  {
   "cell_type": "markdown",
   "id": "1c50c8fc",
   "metadata": {},
   "source": [
    "<a href = \"https://www.pieriantraining.com\"><img src=\"../PT Centered Purple.png\"> </a>\n",
    "\n",
    "<em style=\"text-align:center\">Copyrighted by Pierian Training</em>\n",
    "\n",
    "\n",
    "# Azure Managed Disks\n",
    "\n",
    "## Azure Actions Covered\n",
    "\n",
    "* Creating virtual machines\n",
    "\n",
    "\n",
    "In this lecture, we're going to take a look at how to create virtual machines via the Python SDK.\n",
    "\n",
    "To begin, we'll need to import our usual libraries as well as any useful environment variables (e.g. `AZURE_SUBSCRIPTION_ID`). We'll add some new imports as well."
   ]
  },
  {
   "cell_type": "code",
   "execution_count": 2,
   "id": "c2873178",
   "metadata": {},
   "outputs": [],
   "source": [
    "from azure.identity import AzureCliCredential\n",
    "from azure.mgmt.compute import ComputeManagementClient\n",
    "from azure.mgmt.network import NetworkManagementClient\n",
    "from azure.mgmt.resource import ResourceManagementClient\n",
    "from azure.mgmt.compute.models import DiskCreateOption\n",
    "\n",
    "from settings import AZURE_SUBSCRIPTION_ID, DEFAULT_LOCATION, DEFAULT_RESOURCE_GROUP"
   ]
  },
  {
   "cell_type": "code",
   "execution_count": 4,
   "id": "918295d7",
   "metadata": {},
   "outputs": [],
   "source": [
    "credential = AzureCliCredential()\n",
    "resource_client = ResourceManagementClient(credential, AZURE_SUBSCRIPTION_ID)"
   ]
  },
  {
   "cell_type": "code",
   "execution_count": 5,
   "id": "c41c29b8",
   "metadata": {},
   "outputs": [],
   "source": [
    "compute_client = ComputeManagementClient(credential, AZURE_SUBSCRIPTION_ID)"
   ]
  },
  {
   "cell_type": "code",
   "execution_count": 6,
   "id": "eeb8a469",
   "metadata": {},
   "outputs": [],
   "source": [
    "poller = compute_client.disks.begin_create_or_update(\n",
    "    DEFAULT_RESOURCE_GROUP,\n",
    "    'empty-managed-disk',\n",
    "    {\n",
    "        'location': DEFAULT_LOCATION,\n",
    "        'disk_size_gb': 20,\n",
    "        'creation_data': {\n",
    "            'create_option': DiskCreateOption.empty\n",
    "        }\n",
    "    }\n",
    ")\n",
    "disk_resource = poller.result()"
   ]
  },
  {
   "cell_type": "code",
   "execution_count": 7,
   "id": "f15e6c8d",
   "metadata": {},
   "outputs": [
    {
     "data": {
      "text/plain": [
       "'Succeeded'"
      ]
     },
     "execution_count": 7,
     "metadata": {},
     "output_type": "execute_result"
    }
   ],
   "source": [
    "disk_resource.provisioning_state"
   ]
  },
  {
   "cell_type": "code",
   "execution_count": 9,
   "id": "8fe21caf",
   "metadata": {},
   "outputs": [],
   "source": [
    "vm = compute_client.virtual_machines.get(DEFAULT_RESOURCE_GROUP, 'test-vm')"
   ]
  },
  {
   "cell_type": "code",
   "execution_count": 10,
   "id": "8aae4368",
   "metadata": {},
   "outputs": [],
   "source": [
    "managed_disk = compute_client.disks.get(DEFAULT_RESOURCE_GROUP, 'empty-managed-disk')"
   ]
  },
  {
   "cell_type": "code",
   "execution_count": 11,
   "id": "69f32138",
   "metadata": {},
   "outputs": [],
   "source": [
    "vm.storage_profile.data_disks.append({\n",
    "    'lun': 12,\n",
    "    'name': managed_disk.name,\n",
    "    'create_option': DiskCreateOption.attach,\n",
    "    'managed_disk': {\n",
    "        'id': managed_disk.id\n",
    "    }\n",
    "})"
   ]
  },
  {
   "cell_type": "code",
   "execution_count": 12,
   "id": "1c3581b0",
   "metadata": {},
   "outputs": [],
   "source": [
    "async_update = compute_client.virtual_machines.begin_create_or_update(\n",
    "    DEFAULT_RESOURCE_GROUP,\n",
    "    vm.name,\n",
    "    vm\n",
    ")\n",
    "async_update.wait()"
   ]
  },
  {
   "cell_type": "code",
   "execution_count": null,
   "id": "e01482a5",
   "metadata": {},
   "outputs": [],
   "source": []
  }
 ],
 "metadata": {
  "kernelspec": {
   "display_name": "Python 3 (ipykernel)",
   "language": "python",
   "name": "python3"
  },
  "language_info": {
   "codemirror_mode": {
    "name": "ipython",
    "version": 3
   },
   "file_extension": ".py",
   "mimetype": "text/x-python",
   "name": "python",
   "nbconvert_exporter": "python",
   "pygments_lexer": "ipython3",
   "version": "3.8.10"
  }
 },
 "nbformat": 4,
 "nbformat_minor": 5
}
