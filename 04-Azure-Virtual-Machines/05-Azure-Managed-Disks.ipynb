{
 "cells": [
  {
   "cell_type": "markdown",
   "id": "1c50c8fc",
   "metadata": {},
   "source": [
    "<a href = \"https://www.pieriantraining.com\"><img src=\"../PT Centered Purple.png\"> </a>\n",
    "\n",
    "<em style=\"text-align:center\">Copyrighted by Pierian Training</em>\n",
    "\n",
    "\n",
    "# Azure Managed Disks\n",
    "\n",
    "## Azure Actions Covered\n",
    "\n",
    "* Creating managed disks\n",
    "* Appending managed disks to existing virtual machines\n",
    "\n",
    "In this lecture, we're going to take a look at how to create managed disks and interact with them via the Python SDK.\n",
    "\n",
    "To begin, we'll need to import our usual libraries as well as any useful environment variables (e.g. `AZURE_SUBSCRIPTION_ID`). We'll add some new imports as well."
   ]
  },
  {
   "cell_type": "code",
   "execution_count": 1,
   "id": "c2873178",
   "metadata": {},
   "outputs": [],
   "source": [
    "from azure.identity import AzureCliCredential\n",
    "from azure.mgmt.compute import ComputeManagementClient\n",
    "# New import\n",
    "from azure.mgmt.compute.models import DiskCreateOption\n",
    "\n",
    "from settings import AZURE_SUBSCRIPTION_ID, DEFAULT_LOCATION, DEFAULT_RESOURCE_GROUP"
   ]
  },
  {
   "cell_type": "markdown",
   "id": "3d75b518",
   "metadata": {},
   "source": [
    "We'll instantiate our credentials and the `ComputeManagementClient`. We don't need the `NetworkManagementClient` for this lecture."
   ]
  },
  {
   "cell_type": "code",
   "execution_count": 2,
   "id": "918295d7",
   "metadata": {},
   "outputs": [],
   "source": [
    "credential = AzureCliCredential()\n",
    "compute_client = ComputeManagementClient(credential, AZURE_SUBSCRIPTION_ID)"
   ]
  },
  {
   "cell_type": "markdown",
   "id": "a6a2d6d2",
   "metadata": {},
   "source": [
    "We can create a standalone disk via our `ComputeMangementClient`. You can specify parameters such as:\n",
    "* `location` - Azure location for the disk\n",
    "* `disk_size_gb` - Disk size in gigabytes\n",
    "* `creation_data` - Creation data for the disk. For a full list of parameters, see [CreationData class](https://learn.microsoft.com/en-us/python/api/azure-mgmt-compute/azure.mgmt.compute.v2022_07_02.models.creationdata?view=azure-python)\n",
    "\n",
    "For full list of disk parameters (separate from `CreationData` parameters, see [Disk class](https://learn.microsoft.com/en-us/python/api/azure-mgmt-compute/azure.mgmt.compute.v2022_07_02.models.disk?view=azure-python)"
   ]
  },
  {
   "cell_type": "code",
   "execution_count": 6,
   "id": "eeb8a469",
   "metadata": {},
   "outputs": [],
   "source": [
    "poller = compute_client.disks.begin_create_or_update(\n",
    "    resource_group_name=DEFAULT_RESOURCE_GROUP,\n",
    "    disk_name='empty-managed-disk',\n",
    "    parameters={\n",
    "        'location': DEFAULT_LOCATION,\n",
    "        'disk_size_gb': 20,\n",
    "        'creation_data': {\n",
    "            'create_option': DiskCreateOption.empty\n",
    "        }\n",
    "    }\n",
    ")\n",
    "disk_resource = poller.result()"
   ]
  },
  {
   "cell_type": "markdown",
   "id": "223a1ccc",
   "metadata": {},
   "source": [
    "Let's check the provisioning state of the disk to make sure it was created successfully."
   ]
  },
  {
   "cell_type": "code",
   "execution_count": 7,
   "id": "f15e6c8d",
   "metadata": {},
   "outputs": [
    {
     "data": {
      "text/plain": [
       "'Succeeded'"
      ]
     },
     "execution_count": 7,
     "metadata": {},
     "output_type": "execute_result"
    }
   ],
   "source": [
    "disk_resource.provisioning_state"
   ]
  },
  {
   "cell_type": "markdown",
   "id": "38fdab20",
   "metadata": {},
   "source": [
    "To attached the managed disk to a virtual machine, we have to retrieve both the desired VM and the desired disk via the `ComputeManagementClient`."
   ]
  },
  {
   "cell_type": "code",
   "execution_count": 9,
   "id": "8fe21caf",
   "metadata": {},
   "outputs": [],
   "source": [
    "# Get virtual machine\n",
    "vm = compute_client.virtual_machines.get(\n",
    "    resource_group_name=DEFAULT_RESOURCE_GROUP,\n",
    "    vm_name='test-vm'\n",
    ")\n",
    "# Get disk\n",
    "managed_disk = compute_client.disks.get(\n",
    "    resource_group_name=DEFAULT_RESOURCE_GROUP,\n",
    "    disk_name='empty-managed-disk'\n",
    ")"
   ]
  },
  {
   "cell_type": "markdown",
   "id": "ae36d2ed",
   "metadata": {},
   "source": [
    "Now we can append the data disk to our existing VM. **Note:** This **only** updates the VM object in Python. We'll update our cloud service in the next step."
   ]
  },
  {
   "cell_type": "code",
   "execution_count": 11,
   "id": "69f32138",
   "metadata": {},
   "outputs": [],
   "source": [
    "vm.storage_profile.data_disks.append({\n",
    "    'lun': 12,\n",
    "    'name': managed_disk.name,\n",
    "    'create_option': DiskCreateOption.attach,\n",
    "    'managed_disk': {\n",
    "        'id': managed_disk.id\n",
    "    }\n",
    "})"
   ]
  },
  {
   "cell_type": "markdown",
   "id": "f169bb16",
   "metadata": {},
   "source": [
    "Since we've appended the new managed disk to our Python VM object, we can pass that updated object to our `ComputeManagementClient` to update our VM in Azure."
   ]
  },
  {
   "cell_type": "code",
   "execution_count": 12,
   "id": "1c3581b0",
   "metadata": {},
   "outputs": [],
   "source": [
    "async_update = compute_client.virtual_machines.begin_create_or_update(\n",
    "    resource_group_name=DEFAULT_RESOURCE_GROUP,\n",
    "    vm_name=vm.name,\n",
    "    # Updated VM parameters\n",
    "    vm\n",
    ")\n",
    "async_update.wait()"
   ]
  }
 ],
 "metadata": {
  "kernelspec": {
   "display_name": "Python 3 (ipykernel)",
   "language": "python",
   "name": "python3"
  },
  "language_info": {
   "codemirror_mode": {
    "name": "ipython",
    "version": 3
   },
   "file_extension": ".py",
   "mimetype": "text/x-python",
   "name": "python",
   "nbconvert_exporter": "python",
   "pygments_lexer": "ipython3",
   "version": "3.8.10"
  }
 },
 "nbformat": 4,
 "nbformat_minor": 5
}
