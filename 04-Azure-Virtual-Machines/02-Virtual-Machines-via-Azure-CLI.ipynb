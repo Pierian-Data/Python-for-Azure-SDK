{
 "cells": [
  {
   "cell_type": "markdown",
   "id": "1c50c8fc",
   "metadata": {},
   "source": [
    "<a href = \"https://www.pieriantraining.com\"><img src=\"../PT Centered Purple.png\"> </a>\n",
    "\n",
    "<em style=\"text-align:center\">Copyrighted by Pierian Training</em>"
   ]
  },
  {
   "cell_type": "markdown",
   "id": "0db99845",
   "metadata": {},
   "source": [
    "```\n",
    "$ az login\n",
    "```"
   ]
  },
  {
   "cell_type": "markdown",
   "id": "b599e263",
   "metadata": {},
   "source": [
    "```\n",
    "$ az group create -n vm-resource-group -l eastus\n",
    "```"
   ]
  },
  {
   "cell_type": "markdown",
   "id": "0d70ebe1",
   "metadata": {},
   "source": [
    "```\n",
    "$ az network vnet create -g vm-resource-group -n test-vnet --subnet-name test-subnet --subnet-prefix 10.0.0.0/24\n",
    "```"
   ]
  },
  {
   "cell_type": "markdown",
   "id": "2d880886",
   "metadata": {},
   "source": [
    "```\n",
    "$ az network nic create -g vm-resource-group --vnet-name test-vnet --subnet test-subnet -n test-nic --public-ip-address vm-test-ip\n",
    "```"
   ]
  },
  {
   "cell_type": "markdown",
   "id": "ea61a526",
   "metadata": {},
   "source": [
    "```\n",
    "$ az network public-ip create -g vm-resource-group -n vm-test-ip\n",
    "```"
   ]
  },
  {
   "cell_type": "markdown",
   "id": "a75f3da4",
   "metadata": {},
   "source": [
    "```\n",
    "$ az vm create -g vm-resource-group -n test-vm -l eastus --nics test-nic --image Ubuntu2204 --public-ip-sku Standard --admin-username testuser --admin-password testpassword123!\n",
    "```"
   ]
  },
  {
   "cell_type": "markdown",
   "id": "6272de85",
   "metadata": {},
   "source": [
    "```\n",
    "$ az group delete -n vm-resource-group --no-wait\n",
    "```"
   ]
  },
  {
   "cell_type": "code",
   "execution_count": null,
   "id": "a3576615",
   "metadata": {},
   "outputs": [],
   "source": []
  }
 ],
 "metadata": {
  "kernelspec": {
   "display_name": "Python 3 (ipykernel)",
   "language": "python",
   "name": "python3"
  },
  "language_info": {
   "codemirror_mode": {
    "name": "ipython",
    "version": 3
   },
   "file_extension": ".py",
   "mimetype": "text/x-python",
   "name": "python",
   "nbconvert_exporter": "python",
   "pygments_lexer": "ipython3",
   "version": "3.8.10"
  }
 },
 "nbformat": 4,
 "nbformat_minor": 5
}
