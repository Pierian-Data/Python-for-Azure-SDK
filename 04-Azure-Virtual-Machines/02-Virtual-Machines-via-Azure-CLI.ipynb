{
 "cells": [
  {
   "cell_type": "markdown",
   "id": "1c50c8fc",
   "metadata": {},
   "source": [
    "<a href = \"https://www.pieriantraining.com\"><img src=\"../PT Centered Purple.png\"> </a>\n",
    "\n",
    "<em style=\"text-align:center\">Copyrighted by Pierian Training</em>\n",
    "\n",
    "\n",
    "# Working with Virtual Machines via the Azure CLI\n",
    "\n",
    "## Azure Actions Covered\n",
    "\n",
    "* Creating a virtual network\n",
    "* Creating a subnet\n",
    "* Creating a public IP address\n",
    "* Creating a network interface client (NIC)\n",
    "* Creating a virtual machine\n",
    "\n",
    "In this lecture, we're going to look at how to set up Virtual Machines in Azure via the CLI. We'll show two ways of doing this: provisioning the individual resources necessary, and then the \"quick\" way of using `az vm create`. \n",
    "\n",
    "First, make sure you're logged in."
   ]
  },
  {
   "cell_type": "markdown",
   "id": "0db99845",
   "metadata": {},
   "source": [
    "```\n",
    "$ az login\n",
    "```"
   ]
  },
  {
   "cell_type": "markdown",
   "id": "634c3668",
   "metadata": {},
   "source": [
    "Next, we need to create a new resource group using the commands we used in the section on Resource Groups."
   ]
  },
  {
   "cell_type": "markdown",
   "id": "b599e263",
   "metadata": {},
   "source": [
    "```\n",
    "$ az group create -n vm-resource-group -l eastus\n",
    "```"
   ]
  },
  {
   "cell_type": "markdown",
   "id": "c5b03cb6",
   "metadata": {},
   "source": [
    "The first part of the virtual machine we need to set up is the  virtual network and subnet. Some useful options to use:\n",
    "* `--subnet-name`\n",
    "* `--subnet-prefix`\n",
    "* `--address-prefix`"
   ]
  },
  {
   "cell_type": "markdown",
   "id": "0d70ebe1",
   "metadata": {},
   "source": [
    "```\n",
    "$ az network vnet create -g vm-resource-group -n test-vnet --subnet-name test-subnet --subnet-prefix 10.0.0.0/24\n",
    "```"
   ]
  },
  {
   "cell_type": "markdown",
   "id": "80787f88",
   "metadata": {},
   "source": [
    "Next, we need to provision a public IP address for our virtual machine. This just requires the name of our resource group."
   ]
  },
  {
   "cell_type": "markdown",
   "id": "ea61a526",
   "metadata": {},
   "source": [
    "```\n",
    "$ az network public-ip create -g vm-resource-group -n vm-test-ip\n",
    "```"
   ]
  },
  {
   "cell_type": "markdown",
   "id": "9c1a2cd6",
   "metadata": {},
   "source": [
    "Finally, we need to set up the network interface client (NIC). We can use the resource group, public IP name, and subnet name that we used in previous steps."
   ]
  },
  {
   "cell_type": "markdown",
   "id": "2d880886",
   "metadata": {},
   "source": [
    "```\n",
    "$ az network nic create -g vm-resource-group --vnet-name test-vnet --subnet test-subnet -n test-nic --public-ip-address vm-test-ip\n",
    "```"
   ]
  },
  {
   "cell_type": "markdown",
   "id": "ab18a880",
   "metadata": {},
   "source": [
    "Now that we've provisioned the virtual network, subnet, public IP address, and NIC, we can create the Virtual Machine on Azure. Some useful options:\n",
    "* `--image`\n",
    "* `--public-ip-sku`\n",
    "* `--admin-username`\n",
    "* `--admin-password`"
   ]
  },
  {
   "cell_type": "markdown",
   "id": "a75f3da4",
   "metadata": {},
   "source": [
    "```\n",
    "$ az vm create -g vm-resource-group -n test-vm -l eastus --nics test-nic --image Ubuntu2204 --public-ip-sku Standard --admin-username testuser --admin-password testpassword123!\n",
    "```"
   ]
  },
  {
   "cell_type": "markdown",
   "id": "d37e5f08",
   "metadata": {},
   "source": [
    "If you go to your Azure dashboard/portal and check out your Virtual Machines or the resources under your new Resource Group, you should see the Virtual Machine and all associated items.\n",
    "\n",
    "Now, let's use the `az vm create` command to make this multi-step provisioning process a lot simpler. Some important options for the command:\n",
    "* `--image`\n",
    "* `--public-ip-sku`\n",
    "* `--admin-username`\n",
    "* `--admin-password`"
   ]
  },
  {
   "cell_type": "markdown",
   "id": "cfee317e",
   "metadata": {},
   "source": [
    "```\n",
    "$ az vm create --resource-group vm-resource-group --name test-vm-2 --image Ubuntu2204 -- public-ip-sku Standard --admin-username testuser --admin-password testpassword123!\n",
    "```"
   ]
  },
  {
   "cell_type": "markdown",
   "id": "d6f94a03",
   "metadata": {},
   "source": [
    "You can check your Azure dashboad again to make sure that you now have both of the virtual machines you've provisioned. **Note:** When you create a virtual machine, you may notice a new resource group called `NetworkWatcherRG` since a Network Watcher will also be created. Network Watchers monitor the network traffic to your VM. For more information, see the documentation: https://learn.microsoft.com/en-us/azure/network-watcher/network-watcher-monitoring-overview\n",
    "\n",
    "Finally, let's clean up our workspace so that we don't leave any unused resources running."
   ]
  },
  {
   "cell_type": "markdown",
   "id": "6272de85",
   "metadata": {},
   "source": [
    "```\n",
    "$ az group delete -n vm-resource-group --no-wait\n",
    "```"
   ]
  }
 ],
 "metadata": {
  "kernelspec": {
   "display_name": "Python 3 (ipykernel)",
   "language": "python",
   "name": "python3"
  },
  "language_info": {
   "codemirror_mode": {
    "name": "ipython",
    "version": 3
   },
   "file_extension": ".py",
   "mimetype": "text/x-python",
   "name": "python",
   "nbconvert_exporter": "python",
   "pygments_lexer": "ipython3",
   "version": "3.8.10"
  }
 },
 "nbformat": 4,
 "nbformat_minor": 5
}
