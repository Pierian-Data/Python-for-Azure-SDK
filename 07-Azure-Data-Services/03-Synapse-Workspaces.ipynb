{
 "cells": [
  {
   "cell_type": "markdown",
   "id": "1c50c8fc",
   "metadata": {},
   "source": [
    "<a href = \"https://www.pieriantraining.com\"><img src=\"../PT Centered Purple.png\"> </a>\n",
    "\n",
    "<em style=\"text-align:center\">Copyrighted by Pierian Training</em>\n",
    "\n",
    "# Azure Synapse Workspaces with Python\n",
    "\n",
    "## Azure Actions Covered\n",
    "\n",
    "* Creating, listing, and deleting a Synapse Workspace with Python\n",
    "* Creating, listing, and deleting dedicated SQL pools in a Synapse Workspace\n",
    "\n",
    "In this lecture, we'll learn how to set up Synapse Workspaces in Azure with Python.\n",
    "\n",
    "To begin, we'll need to import our usual libraries as well as any useful environment variables (e.g. AZURE_SUBSCRIPTION_ID). We'll add some new imports as well."
   ]
  },
  {
   "cell_type": "code",
   "execution_count": 1,
   "id": "c2873178",
   "metadata": {},
   "outputs": [],
   "source": [
    "from azure.identity import AzureCliCredential\n",
    "# New imports for data lake storage\n",
    "from azure.storage.filedatalake import DataLakeServiceClient\n",
    "from azure.mgmt.synapse import SynapseManagementClient\n",
    "from azure.mgmt.synapse import models\n",
    "\n",
    "from settings import AZURE_SUBSCRIPTION_ID, DEFAULT_LOCATION, DEFAULT_RESOURCE_GROUP"
   ]
  },
  {
   "cell_type": "markdown",
   "id": "57f97117",
   "metadata": {},
   "source": [
    "We'll first set up our credential and then our two clients, one for the data lake and one for our Synapse Workspaces."
   ]
  },
  {
   "cell_type": "code",
   "execution_count": 2,
   "id": "2233b381",
   "metadata": {},
   "outputs": [],
   "source": [
    "credential = AzureCliCredential()\n",
    "dl_service_client = DataLakeServiceClient(\n",
    "    account_url='https://bendatalake1234.dfs.core.windows.net/',\n",
    "    credential=credential\n",
    ")\n",
    "synapse_client = SynapseManagementClient(credential, AZURE_SUBSCRIPTION_ID)"
   ]
  },
  {
   "cell_type": "markdown",
   "id": "6ccafb18",
   "metadata": {},
   "source": [
    "Let's store our data lake storage account URL in a variable."
   ]
  },
  {
   "cell_type": "code",
   "execution_count": 3,
   "id": "d9202784",
   "metadata": {},
   "outputs": [
    {
     "data": {
      "text/plain": [
       "'https://bendatalake1234.dfs.core.windows.net/'"
      ]
     },
     "execution_count": 3,
     "metadata": {},
     "output_type": "execute_result"
    }
   ],
   "source": [
    "dl_account_url = dl_service_client.primary_endpoint\n",
    "dl_account_url"
   ]
  },
  {
   "cell_type": "markdown",
   "id": "2a0bb33e",
   "metadata": {},
   "source": [
    "We'll also need the file system URL before setting up the Synapse Workspace."
   ]
  },
  {
   "cell_type": "code",
   "execution_count": 5,
   "id": "a6d03208",
   "metadata": {},
   "outputs": [
    {
     "name": "stdout",
     "output_type": "stream",
     "text": [
      "{'name': 'dl-file-system', 'last_modified': datetime.datetime(2023, 5, 29, 19, 55, 1, tzinfo=datetime.timezone.utc), 'etag': '\"0x8DB607E96E390E8\"', 'lease': {'status': 'unlocked', 'state': 'available', 'duration': None}, 'public_access': None, 'has_immutability_policy': False, 'has_legal_hold': False, 'metadata': None, 'deleted': None, 'deleted_version': None, 'encryption_scope': <azure.storage.filedatalake._models.EncryptionScopeOptions object at 0x7f2af84fad90>}\n"
     ]
    }
   ],
   "source": [
    "for fs in dl_service_client.list_file_systems():\n",
    "    print(fs)"
   ]
  },
  {
   "cell_type": "markdown",
   "id": "97783b7b",
   "metadata": {},
   "source": [
    "To create a new Synapse Workspace, we'll use the `workspaces.begin_create_or_update()` method, which takes the following parameters:\n",
    "* `resource_group_name` - Name of resource group to which to attach the workspace\n",
    "* `workspace_name` - Name for Synapse Workspace\n",
    "* `workspace_info` - Parameters for workspace based on `Workspace` model.\n",
    "\n",
    "The `Workspace` model has parameters that include:\n",
    "\n",
    "* `location` - Azure location for the Synapse Workspace\n",
    "* `identity` - Identity of the workspace\n",
    "* `default_data_lake_storage` - `DataLakeStorageAccountDetails` object, which will take:\n",
    "    * `acount_url` - Storage account URL\n",
    "    * `filesystem` - File system path in storage account\n",
    "* `sql_administrator_login` - User name for SQL database administrator\n",
    "* `sql_administrator_login_password` - Password for SQL database administrator\n",
    "\n",
    "For full list of parameters for these classes, see:\n",
    "* the [Workspace class](https://learn.microsoft.com/en-us/python/api/azure-mgmt-synapse/azure.mgmt.synapse.models.workspace?view=azure-python)\n",
    "* the [DataLakeStorageAccountDetails class](https://learn.microsoft.com/en-us/python/api/azure-mgmt-synapse/azure.mgmt.synapse.models.datalakestorageaccountdetails?view=azure-python)"
   ]
  },
  {
   "cell_type": "code",
   "execution_count": 18,
   "id": "d48175eb",
   "metadata": {},
   "outputs": [],
   "source": [
    "workspace = synapse_client.workspaces.begin_create_or_update(\n",
    "    resource_group_name=DEFAULT_RESOURCE_GROUP,\n",
    "    workspace_name='bens-synapse-workspace1234',\n",
    "    workspace_info=models.Workspace(\n",
    "        location=DEFAULT_LOCATION,\n",
    "        identity=models.ManagedIdentity(type='SystemAssigned'),\n",
    "        default_data_lake_storage=models.DataLakeStorageAccountDetails(\n",
    "            account_url=dl_account_url,\n",
    "            filesystem='dl-file-system'\n",
    "        ),\n",
    "        sql_administrator_login='benadmin',\n",
    "        sql_administrator_login_password='testpassword123!'\n",
    "    )\n",
    ")"
   ]
  },
  {
   "cell_type": "markdown",
   "id": "fd40e569",
   "metadata": {},
   "source": [
    "Now let's list all of our available Synapse Workspaces."
   ]
  },
  {
   "cell_type": "code",
   "execution_count": 4,
   "id": "d74f58f3",
   "metadata": {},
   "outputs": [
    {
     "name": "stdout",
     "output_type": "stream",
     "text": [
      "bens-synapse-workspace1234\n"
     ]
    }
   ],
   "source": [
    "for workspace in synapse_client.workspaces.list():\n",
    "    print(workspace.name)"
   ]
  },
  {
   "cell_type": "markdown",
   "id": "cf79e1b6",
   "metadata": {},
   "source": [
    "Although one of the main benefits of the Azure Synapse is the availability of serverless SQL pools, you can also create dedicated SQL pools via the Python SDK. To use the `begin_create()` method, you'll need to use the following parameters:\n",
    "* `resource_group_name` - Name of the resource group under which to create the SQL pool\n",
    "* `workspace_name` - Name of Synapse Workspace where pool will be created\n",
    "* `sql_pool_name` - Name of the dedicated SQL pool\n",
    "* `sql_pool_info` - Parameters for SQL pool. For full list of parameters, see the [SqlPool class](https://learn.microsoft.com/en-us/python/api/azure-mgmt-synapse/azure.mgmt.synapse.models.sqlpool?view=azure-python)"
   ]
  },
  {
   "cell_type": "code",
   "execution_count": 6,
   "id": "70324e56",
   "metadata": {},
   "outputs": [],
   "source": [
    "sql_pool = synapse_client.sql_pools.begin_create(\n",
    "    resource_group_name=DEFAULT_RESOURCE_GROUP,\n",
    "    workspace_name='bens-synapse-workspace1234',\n",
    "    sql_pool_name='mySqlPool',\n",
    "    sql_pool_info=models.SqlPool(\n",
    "        location=DEFAULT_LOCATION\n",
    "    )\n",
    ")\n",
    "result = sql_pool.result()"
   ]
  },
  {
   "cell_type": "markdown",
   "id": "42ca8563",
   "metadata": {},
   "source": [
    "We can see all the dedicated SQL pools in our workspace."
   ]
  },
  {
   "cell_type": "code",
   "execution_count": 12,
   "id": "456ac5f6",
   "metadata": {},
   "outputs": [
    {
     "name": "stdout",
     "output_type": "stream",
     "text": [
      "{'additional_properties': {}, 'id': '/subscriptions/bf8c33be-e4bb-46c8-871a-85182d913c50/resourceGroups/default-resource-group/providers/Microsoft.Synapse/workspaces/bens-synapse-workspace1234/sqlPools/mySqlPool', 'name': 'mySqlPool', 'type': 'Microsoft.Synapse/workspaces/sqlPools', 'tags': None, 'location': 'eastus', 'sku': <azure.mgmt.synapse.models._models_py3.Sku object at 0x7f7413f58070>, 'max_size_bytes': 263882790666240, 'collation': 'SQL_Latin1_General_CP1_CI_AS', 'source_database_id': None, 'recoverable_database_id': None, 'provisioning_state': 'Succeeded', 'status': 'Online', 'restore_point_in_time': None, 'create_mode': None, 'creation_date': datetime.datetime(2023, 6, 16, 16, 51, 39, 283000, tzinfo=<isodate.tzinfo.Utc object at 0x7f7421052280>), 'storage_account_type': 'GRS'}\n"
     ]
    }
   ],
   "source": [
    "for pool in synapse_client.sql_pools.list_by_workspace(DEFAULT_RESOURCE_GROUP, 'bens-synapse-workspace1234'):\n",
    "    print(pool)"
   ]
  },
  {
   "cell_type": "markdown",
   "id": "2025a673",
   "metadata": {},
   "source": [
    "Dedicated SQL pools can be expensive, so let's delete ours."
   ]
  },
  {
   "cell_type": "code",
   "execution_count": 14,
   "id": "e60f3a98",
   "metadata": {},
   "outputs": [],
   "source": [
    "poller = synapse_client.sql_pools.begin_delete(\n",
    "    resource_group_name=DEFAULT_RESOURCE_GROUP,\n",
    "    workspace_name='bens-synapse-workspace1234',\n",
    "    sql_pool_name='mySqlPool'\n",
    ")\n",
    "result = poller.result()"
   ]
  },
  {
   "cell_type": "markdown",
   "id": "9ed92870",
   "metadata": {},
   "source": [
    "Finally, let's delete our workspace as well."
   ]
  },
  {
   "cell_type": "code",
   "execution_count": 15,
   "id": "0b9cfc74",
   "metadata": {},
   "outputs": [],
   "source": [
    "poller = synapse_client.workspaces.begin_delete(\n",
    "    resource_group_name=DEFAULT_RESOURCE_GROUP,\n",
    "    workspace_name='bens-synapse-workspace1234'\n",
    ")\n",
    "result = poller.result()"
   ]
  }
 ],
 "metadata": {
  "kernelspec": {
   "display_name": "Python 3 (ipykernel)",
   "language": "python",
   "name": "python3"
  },
  "language_info": {
   "codemirror_mode": {
    "name": "ipython",
    "version": 3
   },
   "file_extension": ".py",
   "mimetype": "text/x-python",
   "name": "python",
   "nbconvert_exporter": "python",
   "pygments_lexer": "ipython3",
   "version": "3.8.10"
  }
 },
 "nbformat": 4,
 "nbformat_minor": 5
}
