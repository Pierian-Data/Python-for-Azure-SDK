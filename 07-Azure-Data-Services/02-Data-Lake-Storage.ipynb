{
 "cells": [
  {
   "cell_type": "markdown",
   "id": "1c50c8fc",
   "metadata": {},
   "source": [
    "<a href = \"https://www.pieriantraining.com\"><img src=\"../PT Centered Purple.png\"> </a>\n",
    "\n",
    "<em style=\"text-align:center\">Copyrighted by Pierian Training</em>\n",
    "\n",
    "# Data Lakes for Azure with Python\n",
    "\n",
    "## Azure Actions Covered\n",
    "\n",
    "* Creating a data lake file system\n",
    "* Creating directories and files in the data lake file system\n",
    "* Uploading a file to a data lake file system\n",
    "\n",
    "In this lecture, we'll learn how to set up data lake storage in Azure with Python.\n",
    "\n",
    "To begin, we'll need to import our usual libraries as well as any useful environment variables (e.g. AZURE_SUBSCRIPTION_ID). We'll add some new imports as well."
   ]
  },
  {
   "cell_type": "code",
   "execution_count": 1,
   "id": "c2873178",
   "metadata": {},
   "outputs": [],
   "source": [
    "from azure.identity import AzureCliCredential\n",
    "# New imports for data lake storage\n",
    "from azure.storage.filedatalake import DataLakeServiceClient\n",
    "from azure.mgmt.storage import StorageManagementClient\n",
    "\n",
    "from settings import AZURE_SUBSCRIPTION_ID, DEFAULT_LOCATION, DEFAULT_RESOURCE_GROUP"
   ]
  },
  {
   "cell_type": "markdown",
   "id": "f8138506",
   "metadata": {},
   "source": [
    "Let's instantiate our credential and use it to set up our `StorageManagementClient`."
   ]
  },
  {
   "cell_type": "code",
   "execution_count": 2,
   "id": "2dfc3d6d",
   "metadata": {},
   "outputs": [],
   "source": [
    "credential = AzureCliCredential()\n",
    "sm_client = StorageManagementClient(credential, AZURE_SUBSCRIPTION_ID)"
   ]
  },
  {
   "cell_type": "markdown",
   "id": "de07c6e5",
   "metadata": {},
   "source": [
    "Let's list our storage account as well. I've set up one specifically for data lake storage."
   ]
  },
  {
   "cell_type": "code",
   "execution_count": 3,
   "id": "0ef1efa0",
   "metadata": {},
   "outputs": [
    {
     "name": "stdout",
     "output_type": "stream",
     "text": [
      "benbstorage1234\n",
      "bendatalake1234\n"
     ]
    }
   ],
   "source": [
    "for account in sm_client.storage_accounts.list():\n",
    "    print(account.name)"
   ]
  },
  {
   "cell_type": "markdown",
   "id": "9a2afdd0",
   "metadata": {},
   "source": [
    "To interact with our storage account as part of the data lake service, we can instantiate a `DataLakeServiceClient` object. Our account URL will be of the form `https://<storage-account>.dfs.core.windows.net/`."
   ]
  },
  {
   "cell_type": "code",
   "execution_count": 4,
   "id": "03284eb6",
   "metadata": {},
   "outputs": [],
   "source": [
    "dl_service_client = DataLakeServiceClient(\n",
    "    account_url='https://bendatalake1234.dfs.core.windows.net/',\n",
    "    credential=credential\n",
    ")"
   ]
  },
  {
   "cell_type": "markdown",
   "id": "5b4a0fc7",
   "metadata": {},
   "source": [
    "We can use the client to check some parameters."
   ]
  },
  {
   "cell_type": "code",
   "execution_count": 5,
   "id": "b05d6d92",
   "metadata": {},
   "outputs": [
    {
     "data": {
      "text/plain": [
       "'https://bendatalake1234.dfs.core.windows.net/'"
      ]
     },
     "execution_count": 5,
     "metadata": {},
     "output_type": "execute_result"
    }
   ],
   "source": [
    "dl_service_client.url"
   ]
  },
  {
   "cell_type": "markdown",
   "id": "c2c80b18",
   "metadata": {},
   "source": [
    "In our data lake storage, we can create a new file system for storing files using the management client. This will return a `FileSystemClient` object."
   ]
  },
  {
   "cell_type": "code",
   "execution_count": 8,
   "id": "61c7988d",
   "metadata": {},
   "outputs": [],
   "source": [
    "fs_client = dl_service_client.create_file_system(\n",
    "    file_system='dl-file-system'\n",
    ")"
   ]
  },
  {
   "cell_type": "markdown",
   "id": "7f040072",
   "metadata": {},
   "source": [
    "Let's check some of the attributes on our returned object."
   ]
  },
  {
   "cell_type": "code",
   "execution_count": 9,
   "id": "ce36e278",
   "metadata": {},
   "outputs": [
    {
     "data": {
      "text/plain": [
       "'dl-file-system'"
      ]
     },
     "execution_count": 9,
     "metadata": {},
     "output_type": "execute_result"
    }
   ],
   "source": [
    "fs_client.file_system_name"
   ]
  },
  {
   "cell_type": "code",
   "execution_count": 10,
   "id": "2f3503a0",
   "metadata": {},
   "outputs": [
    {
     "data": {
      "text/plain": [
       "'https://bendatalake1234.dfs.core.windows.net/dl-file-system'"
      ]
     },
     "execution_count": 10,
     "metadata": {},
     "output_type": "execute_result"
    }
   ],
   "source": [
    "fs_client.primary_endpoint"
   ]
  },
  {
   "cell_type": "markdown",
   "id": "71f35dc7",
   "metadata": {},
   "source": [
    "Once the file system is created, we can add structure to it by creating directories and adding files. Let's create a directory for raw data and then upload a file, starting off with the `create_directory()` method on our file system client. This returns a `DataLakeDirectoryClient` object."
   ]
  },
  {
   "cell_type": "code",
   "execution_count": 11,
   "id": "8ed5ac7d",
   "metadata": {},
   "outputs": [],
   "source": [
    "dl_dir_client = fs_client.create_directory(directory='raw-data')"
   ]
  },
  {
   "cell_type": "markdown",
   "id": "4f245367",
   "metadata": {},
   "source": [
    "Let's check the primary endpoint for our new directory."
   ]
  },
  {
   "cell_type": "code",
   "execution_count": 12,
   "id": "65dc97b2",
   "metadata": {},
   "outputs": [
    {
     "data": {
      "text/plain": [
       "'https://bendatalake1234.dfs.core.windows.net/dl-file-system/raw-data'"
      ]
     },
     "execution_count": 12,
     "metadata": {},
     "output_type": "execute_result"
    }
   ],
   "source": [
    "dl_dir_client.primary_endpoint"
   ]
  },
  {
   "cell_type": "markdown",
   "id": "66d6a29e",
   "metadata": {},
   "source": [
    "To upload a file to our directory, we need to:\n",
    "    \n",
    "* Create a file to generate a `DataLakeFileClient`\n",
    "* Use the new file client to upload the relevant file"
   ]
  },
  {
   "cell_type": "code",
   "execution_count": 26,
   "id": "3f60956b",
   "metadata": {},
   "outputs": [],
   "source": [
    "file_client = dl_dir_client.create_file('income.csv')"
   ]
  },
  {
   "cell_type": "markdown",
   "id": "e4bb83d5",
   "metadata": {},
   "source": [
    "We can upload the file with Python's context manager."
   ]
  },
  {
   "cell_type": "code",
   "execution_count": 30,
   "id": "fa7c199d",
   "metadata": {},
   "outputs": [],
   "source": [
    "with open('/home/ben/Downloads/income.csv', 'rb') as myfile:\n",
    "    file_client.upload_data(data=myfile.read(), overwrite=True)"
   ]
  },
  {
   "cell_type": "markdown",
   "id": "6af7852b",
   "metadata": {},
   "source": [
    "Let's take a look at our directory structure with the `get_paths()` method."
   ]
  },
  {
   "cell_type": "code",
   "execution_count": 32,
   "id": "e5493e78",
   "metadata": {},
   "outputs": [
    {
     "name": "stdout",
     "output_type": "stream",
     "text": [
      "raw-data\n",
      "raw-data/income.csv\n"
     ]
    }
   ],
   "source": [
    "for directory in fs_client.get_paths():\n",
    "    print(directory.name)"
   ]
  }
 ],
 "metadata": {
  "kernelspec": {
   "display_name": "Python 3 (ipykernel)",
   "language": "python",
   "name": "python3"
  },
  "language_info": {
   "codemirror_mode": {
    "name": "ipython",
    "version": 3
   },
   "file_extension": ".py",
   "mimetype": "text/x-python",
   "name": "python",
   "nbconvert_exporter": "python",
   "pygments_lexer": "ipython3",
   "version": "3.8.10"
  }
 },
 "nbformat": 4,
 "nbformat_minor": 5
}
