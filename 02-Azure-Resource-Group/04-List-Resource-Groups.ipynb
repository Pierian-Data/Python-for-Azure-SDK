{
 "cells": [
  {
   "cell_type": "markdown",
   "id": "1c50c8fc",
   "metadata": {},
   "source": [
    "<a href = \"https://www.pieriantraining.com\"><img src=\"../PT Centered Purple.png\"> </a>\n",
    "\n",
    "<em style=\"text-align:center\">Copyrighted by Pierian Training</em>\n",
    "\n",
    "\n",
    "# Listing Resource Groups with Python\n",
    "\n",
    "## Azure Actions Covered\n",
    "\n",
    "* Listing resource groups\n",
    "* Retrieving resource group details for a single resource group\n",
    "\n",
    "\n",
    "In this lecture, we're going to take a look at how to list resource groups via the Python SDK.\n",
    "\n",
    "To begin, we'll need to import our usual libraries as well as any useful environment variables (e.g. `AZURE_SUBSCRIPTION_ID`)"
   ]
  },
  {
   "cell_type": "code",
   "execution_count": 2,
   "id": "c2873178",
   "metadata": {},
   "outputs": [],
   "source": [
    "from azure.identity import AzureCliCredential\n",
    "from azure.mgmt.resource import ResourceManagementClient\n",
    "\n",
    "from settings import AZURE_SUBSCRIPTION_ID"
   ]
  },
  {
   "cell_type": "markdown",
   "id": "86b0f7ca",
   "metadata": {},
   "source": [
    "Assign your Azure CLI credential to a variable and then use that to create a new `ResourceManagementClient()` object."
   ]
  },
  {
   "cell_type": "code",
   "execution_count": 3,
   "id": "db2eddd1",
   "metadata": {},
   "outputs": [],
   "source": [
    "credential = AzureCliCredential()\n",
    "resource_client = ResourceManagementClient(credential, AZURE_SUBSCRIPTION_ID)"
   ]
  },
  {
   "cell_type": "markdown",
   "id": "f683b496",
   "metadata": {},
   "source": [
    "To list existing resource groups, we can use the `resource_groups.list()` method. If you don't have any resource groups created, nothing will be returned."
   ]
  },
  {
   "cell_type": "code",
   "execution_count": 4,
   "id": "4fefdbd0",
   "metadata": {},
   "outputs": [],
   "source": [
    "group_list = resource_client.resource_groups.list()"
   ]
  },
  {
   "cell_type": "code",
   "execution_count": 9,
   "id": "011e7663",
   "metadata": {},
   "outputs": [
    {
     "name": "stdout",
     "output_type": "stream",
     "text": [
      "Resource Group name: Location\n",
      "-------------------------\n"
     ]
    }
   ],
   "source": [
    "print('Resource Group name: Location')\n",
    "print('-------------------------')\n",
    "for group in list(group_list):\n",
    "    print(f\"{group.name}: {group.location}\")"
   ]
  },
  {
   "cell_type": "markdown",
   "id": "448b3479",
   "metadata": {},
   "source": [
    "However, we can use the methods we used in the previous lecture to create a new resource group and check that we can return data on it."
   ]
  },
  {
   "cell_type": "code",
   "execution_count": 10,
   "id": "7a063f7c",
   "metadata": {},
   "outputs": [],
   "source": [
    "rg_result = resource_client.resource_groups.create_or_update(\n",
    "    \"test-group-new\", {\"location\": \"eastus\"}\n",
    ")\n",
    "group_list = resource_client.resource_groups.list()"
   ]
  },
  {
   "cell_type": "markdown",
   "id": "801ae5d0",
   "metadata": {},
   "source": [
    "Now that we know a resource group exists, let's list all of our resource groups again to see what's changed."
   ]
  },
  {
   "cell_type": "code",
   "execution_count": 11,
   "id": "03ca5b56",
   "metadata": {},
   "outputs": [
    {
     "name": "stdout",
     "output_type": "stream",
     "text": [
      "Resource Group name: Location\n",
      "-------------------------\n",
      "test-group-new: eastus\n"
     ]
    }
   ],
   "source": [
    "print('Resource Group name: Location')\n",
    "print('-------------------------')\n",
    "for group in list(group_list):\n",
    "    print(f\"{group.name}: {group.location}\")"
   ]
  },
  {
   "cell_type": "markdown",
   "id": "54436acb",
   "metadata": {},
   "source": [
    "If you don't want to list all resource groups, but instead just show the information from a single one (like with the `az group show` command) you can use `resource_groups.get()` method."
   ]
  },
  {
   "cell_type": "code",
   "execution_count": 12,
   "id": "5108ba9b",
   "metadata": {},
   "outputs": [
    {
     "name": "stdout",
     "output_type": "stream",
     "text": [
      "test-group-new: eastus\n"
     ]
    }
   ],
   "source": [
    "rg_info = resource_client.resource_groups.get('test-group-new')\n",
    "print(f'{rg_info.name}: {rg_info.location}')"
   ]
  }
 ],
 "metadata": {
  "kernelspec": {
   "display_name": "Python 3 (ipykernel)",
   "language": "python",
   "name": "python3"
  },
  "language_info": {
   "codemirror_mode": {
    "name": "ipython",
    "version": 3
   },
   "file_extension": ".py",
   "mimetype": "text/x-python",
   "name": "python",
   "nbconvert_exporter": "python",
   "pygments_lexer": "ipython3",
   "version": "3.8.10"
  }
 },
 "nbformat": 4,
 "nbformat_minor": 5
}
