{
 "cells": [
  {
   "cell_type": "markdown",
   "id": "1c50c8fc",
   "metadata": {},
   "source": [
    "<a href = \"https://www.pieriantraining.com\"><img src=\"../PT Centered Purple.png\"> </a>\n",
    "\n",
    "<em style=\"text-align:center\">Copyrighted by Pierian Training</em>"
   ]
  },
  {
   "cell_type": "code",
   "execution_count": 3,
   "id": "c2873178",
   "metadata": {},
   "outputs": [],
   "source": [
    "from azure.identity import AzureCliCredential\n",
    "from azure.mgmt.resource import ResourceManagementClient"
   ]
  },
  {
   "cell_type": "code",
   "execution_count": 1,
   "id": "214d21ee",
   "metadata": {},
   "outputs": [],
   "source": [
    "from settings import AZURE_SUBSCRIPTION_ID"
   ]
  },
  {
   "cell_type": "code",
   "execution_count": 4,
   "id": "db2eddd1",
   "metadata": {},
   "outputs": [],
   "source": [
    "credential = AzureCliCredential()"
   ]
  },
  {
   "cell_type": "code",
   "execution_count": 5,
   "id": "02c594aa",
   "metadata": {},
   "outputs": [],
   "source": [
    "subscription_id = AZURE_SUBSCRIPTION_ID"
   ]
  },
  {
   "cell_type": "code",
   "execution_count": 13,
   "id": "ea6ba634",
   "metadata": {},
   "outputs": [],
   "source": [
    "resource_client = ResourceManagementClient(credential, subscription_id)"
   ]
  },
  {
   "cell_type": "code",
   "execution_count": 14,
   "id": "4fefdbd0",
   "metadata": {},
   "outputs": [],
   "source": [
    "group_list = resource_client.resource_groups.list()"
   ]
  },
  {
   "cell_type": "code",
   "execution_count": 15,
   "id": "a32aa35e",
   "metadata": {},
   "outputs": [],
   "source": [
    "column_width = 40"
   ]
  },
  {
   "cell_type": "code",
   "execution_count": 16,
   "id": "8f7d2ae3",
   "metadata": {},
   "outputs": [
    {
     "name": "stdout",
     "output_type": "stream",
     "text": [
      "Resource Group                          Location\n",
      "--------------------------------------------------------------------------------\n"
     ]
    }
   ],
   "source": [
    "print(\"Resource Group\".ljust(column_width) + \"Location\")\n",
    "print(\"-\" * (column_width * 2))"
   ]
  },
  {
   "cell_type": "code",
   "execution_count": 17,
   "id": "011e7663",
   "metadata": {},
   "outputs": [
    {
     "name": "stdout",
     "output_type": "stream",
     "text": [
      "test-group                              eastus\n"
     ]
    }
   ],
   "source": [
    "for group in list(group_list):\n",
    "    print(f\"{group.name:<{column_width}}{group.location}\")"
   ]
  },
  {
   "cell_type": "code",
   "execution_count": null,
   "id": "d9e1dd3a",
   "metadata": {},
   "outputs": [],
   "source": []
  }
 ],
 "metadata": {
  "kernelspec": {
   "display_name": "Python 3 (ipykernel)",
   "language": "python",
   "name": "python3"
  },
  "language_info": {
   "codemirror_mode": {
    "name": "ipython",
    "version": 3
   },
   "file_extension": ".py",
   "mimetype": "text/x-python",
   "name": "python",
   "nbconvert_exporter": "python",
   "pygments_lexer": "ipython3",
   "version": "3.8.10"
  }
 },
 "nbformat": 4,
 "nbformat_minor": 5
}
