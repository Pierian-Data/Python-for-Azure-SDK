{
 "cells": [
  {
   "cell_type": "markdown",
   "id": "6846ad69",
   "metadata": {},
   "source": [
    "<a href = \"https://www.pieriantraining.com\"><img src=\"../PT Centered Purple.png\"> </a>\n",
    "\n",
    "<em style=\"text-align:center\">Copyrighted by Pierian Training</em>"
   ]
  },
  {
   "cell_type": "code",
   "execution_count": 1,
   "id": "6d1c42e5",
   "metadata": {},
   "outputs": [],
   "source": [
    "from azure.identity import AzureCliCredential\n",
    "from azure.mgmt.resource import ResourceManagementClient\n",
    "\n",
    "from settings import AZURE_SUBSCRIPTION_ID"
   ]
  },
  {
   "cell_type": "code",
   "execution_count": 2,
   "id": "80cc1580",
   "metadata": {},
   "outputs": [],
   "source": [
    "credential = AzureCliCredential()"
   ]
  },
  {
   "cell_type": "code",
   "execution_count": 3,
   "id": "704fbedf",
   "metadata": {},
   "outputs": [],
   "source": [
    "resource_client = ResourceManagementClient(credential, AZURE_SUBSCRIPTION_ID)"
   ]
  },
  {
   "cell_type": "code",
   "execution_count": 5,
   "id": "42e63fe3",
   "metadata": {},
   "outputs": [],
   "source": [
    "rg_result = resource_client.resource_groups.create_or_update(\n",
    "    \"test-group\", {\"location\": \"eastus\"}\n",
    ")"
   ]
  },
  {
   "cell_type": "code",
   "execution_count": 6,
   "id": "41b071ca",
   "metadata": {},
   "outputs": [
    {
     "data": {
      "text/plain": [
       "'test-group'"
      ]
     },
     "execution_count": 6,
     "metadata": {},
     "output_type": "execute_result"
    }
   ],
   "source": [
    "rg_result.name"
   ]
  },
  {
   "cell_type": "code",
   "execution_count": 7,
   "id": "baa23a2e",
   "metadata": {},
   "outputs": [
    {
     "data": {
      "text/plain": [
       "'eastus'"
      ]
     },
     "execution_count": 7,
     "metadata": {},
     "output_type": "execute_result"
    }
   ],
   "source": [
    "rg_result.location"
   ]
  },
  {
   "cell_type": "code",
   "execution_count": 9,
   "id": "2b52eb24",
   "metadata": {},
   "outputs": [],
   "source": [
    "rg_result = resource_client.resource_groups.create_or_update(\n",
    "    \"test-group\", \n",
    "    {\n",
    "        \"location\": \"eastus\",\n",
    "        \"tags\":{\"environment\":\"development\", \"type\":\"general\", \"source\":\"udemy-course\"}\n",
    "    }\n",
    ")"
   ]
  },
  {
   "cell_type": "code",
   "execution_count": 10,
   "id": "6f722a50",
   "metadata": {},
   "outputs": [
    {
     "data": {
      "text/plain": [
       "{'environment': 'development', 'type': 'general', 'source': 'udemy-course'}"
      ]
     },
     "execution_count": 10,
     "metadata": {},
     "output_type": "execute_result"
    }
   ],
   "source": [
    "rg_result.tags"
   ]
  },
  {
   "cell_type": "code",
   "execution_count": null,
   "id": "1674d701",
   "metadata": {},
   "outputs": [],
   "source": []
  }
 ],
 "metadata": {
  "kernelspec": {
   "display_name": "Python 3 (ipykernel)",
   "language": "python",
   "name": "python3"
  },
  "language_info": {
   "codemirror_mode": {
    "name": "ipython",
    "version": 3
   },
   "file_extension": ".py",
   "mimetype": "text/x-python",
   "name": "python",
   "nbconvert_exporter": "python",
   "pygments_lexer": "ipython3",
   "version": "3.8.10"
  }
 },
 "nbformat": 4,
 "nbformat_minor": 5
}
