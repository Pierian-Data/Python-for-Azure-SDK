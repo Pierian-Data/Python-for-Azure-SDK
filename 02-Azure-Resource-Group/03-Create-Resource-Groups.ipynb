{
 "cells": [
  {
   "cell_type": "markdown",
   "id": "6846ad69",
   "metadata": {},
   "source": [
    "<a href = \"https://www.pieriantraining.com\"><img src=\"../PT Centered Purple.png\"> </a>\n",
    "\n",
    "<em style=\"text-align:center\">Copyrighted by Pierian Training</em>\n",
    "\n",
    "\n",
    "# Creating Resource Groups with Python\n",
    "\n",
    "## Azure Actions Covered\n",
    "\n",
    "* Creating resource groups\n",
    "\n",
    "\n",
    "In this lecture, we're going to take a look at how to create resource groups via the Python SDK.\n",
    "\n",
    "To begin, we'll need to import our usual libraries as well as any useful environment variables (e.g. `AZURE_SUBSCRIPTION_ID`)"
   ]
  },
  {
   "cell_type": "code",
   "execution_count": 1,
   "id": "6d1c42e5",
   "metadata": {},
   "outputs": [],
   "source": [
    "from azure.identity import AzureCliCredential\n",
    "from azure.mgmt.resource import ResourceManagementClient\n",
    "\n",
    "from settings import AZURE_SUBSCRIPTION_ID"
   ]
  },
  {
   "cell_type": "markdown",
   "id": "511b2c28",
   "metadata": {},
   "source": [
    "Assign your Azure CLI credential to a variable and then use that to create a new `ResourceManagementClient()` object."
   ]
  },
  {
   "cell_type": "code",
   "execution_count": 2,
   "id": "80cc1580",
   "metadata": {},
   "outputs": [],
   "source": [
    "credential = AzureCliCredential()\n",
    "resource_client = ResourceManagementClient(credential, AZURE_SUBSCRIPTION_ID)"
   ]
  },
  {
   "cell_type": "markdown",
   "id": "28f2ceb1",
   "metadata": {},
   "source": [
    "To create a new resource group, we can use the `resource_groups.create_or_update()` method. This requires:\n",
    "* The resource group name\n",
    "* A JSON/dict object with parameters for the creation, such as\n",
    "    * Resource group location\n",
    "    * Tags\n",
    "    * Etc."
   ]
  },
  {
   "cell_type": "code",
   "execution_count": 5,
   "id": "42e63fe3",
   "metadata": {},
   "outputs": [],
   "source": [
    "rg_result = resource_client.resource_groups.create_or_update(\n",
    "    \"test-group\", {\"location\": \"eastus\"}\n",
    ")"
   ]
  },
  {
   "cell_type": "markdown",
   "id": "b12f3bca",
   "metadata": {},
   "source": [
    "This method returns a `ResourceGroup` object. We can check its attributes to verify some of the properties of the resource group we created, such as its name and location"
   ]
  },
  {
   "cell_type": "code",
   "execution_count": 6,
   "id": "41b071ca",
   "metadata": {},
   "outputs": [
    {
     "data": {
      "text/plain": [
       "'test-group'"
      ]
     },
     "execution_count": 6,
     "metadata": {},
     "output_type": "execute_result"
    }
   ],
   "source": [
    "rg_result.name"
   ]
  },
  {
   "cell_type": "code",
   "execution_count": 7,
   "id": "baa23a2e",
   "metadata": {},
   "outputs": [
    {
     "data": {
      "text/plain": [
       "'eastus'"
      ]
     },
     "execution_count": 7,
     "metadata": {},
     "output_type": "execute_result"
    }
   ],
   "source": [
    "rg_result.location"
   ]
  },
  {
   "cell_type": "markdown",
   "id": "0503d2e9",
   "metadata": {},
   "source": [
    "To update a resource group, we can use the same method and add any changes to the JSON/dict parameter. For example, we can add tags to our resource group."
   ]
  },
  {
   "cell_type": "code",
   "execution_count": 9,
   "id": "2b52eb24",
   "metadata": {},
   "outputs": [],
   "source": [
    "rg_result = resource_client.resource_groups.create_or_update(\n",
    "    \"test-group\", \n",
    "    {\n",
    "        \"location\": \"eastus\",\n",
    "        \"tags\":{\"environment\":\"development\", \"type\":\"general\", \"source\":\"udemy-course\"}\n",
    "    }\n",
    ")"
   ]
  },
  {
   "cell_type": "markdown",
   "id": "4ff06783",
   "metadata": {},
   "source": [
    "Again, we can access attributes on the `ResourceGroup` object to validate our changes."
   ]
  },
  {
   "cell_type": "code",
   "execution_count": 10,
   "id": "6f722a50",
   "metadata": {},
   "outputs": [
    {
     "data": {
      "text/plain": [
       "{'environment': 'development', 'type': 'general', 'source': 'udemy-course'}"
      ]
     },
     "execution_count": 10,
     "metadata": {},
     "output_type": "execute_result"
    }
   ],
   "source": [
    "rg_result.tags"
   ]
  }
 ],
 "metadata": {
  "kernelspec": {
   "display_name": "Python 3 (ipykernel)",
   "language": "python",
   "name": "python3"
  },
  "language_info": {
   "codemirror_mode": {
    "name": "ipython",
    "version": 3
   },
   "file_extension": ".py",
   "mimetype": "text/x-python",
   "name": "python",
   "nbconvert_exporter": "python",
   "pygments_lexer": "ipython3",
   "version": "3.8.10"
  }
 },
 "nbformat": 4,
 "nbformat_minor": 5
}
