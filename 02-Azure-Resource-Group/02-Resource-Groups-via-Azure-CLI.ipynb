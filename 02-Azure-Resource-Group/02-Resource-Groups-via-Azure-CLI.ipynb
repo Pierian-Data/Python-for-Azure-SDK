{
 "cells": [
  {
   "cell_type": "markdown",
   "id": "f40608d7",
   "metadata": {},
   "source": [
    "<a href = \"https://www.pieriantraining.com\"><img src=\"../PT Centered Purple.png\"> </a>\n",
    "\n",
    "<em style=\"text-align:center\">Copyrighted by Pierian Training</em>\n",
    "\n",
    "# Working with Resource Groups via the Azure CLI\n",
    "\n",
    "## Azure Actions Covered\n",
    "\n",
    "* Creating resource groups\n",
    "* Updating resource groups\n",
    "* Listing resource groups\n",
    "* Checking whether a resource group exists\n",
    "* Deleting resource groups\n",
    "\n",
    "In this lecture, we're going to take a look at how to deal with resource groups via the Azure CLI. Open up your terminal to get started. Make sure to login so that you're authenticated to deal with Azure via the CLI."
   ]
  },
  {
   "cell_type": "markdown",
   "id": "54e5c835",
   "metadata": {},
   "source": [
    "```\n",
    "$ az login\n",
    "```"
   ]
  },
  {
   "cell_type": "markdown",
   "id": "928afd69",
   "metadata": {},
   "source": [
    "Now that we're logged in to the CLI, let's create a new resource group named `test-resource-group`. You can create it in the most convenient region for you (e.g. `centralus`, `northeurope`). I'm going to use `eastus`."
   ]
  },
  {
   "cell_type": "markdown",
   "id": "44d85edd",
   "metadata": {},
   "source": [
    "```\n",
    "$ az group create -n test-resource-group -l eastus\n",
    "```"
   ]
  },
  {
   "cell_type": "markdown",
   "id": "fe1a1f2a",
   "metadata": {},
   "source": [
    "Let's update this group to add some relevant tags. We can use `az group update`."
   ]
  },
  {
   "cell_type": "markdown",
   "id": "6af9964f",
   "metadata": {},
   "source": [
    "```\n",
    "$ az group update --resource-group test-resource-group --tags \"environment=test\" \"type=general\"\n",
    "```"
   ]
  },
  {
   "cell_type": "markdown",
   "id": "64f97bf5",
   "metadata": {},
   "source": [
    "Another of doing this with the same command is using the option `set tags.tag-name=value`."
   ]
  },
  {
   "cell_type": "markdown",
   "id": "ebd3b837",
   "metadata": {},
   "source": [
    "```\n",
    "$ az group update --resource-group test-resource-group --set tags.source='udemy'\n",
    "```"
   ]
  },
  {
   "cell_type": "markdown",
   "id": "4f4daa9f",
   "metadata": {},
   "source": [
    "If you want to see all the resource groups for your subscription, you can use `az group list`."
   ]
  },
  {
   "cell_type": "markdown",
   "id": "a744f5c1",
   "metadata": {},
   "source": [
    "```\n",
    "$ az group list\n",
    "```"
   ]
  },
  {
   "cell_type": "markdown",
   "id": "20e0486c",
   "metadata": {},
   "source": [
    "If you want to see the details for a specific resource group, you can use `az group show`. This may produce the same results as `az group list` if you've only created one resource group so far."
   ]
  },
  {
   "cell_type": "markdown",
   "id": "81a2e3f9",
   "metadata": {},
   "source": [
    "```\n",
    "$ az group show --name test-resource-group\n",
    "```"
   ]
  },
  {
   "cell_type": "markdown",
   "id": "6a9e53ed",
   "metadata": {},
   "source": [
    "If you're writing a script, you may want to check that a resource group exists before continuing. The `az group exists` command could come in handy, and it returns `true` or `false`."
   ]
  },
  {
   "cell_type": "markdown",
   "id": "8be82b20",
   "metadata": {},
   "source": [
    "```\n",
    "$ az group exists --name test-resource-group\n",
    "$ az group exists --name fake-resource-group\n",
    "```"
   ]
  },
  {
   "cell_type": "markdown",
   "id": "642075b0",
   "metadata": {},
   "source": [
    "Finally, to clean up our workspace, let's delete the resource group we just created."
   ]
  },
  {
   "cell_type": "markdown",
   "id": "0639f576",
   "metadata": {},
   "source": [
    "```\n",
    "$ az group delete --name test-resource-group\n",
    "```"
   ]
  }
 ],
 "metadata": {
  "kernelspec": {
   "display_name": "Python 3 (ipykernel)",
   "language": "python",
   "name": "python3"
  },
  "language_info": {
   "codemirror_mode": {
    "name": "ipython",
    "version": 3
   },
   "file_extension": ".py",
   "mimetype": "text/x-python",
   "name": "python",
   "nbconvert_exporter": "python",
   "pygments_lexer": "ipython3",
   "version": "3.8.10"
  }
 },
 "nbformat": 4,
 "nbformat_minor": 5
}
