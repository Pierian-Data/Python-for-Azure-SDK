{
 "cells": [
  {
   "cell_type": "markdown",
   "id": "f40608d7",
   "metadata": {},
   "source": [
    "<a href = \"https://www.pieriantraining.com\"><img src=\"../PT Centered Purple.png\"> </a>\n",
    "\n",
    "<em style=\"text-align:center\">Copyrighted by Pierian Training</em>"
   ]
  },
  {
   "cell_type": "markdown",
   "id": "9bbae6be",
   "metadata": {},
   "source": [
    "In this lecture, we're going to take a look at how to deal with resource groups via the Azure CLI. Open up your terminal to get started. Make sure to login so that you're authenticated to deal with Azure via the CLI."
   ]
  },
  {
   "cell_type": "markdown",
   "id": "54e5c835",
   "metadata": {},
   "source": [
    "```\n",
    "$ az login\n",
    "```"
   ]
  },
  {
   "cell_type": "markdown",
   "id": "928afd69",
   "metadata": {},
   "source": [
    "Now that we're logged in to the CLI, let's create a new resource group named `test-resource-group`. You can create it in the most convenient region for you (e.g. `centralus`, `northeurope`). I'm going to use `eastus`."
   ]
  },
  {
   "cell_type": "markdown",
   "id": "44d85edd",
   "metadata": {},
   "source": [
    "```\n",
    "$ az group create -n test-resource-group -l eastus\n",
    "```"
   ]
  },
  {
   "cell_type": "markdown",
   "id": "fe1a1f2a",
   "metadata": {},
   "source": [
    "Let's update this group to add some relevant tags. We can use `az group update`."
   ]
  },
  {
   "cell_type": "markdown",
   "id": "6af9964f",
   "metadata": {},
   "source": [
    "```\n",
    "$ az group update --resource-group test-resource-group --tags \"environment=test\" \"type=general\"\n",
    "```"
   ]
  },
  {
   "cell_type": "markdown",
   "id": "64f97bf5",
   "metadata": {},
   "source": [
    "Another of doing this with the same command is using the option `set tags.tag-name=value`."
   ]
  },
  {
   "cell_type": "markdown",
   "id": "ebd3b837",
   "metadata": {},
   "source": [
    "```\n",
    "$ az group update --resource-group test-resource-group --set tags.source='udemy'\n",
    "```"
   ]
  },
  {
   "cell_type": "markdown",
   "id": "4f4daa9f",
   "metadata": {},
   "source": [
    "test"
   ]
  },
  {
   "cell_type": "markdown",
   "id": "a744f5c1",
   "metadata": {},
   "source": [
    "```\n",
    "$ az group list\n",
    "```"
   ]
  },
  {
   "cell_type": "markdown",
   "id": "20e0486c",
   "metadata": {},
   "source": [
    "test"
   ]
  },
  {
   "cell_type": "markdown",
   "id": "81a2e3f9",
   "metadata": {},
   "source": [
    "```\n",
    "$ az group show --name test-resource-group\n",
    "```"
   ]
  },
  {
   "cell_type": "markdown",
   "id": "6a9e53ed",
   "metadata": {},
   "source": [
    "test"
   ]
  },
  {
   "cell_type": "markdown",
   "id": "8be82b20",
   "metadata": {},
   "source": [
    "```\n",
    "$ az group exists --name test-resource-group\n",
    "```"
   ]
  },
  {
   "cell_type": "markdown",
   "id": "642075b0",
   "metadata": {},
   "source": [
    "test"
   ]
  },
  {
   "cell_type": "markdown",
   "id": "0639f576",
   "metadata": {},
   "source": [
    "```\n",
    "$ az group delete --name test-resource-group\n",
    "```"
   ]
  },
  {
   "cell_type": "code",
   "execution_count": null,
   "id": "6b3bf49d",
   "metadata": {},
   "outputs": [],
   "source": []
  }
 ],
 "metadata": {
  "kernelspec": {
   "display_name": "Python 3 (ipykernel)",
   "language": "python",
   "name": "python3"
  },
  "language_info": {
   "codemirror_mode": {
    "name": "ipython",
    "version": 3
   },
   "file_extension": ".py",
   "mimetype": "text/x-python",
   "name": "python",
   "nbconvert_exporter": "python",
   "pygments_lexer": "ipython3",
   "version": "3.8.10"
  }
 },
 "nbformat": 4,
 "nbformat_minor": 5
}
