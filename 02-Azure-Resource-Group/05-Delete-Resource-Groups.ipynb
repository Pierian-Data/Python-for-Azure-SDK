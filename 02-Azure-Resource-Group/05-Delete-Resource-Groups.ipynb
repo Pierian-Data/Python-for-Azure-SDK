{
 "cells": [
  {
   "cell_type": "markdown",
   "id": "109de50c",
   "metadata": {},
   "source": [
    "<a href = \"https://www.pieriantraining.com\"><img src=\"../PT Centered Purple.png\"> </a>\n",
    "\n",
    "<em style=\"text-align:center\">Copyrighted by Pierian Training</em>\n",
    "\n",
    "# Deleting Resource Groups with Python\n",
    "\n",
    "## Azure Actions Covered\n",
    "\n",
    "* Deleting resource groups\n",
    "\n",
    "In this lecture, we're going to take a look at how to delete resource groups via the Python SDK.\n",
    "\n",
    "To begin, we'll need to import our usual libraries as well as any useful environment variables (e.g. `AZURE_SUBSCRIPTION_ID`). We also need to instantiate our `ResourceMangementClient` object."
   ]
  },
  {
   "cell_type": "code",
   "execution_count": 1,
   "id": "946c79a6",
   "metadata": {},
   "outputs": [],
   "source": [
    "from azure.identity import AzureCliCredential\n",
    "from azure.mgmt.resource import ResourceManagementClient\n",
    "\n",
    "from settings import AZURE_SUBSCRIPTION_ID\n",
    "\n",
    "credential = AzureCliCredential()\n",
    "resource_client = ResourceManagementClient(credential, AZURE_SUBSCRIPTION_ID)"
   ]
  },
  {
   "cell_type": "markdown",
   "id": "0f886238",
   "metadata": {},
   "source": [
    "Let's list our resource groups to find one to delete. We can use the methods we learned in the previous lecture."
   ]
  },
  {
   "cell_type": "code",
   "execution_count": 3,
   "id": "d0451f2c",
   "metadata": {},
   "outputs": [
    {
     "name": "stdout",
     "output_type": "stream",
     "text": [
      "Name: test-group-new - Location: eastus\n",
      "Name: test-group-2 - Location: eastus\n"
     ]
    }
   ],
   "source": [
    "group_list = resource_client.resource_groups.list()\n",
    "for group in list(group_list):\n",
    "    print(f\"Name: {group.name} - Location: {group.location}\")"
   ]
  },
  {
   "cell_type": "markdown",
   "id": "1e1d11ec",
   "metadata": {},
   "source": [
    "To delete a resource group, we can use the `resource_groups.begin_delete()` method. We only have to provide the name of the resource group to be deleted as a parameter."
   ]
  },
  {
   "cell_type": "code",
   "execution_count": 4,
   "id": "85f2602b",
   "metadata": {},
   "outputs": [],
   "source": [
    "rg_result = resource_client.resource_groups.begin_delete(\"test-group-2\")"
   ]
  },
  {
   "cell_type": "markdown",
   "id": "8a88ef9b",
   "metadata": {},
   "source": [
    "Let's check what resource groups still exist to verify the group was deleted. **Note:** The deletion process can take some time (remember the `--no-wait` option for `az group delete`), so the group to be deleted may still be listed if you run this immediately."
   ]
  },
  {
   "cell_type": "code",
   "execution_count": 6,
   "id": "2269b56f",
   "metadata": {},
   "outputs": [
    {
     "data": {
      "text/plain": [
       "['test-group-new']"
      ]
     },
     "execution_count": 6,
     "metadata": {},
     "output_type": "execute_result"
    }
   ],
   "source": [
    "[group.name for group in resource_client.resource_groups.list()]"
   ]
  }
 ],
 "metadata": {
  "kernelspec": {
   "display_name": "Python 3 (ipykernel)",
   "language": "python",
   "name": "python3"
  },
  "language_info": {
   "codemirror_mode": {
    "name": "ipython",
    "version": 3
   },
   "file_extension": ".py",
   "mimetype": "text/x-python",
   "name": "python",
   "nbconvert_exporter": "python",
   "pygments_lexer": "ipython3",
   "version": "3.8.10"
  }
 },
 "nbformat": 4,
 "nbformat_minor": 5
}
