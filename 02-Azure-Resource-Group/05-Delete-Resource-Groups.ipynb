{
 "cells": [
  {
   "cell_type": "markdown",
   "id": "109de50c",
   "metadata": {},
   "source": [
    "<a href = \"https://www.pieriantraining.com\"><img src=\"../PT Centered Purple.png\"> </a>\n",
    "\n",
    "<em style=\"text-align:center\">Copyrighted by Pierian Training</em>"
   ]
  },
  {
   "cell_type": "code",
   "execution_count": 1,
   "id": "946c79a6",
   "metadata": {},
   "outputs": [],
   "source": [
    "from azure.identity import AzureCliCredential\n",
    "from azure.mgmt.resource import ResourceManagementClient\n",
    "\n",
    "from settings import AZURE_SUBSCRIPTION_ID"
   ]
  },
  {
   "cell_type": "code",
   "execution_count": 2,
   "id": "c6029984",
   "metadata": {},
   "outputs": [],
   "source": [
    "credential = AzureCliCredential()"
   ]
  },
  {
   "cell_type": "code",
   "execution_count": 3,
   "id": "cbe07c09",
   "metadata": {},
   "outputs": [],
   "source": [
    "resource_client = ResourceManagementClient(credential, AZURE_SUBSCRIPTION_ID)"
   ]
  },
  {
   "cell_type": "code",
   "execution_count": 11,
   "id": "a04cfe23",
   "metadata": {},
   "outputs": [],
   "source": [
    "group_list = resource_client.resource_groups.list()"
   ]
  },
  {
   "cell_type": "code",
   "execution_count": 12,
   "id": "d0451f2c",
   "metadata": {},
   "outputs": [
    {
     "name": "stdout",
     "output_type": "stream",
     "text": [
      "Name: test-group - Location: eastus\n"
     ]
    }
   ],
   "source": [
    "for group in list(group_list):\n",
    "    print(f\"Name: {group.name} - Location: {group.location}\")"
   ]
  },
  {
   "cell_type": "code",
   "execution_count": 15,
   "id": "85f2602b",
   "metadata": {},
   "outputs": [],
   "source": [
    "rg_result = resource_client.resource_groups.begin_delete(\"test-group\")"
   ]
  },
  {
   "cell_type": "code",
   "execution_count": 18,
   "id": "2269b56f",
   "metadata": {},
   "outputs": [
    {
     "data": {
      "text/plain": [
       "[]"
      ]
     },
     "execution_count": 18,
     "metadata": {},
     "output_type": "execute_result"
    }
   ],
   "source": [
    "[group.name for group in resource_client.resource_groups.list()]"
   ]
  },
  {
   "cell_type": "code",
   "execution_count": null,
   "id": "1104556a",
   "metadata": {},
   "outputs": [],
   "source": []
  }
 ],
 "metadata": {
  "kernelspec": {
   "display_name": "Python 3 (ipykernel)",
   "language": "python",
   "name": "python3"
  },
  "language_info": {
   "codemirror_mode": {
    "name": "ipython",
    "version": 3
   },
   "file_extension": ".py",
   "mimetype": "text/x-python",
   "name": "python",
   "nbconvert_exporter": "python",
   "pygments_lexer": "ipython3",
   "version": "3.8.10"
  }
 },
 "nbformat": 4,
 "nbformat_minor": 5
}
