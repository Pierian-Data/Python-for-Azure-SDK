{
 "cells": [
  {
   "cell_type": "markdown",
   "id": "1c50c8fc",
   "metadata": {},
   "source": [
    "<a href = \"https://www.pieriantraining.com\"><img src=\"../PT Centered Purple.png\"> </a>\n",
    "\n",
    "<em style=\"text-align:center\">Copyrighted by Pierian Training</em>\n",
    "\n",
    "# Azure Authentication Methods\n",
    "\n",
    "## Azure Actions Covered\n",
    "\n",
    "* Authentication via Azure CLI\n",
    "* Authentication via various Python/Azure methods\n",
    "\n",
    "In this lecture, we're going to take a look at some of our options for authentication in Python for Azure.\n",
    "\n",
    "We need to import some credential classes from `azure.identity`."
   ]
  },
  {
   "cell_type": "code",
   "execution_count": 1,
   "id": "c2873178",
   "metadata": {},
   "outputs": [],
   "source": [
    "from azure.identity import (\n",
    "    AzureCliCredential, AzurePowerShellCredential, InteractiveBrowserCredential, DefaultAzureCredential,\n",
    "    EnvironmentCredential, VisualStudioCodeCredential, UsernamePasswordCredential\n",
    ")"
   ]
  },
  {
   "cell_type": "markdown",
   "id": "51669108",
   "metadata": {},
   "source": [
    "Azure's `identity` module provides a number of different methods of authenticating and retrieving credentials in order to interact with Azure services.\n",
    "\n",
    "We'll start with `AzureCliCredential()`. This authenticates our session by requesting a token from the Azure CLI, which means you'll have to first log in with `az login` via the CLI."
   ]
  },
  {
   "cell_type": "code",
   "execution_count": 2,
   "id": "39036734",
   "metadata": {},
   "outputs": [],
   "source": [
    "credential = AzureCliCredential()"
   ]
  },
  {
   "cell_type": "markdown",
   "id": "703a24e7",
   "metadata": {},
   "source": [
    "For users who prefer Azure PowerShell to the CLI, you can use `AzurePowerShellCredential()`, which functions much in the same way as `AzureCliCredential()`. You'll have to first log in with `Connect-AzAccount`, the PowerShell equivalent of `az login`."
   ]
  },
  {
   "cell_type": "code",
   "execution_count": 7,
   "id": "4f8ccb72",
   "metadata": {},
   "outputs": [],
   "source": [
    "credential = AzurePowerShellCredential()"
   ]
  },
  {
   "cell_type": "markdown",
   "id": "943629b3",
   "metadata": {},
   "source": [
    "If you prefer to log in interactively, you can use `InteractiveBrowserCredential()`. This will open up a browser window so that you can log in to Microsft Azure via its log-in pages."
   ]
  },
  {
   "cell_type": "code",
   "execution_count": 2,
   "id": "544cbbcb",
   "metadata": {},
   "outputs": [],
   "source": [
    "credential = InteractiveBrowserCredential()"
   ]
  },
  {
   "cell_type": "markdown",
   "id": "81e85823",
   "metadata": {},
   "source": [
    "You can also use the `VisualStudioCodeCredential()` to authenticate via the Azure Account extension for VS Code. **Note:** this doesn't work with newer versions of the VS Code extension, so you should prefer `AzureCliCredential()` to authentication with VS Code."
   ]
  },
  {
   "cell_type": "code",
   "execution_count": 3,
   "id": "c9bb80b2",
   "metadata": {},
   "outputs": [],
   "source": [
    "credential = VisualStudioCodeCredential()"
   ]
  },
  {
   "cell_type": "markdown",
   "id": "c4ec460c",
   "metadata": {},
   "source": [
    "If you prefer storing your credentials as environment variables, you can use `EnvironmentCredential()`. It can attempt to authenticate with the following variables:\n",
    "\n",
    "* `AZURE_TENANT_ID` - ID of the service principal's tenant\n",
    "* `AZURE_CLIENT_ID` - Client ID for the service principal\n",
    "* `AZURE_CLIENT_SECRET` - Client secret for the service principal\n",
    "* `AZURE_AUTHORITY_HOST` - Authority of an Azure Active Directory endpoint\n",
    "* `AZURE_CLIENT_CERTIFICATE_PATH` - Path to a PEM or PKCS12 certificate file, which includes the private key\n",
    "* `AZURE_CLIENT_CERTIFICATE_PASSWORD` - Password for the certificate file\n",
    "* `AZURE_USERNAME` - User name for Azure account/application\n",
    "* `AZURE_PASSWORD` - Password for the Azure user"
   ]
  },
  {
   "cell_type": "code",
   "execution_count": 6,
   "id": "ecd3e280",
   "metadata": {},
   "outputs": [],
   "source": [
    "credential = EnvironmentCredential()"
   ]
  },
  {
   "cell_type": "markdown",
   "id": "fec3ac94",
   "metadata": {},
   "source": [
    "We can also authenticate using a typical username/password combination. From the documentation,\n",
    "> In general, Microsoft doesn't recommend this kind of authentication, because it's less secure than other\n",
    "authentication flows.\n",
    "\n",
    "Again, we'd prefer to use `AzureCliCredential()`."
   ]
  },
  {
   "cell_type": "code",
   "execution_count": null,
   "id": "898b2046",
   "metadata": {},
   "outputs": [],
   "source": [
    "# credential = UsernamePasswordCredential()"
   ]
  },
  {
   "cell_type": "markdown",
   "id": "1987f6c9",
   "metadata": {},
   "source": [
    "Finally, the `DefaultAzureCredential()` is the credential capable of handling most authentication scenarios. It will essentially try various identities or sources of identities until it finds one that provides a token:\n",
    "\n",
    "1. Service principal configured with environment variables - `EnvironmentCredential()`\n",
    "2. Azure managed identity - `ManagedIdentityCredential()`\n",
    "3. Identity from user signed in to Microsoft application - `SharedTokenCacheCredential()`\n",
    "4. Identity from Azure CLI - `AzureCliCredential()`\n",
    "5. Identity from Azure PowerShell - `AzurePowerShellCredential()`"
   ]
  },
  {
   "cell_type": "code",
   "execution_count": 9,
   "id": "79945a05",
   "metadata": {},
   "outputs": [],
   "source": [
    "credential = DefaultAzureCredential()"
   ]
  }
 ],
 "metadata": {
  "kernelspec": {
   "display_name": "Python 3 (ipykernel)",
   "language": "python",
   "name": "python3"
  },
  "language_info": {
   "codemirror_mode": {
    "name": "ipython",
    "version": 3
   },
   "file_extension": ".py",
   "mimetype": "text/x-python",
   "name": "python",
   "nbconvert_exporter": "python",
   "pygments_lexer": "ipython3",
   "version": "3.8.10"
  }
 },
 "nbformat": 4,
 "nbformat_minor": 5
}
