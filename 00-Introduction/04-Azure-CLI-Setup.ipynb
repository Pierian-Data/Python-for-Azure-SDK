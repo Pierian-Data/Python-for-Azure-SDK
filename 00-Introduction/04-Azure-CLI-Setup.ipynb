{
 "cells": [
  {
   "cell_type": "markdown",
   "id": "036aac0b",
   "metadata": {},
   "source": [
    "<a href = \"https://www.pieriantraining.com\"><img src=\"../PT Centered Purple.png\"> </a>\n",
    "\n",
    "<em style=\"text-align:center\">Copyrighted by Pierian Training</em>\n",
    "\n",
    "# Azure CLI Setup\n",
    "\n",
    "## Azure Actions Covered\n",
    "\n",
    "* Microsoft CLI  setup\n",
    "\n",
    "\n",
    "## Setup\n",
    "\n",
    "1. Navigate to [https://learn.microsoft.com/en-us/cli/azure/install-azure-cli](https://learn.microsoft.com/en-us/cli/azure/install-azure-cli/)\n",
    "2. Follow the link to install the CLI for your operating system\n",
    "    1. [Windows](https://learn.microsoft.com/en-us/cli/azure/install-azure-cli-windows)\n",
    "    2. [macOS](https://learn.microsoft.com/en-us/cli/azure/install-azure-cli-macos)\n",
    "    3. [Linux (Ubuntu)](https://learn.microsoft.com/en-us/cli/azure/install-azure-cli-linux?pivots=apt) - For other distributions, see the Azure CLI Install home page\n",
    "3. Download the CLI or follow the instructions for your OS\n",
    "4. Verify that the installation succeeded by typing `az login` in your terminal.\n",
    "\n",
    "If you run into any issues, please refer to the Microsoft Azure CLI documentation."
   ]
  }
 ],
 "metadata": {
  "kernelspec": {
   "display_name": "Python 3 (ipykernel)",
   "language": "python",
   "name": "python3"
  },
  "language_info": {
   "codemirror_mode": {
    "name": "ipython",
    "version": 3
   },
   "file_extension": ".py",
   "mimetype": "text/x-python",
   "name": "python",
   "nbconvert_exporter": "python",
   "pygments_lexer": "ipython3",
   "version": "3.8.10"
  }
 },
 "nbformat": 4,
 "nbformat_minor": 5
}
