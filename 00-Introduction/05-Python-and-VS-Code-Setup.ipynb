{
 "cells": [
  {
   "cell_type": "markdown",
   "id": "70d677f6",
   "metadata": {},
   "source": [
    "<a href = \"https://www.pieriantraining.com\"><img src=\"../PT Centered Purple.png\"> </a>\n",
    "\n",
    "<em style=\"text-align:center\">Copyrighted by Pierian Training</em>\n",
    "\n",
    "# Python and Virtual Studio Code Setup\n",
    "\n",
    "## Azure Actions Covered\n",
    "\n",
    "* Python setup\n",
    "* Virtual Studio code setup\n",
    "\n",
    "## Python Setup\n",
    "\n",
    "\n",
    "1. If you don't already have Python installed, navigate to [https://www.python.org/downloads/](https://www.python.org/downloads/) and download your preferred version of Python. This course should work with any version of Python 3.8+.\n",
    "2. Follow the installation instructions from the package.\n",
    "3. Verify that Python was installed correctly by typing `python --version` in your terminal or command line.\n",
    "\n",
    "If you run into any issues, please refer to the Python installation documentation or FAQs.\n",
    "\n",
    "## Virtual Studio Code Setup\n",
    "\n",
    "1. If you don't already have VS Code or another IDE installed, navigate to [https://code.visualstudio.com/download](https://code.visualstudio.com/download)\n",
    "2. Download the version of VS Code compatible for your operating system (Windows, macOS, Linux).\n",
    "3. Follow the package instructions to install VS Code on your machine.\n",
    "4. Once installed, open VS Code and navigate to the `Extensions` tab on the sidebar.\n",
    "5. In the search bar, search for `Azure Tools`.\n",
    "6. Install the `Azure Tools` extension.\n",
    "7. Click on the new `Azure` tab in VS Code and then enter your credentials in the appropriate location to link VS Code with your Microsoft Azure account.\n",
    "\n",
    "If you run into any issues, please refer to the VS Code installation instructions or the Microsoft Azure/VS Code documentation.\n",
    "\n",
    "[https://marketplace.visualstudio.com/items?itemName=ms-vscode.vscode-node-azure-pack](https://marketplace.visualstudio.com/items?itemName=ms-vscode.vscode-node-azure-pack)"
   ]
  }
 ],
 "metadata": {
  "kernelspec": {
   "display_name": "Python 3 (ipykernel)",
   "language": "python",
   "name": "python3"
  },
  "language_info": {
   "codemirror_mode": {
    "name": "ipython",
    "version": 3
   },
   "file_extension": ".py",
   "mimetype": "text/x-python",
   "name": "python",
   "nbconvert_exporter": "python",
   "pygments_lexer": "ipython3",
   "version": "3.8.10"
  }
 },
 "nbformat": 4,
 "nbformat_minor": 5
}
