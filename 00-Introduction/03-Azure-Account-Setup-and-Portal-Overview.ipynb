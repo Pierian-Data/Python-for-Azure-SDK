{
 "cells": [
  {
   "cell_type": "markdown",
   "id": "1c50c8fc",
   "metadata": {},
   "source": [
    "<a href = \"https://www.pieriantraining.com\"><img src=\"../PT Centered Purple.png\" /> </a>\n",
    "\n",
    "<em style=\"text-align:center\">Copyrighted by Pierian Training</em>\n",
    "\n",
    "# Azure Account Setup and Portal Overview\n",
    "\n",
    "## Azure Actions Covered\n",
    "\n",
    "* Microsoft Azure account setup\n",
    "\n",
    "\n",
    "## Setup\n",
    "\n",
    "1. Navigate to [https://azure.microsoft.com/en-us/free/](https://azure.microsoft.com/en-us/free/) and click `Start free` (assuming you don't already have an Azure account).\n",
    "2. Log in with your Microsoft account.\n",
    "    1. If you don't have a Microsoft account yet, you'll need to create one. Click `Create account` and follow the instructions on the screen.\n",
    "3. Fill in your personal information in the sign-up form for Microsoft Azure.\n",
    "4. Once you've signed up for your account, you should be taken to your Azure Portal home page/dashboard.\n",
    "\n",
    "If you run into any issues, please refer to the Microsoft Azure documentation."
   ]
  }
 ],
 "metadata": {
  "kernelspec": {
   "display_name": "Python 3 (ipykernel)",
   "language": "python",
   "name": "python3"
  },
  "language_info": {
   "codemirror_mode": {
    "name": "ipython",
    "version": 3
   },
   "file_extension": ".py",
   "mimetype": "text/x-python",
   "name": "python",
   "nbconvert_exporter": "python",
   "pygments_lexer": "ipython3",
   "version": "3.8.10"
  }
 },
 "nbformat": 4,
 "nbformat_minor": 5
}
