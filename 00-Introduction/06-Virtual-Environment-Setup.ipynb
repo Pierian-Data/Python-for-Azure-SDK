{
 "cells": [
  {
   "cell_type": "markdown",
   "id": "c4b1bf45",
   "metadata": {},
   "source": [
    "<a href = \"https://www.pieriantraining.com\"><img src=\"../PT Centered Purple.png\"> </a>\n",
    "\n",
    "<em style=\"text-align:center\">Copyrighted by Pierian Training</em>\n",
    "\n",
    "# Virtual Environment Setup\n",
    "\n",
    "## Azure Actions Covered\n",
    "\n",
    "* VS Code project setup\n",
    "* Virtual environment setup\n",
    "* Environment configuration\n",
    "\n",
    "## VS Code Project Setup\n",
    "\n",
    "1. Create a new window or new project with VS Code.\n",
    "2. Click `Copy from GitHub repo` to start a new project.\n",
    "3. Use the URL for the course repo to copy the repo to your local machine. [https://github.com/Pierian-Data/Python-for-Azure-SDK](https://github.com/Pierian-Data/Python-for-Azure-SDK)\n",
    "4. Verify that your folder structure matches the latest folder structure and contents in GitHub.\n",
    "\n",
    "## Virtual Environment Setup\n",
    "\n",
    "1. To set up a virtual environment, open a terminal in your VS Code project, inside your project directory.\n",
    "2. Type `python -m venv .venv` to create a virtual environment in the `.venv` directory.\n",
    "3. Activate your virtual environment\n",
    "    1. Windows - `.venv\\Scripts\\activate.bat`\n",
    "    2. macOS or Linux - `source .venv/bin/activate`\n",
    "4. Once the virtual environment is activate, install the required packages for the course with `pip install -r requirements.txt`\n",
    "5. Once the installation is complete (this could take a while), verify that you have Jupyter Notebooks installed by opening them with the `jupyter notebook` command in the terminal.\n",
    "\n",
    "## Environment Configuration\n",
    "\n",
    "1. Inside the project directory, create a `.env` file.\n",
    "2. In the `.env` file, add any of the necessary secrets/environment variables that are loaded into the `settings.py` file.\n",
    "    1. For example, add `AZURE_SUBSCRIPTION_ID`, `DEFAULT_LOCATION`, and `DEFAULT_RESOURCE_GROUP` if you want to use these in your Jupyter Notebooks.\n",
    "3. Test whether your `.env` and `settings.py` file are working correctly by opening a new Jupyter Notebook session and importing some of the constants (i.e. `from settings import AZURE_SUBSCRIPTION_ID`)\n",
    "4. If you see an import error (e.g. `Can't import from settings`), you may need to add the project directory to your `PYTHONPATH` environment variable. See the relevant documentation for your operating system.\n",
    "    1. [Windows](https://www.howtogeek.com/787217/how-to-edit-environment-variables-on-windows-10-or-11/)\n",
    "    2. [macOS](https://www.tutorialspoint.com/How-to-set-python-environment-variable-PYTHONPATH-on-Mac)\n",
    "    3. [Linux](https://askubuntu.com/questions/250929/pythonpath-environment-variable)\n",
    "5. Once you can import constants from the `settings.py` file, your environment has been set up correctly."
   ]
  }
 ],
 "metadata": {
  "kernelspec": {
   "display_name": "Python 3 (ipykernel)",
   "language": "python",
   "name": "python3"
  },
  "language_info": {
   "codemirror_mode": {
    "name": "ipython",
    "version": 3
   },
   "file_extension": ".py",
   "mimetype": "text/x-python",
   "name": "python",
   "nbconvert_exporter": "python",
   "pygments_lexer": "ipython3",
   "version": "3.8.10"
  }
 },
 "nbformat": 4,
 "nbformat_minor": 5
}
