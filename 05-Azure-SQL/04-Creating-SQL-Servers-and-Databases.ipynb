{
 "cells": [
  {
   "cell_type": "markdown",
   "id": "1c50c8fc",
   "metadata": {},
   "source": [
    "<a href = \"https://www.pieriantraining.com\"><img src=\"../PT Centered Purple.png\"> </a>\n",
    "\n",
    "<em style=\"text-align:center\">Copyrighted by Pierian Training</em>\n",
    "\n",
    "# Creating Azure SQL Servers with Python\n",
    "\n",
    "## Azure Actions Covered\n",
    "\n",
    "* Creating and listing Azure SQL Servers\n",
    "* Creating and listing databases on a SQL Server\n",
    "* Creating and listing firewall rules for your SQL Server\n",
    "* Connecting to an Azure SQL Server with `pyodbc`\n",
    "\n",
    "In this lecture, we're going to learn how to set up Azure SQL Servers with Python.\n",
    "\n",
    "To begin, we'll need to import our usual libraries as well as any useful environment variables (e.g. AZURE_SUBSCRIPTION_ID). We'll add some new imports as well."
   ]
  },
  {
   "cell_type": "code",
   "execution_count": 1,
   "id": "c2873178",
   "metadata": {},
   "outputs": [],
   "source": [
    "from azure.identity import AzureCliCredential\n",
    "# New imports\n",
    "from azure.mgmt.sql import SqlManagementClient\n",
    "from azure.mgmt.sql.models import FirewallRule\n",
    "\n",
    "# Module for connecting to SQL Server\n",
    "import pyodbc\n",
    "\n",
    "from settings import AZURE_SUBSCRIPTION_ID, DEFAULT_LOCATION, DEFAULT_RESOURCE_GROUP"
   ]
  },
  {
   "cell_type": "markdown",
   "id": "892f9c3e",
   "metadata": {},
   "source": [
    "We'll instantiate our credential as well as our `SqlManagementClient`."
   ]
  },
  {
   "cell_type": "code",
   "execution_count": 2,
   "id": "f77656c2",
   "metadata": {},
   "outputs": [],
   "source": [
    "credential = AzureCliCredential()\n",
    "sql_client = SqlManagementClient(credential, AZURE_SUBSCRIPTION_ID)"
   ]
  },
  {
   "cell_type": "markdown",
   "id": "85b0f8c7",
   "metadata": {},
   "source": [
    "## Azure SQL Server\n",
    "\n",
    "Using our SQL Management Client, we can create a new SQL Server. We need to pass the resource group and set a server name as well as certain server parameters, such as:\n",
    "* `location` - Azure location for the SQL Server\n",
    "* `version` - Version of SQL Server to install\n",
    "* `administrator_login` - User name of admin user\n",
    "* `adminstrator_login_password` - Password for the admin user\n",
    "\n",
    "For a full list of parameters, see [Server class](https://learn.microsoft.com/en-us/python/api/azure-mgmt-sql/azure.mgmt.sql.models.server?view=azure-python)."
   ]
  },
  {
   "cell_type": "code",
   "execution_count": 3,
   "id": "7494b557",
   "metadata": {},
   "outputs": [],
   "source": [
    "sql_server = sql_client.servers.begin_create_or_update(\n",
    "    resource_group_name=DEFAULT_RESOURCE_GROUP,\n",
    "    server_name='bens-server',\n",
    "    parameters={\n",
    "        'location': DEFAULT_LOCATION,\n",
    "        'version': '12.0',\n",
    "        'administrator_login': 'benadmin',\n",
    "        'administrator_login_password': 'testpassword123!'\n",
    "    }\n",
    ")\n",
    "sql_server.wait()"
   ]
  },
  {
   "cell_type": "markdown",
   "id": "9674c5ac",
   "metadata": {},
   "source": [
    "Let's list our SQL Servers to make sure it was created."
   ]
  },
  {
   "cell_type": "code",
   "execution_count": 4,
   "id": "39e378ae",
   "metadata": {},
   "outputs": [
    {
     "name": "stdout",
     "output_type": "stream",
     "text": [
      "bens-server\n"
     ]
    }
   ],
   "source": [
    "for server in sql_client.servers.list():\n",
    "    print(server.name)"
   ]
  },
  {
   "cell_type": "markdown",
   "id": "8cd18a9e",
   "metadata": {},
   "source": [
    "## Databases\n",
    "\n",
    "Now that we've created the SQL Server, we can create a new database on the server using the SQL client. You'll need to pass parameters such as:\n",
    "* `location` - Azure location.\n",
    "* `sample_name` - Name of sample schema to use to populate database.\n",
    "* `edition` - Edition component of the SKU, such as `Basic`, `Standard`, and `Premium`.\n",
    "* `compute_model` - Compute model of the database.\n",
    "* `family` - Generation component of the SKU, such as `Gen4` or `Gen5`.\n",
    "* `capacity` - The capacity component of the SKU.\n",
    "\n",
    "For a full list of parameters, see the [Database class](https://learn.microsoft.com/en-us/python/api/azure-mgmt-sql/azure.mgmt.sql.models.database?view=azure-python)."
   ]
  },
  {
   "cell_type": "code",
   "execution_count": 5,
   "id": "ce19ca26",
   "metadata": {},
   "outputs": [],
   "source": [
    "database = sql_client.databases.begin_create_or_update(\n",
    "    resource_group_name=DEFAULT_RESOURCE_GROUP,\n",
    "    server_name='bens-server',\n",
    "    database_name='bens-db',\n",
    "    parameters={\n",
    "        'location': DEFAULT_LOCATION,\n",
    "        'sample_name': 'AdventureWorksLT',\n",
    "        'edition': 'GeneralPurpose',\n",
    "        'compute_model': 'Serverless',\n",
    "        'family': 'Gen5',\n",
    "        'capacity': 2\n",
    "    }\n",
    ")\n",
    "database.wait()"
   ]
  },
  {
   "cell_type": "markdown",
   "id": "bb804c9c",
   "metadata": {},
   "source": [
    "Now let's list all the databases in our SQL Server."
   ]
  },
  {
   "cell_type": "code",
   "execution_count": 6,
   "id": "994db700",
   "metadata": {},
   "outputs": [
    {
     "name": "stdout",
     "output_type": "stream",
     "text": [
      "master\n",
      "bens-db\n"
     ]
    }
   ],
   "source": [
    "for db in sql_client.databases.list_by_server(DEFAULT_RESOURCE_GROUP, 'bens-server'):\n",
    "    print(db.name)"
   ]
  },
  {
   "cell_type": "markdown",
   "id": "55de2f01",
   "metadata": {},
   "source": [
    "## Connect to SQL Server\n",
    "\n",
    "To connect to the SQL Server, we'll need to create a connection string to pass to `pyodbc`. You'll also need to install the ODBC Driver for SQL Server for your operating system:\n",
    "\n",
    "* [Windows](https://learn.microsoft.com/en-us/sql/connect/odbc/windows/microsoft-odbc-driver-for-sql-server-on-windows?view=sql-server-ver16)\n",
    "* [macOS](https://learn.microsoft.com/en-us/sql/connect/odbc/linux-mac/install-microsoft-odbc-driver-sql-server-macos?view=sql-server-ver16)\n",
    "* [Linux](https://learn.microsoft.com/en-us/sql/connect/odbc/linux-mac/installing-the-microsoft-odbc-driver-for-sql-server?view=sql-server-ver16&tabs=alpine18-install%2Calpine17-install%2Cdebian8-install%2Credhat7-13-install%2Crhel7-offline)"
   ]
  },
  {
   "cell_type": "code",
   "execution_count": 24,
   "id": "464432fb",
   "metadata": {},
   "outputs": [],
   "source": [
    "SERVER = 'bens-server.database.windows.net'\n",
    "DATABASE = 'bens-db'\n",
    "USERNAME = 'benadmin'\n",
    "PASSWORD = 'testpassword123!'\n",
    "# Has to be installed\n",
    "DRIVER = '{ODBC Driver 18 for SQL Server}'\n",
    "\n",
    "connection_string = f'DRIVER={DRIVER};PORT=1433;SERVER={SERVER};DATABASE={DATABASE};UID={USERNAME};PWD={PASSWORD}'"
   ]
  },
  {
   "cell_type": "markdown",
   "id": "cdc0e937",
   "metadata": {},
   "source": [
    "We can pass the connection string to try to connect to the SQL Server and see what happens."
   ]
  },
  {
   "cell_type": "code",
   "execution_count": null,
   "id": "197bef6d",
   "metadata": {},
   "outputs": [],
   "source": [
    "# connection = pyodbc.connect(connection_string)\n",
    "# cursor = connection.cursor()"
   ]
  },
  {
   "cell_type": "markdown",
   "id": "b2f1551c",
   "metadata": {},
   "source": [
    "Our connection will be rejected because we haven't created a firewall rule to allow traffic from our computer/Jupyter Notebook."
   ]
  },
  {
   "cell_type": "markdown",
   "id": "cb758d8c",
   "metadata": {},
   "source": [
    "## Firewall Rules\n",
    "\n",
    "Let's use the SQL client to create a firewall rule. We can pull the relevant IP address from our error message. For a full list of paramters that can be passed, see the [FirewallRule class](https://learn.microsoft.com/en-us/python/api/azure-mgmt-sql/azure.mgmt.sql.models.firewallrule?view=azure-python)."
   ]
  },
  {
   "cell_type": "code",
   "execution_count": 26,
   "id": "4e9d094a",
   "metadata": {},
   "outputs": [],
   "source": [
    "firewall = sql_client.firewall_rules.create_or_update(\n",
    "    resource_group_name=DEFAULT_RESOURCE_GROUP,\n",
    "    server_name='bens-server',\n",
    "    firewall_rule_name='JupyterNotebook',\n",
    "    parameters={\n",
    "        'start_ip_address': '72.175.52.98',\n",
    "        'end_ip_address': '72.175.52.98'\n",
    "    }\n",
    ")\n"
   ]
  },
  {
   "cell_type": "markdown",
   "id": "70818ef5",
   "metadata": {},
   "source": [
    "Let's list all the firewall rules on our SQL Server as well."
   ]
  },
  {
   "cell_type": "code",
   "execution_count": 14,
   "id": "f08d15f2",
   "metadata": {},
   "outputs": [
    {
     "name": "stdout",
     "output_type": "stream",
     "text": [
      "AllowMyIp\n"
     ]
    }
   ],
   "source": [
    "for fr in sql_client.firewall_rules.list_by_server(DEFAULT_RESOURCE_GROUP, 'bens-server'):\n",
    "    print(fr.name)"
   ]
  },
  {
   "cell_type": "markdown",
   "id": "4ce10f00",
   "metadata": {},
   "source": [
    "Now let's try to connect to the server again, and everything should work."
   ]
  },
  {
   "cell_type": "code",
   "execution_count": 27,
   "id": "5af47cf0",
   "metadata": {},
   "outputs": [],
   "source": [
    "connection = pyodbc.connect(connection_string)\n",
    "cursor = connection.cursor()"
   ]
  }
 ],
 "metadata": {
  "kernelspec": {
   "display_name": "Python 3 (ipykernel)",
   "language": "python",
   "name": "python3"
  },
  "language_info": {
   "codemirror_mode": {
    "name": "ipython",
    "version": 3
   },
   "file_extension": ".py",
   "mimetype": "text/x-python",
   "name": "python",
   "nbconvert_exporter": "python",
   "pygments_lexer": "ipython3",
   "version": "3.8.10"
  }
 },
 "nbformat": 4,
 "nbformat_minor": 5
}
