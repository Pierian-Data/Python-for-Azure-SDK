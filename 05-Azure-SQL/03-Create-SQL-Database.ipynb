{
 "cells": [
  {
   "cell_type": "markdown",
   "id": "1c50c8fc",
   "metadata": {},
   "source": [
    "<a href = \"https://www.pieriantraining.com\"><img src=\"../PT Centered Purple.png\"> </a>\n",
    "\n",
    "<em style=\"text-align:center\">Copyrighted by Pierian Training</em>"
   ]
  },
  {
   "cell_type": "code",
   "execution_count": 15,
   "id": "c2873178",
   "metadata": {},
   "outputs": [],
   "source": [
    "from azure.identity import AzureCliCredential\n",
    "from azure.mgmt.compute import ComputeManagementClient\n",
    "from azure.mgmt.network import NetworkManagementClient\n",
    "from azure.mgmt.resource import ResourceManagementClient\n",
    "from azure.mgmt.sql import SqlManagementClient\n",
    "from azure.mgmt.sql.models import FirewallRule\n",
    "\n",
    "import pyodbc\n",
    "\n",
    "from settings import AZURE_SUBSCRIPTION_ID, DEFAULT_LOCATION, DEFAULT_RESOURCE_GROUP"
   ]
  },
  {
   "cell_type": "code",
   "execution_count": 2,
   "id": "f77656c2",
   "metadata": {},
   "outputs": [],
   "source": [
    "credential = AzureCliCredential()\n",
    "sql_client = SqlManagementClient(credential, AZURE_SUBSCRIPTION_ID)"
   ]
  },
  {
   "cell_type": "code",
   "execution_count": 3,
   "id": "7494b557",
   "metadata": {},
   "outputs": [],
   "source": [
    "sql_server = sql_client.servers.begin_create_or_update(\n",
    "    DEFAULT_RESOURCE_GROUP,\n",
    "    'bens-server',\n",
    "    {\n",
    "        'location': DEFAULT_LOCATION,\n",
    "        'version': '12.0',\n",
    "        'administrator_login': 'benadmin',\n",
    "        'administrator_login_password': 'testpassword123!'\n",
    "    }\n",
    ")\n",
    "sql_server.wait()"
   ]
  },
  {
   "cell_type": "code",
   "execution_count": 4,
   "id": "39e378ae",
   "metadata": {},
   "outputs": [
    {
     "name": "stdout",
     "output_type": "stream",
     "text": [
      "bens-server\n"
     ]
    }
   ],
   "source": [
    "for server in sql_client.servers.list():\n",
    "    print(server.name)"
   ]
  },
  {
   "cell_type": "code",
   "execution_count": 5,
   "id": "ce19ca26",
   "metadata": {},
   "outputs": [],
   "source": [
    "database = sql_client.databases.begin_create_or_update(\n",
    "    DEFAULT_RESOURCE_GROUP,\n",
    "    'bens-server',\n",
    "    'bens-db',\n",
    "    {\n",
    "        'location': DEFAULT_LOCATION,\n",
    "        'sample_name': 'AdventureWorksLT',\n",
    "        'edition': 'GeneralPurpose',\n",
    "        'compute_model': 'Serverless',\n",
    "        'family': 'Gen5',\n",
    "        'capacity': 2\n",
    "    }\n",
    ")\n",
    "database.wait()"
   ]
  },
  {
   "cell_type": "code",
   "execution_count": 6,
   "id": "994db700",
   "metadata": {},
   "outputs": [
    {
     "name": "stdout",
     "output_type": "stream",
     "text": [
      "master\n",
      "bens-db\n"
     ]
    }
   ],
   "source": [
    "for db in sql_client.databases.list_by_server(DEFAULT_RESOURCE_GROUP, 'bens-server'):\n",
    "    print(db.name)"
   ]
  },
  {
   "cell_type": "code",
   "execution_count": 13,
   "id": "bf7189ee",
   "metadata": {},
   "outputs": [],
   "source": [
    "firewall = sql_client.firewall_rules.create_or_update(\n",
    "    DEFAULT_RESOURCE_GROUP,\n",
    "    'bens-server',\n",
    "    'AllowMyIp',\n",
    "    {\n",
    "        'start_ip_address': '192.168.1.39',\n",
    "        'end_ip_address': '192.168.1.39'\n",
    "    }\n",
    ")"
   ]
  },
  {
   "cell_type": "code",
   "execution_count": 14,
   "id": "f08d15f2",
   "metadata": {},
   "outputs": [
    {
     "name": "stdout",
     "output_type": "stream",
     "text": [
      "AllowMyIp\n"
     ]
    }
   ],
   "source": [
    "for fr in sql_client.firewall_rules.list_by_server(DEFAULT_RESOURCE_GROUP, 'bens-server'):\n",
    "    print(fr.name)"
   ]
  },
  {
   "cell_type": "code",
   "execution_count": 24,
   "id": "464432fb",
   "metadata": {},
   "outputs": [],
   "source": [
    "SERVER = 'bens-server.database.windows.net'\n",
    "DATABASE = 'bens-db'\n",
    "USERNAME = 'benadmin'\n",
    "PASSWORD = 'testpassword123!'\n",
    "# Has to be installed\n",
    "DRIVER = '{ODBC Driver 18 for SQL Server}'\n",
    "\n",
    "connection_string = f'DRIVER={DRIVER};PORT=1433;SERVER={SERVER};DATABASE={DATABASE};UID={USERNAME};PWD={PASSWORD}'"
   ]
  },
  {
   "cell_type": "code",
   "execution_count": 26,
   "id": "4e9d094a",
   "metadata": {},
   "outputs": [],
   "source": [
    "firewall = sql_client.firewall_rules.create_or_update(\n",
    "    DEFAULT_RESOURCE_GROUP,\n",
    "    'bens-server',\n",
    "    'JupyterNotebook',\n",
    "    {\n",
    "        'start_ip_address': '72.175.52.98',\n",
    "        'end_ip_address': '72.175.52.98'\n",
    "    }\n",
    ")\n"
   ]
  },
  {
   "cell_type": "code",
   "execution_count": 27,
   "id": "5af47cf0",
   "metadata": {},
   "outputs": [],
   "source": [
    "connection = pyodbc.connect(connection_string)\n",
    "cursor = connection.cursor()"
   ]
  },
  {
   "cell_type": "code",
   "execution_count": null,
   "id": "7a3955c1",
   "metadata": {},
   "outputs": [],
   "source": []
  }
 ],
 "metadata": {
  "kernelspec": {
   "display_name": "Python 3 (ipykernel)",
   "language": "python",
   "name": "python3"
  },
  "language_info": {
   "codemirror_mode": {
    "name": "ipython",
    "version": 3
   },
   "file_extension": ".py",
   "mimetype": "text/x-python",
   "name": "python",
   "nbconvert_exporter": "python",
   "pygments_lexer": "ipython3",
   "version": "3.8.10"
  }
 },
 "nbformat": 4,
 "nbformat_minor": 5
}
