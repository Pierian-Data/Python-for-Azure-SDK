{
 "cells": [
  {
   "cell_type": "markdown",
   "id": "1c50c8fc",
   "metadata": {},
   "source": [
    "<a href = \"https://www.pieriantraining.com\"><img src=\"../PT Centered Purple.png\"> </a>\n",
    "\n",
    "<em style=\"text-align:center\">Copyrighted by Pierian Training</em>\n",
    "\n",
    "# Working with Azure SQL via the Azure CLI - Part 1\n",
    "\n",
    "## Azure Actions Covered\n",
    "\n",
    "* Creating Azure SQL Servers\n",
    "* Creating and listing databases on SQL Servers\n",
    "* Creating firewall rules for SQL Servers\n",
    "\n",
    "In this lecture, we're going to set up an Azure SQL server and database. We'll show two ways of doing this: provisioning the individual resources necessary, and then the \"quick\" way of using `az sql up`.\n",
    "\n",
    "First, make sure you're logged in to Azure via the CLI."
   ]
  },
  {
   "cell_type": "markdown",
   "id": "c9654181",
   "metadata": {},
   "source": [
    "```\n",
    "$ az login\n",
    "```"
   ]
  },
  {
   "cell_type": "markdown",
   "id": "a400924e",
   "metadata": {},
   "source": [
    "## Create an Azure SQL Database with Azure CLI"
   ]
  },
  {
   "cell_type": "markdown",
   "id": "bb9e4ada",
   "metadata": {},
   "source": [
    "Next, we need to create a new resource group using the commands we used in the section on Resource Groups."
   ]
  },
  {
   "cell_type": "markdown",
   "id": "c22b9c85",
   "metadata": {},
   "source": [
    "```\n",
    "$ az group create --name sql-resource-group --location eastus\n",
    "```"
   ]
  },
  {
   "cell_type": "markdown",
   "id": "5c1ac346",
   "metadata": {},
   "source": [
    "Our database needs a SQL Server resource, so let's create that first using `az sql server create`. Some important options:\n",
    "* `--name` - Name of the SQL Server\n",
    "* `--admin-user` - Name of the admin user\n",
    "* `--admin-password` - Password for the admin user"
   ]
  },
  {
   "cell_type": "markdown",
   "id": "4cf7b250",
   "metadata": {},
   "source": [
    "```\n",
    "$ az sql server create --name bens-server --resource-group sql-resource-group --location eastus --admin-user benadmin --admin-password testpassword123!\n",
    "```"
   ]
  },
  {
   "cell_type": "markdown",
   "id": "a0b8108f",
   "metadata": {},
   "source": [
    "To make sure that your database is only accessible by you, we need to create a firewall around the SQL server using `az sql server firewall-rule create`. Some important options:\n",
    "* `--name` - Name of the firewall rule\n",
    "* `--start-ip-address` - Starting IP address of IP range to be allowed\n",
    "* `--end-ip-address` - Ending IP address of the IP range to be allowed\n",
    "\n",
    "You can find your IP address using your operating system's GUI to check your network settings. Additionally, you can use command line tools such as `hostname -I` if you're comfortably using `bash` or a similar command line interface.\n",
    "\n",
    "**Note:** You'll likely need to modify your firewall rule/create a new one to access your database through the Azure Portal. Since the Azure Portal is web-hosted, it will have a different IP address from your local machine."
   ]
  },
  {
   "cell_type": "markdown",
   "id": "202f042d",
   "metadata": {},
   "source": [
    "```\n",
    "$ az sql server firewall-rule create --resource-group sql-resource-group --server bens-server -n AllowMyIp --start-ip-address 192.168.X.X --end-ip-address 192.168.X.X\n",
    "```"
   ]
  },
  {
   "cell_type": "markdown",
   "id": "8bad14aa",
   "metadata": {},
   "source": [
    "Now that our server is created, let's create a new database. Remember, each SQL Server instance can contain multiple databases. Some important options:\n",
    "* `--name` - Name of the database to be created\n",
    "* `--sample-name` - Name of the sample schema to be populated. Right now, the only option is `AdventureWorksLT`. This is a useful option to set up a database with test/sample data.\n",
    "* `--edition` - Edition component of the SKU (e.g. Basic, Standard, Premium, etc.)\n",
    "* `--compute-model` - Compute model of the database\n",
    "* `--family` - Compute generation component of the SKU\n",
    "* `--capacity` - The capacity component of the SKU in integer numbers of DTUs or vcores."
   ]
  },
  {
   "cell_type": "markdown",
   "id": "012e0695",
   "metadata": {},
   "source": [
    "```\n",
    "$ az sql db create --resource-group sql-resource-group --server bens-server --name bens-db --sample-name AdventureWorksLT --edition GeneralPurpose --compute-model Serverless --family Gen5 --capacity 2\n",
    "```"
   ]
  },
  {
   "cell_type": "markdown",
   "id": "1299a145",
   "metadata": {},
   "source": [
    "Let's check that our database was created successfully. We can do this via the Azure Portal or using `az sql db list` with the Resource Group name and the server name."
   ]
  },
  {
   "cell_type": "markdown",
   "id": "bdd0ae15",
   "metadata": {},
   "source": [
    "```\n",
    "$ az sql db list --resource-group sql-resource-group --server bens-server\n",
    "```"
   ]
  },
  {
   "cell_type": "markdown",
   "id": "e5093168",
   "metadata": {},
   "source": [
    "In the next lecture, we'll continue working with Azure SQL Servers."
   ]
  }
 ],
 "metadata": {
  "kernelspec": {
   "display_name": "Python 3 (ipykernel)",
   "language": "python",
   "name": "python3"
  },
  "language_info": {
   "codemirror_mode": {
    "name": "ipython",
    "version": 3
   },
   "file_extension": ".py",
   "mimetype": "text/x-python",
   "name": "python",
   "nbconvert_exporter": "python",
   "pygments_lexer": "ipython3",
   "version": "3.10.6"
  }
 },
 "nbformat": 4,
 "nbformat_minor": 5
}
