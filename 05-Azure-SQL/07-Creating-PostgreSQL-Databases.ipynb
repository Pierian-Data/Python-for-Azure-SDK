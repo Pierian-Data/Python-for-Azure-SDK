{
 "cells": [
  {
   "cell_type": "markdown",
   "id": "1c50c8fc",
   "metadata": {},
   "source": [
    "<a href = \"https://www.pieriantraining.com\"><img src=\"../PT Centered Purple.png\"> </a>\n",
    "\n",
    "<em style=\"text-align:center\">Copyrighted by Pierian Training</em>"
   ]
  },
  {
   "cell_type": "code",
   "execution_count": 1,
   "id": "c2873178",
   "metadata": {},
   "outputs": [],
   "source": [
    "from azure.identity import AzureCliCredential\n",
    "from azure.mgmt.rdbms.postgresql_flexibleservers import PostgreSQLManagementClient\n",
    "from azure.mgmt.rdbms.postgresql_flexibleservers.models import Server, Sku, Storage\n",
    "\n",
    "import psycopg2\n",
    "\n",
    "from settings import AZURE_SUBSCRIPTION_ID, DEFAULT_LOCATION, DEFAULT_RESOURCE_GROUP"
   ]
  },
  {
   "cell_type": "code",
   "execution_count": 2,
   "id": "f77656c2",
   "metadata": {},
   "outputs": [],
   "source": [
    "credential = AzureCliCredential()\n",
    "postgres_client = PostgreSQLManagementClient(credential, AZURE_SUBSCRIPTION_ID)"
   ]
  },
  {
   "cell_type": "code",
   "execution_count": 3,
   "id": "bd9610cd",
   "metadata": {},
   "outputs": [],
   "source": [
    "poller = postgres_client.servers.begin_create(\n",
    "    DEFAULT_RESOURCE_GROUP,\n",
    "    'bens-server',\n",
    "    Server(\n",
    "        location=DEFAULT_LOCATION,\n",
    "        administrator_login='benadmin',\n",
    "        administrator_login_password='testpassword123!',\n",
    "        sku=Sku(name='Standard_D2s_v3', tier='GeneralPurpose'),\n",
    "        storage=Storage(storage_size_gb=32),\n",
    "        version='13'\n",
    "    )\n",
    ")\n",
    "server = poller.result()"
   ]
  },
  {
   "cell_type": "code",
   "execution_count": 4,
   "id": "b5e78187",
   "metadata": {},
   "outputs": [
    {
     "data": {
      "text/plain": [
       "'bens-server'"
      ]
     },
     "execution_count": 4,
     "metadata": {},
     "output_type": "execute_result"
    }
   ],
   "source": [
    "server.name"
   ]
  },
  {
   "cell_type": "code",
   "execution_count": 5,
   "id": "ada8b2ff",
   "metadata": {},
   "outputs": [],
   "source": [
    "poller = postgres_client.firewall_rules.begin_create_or_update(\n",
    "    DEFAULT_RESOURCE_GROUP,\n",
    "    'bens-server',\n",
    "    'AllowMyIp',\n",
    "    {\n",
    "        'start_ip_address': '72.174.17.20',\n",
    "        'end_ip_address': '72.174.17.20'\n",
    "    }\n",
    ")\n",
    "firewall_rule = poller.result()"
   ]
  },
  {
   "cell_type": "code",
   "execution_count": 6,
   "id": "e43745fe",
   "metadata": {},
   "outputs": [
    {
     "data": {
      "text/plain": [
       "'AllowMyIp'"
      ]
     },
     "execution_count": 6,
     "metadata": {},
     "output_type": "execute_result"
    }
   ],
   "source": [
    "firewall_rule.name"
   ]
  },
  {
   "cell_type": "code",
   "execution_count": 7,
   "id": "39e378ae",
   "metadata": {},
   "outputs": [
    {
     "name": "stdout",
     "output_type": "stream",
     "text": [
      "bens-server\n"
     ]
    }
   ],
   "source": [
    "for server in postgres_client.servers.list():\n",
    "    print(server.name)"
   ]
  },
  {
   "cell_type": "code",
   "execution_count": 9,
   "id": "de0cdfaf",
   "metadata": {},
   "outputs": [],
   "source": [
    "poller = postgres_client.databases.begin_create(\n",
    "    DEFAULT_RESOURCE_GROUP,\n",
    "    'bens-server',\n",
    "    'bens-db',\n",
    "    {}\n",
    ")\n",
    "db = poller.result()"
   ]
  },
  {
   "cell_type": "code",
   "execution_count": 10,
   "id": "771a5b86",
   "metadata": {},
   "outputs": [
    {
     "data": {
      "text/plain": [
       "'bens-db'"
      ]
     },
     "execution_count": 10,
     "metadata": {},
     "output_type": "execute_result"
    }
   ],
   "source": [
    "db.name"
   ]
  },
  {
   "cell_type": "code",
   "execution_count": 11,
   "id": "2eddf15b",
   "metadata": {},
   "outputs": [
    {
     "name": "stdout",
     "output_type": "stream",
     "text": [
      "azure_maintenance\n",
      "postgres\n",
      "azure_sys\n",
      "bens-db\n"
     ]
    }
   ],
   "source": [
    "for db in postgres_client.databases.list_by_server(DEFAULT_RESOURCE_GROUP, 'bens-server'):\n",
    "    print(db.name)"
   ]
  },
  {
   "cell_type": "code",
   "execution_count": 26,
   "id": "4e9d094a",
   "metadata": {},
   "outputs": [],
   "source": [
    "firewall = sql_client.firewall_rules.create_or_update(\n",
    "    DEFAULT_RESOURCE_GROUP,\n",
    "    'bens-server',\n",
    "    'JupyterNotebook',\n",
    "    {\n",
    "        'start_ip_address': '72.175.52.98',\n",
    "        'end_ip_address': '72.175.52.98'\n",
    "    }\n",
    ")\n"
   ]
  },
  {
   "cell_type": "code",
   "execution_count": 27,
   "id": "5af47cf0",
   "metadata": {},
   "outputs": [],
   "source": [
    "HOST_NAME = 'bens-server'\n",
    "DB_NAME = 'bens-db'\n",
    "USER_NAME = 'benadmin'\n",
    "PASSWORD = 'testpassword123!'"
   ]
  },
  {
   "cell_type": "code",
   "execution_count": 13,
   "id": "7a3955c1",
   "metadata": {},
   "outputs": [],
   "source": [
    "connection = psycopg2.connect(\n",
    "    host='bens-server.postgres.database.azure.com',\n",
    "    database='bens-db',\n",
    "    user='benadmin',\n",
    "    password='testpassword123!'\n",
    ")"
   ]
  },
  {
   "cell_type": "code",
   "execution_count": 14,
   "id": "a6220683",
   "metadata": {},
   "outputs": [],
   "source": [
    "cursor = connection.cursor()"
   ]
  },
  {
   "cell_type": "code",
   "execution_count": 16,
   "id": "093cb49b",
   "metadata": {},
   "outputs": [],
   "source": [
    "cursor.execute(\"\"\"\n",
    "    select table_name, table_schema\n",
    "    from information_schema.tables\n",
    "    limit 15;\n",
    "\"\"\")\n",
    "rows = cursor.fetchall()"
   ]
  },
  {
   "cell_type": "code",
   "execution_count": 17,
   "id": "dd490b51",
   "metadata": {},
   "outputs": [
    {
     "data": {
      "text/plain": [
       "[('pg_statistic', 'pg_catalog'),\n",
       " ('pg_type', 'pg_catalog'),\n",
       " ('pg_foreign_table', 'pg_catalog'),\n",
       " ('pg_roles', 'pg_catalog'),\n",
       " ('pg_settings', 'pg_catalog'),\n",
       " ('pg_hba_file_rules', 'pg_catalog'),\n",
       " ('pg_config', 'pg_catalog'),\n",
       " ('pg_shmem_allocations', 'pg_catalog'),\n",
       " ('pg_prepared_statements', 'pg_catalog'),\n",
       " ('pg_stat_progress_vacuum', 'pg_catalog'),\n",
       " ('pg_replication_origin_status', 'pg_catalog'),\n",
       " ('pg_subscription', 'pg_catalog'),\n",
       " ('pg_attribute', 'pg_catalog'),\n",
       " ('pg_proc', 'pg_catalog'),\n",
       " ('pg_class', 'pg_catalog')]"
      ]
     },
     "execution_count": 17,
     "metadata": {},
     "output_type": "execute_result"
    }
   ],
   "source": [
    "rows"
   ]
  },
  {
   "cell_type": "code",
   "execution_count": 18,
   "id": "ca7245c3",
   "metadata": {},
   "outputs": [],
   "source": [
    "cursor.close()\n",
    "connection.close()"
   ]
  }
 ],
 "metadata": {
  "kernelspec": {
   "display_name": "Python 3 (ipykernel)",
   "language": "python",
   "name": "python3"
  },
  "language_info": {
   "codemirror_mode": {
    "name": "ipython",
    "version": 3
   },
   "file_extension": ".py",
   "mimetype": "text/x-python",
   "name": "python",
   "nbconvert_exporter": "python",
   "pygments_lexer": "ipython3",
   "version": "3.8.10"
  }
 },
 "nbformat": 4,
 "nbformat_minor": 5
}
