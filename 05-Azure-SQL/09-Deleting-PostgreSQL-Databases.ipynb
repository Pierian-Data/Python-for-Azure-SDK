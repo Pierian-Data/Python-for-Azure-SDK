{
 "cells": [
  {
   "cell_type": "markdown",
   "id": "1c50c8fc",
   "metadata": {},
   "source": [
    "<a href = \"https://www.pieriantraining.com\"><img src=\"../PT Centered Purple.png\"> </a>\n",
    "\n",
    "<em style=\"text-align:center\">Copyrighted by Pierian Training</em>\n",
    "\n",
    "# Deleting PostgreSQL Databases\n",
    "\n",
    "## Azure Actions Covered\n",
    "\n",
    "* Deleting PostgreSQL databases\n",
    "* Deleting PostgreSQL servers\n",
    "\n",
    "In this lecture, we'll learn how to delete the PostgreSQL databases and servers we created in previous lectures.\n",
    "\n",
    "Let's import our credential and management libraries."
   ]
  },
  {
   "cell_type": "code",
   "execution_count": 1,
   "id": "c2873178",
   "metadata": {},
   "outputs": [],
   "source": [
    "from azure.identity import AzureCliCredential\n",
    "from azure.mgmt.rdbms.postgresql_flexibleservers import PostgreSQLManagementClient\n",
    "\n",
    "from settings import DEFAULT_RESOURCE_GROUP"
   ]
  },
  {
   "cell_type": "markdown",
   "id": "59e14d5b",
   "metadata": {},
   "source": [
    "Make sure to instantiate your credentials and the `PostgreSQLManagementClient()`."
   ]
  },
  {
   "cell_type": "code",
   "execution_count": 2,
   "id": "f77656c2",
   "metadata": {},
   "outputs": [],
   "source": [
    "credential = AzureCliCredential()\n",
    "postgres_client = PostgreSQLManagementClient(credential, AZURE_SUBSCRIPTION_ID)"
   ]
  },
  {
   "cell_type": "markdown",
   "id": "a317c4e2",
   "metadata": {},
   "source": [
    "## Deleting Databases\n",
    "\n",
    "Before deleting a database, let's verify which database we want to delete by first listing all of them on our server."
   ]
  },
  {
   "cell_type": "code",
   "execution_count": 3,
   "id": "fab5e319",
   "metadata": {},
   "outputs": [
    {
     "name": "stdout",
     "output_type": "stream",
     "text": [
      "azure_maintenance\n",
      "postgres\n",
      "azure_sys\n",
      "bens-db\n"
     ]
    }
   ],
   "source": [
    "for db in postgres_client.databases.list_by_server(DEFAULT_RESOURCE_GROUP, 'bens-server'):\n",
    "    print(db.name)"
   ]
  },
  {
   "cell_type": "markdown",
   "id": "28fbef53",
   "metadata": {},
   "source": [
    "We're going to delete the database `bens-db` using `begin_delete()`."
   ]
  },
  {
   "cell_type": "code",
   "execution_count": 4,
   "id": "3dbd6045",
   "metadata": {},
   "outputs": [],
   "source": [
    "poller = postgres_client.databases.begin_delete(\n",
    "    resource_group_name=DEFAULT_RESOURCE_GROUP,\n",
    "    server_name='bens-server',\n",
    "    database_name='bens-db'\n",
    ")\n",
    "result = poller.result()"
   ]
  },
  {
   "cell_type": "markdown",
   "id": "5a8abbb9",
   "metadata": {},
   "source": [
    "Now if we list our DBs, the server we deleted is gone."
   ]
  },
  {
   "cell_type": "code",
   "execution_count": 6,
   "id": "b253a90f",
   "metadata": {},
   "outputs": [
    {
     "name": "stdout",
     "output_type": "stream",
     "text": [
      "azure_maintenance\n",
      "postgres\n",
      "azure_sys\n"
     ]
    }
   ],
   "source": [
    "for db in postgres_client.databases.list_by_server(DEFAULT_RESOURCE_GROUP, 'bens-server'):\n",
    "    print(db.name)"
   ]
  },
  {
   "cell_type": "markdown",
   "id": "165b3d29",
   "metadata": {},
   "source": [
    "## Deleting Servers\n",
    "\n",
    "We can delete our PostgreSQL server using a similar `begin_delete()` method on the `servers` class."
   ]
  },
  {
   "cell_type": "code",
   "execution_count": 7,
   "id": "681f30be",
   "metadata": {},
   "outputs": [],
   "source": [
    "poller = postgres_client.servers.begin_delete(\n",
    "    resource_group_name=DEFAULT_RESOURCE_GROUP,\n",
    "    server_name='bens-server'\n",
    ")\n",
    "result = poller.result()"
   ]
  },
  {
   "cell_type": "markdown",
   "id": "651c6c75",
   "metadata": {},
   "source": [
    "Now if we list our Postgres servers, we won't have any."
   ]
  },
  {
   "cell_type": "code",
   "execution_count": 9,
   "id": "f78d0889",
   "metadata": {},
   "outputs": [],
   "source": [
    "for server in postgres_client.servers.list():\n",
    "    print(server.name)"
   ]
  }
 ],
 "metadata": {
  "kernelspec": {
   "display_name": "Python 3 (ipykernel)",
   "language": "python",
   "name": "python3"
  },
  "language_info": {
   "codemirror_mode": {
    "name": "ipython",
    "version": 3
   },
   "file_extension": ".py",
   "mimetype": "text/x-python",
   "name": "python",
   "nbconvert_exporter": "python",
   "pygments_lexer": "ipython3",
   "version": "3.8.10"
  }
 },
 "nbformat": 4,
 "nbformat_minor": 5
}
