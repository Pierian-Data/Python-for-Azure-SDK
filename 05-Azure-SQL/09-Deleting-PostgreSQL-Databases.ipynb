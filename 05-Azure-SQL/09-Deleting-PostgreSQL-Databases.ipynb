{
 "cells": [
  {
   "cell_type": "markdown",
   "id": "1c50c8fc",
   "metadata": {},
   "source": [
    "<a href = \"https://www.pieriantraining.com\"><img src=\"../PT Centered Purple.png\"> </a>\n",
    "\n",
    "<em style=\"text-align:center\">Copyrighted by Pierian Training</em>"
   ]
  },
  {
   "cell_type": "code",
   "execution_count": 1,
   "id": "c2873178",
   "metadata": {},
   "outputs": [],
   "source": [
    "from azure.identity import AzureCliCredential\n",
    "from azure.mgmt.rdbms.postgresql_flexibleservers import PostgreSQLManagementClient\n",
    "\n",
    "from settings import DEFAULT_RESOURCE_GROUP"
   ]
  },
  {
   "cell_type": "code",
   "execution_count": 2,
   "id": "f77656c2",
   "metadata": {},
   "outputs": [],
   "source": [
    "credential = AzureCliCredential()\n",
    "postgres_client = PostgreSQLManagementClient(credential, AZURE_SUBSCRIPTION_ID)"
   ]
  },
  {
   "cell_type": "code",
   "execution_count": 3,
   "id": "fab5e319",
   "metadata": {},
   "outputs": [
    {
     "name": "stdout",
     "output_type": "stream",
     "text": [
      "azure_maintenance\n",
      "postgres\n",
      "azure_sys\n",
      "bens-db\n"
     ]
    }
   ],
   "source": [
    "for db in postgres_client.databases.list_by_server(DEFAULT_RESOURCE_GROUP, 'bens-server'):\n",
    "    print(db.name)"
   ]
  },
  {
   "cell_type": "code",
   "execution_count": 4,
   "id": "3dbd6045",
   "metadata": {},
   "outputs": [],
   "source": [
    "poller = postgres_client.databases.begin_delete(\n",
    "    DEFAULT_RESOURCE_GROUP,\n",
    "    'bens-server',\n",
    "    'bens-db'\n",
    ")\n",
    "result = poller.result()"
   ]
  },
  {
   "cell_type": "code",
   "execution_count": 6,
   "id": "b253a90f",
   "metadata": {},
   "outputs": [
    {
     "name": "stdout",
     "output_type": "stream",
     "text": [
      "azure_maintenance\n",
      "postgres\n",
      "azure_sys\n"
     ]
    }
   ],
   "source": [
    "for db in postgres_client.databases.list_by_server(DEFAULT_RESOURCE_GROUP, 'bens-server'):\n",
    "    print(db.name)"
   ]
  },
  {
   "cell_type": "code",
   "execution_count": 7,
   "id": "681f30be",
   "metadata": {},
   "outputs": [],
   "source": [
    "poller = postgres_client.servers.begin_delete(\n",
    "    DEFAULT_RESOURCE_GROUP,\n",
    "    'bens-server'\n",
    ")\n",
    "result = poller.result()"
   ]
  },
  {
   "cell_type": "code",
   "execution_count": 9,
   "id": "f78d0889",
   "metadata": {},
   "outputs": [],
   "source": [
    "for server in postgres_client.servers.list():\n",
    "    print(server.name)"
   ]
  }
 ],
 "metadata": {
  "kernelspec": {
   "display_name": "Python 3 (ipykernel)",
   "language": "python",
   "name": "python3"
  },
  "language_info": {
   "codemirror_mode": {
    "name": "ipython",
    "version": 3
   },
   "file_extension": ".py",
   "mimetype": "text/x-python",
   "name": "python",
   "nbconvert_exporter": "python",
   "pygments_lexer": "ipython3",
   "version": "3.8.10"
  }
 },
 "nbformat": 4,
 "nbformat_minor": 5
}
