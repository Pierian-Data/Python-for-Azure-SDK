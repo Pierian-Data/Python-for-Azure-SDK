{
 "cells": [
  {
   "cell_type": "markdown",
   "id": "1c50c8fc",
   "metadata": {},
   "source": [
    "<a href = \"https://www.pieriantraining.com\"><img src=\"../PT Centered Purple.png\"> </a>\n",
    "\n",
    "<em style=\"text-align:center\">Copyrighted by Pierian Training</em>\n",
    "\n",
    "# Working with PostgreSQL via the Azure CLI\n",
    "\n",
    "## Azure Actions Covered\n",
    "\n",
    "* Creating, listing, and deleting PostgreSQL servers\n",
    "* Creating, listing, and deleting databases on PostgreSQL servers\n",
    "* Connecting and querying databases on PostgreSQL servers\n",
    "\n",
    "In this lecture, we're going to set up an PostgreSQL server and database.\n",
    "\n",
    "First, make sure you're logged in to Azure via the CLI."
   ]
  },
  {
   "cell_type": "markdown",
   "id": "c9654181",
   "metadata": {},
   "source": [
    "```\n",
    "$ az login\n",
    "```"
   ]
  },
  {
   "cell_type": "markdown",
   "id": "e6545367",
   "metadata": {},
   "source": [
    "## Creating Servers and Databases\n",
    "\n",
    "First, let's create a PostgreSQL server under our default resource group and location with `az postgres flexible-server create`. Some important options:\n",
    "* `--name` - Name of the PostgreSQL server\n",
    "* `--admin-user` - Name of the admin user\n",
    "* `--admin-password` - Password for the admin user"
   ]
  },
  {
   "cell_type": "markdown",
   "id": "ec158ab3",
   "metadata": {},
   "source": [
    "```\n",
    "$ az postgres flexible-server create --location eastus --resource-group default-resource-group --name bens-server --admin-user benadmin --admin-password testpassword123!\n",
    "```"
   ]
  },
  {
   "cell_type": "markdown",
   "id": "6ac9bd8d",
   "metadata": {},
   "source": [
    "Next, let's create a database on our server. "
   ]
  },
  {
   "cell_type": "markdown",
   "id": "3d19d1af",
   "metadata": {},
   "source": [
    "```\n",
    "$ az postgres flexible-server db create --resource-group default-resource-group --server-name bens-server --database-name bens-db\n",
    "```"
   ]
  },
  {
   "cell_type": "markdown",
   "id": "ba18159e",
   "metadata": {},
   "source": [
    "We can use `az postgres flexible-server db list` to show all the databases on our PostgreSQL server, including the one we just created."
   ]
  },
  {
   "cell_type": "markdown",
   "id": "641bfd71",
   "metadata": {},
   "source": [
    "```\n",
    "$ az postgres flexible-server db list --resource-group default-resource-group --server-name bens-server\n",
    "```"
   ]
  },
  {
   "cell_type": "markdown",
   "id": "f83b449a",
   "metadata": {},
   "source": [
    "To interact with our newly created database, let's connect to our server using our admin user name and password. We can also use the `--interactive` option to open the interactive PostgreSQL CLI."
   ]
  },
  {
   "cell_type": "markdown",
   "id": "07c73790",
   "metadata": {},
   "source": [
    "```\n",
    "$ az postgres flexible-server connect --name bens-server --admin-user benadmin --admin-password testpassword123! --interactive\n",
    "```"
   ]
  },
  {
   "cell_type": "markdown",
   "id": "805b2a56",
   "metadata": {},
   "source": [
    "Let's query the `information_schema.tables` table to see the data in it."
   ]
  },
  {
   "cell_type": "markdown",
   "id": "1a5c1812",
   "metadata": {},
   "source": [
    "```\n",
    "> select table_schema, table_name from information_schema.tables limit 10;\n",
    "```"
   ]
  },
  {
   "cell_type": "markdown",
   "id": "028d939c",
   "metadata": {},
   "source": [
    "Our database is pretty boring right now because it only has the standard \"out-of-the-box\" PostgreSQL data, so we'll exit out to the Azure CLI."
   ]
  },
  {
   "cell_type": "markdown",
   "id": "cd896e6f",
   "metadata": {},
   "source": [
    "```\n",
    "> exit;\n",
    "```"
   ]
  },
  {
   "cell_type": "markdown",
   "id": "ab0ee1aa",
   "metadata": {},
   "source": [
    "Finally, let's clean up our workspace by deleting the PostgreSQL database and then the server."
   ]
  },
  {
   "cell_type": "markdown",
   "id": "3db7673a",
   "metadata": {},
   "source": [
    "```\n",
    "$ az postgres flexible-server db delete --resource-group default-resource-group --server-name bens-server --database-name bens-db\n",
    "```"
   ]
  },
  {
   "cell_type": "markdown",
   "id": "75bfe7eb",
   "metadata": {},
   "source": [
    "We can list our servers prior to deleting them to make sure we delete the right one."
   ]
  },
  {
   "cell_type": "markdown",
   "id": "6b332b48",
   "metadata": {},
   "source": [
    "```\n",
    "$ az postgres flexible-server list --resource-group default-resource-group\n",
    "\n",
    "$ az postgres flexible-server delete --resource-group default-resource-group --name bens-server\n",
    "```"
   ]
  }
 ],
 "metadata": {
  "kernelspec": {
   "display_name": "Python 3 (ipykernel)",
   "language": "python",
   "name": "python3"
  },
  "language_info": {
   "codemirror_mode": {
    "name": "ipython",
    "version": 3
   },
   "file_extension": ".py",
   "mimetype": "text/x-python",
   "name": "python",
   "nbconvert_exporter": "python",
   "pygments_lexer": "ipython3",
   "version": "3.8.10"
  }
 },
 "nbformat": 4,
 "nbformat_minor": 5
}
