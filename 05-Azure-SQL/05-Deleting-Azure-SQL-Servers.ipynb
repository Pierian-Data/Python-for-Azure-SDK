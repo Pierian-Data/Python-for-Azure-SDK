{
 "cells": [
  {
   "cell_type": "markdown",
   "id": "1c50c8fc",
   "metadata": {},
   "source": [
    "<a href = \"https://www.pieriantraining.com\"><img src=\"../PT Centered Purple.png\"> </a>\n",
    "\n",
    "<em style=\"text-align:center\">Copyrighted by Pierian Training</em>\n",
    "\n",
    "# Deleting Azure SQL Servers\n",
    "\n",
    "## Azure Actions Covered\n",
    "\n",
    "* Delete Azure SQL Server databases\n",
    "* Delete firewall rules\n",
    "* Delete Azure SQL Servers\n",
    "\n",
    "In this lecture, we'll learn how to delete Azure SQL Servers with Python.\n",
    "\n",
    "To begin, we'll need to import our usual libraries as well as any useful environment variables (e.g. AZURE_SUBSCRIPTION_ID)."
   ]
  },
  {
   "cell_type": "code",
   "execution_count": 1,
   "id": "c2873178",
   "metadata": {},
   "outputs": [],
   "source": [
    "from azure.identity import AzureCliCredential\n",
    "from azure.mgmt.sql import SqlManagementClient\n",
    "\n",
    "from settings import AZURE_SUBSCRIPTION_ID, DEFAULT_LOCATION, DEFAULT_RESOURCE_GROUP"
   ]
  },
  {
   "cell_type": "markdown",
   "id": "9cab9419",
   "metadata": {},
   "source": [
    "We'll instantiate our credential as well as our `SqlManagementClient`."
   ]
  },
  {
   "cell_type": "code",
   "execution_count": 2,
   "id": "f77656c2",
   "metadata": {},
   "outputs": [],
   "source": [
    "credential = AzureCliCredential()\n",
    "sql_client = SqlManagementClient(credential, AZURE_SUBSCRIPTION_ID)"
   ]
  },
  {
   "cell_type": "markdown",
   "id": "479ba06a",
   "metadata": {},
   "source": [
    "## Databases\n",
    "\n",
    "Let's list the databases on our server to determine which one we want to delete."
   ]
  },
  {
   "cell_type": "code",
   "execution_count": 4,
   "id": "cabc3556",
   "metadata": {},
   "outputs": [
    {
     "name": "stdout",
     "output_type": "stream",
     "text": [
      "master\n",
      "bens-db\n"
     ]
    }
   ],
   "source": [
    "for db in sql_client.databases.list_by_server(DEFAULT_RESOURCE_GROUP, 'bens-server'):\n",
    "    print(db.name)"
   ]
  },
  {
   "cell_type": "markdown",
   "id": "807bf6cf",
   "metadata": {},
   "source": [
    "Now that we know the name, we can run our delete operation."
   ]
  },
  {
   "cell_type": "code",
   "execution_count": 5,
   "id": "da597524",
   "metadata": {},
   "outputs": [],
   "source": [
    "sql_db = sql_client.databases.begin_delete(\n",
    "    resource_group_name=DEFAULT_RESOURCE_GROUP,\n",
    "    server_name='bens-server',\n",
    "    database_name='bens-db'\n",
    ")\n",
    "sql_db.wait()"
   ]
  },
  {
   "cell_type": "markdown",
   "id": "42022e4a",
   "metadata": {},
   "source": [
    "## Firewall Rules\n",
    "\n",
    "To-do"
   ]
  },
  {
   "cell_type": "markdown",
   "id": "f60e58ae",
   "metadata": {},
   "source": [
    "## SQL Servers\n",
    "\n",
    "As with the databases and firewall rules, let's list our servers to make sure we know which one to delete."
   ]
  },
  {
   "cell_type": "code",
   "execution_count": 6,
   "id": "62cb61a6",
   "metadata": {},
   "outputs": [
    {
     "name": "stdout",
     "output_type": "stream",
     "text": [
      "bens-server\n"
     ]
    }
   ],
   "source": [
    "for server in sql_client.servers.list():\n",
    "    print(server.name)"
   ]
  },
  {
   "cell_type": "markdown",
   "id": "da896ce5",
   "metadata": {},
   "source": [
    "Now that we have the server name, let's delete it."
   ]
  },
  {
   "cell_type": "code",
   "execution_count": 7,
   "id": "15cbd24c",
   "metadata": {},
   "outputs": [],
   "source": [
    "sql_server = sql_client.servers.begin_delete(\n",
    "    resource_group_name=DEFAULT_RESOURCE_GROUP,\n",
    "    server_name='bens-server'\n",
    ")\n",
    "sql_server.wait()"
   ]
  }
 ],
 "metadata": {
  "kernelspec": {
   "display_name": "Python 3 (ipykernel)",
   "language": "python",
   "name": "python3"
  },
  "language_info": {
   "codemirror_mode": {
    "name": "ipython",
    "version": 3
   },
   "file_extension": ".py",
   "mimetype": "text/x-python",
   "name": "python",
   "nbconvert_exporter": "python",
   "pygments_lexer": "ipython3",
   "version": "3.8.10"
  }
 },
 "nbformat": 4,
 "nbformat_minor": 5
}
