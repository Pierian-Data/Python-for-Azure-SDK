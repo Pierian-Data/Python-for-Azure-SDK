{
 "cells": [
  {
   "cell_type": "markdown",
   "id": "1c50c8fc",
   "metadata": {},
   "source": [
    "<a href = \"https://www.pieriantraining.com\"><img src=\"../PT Centered Purple.png\"> </a>\n",
    "\n",
    "<em style=\"text-align:center\">Copyrighted by Pierian Training</em>\n",
    "\n",
    "# Creating PostgreSQL Servers and Databases\n",
    "\n",
    "## Azure Actions Covered\n",
    "\n",
    "* Creating a PostgreSQL server\n",
    "* Creating a firewall rule for a PostgreSQL database\n",
    "* Creating a database on a PostgreSQL server\n",
    "* Connecting to a PostgreSQL server\n",
    "\n",
    "In this lecture, we'll learn how to create PostgreSQL servers and databases on Azure with Python.\n",
    "\n",
    "To begin, we'll need to import our usual libraries as well as any useful environment variables (e.g. AZURE_SUBSCRIPTION_ID). We also need to import some modules to work with the PostgreSQL flexible servers."
   ]
  },
  {
   "cell_type": "code",
   "execution_count": 1,
   "id": "c2873178",
   "metadata": {},
   "outputs": [],
   "source": [
    "from azure.identity import AzureCliCredential\n",
    "# New imports\n",
    "from azure.mgmt.rdbms.postgresql_flexibleservers import PostgreSQLManagementClient\n",
    "from azure.mgmt.rdbms.postgresql_flexibleservers.models import Server, Sku, Storage\n",
    "\n",
    "# For connection to PostgreSQL database\n",
    "import psycopg2\n",
    "\n",
    "from settings import AZURE_SUBSCRIPTION_ID, DEFAULT_LOCATION, DEFAULT_RESOURCE_GROUP"
   ]
  },
  {
   "cell_type": "markdown",
   "id": "7a992292",
   "metadata": {},
   "source": [
    "Instantiate your Azure credential and then your `PostgreSQLManagementClient`."
   ]
  },
  {
   "cell_type": "code",
   "execution_count": 2,
   "id": "f77656c2",
   "metadata": {},
   "outputs": [],
   "source": [
    "credential = AzureCliCredential()\n",
    "postgres_client = PostgreSQLManagementClient(credential, AZURE_SUBSCRIPTION_ID)"
   ]
  },
  {
   "cell_type": "markdown",
   "id": "6b4dd083",
   "metadata": {},
   "source": [
    "## Creating a Server\n",
    "\n",
    "We can use the PostgreSQL client to create a new server. We'll need the following options:\n",
    "\n",
    "* `resource_group_name` - Name of the resource group where the server will be created\n",
    "* `server_name` - Name for the Postgres server\n",
    "* `parameters` - Parameters for Postgres server creation, including:\n",
    "    * `location` - Azure location for server\n",
    "    * `administrator_login` - User name for admin user\n",
    "    * `adminsitrator_login_password` - Password for admin user\n",
    "\n",
    "For a full list of parameters, see the [Server class](https://learn.microsoft.com/en-us/python/api/azure-mgmt-rdbms/azure.mgmt.rdbms.postgresql_flexibleservers.models.server?view=azure-python). For other parameters/classes, see:\n",
    "\n",
    "* [Sku class](https://learn.microsoft.com/en-us/python/api/azure-mgmt-rdbms/azure.mgmt.rdbms.postgresql_flexibleservers.models.sku?view=azure-python)\n",
    "* [Storage class](https://learn.microsoft.com/en-us/python/api/azure-mgmt-rdbms/azure.mgmt.rdbms.postgresql_flexibleservers.models.storage?view=azure-python)"
   ]
  },
  {
   "cell_type": "code",
   "execution_count": 3,
   "id": "bd9610cd",
   "metadata": {},
   "outputs": [],
   "source": [
    "poller = postgres_client.servers.begin_create(\n",
    "    resource_group_name=DEFAULT_RESOURCE_GROUP,\n",
    "    server_name='bens-server',\n",
    "    parameters=Server(\n",
    "        location=DEFAULT_LOCATION,\n",
    "        administrator_login='benadmin',\n",
    "        administrator_login_password='testpassword123!',\n",
    "        sku=Sku(name='Standard_D2s_v3', tier='GeneralPurpose'),\n",
    "        storage=Storage(storage_size_gb=32),\n",
    "        version='13'\n",
    "    )\n",
    ")\n",
    "server = poller.result()"
   ]
  },
  {
   "cell_type": "markdown",
   "id": "428c7cb3",
   "metadata": {},
   "source": [
    "We can check that our server was created by checking the `name` attribute on the returned server object."
   ]
  },
  {
   "cell_type": "code",
   "execution_count": 4,
   "id": "b5e78187",
   "metadata": {},
   "outputs": [
    {
     "data": {
      "text/plain": [
       "'bens-server'"
      ]
     },
     "execution_count": 4,
     "metadata": {},
     "output_type": "execute_result"
    }
   ],
   "source": [
    "server.name"
   ]
  },
  {
   "cell_type": "markdown",
   "id": "cf65de22",
   "metadata": {},
   "source": [
    "Next, we need to create a firewall rule to allow traffic to our server. For a full list of possible firewall rule parameters, see the [FirewallRule class](https://learn.microsoft.com/en-us/python/api/azure-mgmt-rdbms/azure.mgmt.rdbms.postgresql_flexibleservers.models.firewallrule?view=azure-python)"
   ]
  },
  {
   "cell_type": "code",
   "execution_count": 5,
   "id": "ada8b2ff",
   "metadata": {},
   "outputs": [],
   "source": [
    "poller = postgres_client.firewall_rules.begin_create_or_update(\n",
    "    resource_group_name=DEFAULT_RESOURCE_GROUP,\n",
    "    server_name='bens-server',\n",
    "    firewall_rule_name='AllowMyIp',\n",
    "    parameters={\n",
    "        'start_ip_address': '72.174.17.20',\n",
    "        'end_ip_address': '72.174.17.20'\n",
    "    }\n",
    ")\n",
    "firewall_rule = poller.result()"
   ]
  },
  {
   "cell_type": "markdown",
   "id": "c2d41caa",
   "metadata": {},
   "source": [
    "Again, to check that it was created we can use the `name` attribute on the returned object."
   ]
  },
  {
   "cell_type": "code",
   "execution_count": 6,
   "id": "e43745fe",
   "metadata": {},
   "outputs": [
    {
     "data": {
      "text/plain": [
       "'AllowMyIp'"
      ]
     },
     "execution_count": 6,
     "metadata": {},
     "output_type": "execute_result"
    }
   ],
   "source": [
    "firewall_rule.name"
   ]
  },
  {
   "cell_type": "markdown",
   "id": "799cdcda",
   "metadata": {},
   "source": [
    "Finally, as we've seen with other clients, we can list all of our servers as well."
   ]
  },
  {
   "cell_type": "code",
   "execution_count": 7,
   "id": "39e378ae",
   "metadata": {},
   "outputs": [
    {
     "name": "stdout",
     "output_type": "stream",
     "text": [
      "bens-server\n"
     ]
    }
   ],
   "source": [
    "for server in postgres_client.servers.list():\n",
    "    print(server.name)"
   ]
  },
  {
   "cell_type": "markdown",
   "id": "4b7fd94c",
   "metadata": {},
   "source": [
    "## Creating a Database\n",
    "\n",
    "Let's create a new Postgres database. We'll need:\n",
    "\n",
    "* `resource_group_name` - Name of the resource group where the DB will be created\n",
    "* `server_name` - Server where the DB will be created\n",
    "* `database_name` - Name for the new database\n",
    "* `parameters` - Parameters for DB creation. For full list, see the [Database class](https://learn.microsoft.com/en-us/python/api/azure-mgmt-rdbms/azure.mgmt.rdbms.postgresql_flexibleservers.models.database?view=azure-python)\n",
    "\n",
    "We won't pass any parameters because the default creation parameters are fine for now."
   ]
  },
  {
   "cell_type": "code",
   "execution_count": 9,
   "id": "de0cdfaf",
   "metadata": {},
   "outputs": [],
   "source": [
    "poller = postgres_client.databases.begin_create(\n",
    "    resource_group_name=DEFAULT_RESOURCE_GROUP,\n",
    "    server_name='bens-server',\n",
    "    database_name='bens-db',\n",
    "    parameters={}\n",
    ")\n",
    "db = poller.result()"
   ]
  },
  {
   "cell_type": "markdown",
   "id": "4e3b14dc",
   "metadata": {},
   "source": [
    "Let's check the database name on the result."
   ]
  },
  {
   "cell_type": "code",
   "execution_count": 10,
   "id": "771a5b86",
   "metadata": {},
   "outputs": [
    {
     "data": {
      "text/plain": [
       "'bens-db'"
      ]
     },
     "execution_count": 10,
     "metadata": {},
     "output_type": "execute_result"
    }
   ],
   "source": [
    "db.name"
   ]
  },
  {
   "cell_type": "markdown",
   "id": "b798ea70",
   "metadata": {},
   "source": [
    "We can also list all of the databases on our server using the `list_by_server()` method. You'll see some system databases as well as the one we just created."
   ]
  },
  {
   "cell_type": "code",
   "execution_count": 11,
   "id": "2eddf15b",
   "metadata": {},
   "outputs": [
    {
     "name": "stdout",
     "output_type": "stream",
     "text": [
      "azure_maintenance\n",
      "postgres\n",
      "azure_sys\n",
      "bens-db\n"
     ]
    }
   ],
   "source": [
    "for db in postgres_client.databases.list_by_server(DEFAULT_RESOURCE_GROUP, 'bens-server'):\n",
    "    print(db.name)"
   ]
  },
  {
   "cell_type": "markdown",
   "id": "cd1e05fa",
   "metadata": {},
   "source": [
    "## Connecting to the Server and Creating a Firewall Rule\n",
    "\n",
    "Before we connect to the Postgres server, we may need a new firewall rule to allow connections from our Jupyter Notebook."
   ]
  },
  {
   "cell_type": "code",
   "execution_count": 26,
   "id": "4e9d094a",
   "metadata": {},
   "outputs": [],
   "source": [
    "firewall = sql_client.firewall_rules.create_or_update(\n",
    "    resource_group_name=DEFAULT_RESOURCE_GROUP,\n",
    "    server_name='bens-server',\n",
    "    firewall_rule_name='JupyterNotebook',\n",
    "    parameters={\n",
    "        'start_ip_address': '72.175.52.98',\n",
    "        'end_ip_address': '72.175.52.98'\n",
    "    }\n",
    ")\n"
   ]
  },
  {
   "cell_type": "markdown",
   "id": "fc64c256",
   "metadata": {},
   "source": [
    "Now, let's use `psycopg2` to connect to our server. We need the following parameters:\n",
    "\n",
    "* `host` - Host server. This will be of the form `<server-name>.postgres.database.azure.come`\n",
    "* `database` - Name of database to connect to\n",
    "* `user` - User name, we can use our admin user for now\n",
    "* `password` - Password for the user, we can use our admin user's password"
   ]
  },
  {
   "cell_type": "code",
   "execution_count": 13,
   "id": "7a3955c1",
   "metadata": {},
   "outputs": [],
   "source": [
    "connection = psycopg2.connect(\n",
    "    host='bens-server.postgres.database.azure.com',\n",
    "    database='bens-db',\n",
    "    user='benadmin',\n",
    "    password='testpassword123!'\n",
    ")"
   ]
  },
  {
   "cell_type": "markdown",
   "id": "23442e76",
   "metadata": {},
   "source": [
    "We'll also need a cursor to execute queries, so let's instantiate that in a variable."
   ]
  },
  {
   "cell_type": "code",
   "execution_count": 14,
   "id": "a6220683",
   "metadata": {},
   "outputs": [],
   "source": [
    "cursor = connection.cursor()"
   ]
  },
  {
   "cell_type": "markdown",
   "id": "f2e9973c",
   "metadata": {},
   "source": [
    "Let's execute a quick query on the `information_schema` for our database."
   ]
  },
  {
   "cell_type": "code",
   "execution_count": 16,
   "id": "093cb49b",
   "metadata": {},
   "outputs": [],
   "source": [
    "cursor.execute(\"\"\"\n",
    "    select table_name, table_schema\n",
    "    from information_schema.tables\n",
    "    limit 15;\n",
    "\"\"\")\n",
    "rows = cursor.fetchall()"
   ]
  },
  {
   "cell_type": "code",
   "execution_count": 17,
   "id": "dd490b51",
   "metadata": {},
   "outputs": [
    {
     "data": {
      "text/plain": [
       "[('pg_statistic', 'pg_catalog'),\n",
       " ('pg_type', 'pg_catalog'),\n",
       " ('pg_foreign_table', 'pg_catalog'),\n",
       " ('pg_roles', 'pg_catalog'),\n",
       " ('pg_settings', 'pg_catalog'),\n",
       " ('pg_hba_file_rules', 'pg_catalog'),\n",
       " ('pg_config', 'pg_catalog'),\n",
       " ('pg_shmem_allocations', 'pg_catalog'),\n",
       " ('pg_prepared_statements', 'pg_catalog'),\n",
       " ('pg_stat_progress_vacuum', 'pg_catalog'),\n",
       " ('pg_replication_origin_status', 'pg_catalog'),\n",
       " ('pg_subscription', 'pg_catalog'),\n",
       " ('pg_attribute', 'pg_catalog'),\n",
       " ('pg_proc', 'pg_catalog'),\n",
       " ('pg_class', 'pg_catalog')]"
      ]
     },
     "execution_count": 17,
     "metadata": {},
     "output_type": "execute_result"
    }
   ],
   "source": [
    "rows"
   ]
  },
  {
   "cell_type": "markdown",
   "id": "9fdfd55a",
   "metadata": {},
   "source": [
    "Finally, we'll close our cursor and our connection to the database."
   ]
  },
  {
   "cell_type": "code",
   "execution_count": 18,
   "id": "ca7245c3",
   "metadata": {},
   "outputs": [],
   "source": [
    "cursor.close()\n",
    "connection.close()"
   ]
  }
 ],
 "metadata": {
  "kernelspec": {
   "display_name": "Python 3 (ipykernel)",
   "language": "python",
   "name": "python3"
  },
  "language_info": {
   "codemirror_mode": {
    "name": "ipython",
    "version": 3
   },
   "file_extension": ".py",
   "mimetype": "text/x-python",
   "name": "python",
   "nbconvert_exporter": "python",
   "pygments_lexer": "ipython3",
   "version": "3.8.10"
  }
 },
 "nbformat": 4,
 "nbformat_minor": 5
}
