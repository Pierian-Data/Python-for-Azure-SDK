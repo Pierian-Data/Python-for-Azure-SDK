{
 "cells": [
  {
   "cell_type": "markdown",
   "id": "1c50c8fc",
   "metadata": {},
   "source": [
    "<a href = \"https://www.pieriantraining.com\"><img src=\"../PT Centered Purple.png\"> </a>\n",
    "\n",
    "<em style=\"text-align:center\">Copyrighted by Pierian Training</em>\n",
    "\n",
    "# Working with Azure SQL via the Azure CLI - Part 2\n",
    "\n",
    "## Azure Actions Covered\n",
    "\n",
    "* Listing and deleting Azure SQL Servers\n",
    "* Listing and deleting databases on SQL Servers\n",
    "* Listing and deleting firewall rules for SQL Servers\n",
    "* Connecting and querying databases on SQL Servers\n",
    "* Creating SQL Servers using the \"quick\" method.\n",
    "\n",
    "In this lecture, we're going to continue working with an Azure SQL server and database. We'll also show the \"quick\" way of creating Azure SQL Servers and databases using `az sql up`.\n",
    "\n",
    "First, make sure you're logged in to Azure via the CLI."
   ]
  },
  {
   "cell_type": "markdown",
   "id": "c9654181",
   "metadata": {},
   "source": [
    "```\n",
    "$ az login\n",
    "```"
   ]
  },
  {
   "cell_type": "markdown",
   "id": "a400924e",
   "metadata": {},
   "source": [
    "## Interacting with Azure SQL Databases"
   ]
  },
  {
   "cell_type": "markdown",
   "id": "4dfefb8c",
   "metadata": {},
   "source": [
    "To interact with our newly created database, we can either use VS Code or use the Query Editor in the Azure Portal.\n",
    "\n",
    "To query your database from VS Code:\n",
    "* Install `mssql` package in VS Code\n",
    "* Add MS SQL connection in VS Code - you'll need the host name, server name, admin name and password, etc.\n",
    "* Query in VS Code to check - If you right-click on one of the sample tables, for example, you can do a quick \"select top 1000\".\n",
    "\n",
    "To query your database from the Azure Portal:\n",
    "* Log in to Azure Query Editor using your admin name and password\n",
    "* Modify firewall - You may get an error due to the IP address not being included in your firewall rules. Follow the instructions on the page to modify your firewall.\n",
    "* Run a query in Azure Query Editor to check that everything works.\n",
    "\n",
    "Congratulations! You've set up an Azure SQL database using the CLI.\n",
    "\n",
    "Now we can list and then delete the database we created."
   ]
  },
  {
   "cell_type": "markdown",
   "id": "eae3dedc",
   "metadata": {},
   "source": [
    "```\n",
    "$ az sql db list --resource-group sql-resource-group --server bens-server\n",
    "\n",
    "$ az sql db delete --resource-group sql-resource-group --server bens-server --name bens-db\n",
    "```"
   ]
  },
  {
   "cell_type": "markdown",
   "id": "104ae6e5",
   "metadata": {},
   "source": [
    "Next, let's list and delete the firewall rules.\n",
    "\n",
    "```\n",
    "$ az sql server firewall-rule list --resource-group sql-resource-group --server bens-server\n",
    "\n",
    "$ az sql server firewall-rule delete --name AllowMyIp --resource-group sql-resource-group --server bens-server\n",
    "```"
   ]
  },
  {
   "cell_type": "markdown",
   "id": "22395ae1",
   "metadata": {},
   "source": [
    "Finally, we can list and then delete our SQL Servers.\n",
    "\n",
    "```\n",
    "$ az sql server list --resource-group sql-resource-group\n",
    "\n",
    "$ az sql server delete --name bens-server --resource-group sql-resource-group\n",
    "```"
   ]
  },
  {
   "cell_type": "markdown",
   "id": "c6a0c3c3",
   "metadata": {},
   "source": [
    "## Create an Azure SQL Database using `az sql up`\n",
    "\n",
    "Azure provides a much easier way to set up a database than the steps we followed in the previous section. For this, we have to use a new CLI command.\n",
    "\n",
    "First, create a new resource group (optional if just reusing the resource group from the previous section)."
   ]
  },
  {
   "cell_type": "markdown",
   "id": "9f147359",
   "metadata": {},
   "source": [
    "```\n",
    "$ az group create --name sql-resource-group\n",
    "```"
   ]
  },
  {
   "cell_type": "markdown",
   "id": "735d54eb",
   "metadata": {},
   "source": [
    "Next, we can use the `az sql up` command. Some important options:\n",
    "* `--server-name` - Name of the SQL Server to create\n",
    "* `--database-name` - Name of the database to create\n",
    "* `--admin-user` - Name of the admin user to create\n",
    "* `--admin-password` - Password for the admin user\n",
    "\n",
    "**Note:** As of this writing, there's not a way to populate the DB with sample data, such as with `--sample-name AdventureWorksLT`. The created database will be empty."
   ]
  },
  {
   "cell_type": "markdown",
   "id": "fd12984a",
   "metadata": {},
   "source": [
    "```\n",
    "$ az sql up --resource-group sql-resource-group --location eastus --server-name bens-server --database-name bensdb --admin-user benadmin --admin-password testpassword123!\n",
    "```"
   ]
  },
  {
   "cell_type": "markdown",
   "id": "32d7eb59",
   "metadata": {},
   "source": [
    "You can check that the database was created correctly via the Azure Portal or using `az sql db list`."
   ]
  },
  {
   "cell_type": "markdown",
   "id": "ec158ab3",
   "metadata": {},
   "source": [
    "```\n",
    "$ az sql db list --resource-group sql-resource-group --server bens-server\n",
    "```"
   ]
  },
  {
   "cell_type": "markdown",
   "id": "e5093168",
   "metadata": {},
   "source": [
    "Finally, let's clean up our workspace so that we don't leave any unused resources running."
   ]
  },
  {
   "cell_type": "markdown",
   "id": "498e859e",
   "metadata": {},
   "source": [
    "```\n",
    "$ az group delete --name sql-resource-group --no-wait\n",
    "```"
   ]
  }
 ],
 "metadata": {
  "kernelspec": {
   "display_name": "Python 3 (ipykernel)",
   "language": "python",
   "name": "python3"
  },
  "language_info": {
   "codemirror_mode": {
    "name": "ipython",
    "version": 3
   },
   "file_extension": ".py",
   "mimetype": "text/x-python",
   "name": "python",
   "nbconvert_exporter": "python",
   "pygments_lexer": "ipython3",
   "version": "3.10.6"
  }
 },
 "nbformat": 4,
 "nbformat_minor": 5
}
