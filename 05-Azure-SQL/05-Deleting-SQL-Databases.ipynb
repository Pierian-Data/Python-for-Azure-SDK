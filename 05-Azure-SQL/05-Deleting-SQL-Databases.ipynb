{
 "cells": [
  {
   "cell_type": "markdown",
   "id": "1c50c8fc",
   "metadata": {},
   "source": [
    "<a href = \"https://www.pieriantraining.com\"><img src=\"../PT Centered Purple.png\"> </a>\n",
    "\n",
    "<em style=\"text-align:center\">Copyrighted by Pierian Training</em>"
   ]
  },
  {
   "cell_type": "code",
   "execution_count": 1,
   "id": "c2873178",
   "metadata": {},
   "outputs": [],
   "source": [
    "from azure.identity import AzureCliCredential\n",
    "from azure.mgmt.compute import ComputeManagementClient\n",
    "from azure.mgmt.network import NetworkManagementClient\n",
    "from azure.mgmt.resource import ResourceManagementClient\n",
    "from azure.mgmt.sql import SqlManagementClient\n",
    "from azure.mgmt.sql.models import FirewallRule\n",
    "\n",
    "import pyodbc\n",
    "\n",
    "from settings import AZURE_SUBSCRIPTION_ID, DEFAULT_LOCATION, DEFAULT_RESOURCE_GROUP"
   ]
  },
  {
   "cell_type": "code",
   "execution_count": 2,
   "id": "f77656c2",
   "metadata": {},
   "outputs": [],
   "source": [
    "credential = AzureCliCredential()\n",
    "sql_client = SqlManagementClient(credential, AZURE_SUBSCRIPTION_ID)"
   ]
  },
  {
   "cell_type": "code",
   "execution_count": 4,
   "id": "cabc3556",
   "metadata": {},
   "outputs": [
    {
     "name": "stdout",
     "output_type": "stream",
     "text": [
      "master\n",
      "bens-db\n"
     ]
    }
   ],
   "source": [
    "for db in sql_client.databases.list_by_server(DEFAULT_RESOURCE_GROUP, 'bens-server'):\n",
    "    print(db.name)"
   ]
  },
  {
   "cell_type": "code",
   "execution_count": 5,
   "id": "da597524",
   "metadata": {},
   "outputs": [],
   "source": [
    "sql_db = sql_client.databases.begin_delete(\n",
    "    DEFAULT_RESOURCE_GROUP,\n",
    "    'bens-server',\n",
    "    'bens-db'\n",
    ")\n",
    "sql_db.wait()"
   ]
  },
  {
   "cell_type": "code",
   "execution_count": 6,
   "id": "62cb61a6",
   "metadata": {},
   "outputs": [
    {
     "name": "stdout",
     "output_type": "stream",
     "text": [
      "bens-server\n"
     ]
    }
   ],
   "source": [
    "for server in sql_client.servers.list():\n",
    "    print(server.name)"
   ]
  },
  {
   "cell_type": "code",
   "execution_count": 7,
   "id": "15cbd24c",
   "metadata": {},
   "outputs": [],
   "source": [
    "sql_server = sql_client.servers.begin_delete(DEFAULT_RESOURCE_GROUP, 'bens-server')\n",
    "sql_server.wait()"
   ]
  }
 ],
 "metadata": {
  "kernelspec": {
   "display_name": "Python 3 (ipykernel)",
   "language": "python",
   "name": "python3"
  },
  "language_info": {
   "codemirror_mode": {
    "name": "ipython",
    "version": 3
   },
   "file_extension": ".py",
   "mimetype": "text/x-python",
   "name": "python",
   "nbconvert_exporter": "python",
   "pygments_lexer": "ipython3",
   "version": "3.8.10"
  }
 },
 "nbformat": 4,
 "nbformat_minor": 5
}
