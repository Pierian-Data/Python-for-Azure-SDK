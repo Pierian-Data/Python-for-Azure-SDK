{
 "cells": [
  {
   "cell_type": "markdown",
   "id": "1c50c8fc",
   "metadata": {},
   "source": [
    "<a href = \"https://www.pieriantraining.com\"><img src=\"../PT Centered Purple.png\"> </a>\n",
    "\n",
    "<em style=\"text-align:center\">Copyrighted by Pierian Training</em>\n",
    "\n",
    "# Interacting with Azure SQL Servers - Part 2\n",
    "\n",
    "## Azure Actions Covered\n",
    "\n",
    "* Connecting to an Azure SQL Server with pyodbc\n",
    "* Updating data in a SQL database\n",
    "* Deleting data from a SQL database\n",
    "\n",
    "In this lecture, we'll learn how to interact with Azure SQL Servers with Python.\n",
    "\n",
    "To begin, we'll need to import our usual libraries as well as any useful environment variables (e.g. AZURE_SUBSCRIPTION_ID)."
   ]
  },
  {
   "cell_type": "code",
   "execution_count": 1,
   "id": "c2873178",
   "metadata": {},
   "outputs": [],
   "source": [
    "from azure.identity import AzureCliCredential\n",
    "from azure.mgmt.sql import SqlManagementClient\n",
    "\n",
    "import pyodbc\n",
    "\n",
    "from settings import AZURE_SUBSCRIPTION_ID, DEFAULT_LOCATION, DEFAULT_RESOURCE_GROUP"
   ]
  },
  {
   "cell_type": "markdown",
   "id": "216ad342",
   "metadata": {},
   "source": [
    "We'll instantiate our credential as well as our `SqlManagementClient`."
   ]
  },
  {
   "cell_type": "code",
   "execution_count": 2,
   "id": "f77656c2",
   "metadata": {},
   "outputs": [],
   "source": [
    "credential = AzureCliCredential()\n",
    "sql_client = SqlManagementClient(credential, AZURE_SUBSCRIPTION_ID)"
   ]
  },
  {
   "cell_type": "markdown",
   "id": "f6ec28a6",
   "metadata": {},
   "source": [
    "Let's set up the connection string again for our SQL Server."
   ]
  },
  {
   "cell_type": "code",
   "execution_count": 3,
   "id": "464432fb",
   "metadata": {},
   "outputs": [],
   "source": [
    "SERVER = 'bens-server.database.windows.net'\n",
    "DATABASE = 'bens-db'\n",
    "USERNAME = 'benadmin'\n",
    "PASSWORD = 'testpassword123!'\n",
    "# Has to be installed\n",
    "DRIVER = '{ODBC Driver 18 for SQL Server}'\n",
    "\n",
    "connection_string = f'DRIVER={DRIVER};PORT=1433;SERVER={SERVER};DATABASE={DATABASE};UID={USERNAME};PWD={PASSWORD}'"
   ]
  },
  {
   "cell_type": "markdown",
   "id": "fbd69262",
   "metadata": {},
   "source": [
    "Then we can set up our connection and cursor."
   ]
  },
  {
   "cell_type": "code",
   "execution_count": 17,
   "id": "5af47cf0",
   "metadata": {},
   "outputs": [],
   "source": [
    "connection = pyodbc.connect(connection_string)\n",
    "cursor = connection.cursor()"
   ]
  },
  {
   "cell_type": "markdown",
   "id": "50829475",
   "metadata": {},
   "source": [
    "## Updating Data\n",
    "\n",
    "Updating data in a SQL Server database works much the same way as inserting data. All that changes is the SQL statement itself. We still have to first execute and then commit it."
   ]
  },
  {
   "cell_type": "code",
   "execution_count": 31,
   "id": "bcc2a175",
   "metadata": {},
   "outputs": [],
   "source": [
    "update_stmt = cursor.execute(\"\"\"\n",
    "update [SalesLT].[Address]\n",
    "    set [SalesLT].[Address].[AddressLine1] = ?\n",
    "    where [SalesLT].[Address].[AddressID] = ?\n",
    "\"\"\",\n",
    "'55 Easy Street', 11383)\n",
    "connection.commit()"
   ]
  },
  {
   "cell_type": "markdown",
   "id": "83320bea",
   "metadata": {},
   "source": [
    "Let's check the `rowcount` attribute again to validate how many rows were updated."
   ]
  },
  {
   "cell_type": "code",
   "execution_count": 32,
   "id": "034d4fce",
   "metadata": {},
   "outputs": [
    {
     "data": {
      "text/plain": [
       "1"
      ]
     },
     "execution_count": 32,
     "metadata": {},
     "output_type": "execute_result"
    }
   ],
   "source": [
    "update_stmt.rowcount"
   ]
  },
  {
   "cell_type": "markdown",
   "id": "b5d84769",
   "metadata": {},
   "source": [
    "As we did in the section on inserting data, let's select the data we updated."
   ]
  },
  {
   "cell_type": "code",
   "execution_count": 33,
   "id": "18296936",
   "metadata": {},
   "outputs": [],
   "source": [
    "updated_results = cursor.execute(\n",
    "\"\"\"\n",
    "select *\n",
    "from [SalesLT].[Address]\n",
    "where [SalesLT].[Address].[AddressLine1] = ?\n",
    "\"\"\", '55 Easy Street'\n",
    ").fetchall()"
   ]
  },
  {
   "cell_type": "code",
   "execution_count": 34,
   "id": "04c68de6",
   "metadata": {},
   "outputs": [
    {
     "data": {
      "text/plain": [
       "[(11383, '55 Easy Street', '', 'Austin', 'Tennessee', 'United States', '55667', '2670B2E6-DE5D-418D-8417-453F95547865', datetime.datetime(2023, 4, 26, 16, 35, 26, 670000))]"
      ]
     },
     "execution_count": 34,
     "metadata": {},
     "output_type": "execute_result"
    }
   ],
   "source": [
    "updated_results"
   ]
  },
  {
   "cell_type": "markdown",
   "id": "82eb2b7e",
   "metadata": {},
   "source": [
    "## Deleting Data\n",
    "\n",
    "Deleting data via `pyodbc` follows the same pattern as inserting and updating. First execute, then commit."
   ]
  },
  {
   "cell_type": "code",
   "execution_count": 35,
   "id": "7a453da8",
   "metadata": {},
   "outputs": [],
   "source": [
    "delete_stmt = cursor.execute(\"\"\"\n",
    "delete\n",
    "    from [SalesLT].[Address]\n",
    "    where [SalesLT].[Address].[AddressID] = ?\n",
    "\"\"\",\n",
    "11383)\n",
    "connection.commit()"
   ]
  },
  {
   "cell_type": "markdown",
   "id": "328aa416",
   "metadata": {},
   "source": [
    "Again, call the `rowcount` attribute to see how many rows were deleted."
   ]
  },
  {
   "cell_type": "code",
   "execution_count": 36,
   "id": "e9607143",
   "metadata": {},
   "outputs": [
    {
     "data": {
      "text/plain": [
       "1"
      ]
     },
     "execution_count": 36,
     "metadata": {},
     "output_type": "execute_result"
    }
   ],
   "source": [
    "delete_stmt.rowcount"
   ]
  },
  {
   "cell_type": "markdown",
   "id": "99bb9f6b",
   "metadata": {},
   "source": [
    "Let's see if we can still retrieve the data that was deleted. `fetchall()` should return an empty list."
   ]
  },
  {
   "cell_type": "code",
   "execution_count": 37,
   "id": "9ac99777",
   "metadata": {},
   "outputs": [
    {
     "data": {
      "text/plain": [
       "[]"
      ]
     },
     "execution_count": 37,
     "metadata": {},
     "output_type": "execute_result"
    }
   ],
   "source": [
    "cursor.execute(\n",
    "\"\"\"\n",
    "select *\n",
    "from [SalesLT].[Address]\n",
    "where [SalesLT].[Address].[AddressLine1] = ?\n",
    "\"\"\", '55 Easy Street'\n",
    ").fetchall()"
   ]
  }
 ],
 "metadata": {
  "kernelspec": {
   "display_name": "Python 3 (ipykernel)",
   "language": "python",
   "name": "python3"
  },
  "language_info": {
   "codemirror_mode": {
    "name": "ipython",
    "version": 3
   },
   "file_extension": ".py",
   "mimetype": "text/x-python",
   "name": "python",
   "nbconvert_exporter": "python",
   "pygments_lexer": "ipython3",
   "version": "3.10.6"
  }
 },
 "nbformat": 4,
 "nbformat_minor": 5
}
