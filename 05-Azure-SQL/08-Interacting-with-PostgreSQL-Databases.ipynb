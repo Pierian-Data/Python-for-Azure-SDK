{
 "cells": [
  {
   "cell_type": "markdown",
   "id": "1c50c8fc",
   "metadata": {},
   "source": [
    "<a href = \"https://www.pieriantraining.com\"><img src=\"../PT Centered Purple.png\"> </a>\n",
    "\n",
    "<em style=\"text-align:center\">Copyrighted by Pierian Training</em>"
   ]
  },
  {
   "cell_type": "code",
   "execution_count": 27,
   "id": "c2873178",
   "metadata": {},
   "outputs": [],
   "source": [
    "import datetime\n",
    "\n",
    "import psycopg2"
   ]
  },
  {
   "cell_type": "code",
   "execution_count": 3,
   "id": "7a3955c1",
   "metadata": {},
   "outputs": [],
   "source": [
    "connection = psycopg2.connect(\n",
    "    host='bens-server.postgres.database.azure.com',\n",
    "    database='bens-db',\n",
    "    user='benadmin',\n",
    "    password='testpassword123!'\n",
    ")"
   ]
  },
  {
   "cell_type": "code",
   "execution_count": 4,
   "id": "6362fb09",
   "metadata": {},
   "outputs": [],
   "source": [
    "cursor = connection.cursor()"
   ]
  },
  {
   "cell_type": "code",
   "execution_count": 5,
   "id": "848a0f91",
   "metadata": {},
   "outputs": [],
   "source": [
    "cursor.execute(\"\"\"\n",
    "    select distinct table_schema\n",
    "    from information_schema.tables;\n",
    "\"\"\")\n",
    "rows = cursor.fetchall()"
   ]
  },
  {
   "cell_type": "code",
   "execution_count": 6,
   "id": "788416e3",
   "metadata": {},
   "outputs": [
    {
     "data": {
      "text/plain": [
       "[('information_schema',), ('pg_catalog',)]"
      ]
     },
     "execution_count": 6,
     "metadata": {},
     "output_type": "execute_result"
    }
   ],
   "source": [
    "rows"
   ]
  },
  {
   "cell_type": "code",
   "execution_count": 25,
   "id": "2ddd5c53",
   "metadata": {},
   "outputs": [],
   "source": [
    "cursor.execute(\"\"\"\n",
    "    create schema if not exists hospital;\n",
    "    create table hospital.patients (\n",
    "        id serial primary key,\n",
    "        name varchar(50),\n",
    "        date_of_birth date\n",
    "    );\n",
    "\"\"\")"
   ]
  },
  {
   "cell_type": "code",
   "execution_count": 26,
   "id": "6896e61a",
   "metadata": {},
   "outputs": [
    {
     "data": {
      "text/plain": [
       "[('public',), ('pg_catalog',), ('information_schema',), ('hospital',)]"
      ]
     },
     "execution_count": 26,
     "metadata": {},
     "output_type": "execute_result"
    }
   ],
   "source": [
    "cursor.execute(\"\"\"\n",
    "    select distinct table_schema\n",
    "    from information_schema.tables;\n",
    "\"\"\")\n",
    "rows = cursor.fetchall()\n",
    "rows"
   ]
  },
  {
   "cell_type": "code",
   "execution_count": 28,
   "id": "e7c62ce5",
   "metadata": {},
   "outputs": [],
   "source": [
    "cursor.execute(\"\"\"\n",
    "    insert into hospital.patients (name, date_of_birth) values\n",
    "        (%(name)s, %(dob)s)\n",
    "\"\"\", {'name': 'John Doe', 'dob': datetime.date(1999, 1, 1)})"
   ]
  },
  {
   "cell_type": "code",
   "execution_count": 29,
   "id": "4d7692e2",
   "metadata": {},
   "outputs": [
    {
     "data": {
      "text/plain": [
       "[(1, 'John Doe', datetime.date(1999, 1, 1))]"
      ]
     },
     "execution_count": 29,
     "metadata": {},
     "output_type": "execute_result"
    }
   ],
   "source": [
    "cursor.execute(\"\"\"\n",
    "    select *\n",
    "    from hospital.patients;\n",
    "\"\"\")\n",
    "rows = cursor.fetchall()\n",
    "rows"
   ]
  },
  {
   "cell_type": "code",
   "execution_count": 30,
   "id": "ce6ea7d0",
   "metadata": {},
   "outputs": [],
   "source": [
    "cursor.execute(\"\"\"\n",
    "    update hospital.patients\n",
    "        set date_of_birth = %(dob)s\n",
    "        where id = %(id)s;\n",
    "\"\"\", {'dob': datetime.date(1998, 12, 31), 'id': 1})"
   ]
  },
  {
   "cell_type": "code",
   "execution_count": 31,
   "id": "4166b86b",
   "metadata": {},
   "outputs": [
    {
     "data": {
      "text/plain": [
       "(1, 'John Doe', datetime.date(1998, 12, 31))"
      ]
     },
     "execution_count": 31,
     "metadata": {},
     "output_type": "execute_result"
    }
   ],
   "source": [
    "cursor.execute(\"\"\"\n",
    "    select *\n",
    "    from hospital.patients;\n",
    "\"\"\")\n",
    "cursor.fetchone()"
   ]
  },
  {
   "cell_type": "code",
   "execution_count": 32,
   "id": "73399b7e",
   "metadata": {},
   "outputs": [],
   "source": [
    "cursor.execute(\"\"\"\n",
    "    delete from hospital.patients\n",
    "        where id = %(id)s\n",
    "\"\"\", {'id': 1})"
   ]
  },
  {
   "cell_type": "code",
   "execution_count": 33,
   "id": "93b6d10c",
   "metadata": {},
   "outputs": [],
   "source": [
    "cursor.execute(\"\"\"\n",
    "    select *\n",
    "    from hospital.patients;\n",
    "\"\"\")\n",
    "cursor.fetchone()"
   ]
  },
  {
   "cell_type": "code",
   "execution_count": 34,
   "id": "d656ac60",
   "metadata": {},
   "outputs": [],
   "source": [
    "cursor.close()\n",
    "connection.close()"
   ]
  }
 ],
 "metadata": {
  "kernelspec": {
   "display_name": "Python 3 (ipykernel)",
   "language": "python",
   "name": "python3"
  },
  "language_info": {
   "codemirror_mode": {
    "name": "ipython",
    "version": 3
   },
   "file_extension": ".py",
   "mimetype": "text/x-python",
   "name": "python",
   "nbconvert_exporter": "python",
   "pygments_lexer": "ipython3",
   "version": "3.8.10"
  }
 },
 "nbformat": 4,
 "nbformat_minor": 5
}
