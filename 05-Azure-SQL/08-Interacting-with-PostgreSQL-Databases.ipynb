{
 "cells": [
  {
   "cell_type": "markdown",
   "id": "1c50c8fc",
   "metadata": {},
   "source": [
    "<a href = \"https://www.pieriantraining.com\"><img src=\"../PT Centered Purple.png\"> </a>\n",
    "\n",
    "<em style=\"text-align:center\">Copyrighted by Pierian Training</em>\n",
    "\n",
    "# Interacting with PostgreSQL Databases\n",
    "\n",
    "## Azure Actions Covered\n",
    "\n",
    "* Connecting to a PostgreSQL server\n",
    "* Reading data from a PostgreSQL database\n",
    "* Creating tables and schemas in a PostgreSQL database\n",
    "* Inserting data to a PostgreSQL database\n",
    "* Updating data in a PostgreSQL database\n",
    "* Deleting data from a PostgreSQL database\n",
    "\n",
    "In this lecture, we'll learn how to interact with PostgreSQL servers and databases on Azure with Python.\n",
    "\n",
    "For this lecture, we don't need any Azure libraries, just `pscyopg2`."
   ]
  },
  {
   "cell_type": "code",
   "execution_count": 27,
   "id": "c2873178",
   "metadata": {},
   "outputs": [],
   "source": [
    "import datetime\n",
    "\n",
    "import psycopg2"
   ]
  },
  {
   "cell_type": "markdown",
   "id": "80a0b312",
   "metadata": {},
   "source": [
    "## Connecting to a Server and Reading Data\n",
    "\n",
    "As we saw in the previous lecture, we can use `psycopg2` to connect to our server. We need the following parameters:\n",
    "\n",
    "* `host` - Host server. This will be of the form `<server-name>.postgres.database.azure.come`\n",
    "* `database` - Name of database to connect to\n",
    "* `user` - User name, we can use our admin user for now\n",
    "* `password` - Password for the user, we can use our admin user's password"
   ]
  },
  {
   "cell_type": "code",
   "execution_count": 3,
   "id": "7a3955c1",
   "metadata": {},
   "outputs": [],
   "source": [
    "connection = psycopg2.connect(\n",
    "    host='bens-server.postgres.database.azure.com',\n",
    "    database='bens-db',\n",
    "    user='benadmin',\n",
    "    password='testpassword123!'\n",
    ")"
   ]
  },
  {
   "cell_type": "code",
   "execution_count": 4,
   "id": "6362fb09",
   "metadata": {},
   "outputs": [],
   "source": [
    "cursor = connection.cursor()"
   ]
  },
  {
   "cell_type": "markdown",
   "id": "34dfb240",
   "metadata": {},
   "source": [
    "Let's execute a simple query on our database and return all the data with `cursor.fetchall()`"
   ]
  },
  {
   "cell_type": "code",
   "execution_count": 5,
   "id": "848a0f91",
   "metadata": {},
   "outputs": [],
   "source": [
    "cursor.execute(\"\"\"\n",
    "    select distinct table_schema\n",
    "    from information_schema.tables;\n",
    "\"\"\")\n",
    "rows = cursor.fetchall()"
   ]
  },
  {
   "cell_type": "code",
   "execution_count": 6,
   "id": "788416e3",
   "metadata": {},
   "outputs": [
    {
     "data": {
      "text/plain": [
       "[('information_schema',), ('pg_catalog',)]"
      ]
     },
     "execution_count": 6,
     "metadata": {},
     "output_type": "execute_result"
    }
   ],
   "source": [
    "rows"
   ]
  },
  {
   "cell_type": "markdown",
   "id": "ff55aa7a",
   "metadata": {},
   "source": [
    "## Creating Schemas and Tables\n",
    "\n",
    "To create new schemas and tables, we can write standard PostgreSQL inside of our cursor. Let's create a healthcare-related table in a new schema."
   ]
  },
  {
   "cell_type": "code",
   "execution_count": 25,
   "id": "2ddd5c53",
   "metadata": {},
   "outputs": [],
   "source": [
    "cursor.execute(\"\"\"\n",
    "    create schema if not exists hospital;\n",
    "    create table hospital.patients (\n",
    "        id serial primary key,\n",
    "        name varchar(50),\n",
    "        date_of_birth date\n",
    "    );\n",
    "\"\"\")"
   ]
  },
  {
   "cell_type": "markdown",
   "id": "011a6788",
   "metadata": {},
   "source": [
    "Let's see our new list of schemas using the query we used above."
   ]
  },
  {
   "cell_type": "code",
   "execution_count": 26,
   "id": "6896e61a",
   "metadata": {},
   "outputs": [
    {
     "data": {
      "text/plain": [
       "[('public',), ('pg_catalog',), ('information_schema',), ('hospital',)]"
      ]
     },
     "execution_count": 26,
     "metadata": {},
     "output_type": "execute_result"
    }
   ],
   "source": [
    "cursor.execute(\"\"\"\n",
    "    select distinct table_schema\n",
    "    from information_schema.tables;\n",
    "\"\"\")\n",
    "rows = cursor.fetchall()\n",
    "rows"
   ]
  },
  {
   "cell_type": "markdown",
   "id": "aa44ca5b",
   "metadata": {},
   "source": [
    "## Inserting Data\n",
    "\n",
    "Again, to insert data, we can just execute an `INSERT` statement inside of our cursor. **Note:** We can reference variables inside our query and then pass the values as parameters to protect against SQL injection."
   ]
  },
  {
   "cell_type": "code",
   "execution_count": 28,
   "id": "e7c62ce5",
   "metadata": {},
   "outputs": [],
   "source": [
    "cursor.execute(\"\"\"\n",
    "    insert into hospital.patients (name, date_of_birth) values\n",
    "        (%(name)s, %(dob)s)\n",
    "\"\"\", {'name': 'John Doe', 'dob': datetime.date(1999, 1, 1)})"
   ]
  },
  {
   "cell_type": "markdown",
   "id": "25f1103c",
   "metadata": {},
   "source": [
    "Let's get our new data from the `patients` table."
   ]
  },
  {
   "cell_type": "code",
   "execution_count": 29,
   "id": "4d7692e2",
   "metadata": {},
   "outputs": [
    {
     "data": {
      "text/plain": [
       "[(1, 'John Doe', datetime.date(1999, 1, 1))]"
      ]
     },
     "execution_count": 29,
     "metadata": {},
     "output_type": "execute_result"
    }
   ],
   "source": [
    "cursor.execute(\"\"\"\n",
    "    select *\n",
    "    from hospital.patients;\n",
    "\"\"\")\n",
    "rows = cursor.fetchall()\n",
    "rows"
   ]
  },
  {
   "cell_type": "markdown",
   "id": "d8f6d83f",
   "metadata": {},
   "source": [
    "## Updating Data\n",
    "\n",
    "Updating data works much the same as inserting data. Let's update the patient data we inserted into our new table."
   ]
  },
  {
   "cell_type": "code",
   "execution_count": 30,
   "id": "ce6ea7d0",
   "metadata": {},
   "outputs": [],
   "source": [
    "cursor.execute(\"\"\"\n",
    "    update hospital.patients\n",
    "        set date_of_birth = %(dob)s\n",
    "        where id = %(id)s;\n",
    "\"\"\", {'dob': datetime.date(1998, 12, 31), 'id': 1})"
   ]
  },
  {
   "cell_type": "markdown",
   "id": "b0e6dc87",
   "metadata": {},
   "source": [
    "We can check that the changes took place in the DB."
   ]
  },
  {
   "cell_type": "code",
   "execution_count": 31,
   "id": "4166b86b",
   "metadata": {},
   "outputs": [
    {
     "data": {
      "text/plain": [
       "(1, 'John Doe', datetime.date(1998, 12, 31))"
      ]
     },
     "execution_count": 31,
     "metadata": {},
     "output_type": "execute_result"
    }
   ],
   "source": [
    "cursor.execute(\"\"\"\n",
    "    select *\n",
    "    from hospital.patients;\n",
    "\"\"\")\n",
    "cursor.fetchone()"
   ]
  },
  {
   "cell_type": "markdown",
   "id": "147de4a2",
   "metadata": {},
   "source": [
    "## Deleting Data\n",
    "\n",
    "Deleting data works just like updating and inserting data, with variables/parameters to avoid SQL injection."
   ]
  },
  {
   "cell_type": "code",
   "execution_count": 32,
   "id": "73399b7e",
   "metadata": {},
   "outputs": [],
   "source": [
    "cursor.execute(\"\"\"\n",
    "    delete from hospital.patients\n",
    "        where id = %(id)s\n",
    "\"\"\", {'id': 1})"
   ]
  },
  {
   "cell_type": "markdown",
   "id": "4656ed13",
   "metadata": {},
   "source": [
    "Now there are no more patients in our `patients` table."
   ]
  },
  {
   "cell_type": "code",
   "execution_count": 33,
   "id": "93b6d10c",
   "metadata": {},
   "outputs": [],
   "source": [
    "cursor.execute(\"\"\"\n",
    "    select *\n",
    "    from hospital.patients;\n",
    "\"\"\")\n",
    "cursor.fetchone()"
   ]
  },
  {
   "cell_type": "markdown",
   "id": "2f4c0728",
   "metadata": {},
   "source": [
    "Finally, let's close the cursor and connection."
   ]
  },
  {
   "cell_type": "code",
   "execution_count": 34,
   "id": "d656ac60",
   "metadata": {},
   "outputs": [],
   "source": [
    "cursor.close()\n",
    "connection.close()"
   ]
  }
 ],
 "metadata": {
  "kernelspec": {
   "display_name": "Python 3 (ipykernel)",
   "language": "python",
   "name": "python3"
  },
  "language_info": {
   "codemirror_mode": {
    "name": "ipython",
    "version": 3
   },
   "file_extension": ".py",
   "mimetype": "text/x-python",
   "name": "python",
   "nbconvert_exporter": "python",
   "pygments_lexer": "ipython3",
   "version": "3.8.10"
  }
 },
 "nbformat": 4,
 "nbformat_minor": 5
}
