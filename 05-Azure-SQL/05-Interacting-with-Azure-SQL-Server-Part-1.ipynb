{
 "cells": [
  {
   "cell_type": "markdown",
   "id": "1c50c8fc",
   "metadata": {},
   "source": [
    "<a href = \"https://www.pieriantraining.com\"><img src=\"../PT Centered Purple.png\"> </a>\n",
    "\n",
    "<em style=\"text-align:center\">Copyrighted by Pierian Training</em>\n",
    "\n",
    "# Interacting with Azure SQL Servers - Part 1\n",
    "\n",
    "## Azure Actions Covered\n",
    "\n",
    "* Connecting to an Azure SQL Server with pyodbc\n",
    "* Reading and retrieving data from a SQL database\n",
    "* Inserting data to a SQL database\n",
    "\n",
    "In this lecture, we'll learn how to interact with Azure SQL Servers with Python.\n",
    "\n",
    "To begin, we'll need to import our usual libraries as well as any useful environment variables (e.g. AZURE_SUBSCRIPTION_ID)."
   ]
  },
  {
   "cell_type": "code",
   "execution_count": 1,
   "id": "c2873178",
   "metadata": {},
   "outputs": [],
   "source": [
    "from azure.identity import AzureCliCredential\n",
    "from azure.mgmt.sql import SqlManagementClient\n",
    "\n",
    "import pyodbc\n",
    "\n",
    "from settings import AZURE_SUBSCRIPTION_ID, DEFAULT_LOCATION, DEFAULT_RESOURCE_GROUP"
   ]
  },
  {
   "cell_type": "markdown",
   "id": "216ad342",
   "metadata": {},
   "source": [
    "We'll instantiate our credential as well as our `SqlManagementClient`."
   ]
  },
  {
   "cell_type": "code",
   "execution_count": 2,
   "id": "f77656c2",
   "metadata": {},
   "outputs": [],
   "source": [
    "credential = AzureCliCredential()\n",
    "sql_client = SqlManagementClient(credential, AZURE_SUBSCRIPTION_ID)"
   ]
  },
  {
   "cell_type": "markdown",
   "id": "f6ec28a6",
   "metadata": {},
   "source": [
    "Let's set up the connection string again for our SQL Server."
   ]
  },
  {
   "cell_type": "code",
   "execution_count": 3,
   "id": "464432fb",
   "metadata": {},
   "outputs": [],
   "source": [
    "SERVER = 'bens-server.database.windows.net'\n",
    "DATABASE = 'bens-db'\n",
    "USERNAME = 'benadmin'\n",
    "PASSWORD = 'testpassword123!'\n",
    "# Has to be installed\n",
    "DRIVER = '{ODBC Driver 18 for SQL Server}'\n",
    "\n",
    "connection_string = f'DRIVER={DRIVER};PORT=1433;SERVER={SERVER};DATABASE={DATABASE};UID={USERNAME};PWD={PASSWORD}'"
   ]
  },
  {
   "cell_type": "markdown",
   "id": "b53db5ac",
   "metadata": {},
   "source": [
    "Let's try our connection string to see if we can connect."
   ]
  },
  {
   "cell_type": "code",
   "execution_count": null,
   "id": "367900b7",
   "metadata": {},
   "outputs": [],
   "source": [
    "# connection = pyodbc.connect(connection_string)\n",
    "# cursor = connection.cursor()"
   ]
  },
  {
   "cell_type": "markdown",
   "id": "23253a91",
   "metadata": {},
   "source": [
    "It could be that we need to create a new firewall rule to connect to our DB, so let's use the IP address from the error message."
   ]
  },
  {
   "cell_type": "code",
   "execution_count": 5,
   "id": "4e9d094a",
   "metadata": {},
   "outputs": [],
   "source": [
    "firewall = sql_client.firewall_rules.create_or_update(\n",
    "    DEFAULT_RESOURCE_GROUP,\n",
    "    'bens-server',\n",
    "    'JupyterNotebook2',\n",
    "    {\n",
    "        'start_ip_address': '72.174.17.20',\n",
    "        'end_ip_address': '72.174.17.20'\n",
    "    }\n",
    ")\n"
   ]
  },
  {
   "cell_type": "markdown",
   "id": "48105bb2",
   "metadata": {},
   "source": [
    "Now we can retry the connection."
   ]
  },
  {
   "cell_type": "code",
   "execution_count": 17,
   "id": "5af47cf0",
   "metadata": {},
   "outputs": [],
   "source": [
    "connection = pyodbc.connect(connection_string)\n",
    "cursor = connection.cursor()"
   ]
  },
  {
   "cell_type": "markdown",
   "id": "6107cbd6",
   "metadata": {},
   "source": [
    "## Reading and Retrieving Data\n",
    "\n",
    "Reading and retrieving data from a SQL Server follows a common Python pattern. First, we execute a SQL statement. Then, we can call a \"fetch\" method on our cursor to retrieve the data and interact with it.\n",
    "\n",
    "Let's select the first 10 items in our `Address` table and use a `while` loop to show all the retrieved data."
   ]
  },
  {
   "cell_type": "code",
   "execution_count": 8,
   "id": "7a3955c1",
   "metadata": {},
   "outputs": [
    {
     "name": "stdout",
     "output_type": "stream",
     "text": [
      "(9, '8713 Yosemite Ct.', None, 'Bothell', 'Washington', 'United States', '98011', '268AF621-76D7-4C78-9441-144FD139821A', datetime.datetime(2006, 7, 1, 0, 0))\n",
      "(11, '1318 Lasalle Street', None, 'Bothell', 'Washington', 'United States', '98011', '981B3303-ACA2-49C7-9A96-FB670785B269', datetime.datetime(2007, 4, 1, 0, 0))\n",
      "(25, '9178 Jumping St.', None, 'Dallas', 'Texas', 'United States', '75201', 'C8DF3BD9-48F0-4654-A8DD-14A67A84D3C6', datetime.datetime(2006, 9, 1, 0, 0))\n",
      "(28, '9228 Via Del Sol', None, 'Phoenix', 'Arizona', 'United States', '85004', '12AE5EE1-FC3E-468B-9B92-3B970B169774', datetime.datetime(2005, 9, 1, 0, 0))\n",
      "(32, '26910 Indela Road', None, 'Montreal', 'Quebec', 'Canada', 'H1Y 2H5', '84A95F62-3AE8-4E7E-BBD5-5A6F00CD982D', datetime.datetime(2006, 8, 1, 0, 0))\n",
      "(185, '2681 Eagle Peak', None, 'Bellevue', 'Washington', 'United States', '98004', '7BCCF442-2268-46CC-8472-14C44C14E98C', datetime.datetime(2006, 9, 1, 0, 0))\n",
      "(297, '7943 Walnut Ave', None, 'Renton', 'Washington', 'United States', '98055', '52410DA4-2778-4B1D-A599-95746625CE6D', datetime.datetime(2006, 8, 1, 0, 0))\n",
      "(445, '6388 Lake City Way', None, 'Burnaby', 'British Columbia', 'Canada', 'V5A 3A6', '53572F25-9133-4A8B-A065-102FF35416EE', datetime.datetime(2006, 9, 1, 0, 0))\n",
      "(446, '52560 Free Street', None, 'Toronto', 'Ontario', 'Canada', 'M4B 1V7', '801A1DFC-5125-486B-AA84-CCBD2EC57CA4', datetime.datetime(2005, 8, 1, 0, 0))\n",
      "(447, '22580 Free Street', None, 'Toronto', 'Ontario', 'Canada', 'M4B 1V7', '88CEE379-DBB8-433B-B84E-A35E09435500', datetime.datetime(2006, 8, 1, 0, 0))\n"
     ]
    }
   ],
   "source": [
    "cursor.execute(\n",
    "\"\"\"\n",
    "select top (10) *\n",
    "from [SalesLT].[Address]\n",
    "\"\"\"\n",
    ")\n",
    "row = cursor.fetchone()\n",
    "while row:\n",
    "    print(str(row))\n",
    "    row = cursor.fetchone()"
   ]
  },
  {
   "cell_type": "markdown",
   "id": "87b0aa46",
   "metadata": {},
   "source": [
    "We can take a look at the tables in our schema using `cursor.tables()`."
   ]
  },
  {
   "cell_type": "code",
   "execution_count": 9,
   "id": "a1c45871",
   "metadata": {},
   "outputs": [
    {
     "name": "stdout",
     "output_type": "stream",
     "text": [
      "Address\n",
      "Customer\n",
      "CustomerAddress\n",
      "Product\n",
      "ProductCategory\n",
      "ProductDescription\n",
      "ProductModel\n",
      "ProductModelProductDescription\n",
      "SalesOrderDetail\n",
      "SalesOrderHeader\n",
      "[]\n",
      "-1\n"
     ]
    }
   ],
   "source": [
    "tables = cursor.tables(schema='SalesLT', tableType='TABLE')\n",
    "for table in tables:\n",
    "    print(table.table_name)\n",
    "print(cursor.messages)\n",
    "print(cursor.rowcount)"
   ]
  },
  {
   "cell_type": "markdown",
   "id": "736fe05f",
   "metadata": {},
   "source": [
    "We can also use `cursor.statistics()` to show the column names on a particular table."
   ]
  },
  {
   "cell_type": "code",
   "execution_count": 13,
   "id": "93850dfc",
   "metadata": {},
   "outputs": [
    {
     "name": "stdout",
     "output_type": "stream",
     "text": [
      "None\n",
      "AddressID\n",
      "rowguid\n",
      "AddressLine1\n",
      "AddressLine2\n",
      "City\n",
      "StateProvince\n",
      "PostalCode\n",
      "CountryRegion\n",
      "StateProvince\n"
     ]
    }
   ],
   "source": [
    "table_stats = cursor.statistics(table='Address', schema='SalesLT')\n",
    "for row in table_stats:\n",
    "    print(f'{row.column_name}')"
   ]
  },
  {
   "cell_type": "markdown",
   "id": "8897f2c6",
   "metadata": {},
   "source": [
    "Let's update our previous query to take advantage of variables - which protect us against SQL injection - as well as the dictionary syntax to reference returned column names."
   ]
  },
  {
   "cell_type": "code",
   "execution_count": 18,
   "id": "e51cf79f",
   "metadata": {},
   "outputs": [
    {
     "name": "stdout",
     "output_type": "stream",
     "text": [
      "8713 Yosemite Ct., Bothell, Washington 98011 United States\n",
      "1318 Lasalle Street, Bothell, Washington 98011 United States\n",
      "9178 Jumping St., Dallas, Texas 75201 United States\n",
      "9228 Via Del Sol, Phoenix, Arizona 85004 United States\n",
      "26910 Indela Road, Montreal, Quebec H1Y 2H5 Canada\n",
      "2681 Eagle Peak, Bellevue, Washington 98004 United States\n",
      "7943 Walnut Ave, Renton, Washington 98055 United States\n",
      "6388 Lake City Way, Burnaby, British Columbia V5A 3A6 Canada\n",
      "52560 Free Street, Toronto, Ontario M4B 1V7 Canada\n",
      "22580 Free Street, Toronto, Ontario M4B 1V7 Canada\n"
     ]
    }
   ],
   "source": [
    "result = cursor.execute(\n",
    "\"\"\"\n",
    "select top (?) *\n",
    "from [SalesLT].[Address]\n",
    "\"\"\", 10\n",
    ")\n",
    "for row in result:\n",
    "    print(f'{row.AddressLine1}, {row.City}, {row.StateProvince} {row.PostalCode} {row.CountryRegion}')"
   ]
  },
  {
   "cell_type": "markdown",
   "id": "b17d61d0",
   "metadata": {},
   "source": [
    "## Inserting Data\n",
    "\n",
    "To insert data into our SQL database, we need to first execute the insert statement and pass the relevant data. Then, we'll commit the statement to the database."
   ]
  },
  {
   "cell_type": "code",
   "execution_count": 21,
   "id": "25f5ec94",
   "metadata": {},
   "outputs": [],
   "source": [
    "insert_stmt = cursor.execute(\"\"\"\n",
    "insert into SalesLT.Address \n",
    "(AddressLine1, AddressLine2, City, StateProvince, CountryRegion, PostalCode) \n",
    "values (?,?,?,?,?,?)\n",
    "\"\"\",\n",
    "'5 Easy Street', '', 'Austin', 'Tennessee', 'United States', '55667')\n",
    "connection.commit()"
   ]
  },
  {
   "cell_type": "markdown",
   "id": "56117add",
   "metadata": {},
   "source": [
    "We can use the `rowcount` attribute to verify the number of rows inserted into the database."
   ]
  },
  {
   "cell_type": "code",
   "execution_count": 22,
   "id": "a57c0cb3",
   "metadata": {},
   "outputs": [
    {
     "data": {
      "text/plain": [
       "1"
      ]
     },
     "execution_count": 22,
     "metadata": {},
     "output_type": "execute_result"
    }
   ],
   "source": [
    "insert_stmt.rowcount"
   ]
  },
  {
   "cell_type": "markdown",
   "id": "76e28e1c",
   "metadata": {},
   "source": [
    "Let's retrieve that new data from our database as well."
   ]
  },
  {
   "cell_type": "code",
   "execution_count": 26,
   "id": "910be4fb",
   "metadata": {},
   "outputs": [],
   "source": [
    "result = cursor.execute(\n",
    "\"\"\"\n",
    "select *\n",
    "from [SalesLT].[Address]\n",
    "where [SalesLT].[Address].[AddressLine1] = ?\n",
    "\"\"\", '5 Easy Street'\n",
    ")"
   ]
  },
  {
   "cell_type": "code",
   "execution_count": 29,
   "id": "f0081632",
   "metadata": {},
   "outputs": [
    {
     "data": {
      "text/plain": [
       "[(11383, '5 Easy Street', '', 'Austin', 'Tennessee', 'United States', '55667', '2670B2E6-DE5D-418D-8417-453F95547865', datetime.datetime(2023, 4, 26, 16, 35, 26, 670000)),\n",
       " (11384, '5 Easy Street', '', 'Austin', 'Tennessee', 'United States', '55667', '8F3B6503-F882-46F0-B649-06B5AB07B44C', datetime.datetime(2023, 4, 26, 16, 35, 49, 863000)),\n",
       " (11385, '5 Easy Street', '', 'Austin', 'Tennessee', 'United States', '55667', 'B5C3F2A8-F7F0-49C9-9F78-80966EDFFF64', datetime.datetime(2023, 4, 26, 16, 36, 10))]"
      ]
     },
     "execution_count": 29,
     "metadata": {},
     "output_type": "execute_result"
    }
   ],
   "source": [
    "result.fetchall()"
   ]
  },
  {
   "cell_type": "markdown",
   "id": "12bf6465",
   "metadata": {},
   "source": [
    "In the next lecture, we'll continue learning about the ways to interact with data in an Azure SQL Server via Python."
   ]
  }
 ],
 "metadata": {
  "kernelspec": {
   "display_name": "Python 3 (ipykernel)",
   "language": "python",
   "name": "python3"
  },
  "language_info": {
   "codemirror_mode": {
    "name": "ipython",
    "version": 3
   },
   "file_extension": ".py",
   "mimetype": "text/x-python",
   "name": "python",
   "nbconvert_exporter": "python",
   "pygments_lexer": "ipython3",
   "version": "3.10.6"
  }
 },
 "nbformat": 4,
 "nbformat_minor": 5
}
