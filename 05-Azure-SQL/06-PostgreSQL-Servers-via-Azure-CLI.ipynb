{
 "cells": [
  {
   "cell_type": "markdown",
   "id": "1c50c8fc",
   "metadata": {},
   "source": [
    "<a href = \"https://www.pieriantraining.com\"><img src=\"../PT Centered Purple.png\"> </a>\n",
    "\n",
    "<em style=\"text-align:center\">Copyrighted by Pierian Training</em>"
   ]
  },
  {
   "cell_type": "markdown",
   "id": "3978d369",
   "metadata": {},
   "source": [
    "In this lecture, we're going to set up an PostgreSQL server and database. \n",
    "\n",
    "First, make sure you're logged in to Azure via the CLI."
   ]
  },
  {
   "cell_type": "markdown",
   "id": "c9654181",
   "metadata": {},
   "source": [
    "```\n",
    "$ az login\n",
    "```"
   ]
  },
  {
   "cell_type": "markdown",
   "id": "ec158ab3",
   "metadata": {},
   "source": [
    "```\n",
    "$ az postgres flexible-server create --location eastus --resource-group default-resource-group --name bens-server --admin-user benadmin --admin-password testpassword123!\n",
    "```"
   ]
  },
  {
   "cell_type": "markdown",
   "id": "3d19d1af",
   "metadata": {},
   "source": [
    "```\n",
    "$ az postgres flexible-server db create --resource-group default-resource-group --server-name bens-server --database-name bens-db\n",
    "```"
   ]
  },
  {
   "cell_type": "markdown",
   "id": "641bfd71",
   "metadata": {},
   "source": [
    "```\n",
    "$ az postgres flexible-server db list --resource-group default-resource-group --server-name bens-server\n",
    "```"
   ]
  },
  {
   "cell_type": "markdown",
   "id": "07c73790",
   "metadata": {},
   "source": [
    "```\n",
    "$ az postgres flexible-server connect --name bens-server --admin-user benadmin --admin-password testpassword123! --interactive\n",
    "```"
   ]
  },
  {
   "cell_type": "markdown",
   "id": "1a5c1812",
   "metadata": {},
   "source": [
    "```\n",
    "> select table_schema, table_name from information_schema limit.tables 10;\n",
    "```"
   ]
  },
  {
   "cell_type": "markdown",
   "id": "cd896e6f",
   "metadata": {},
   "source": [
    "```\n",
    "> exit;\n",
    "```"
   ]
  },
  {
   "cell_type": "markdown",
   "id": "3db7673a",
   "metadata": {},
   "source": [
    "```\n",
    "$ az postgres flexible-server db delete --resource-group default-resource-group --server-name bens-server --database-name bens-db\n",
    "```"
   ]
  },
  {
   "cell_type": "markdown",
   "id": "6b332b48",
   "metadata": {},
   "source": [
    "```\n",
    "$ az postgres flexible-server list --resource-group default-resource-group\n",
    "```"
   ]
  },
  {
   "cell_type": "markdown",
   "id": "3c9237b5",
   "metadata": {},
   "source": [
    "```\n",
    "$ az postgres flexible-server delete --resource-group default-resource-group --name bens-server\n",
    "```"
   ]
  }
 ],
 "metadata": {
  "kernelspec": {
   "display_name": "Python 3 (ipykernel)",
   "language": "python",
   "name": "python3"
  },
  "language_info": {
   "codemirror_mode": {
    "name": "ipython",
    "version": 3
   },
   "file_extension": ".py",
   "mimetype": "text/x-python",
   "name": "python",
   "nbconvert_exporter": "python",
   "pygments_lexer": "ipython3",
   "version": "3.8.10"
  }
 },
 "nbformat": 4,
 "nbformat_minor": 5
}
