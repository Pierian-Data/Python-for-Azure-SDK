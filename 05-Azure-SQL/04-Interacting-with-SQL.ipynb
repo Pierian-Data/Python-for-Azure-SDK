{
 "cells": [
  {
   "cell_type": "markdown",
   "id": "1c50c8fc",
   "metadata": {},
   "source": [
    "<a href = \"https://www.pieriantraining.com\"><img src=\"../PT Centered Purple.png\"> </a>\n",
    "\n",
    "<em style=\"text-align:center\">Copyrighted by Pierian Training</em>"
   ]
  },
  {
   "cell_type": "code",
   "execution_count": 1,
   "id": "c2873178",
   "metadata": {},
   "outputs": [],
   "source": [
    "from azure.identity import AzureCliCredential\n",
    "from azure.mgmt.compute import ComputeManagementClient\n",
    "from azure.mgmt.network import NetworkManagementClient\n",
    "from azure.mgmt.resource import ResourceManagementClient\n",
    "from azure.mgmt.sql import SqlManagementClient\n",
    "from azure.mgmt.sql.models import FirewallRule\n",
    "\n",
    "import pyodbc\n",
    "\n",
    "from settings import AZURE_SUBSCRIPTION_ID, DEFAULT_LOCATION, DEFAULT_RESOURCE_GROUP"
   ]
  },
  {
   "cell_type": "code",
   "execution_count": 2,
   "id": "f77656c2",
   "metadata": {},
   "outputs": [],
   "source": [
    "credential = AzureCliCredential()\n",
    "sql_client = SqlManagementClient(credential, AZURE_SUBSCRIPTION_ID)"
   ]
  },
  {
   "cell_type": "code",
   "execution_count": 3,
   "id": "464432fb",
   "metadata": {},
   "outputs": [],
   "source": [
    "SERVER = 'bens-server.database.windows.net'\n",
    "DATABASE = 'bens-db'\n",
    "USERNAME = 'benadmin'\n",
    "PASSWORD = 'testpassword123!'\n",
    "# Has to be installed\n",
    "DRIVER = '{ODBC Driver 18 for SQL Server}'\n",
    "\n",
    "connection_string = f'DRIVER={DRIVER};PORT=1433;SERVER={SERVER};DATABASE={DATABASE};UID={USERNAME};PWD={PASSWORD}'"
   ]
  },
  {
   "cell_type": "code",
   "execution_count": 5,
   "id": "4e9d094a",
   "metadata": {},
   "outputs": [],
   "source": [
    "firewall = sql_client.firewall_rules.create_or_update(\n",
    "    DEFAULT_RESOURCE_GROUP,\n",
    "    'bens-server',\n",
    "    'JupyterNotebook2',\n",
    "    {\n",
    "        'start_ip_address': '72.174.17.20',\n",
    "        'end_ip_address': '72.174.17.20'\n",
    "    }\n",
    ")\n"
   ]
  },
  {
   "cell_type": "code",
   "execution_count": 17,
   "id": "5af47cf0",
   "metadata": {},
   "outputs": [],
   "source": [
    "connection = pyodbc.connect(connection_string)\n",
    "cursor = connection.cursor()"
   ]
  },
  {
   "cell_type": "code",
   "execution_count": 8,
   "id": "7a3955c1",
   "metadata": {},
   "outputs": [
    {
     "name": "stdout",
     "output_type": "stream",
     "text": [
      "(9, '8713 Yosemite Ct.', None, 'Bothell', 'Washington', 'United States', '98011', '268AF621-76D7-4C78-9441-144FD139821A', datetime.datetime(2006, 7, 1, 0, 0))\n",
      "(11, '1318 Lasalle Street', None, 'Bothell', 'Washington', 'United States', '98011', '981B3303-ACA2-49C7-9A96-FB670785B269', datetime.datetime(2007, 4, 1, 0, 0))\n",
      "(25, '9178 Jumping St.', None, 'Dallas', 'Texas', 'United States', '75201', 'C8DF3BD9-48F0-4654-A8DD-14A67A84D3C6', datetime.datetime(2006, 9, 1, 0, 0))\n",
      "(28, '9228 Via Del Sol', None, 'Phoenix', 'Arizona', 'United States', '85004', '12AE5EE1-FC3E-468B-9B92-3B970B169774', datetime.datetime(2005, 9, 1, 0, 0))\n",
      "(32, '26910 Indela Road', None, 'Montreal', 'Quebec', 'Canada', 'H1Y 2H5', '84A95F62-3AE8-4E7E-BBD5-5A6F00CD982D', datetime.datetime(2006, 8, 1, 0, 0))\n",
      "(185, '2681 Eagle Peak', None, 'Bellevue', 'Washington', 'United States', '98004', '7BCCF442-2268-46CC-8472-14C44C14E98C', datetime.datetime(2006, 9, 1, 0, 0))\n",
      "(297, '7943 Walnut Ave', None, 'Renton', 'Washington', 'United States', '98055', '52410DA4-2778-4B1D-A599-95746625CE6D', datetime.datetime(2006, 8, 1, 0, 0))\n",
      "(445, '6388 Lake City Way', None, 'Burnaby', 'British Columbia', 'Canada', 'V5A 3A6', '53572F25-9133-4A8B-A065-102FF35416EE', datetime.datetime(2006, 9, 1, 0, 0))\n",
      "(446, '52560 Free Street', None, 'Toronto', 'Ontario', 'Canada', 'M4B 1V7', '801A1DFC-5125-486B-AA84-CCBD2EC57CA4', datetime.datetime(2005, 8, 1, 0, 0))\n",
      "(447, '22580 Free Street', None, 'Toronto', 'Ontario', 'Canada', 'M4B 1V7', '88CEE379-DBB8-433B-B84E-A35E09435500', datetime.datetime(2006, 8, 1, 0, 0))\n"
     ]
    }
   ],
   "source": [
    "cursor.execute(\n",
    "\"\"\"\n",
    "select top (10) *\n",
    "from [SalesLT].[Address]\n",
    "\"\"\"\n",
    ")\n",
    "row = cursor.fetchone()\n",
    "while row:\n",
    "    print(str(row))\n",
    "    row = cursor.fetchone()"
   ]
  },
  {
   "cell_type": "code",
   "execution_count": 9,
   "id": "a1c45871",
   "metadata": {},
   "outputs": [
    {
     "name": "stdout",
     "output_type": "stream",
     "text": [
      "Address\n",
      "Customer\n",
      "CustomerAddress\n",
      "Product\n",
      "ProductCategory\n",
      "ProductDescription\n",
      "ProductModel\n",
      "ProductModelProductDescription\n",
      "SalesOrderDetail\n",
      "SalesOrderHeader\n",
      "[]\n",
      "-1\n"
     ]
    }
   ],
   "source": [
    "tables = cursor.tables(schema='SalesLT', tableType='TABLE')\n",
    "for table in tables:\n",
    "    print(table.table_name)\n",
    "print(cursor.messages)\n",
    "print(cursor.rowcount)"
   ]
  },
  {
   "cell_type": "code",
   "execution_count": 13,
   "id": "93850dfc",
   "metadata": {},
   "outputs": [
    {
     "name": "stdout",
     "output_type": "stream",
     "text": [
      "None\n",
      "AddressID\n",
      "rowguid\n",
      "AddressLine1\n",
      "AddressLine2\n",
      "City\n",
      "StateProvince\n",
      "PostalCode\n",
      "CountryRegion\n",
      "StateProvince\n"
     ]
    }
   ],
   "source": [
    "table_stats = cursor.statistics(table='Address', schema='SalesLT')\n",
    "for row in table_stats:\n",
    "    print(f'{row.column_name}')"
   ]
  },
  {
   "cell_type": "code",
   "execution_count": 18,
   "id": "e51cf79f",
   "metadata": {},
   "outputs": [
    {
     "name": "stdout",
     "output_type": "stream",
     "text": [
      "8713 Yosemite Ct., Bothell, Washington 98011 United States\n",
      "1318 Lasalle Street, Bothell, Washington 98011 United States\n",
      "9178 Jumping St., Dallas, Texas 75201 United States\n",
      "9228 Via Del Sol, Phoenix, Arizona 85004 United States\n",
      "26910 Indela Road, Montreal, Quebec H1Y 2H5 Canada\n",
      "2681 Eagle Peak, Bellevue, Washington 98004 United States\n",
      "7943 Walnut Ave, Renton, Washington 98055 United States\n",
      "6388 Lake City Way, Burnaby, British Columbia V5A 3A6 Canada\n",
      "52560 Free Street, Toronto, Ontario M4B 1V7 Canada\n",
      "22580 Free Street, Toronto, Ontario M4B 1V7 Canada\n"
     ]
    }
   ],
   "source": [
    "result = cursor.execute(\n",
    "\"\"\"\n",
    "select top (?) *\n",
    "from [SalesLT].[Address]\n",
    "\"\"\", 10\n",
    ")\n",
    "for row in result:\n",
    "    print(f'{row.AddressLine1}, {row.City}, {row.StateProvince} {row.PostalCode} {row.CountryRegion}')"
   ]
  },
  {
   "cell_type": "code",
   "execution_count": 21,
   "id": "25f5ec94",
   "metadata": {},
   "outputs": [],
   "source": [
    "insert_stmt = cursor.execute(\"\"\"\n",
    "insert into SalesLT.Address \n",
    "(AddressLine1, AddressLine2, City, StateProvince, CountryRegion, PostalCode) \n",
    "values (?,?,?,?,?,?)\"\"\",\n",
    "'5 Easy Street', '', 'Austin', 'Tennessee', 'United States', '55667')\n",
    "connection.commit()"
   ]
  },
  {
   "cell_type": "code",
   "execution_count": 22,
   "id": "a57c0cb3",
   "metadata": {},
   "outputs": [
    {
     "data": {
      "text/plain": [
       "1"
      ]
     },
     "execution_count": 22,
     "metadata": {},
     "output_type": "execute_result"
    }
   ],
   "source": [
    "insert_stmt.rowcount"
   ]
  },
  {
   "cell_type": "code",
   "execution_count": 26,
   "id": "910be4fb",
   "metadata": {},
   "outputs": [],
   "source": [
    "result = cursor.execute(\n",
    "\"\"\"\n",
    "select *\n",
    "from [SalesLT].[Address]\n",
    "where [SalesLT].[Address].[AddressLine1] = ?\n",
    "\"\"\", '5 Easy Street'\n",
    ")"
   ]
  },
  {
   "cell_type": "code",
   "execution_count": 29,
   "id": "f0081632",
   "metadata": {},
   "outputs": [
    {
     "data": {
      "text/plain": [
       "[(11383, '5 Easy Street', '', 'Austin', 'Tennessee', 'United States', '55667', '2670B2E6-DE5D-418D-8417-453F95547865', datetime.datetime(2023, 4, 26, 16, 35, 26, 670000)),\n",
       " (11384, '5 Easy Street', '', 'Austin', 'Tennessee', 'United States', '55667', '8F3B6503-F882-46F0-B649-06B5AB07B44C', datetime.datetime(2023, 4, 26, 16, 35, 49, 863000)),\n",
       " (11385, '5 Easy Street', '', 'Austin', 'Tennessee', 'United States', '55667', 'B5C3F2A8-F7F0-49C9-9F78-80966EDFFF64', datetime.datetime(2023, 4, 26, 16, 36, 10))]"
      ]
     },
     "execution_count": 29,
     "metadata": {},
     "output_type": "execute_result"
    }
   ],
   "source": [
    "result.fetchall()"
   ]
  },
  {
   "cell_type": "code",
   "execution_count": 31,
   "id": "bcc2a175",
   "metadata": {},
   "outputs": [],
   "source": [
    "update_stmt = cursor.execute(\"\"\"\n",
    "update [SalesLT].[Address]\n",
    "    set [SalesLT].[Address].[AddressLine1] = ?\n",
    "    where [SalesLT].[Address].[AddressID] = ?\n",
    "\"\"\",\n",
    "'55 Easy Street', 11383)\n",
    "connection.commit()"
   ]
  },
  {
   "cell_type": "code",
   "execution_count": 32,
   "id": "034d4fce",
   "metadata": {},
   "outputs": [
    {
     "data": {
      "text/plain": [
       "1"
      ]
     },
     "execution_count": 32,
     "metadata": {},
     "output_type": "execute_result"
    }
   ],
   "source": [
    "update_stmt.rowcount"
   ]
  },
  {
   "cell_type": "code",
   "execution_count": 33,
   "id": "18296936",
   "metadata": {},
   "outputs": [],
   "source": [
    "updated_results = cursor.execute(\n",
    "\"\"\"\n",
    "select *\n",
    "from [SalesLT].[Address]\n",
    "where [SalesLT].[Address].[AddressLine1] = ?\n",
    "\"\"\", '55 Easy Street'\n",
    ").fetchall()"
   ]
  },
  {
   "cell_type": "code",
   "execution_count": 34,
   "id": "04c68de6",
   "metadata": {},
   "outputs": [
    {
     "data": {
      "text/plain": [
       "[(11383, '55 Easy Street', '', 'Austin', 'Tennessee', 'United States', '55667', '2670B2E6-DE5D-418D-8417-453F95547865', datetime.datetime(2023, 4, 26, 16, 35, 26, 670000))]"
      ]
     },
     "execution_count": 34,
     "metadata": {},
     "output_type": "execute_result"
    }
   ],
   "source": [
    "updated_results"
   ]
  },
  {
   "cell_type": "code",
   "execution_count": 35,
   "id": "7a453da8",
   "metadata": {},
   "outputs": [],
   "source": [
    "delete_stmt = cursor.execute(\"\"\"\n",
    "delete\n",
    "    from [SalesLT].[Address]\n",
    "    where [SalesLT].[Address].[AddressID] = ?\n",
    "\"\"\",\n",
    "11383)\n",
    "connection.commit()"
   ]
  },
  {
   "cell_type": "code",
   "execution_count": 36,
   "id": "e9607143",
   "metadata": {},
   "outputs": [
    {
     "data": {
      "text/plain": [
       "1"
      ]
     },
     "execution_count": 36,
     "metadata": {},
     "output_type": "execute_result"
    }
   ],
   "source": [
    "delete_stmt.rowcount"
   ]
  },
  {
   "cell_type": "code",
   "execution_count": 37,
   "id": "9ac99777",
   "metadata": {},
   "outputs": [
    {
     "data": {
      "text/plain": [
       "[]"
      ]
     },
     "execution_count": 37,
     "metadata": {},
     "output_type": "execute_result"
    }
   ],
   "source": [
    "cursor.execute(\n",
    "\"\"\"\n",
    "select *\n",
    "from [SalesLT].[Address]\n",
    "where [SalesLT].[Address].[AddressLine1] = ?\n",
    "\"\"\", '55 Easy Street'\n",
    ").fetchall()"
   ]
  }
 ],
 "metadata": {
  "kernelspec": {
   "display_name": "Python 3 (ipykernel)",
   "language": "python",
   "name": "python3"
  },
  "language_info": {
   "codemirror_mode": {
    "name": "ipython",
    "version": 3
   },
   "file_extension": ".py",
   "mimetype": "text/x-python",
   "name": "python",
   "nbconvert_exporter": "python",
   "pygments_lexer": "ipython3",
   "version": "3.8.10"
  }
 },
 "nbformat": 4,
 "nbformat_minor": 5
}
